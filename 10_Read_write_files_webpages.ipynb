{
  "nbformat": 4,
  "nbformat_minor": 0,
  "metadata": {
    "kernelspec": {
      "display_name": "Python",
      "language": "python",
      "name": "conda-env-python-py"
    },
    "language_info": {
      "codemirror_mode": {
        "name": "ipython",
        "version": 3
      },
      "file_extension": ".py",
      "mimetype": "text/x-python",
      "name": "python",
      "nbconvert_exporter": "python",
      "pygments_lexer": "ipython3",
      "version": "3.6.7"
    },
    "colab": {
      "name": "10_Read_write_files_webpages.ipynb",
      "provenance": [],
      "collapsed_sections": [
        "syd32WMuPGJs",
        "IckBVhP4PQM-",
        "3Vzt2YHvPr3A",
        "8qjnFd4GSoCI",
        "ms-jQNxtTMl5",
        "uZTT5JwBTgaD",
        "VepnvnDs0urg"
      ],
      "toc_visible": true
    }
  },
  "cells": [
    {
      "cell_type": "markdown",
      "metadata": {
        "id": "0Cugy03Gx2-a"
      },
      "source": [
        "# 10.0 Introduction to Reading Files in Python"
      ]
    },
    {
      "cell_type": "markdown",
      "metadata": {
        "id": "bs12zSBGx2-b"
      },
      "source": [
        " This notebook will teach you about reading the text file in the Python Programming Language. By the end of this topic, you'll know how to read text files."
      ]
    },
    {
      "cell_type": "markdown",
      "metadata": {
        "id": "FCdFvLxzx2-d"
      },
      "source": [
        "#10.1 Download Data"
      ]
    },
    {
      "cell_type": "code",
      "metadata": {
        "id": "4PDoODtqx2-f"
      },
      "source": [
        "# Download Example file\n",
        "\n",
        "!wget /resources/data/Example1.txt path/example1.txt"
      ],
      "execution_count": null,
      "outputs": []
    },
    {
      "cell_type": "markdown",
      "source": [
        "##10.11 Using Download Capability to Create Universally shareable Notebook"
      ],
      "metadata": {
        "id": "c6q4CdnHXJjN"
      }
    },
    {
      "cell_type": "markdown",
      "source": [
        "This capability is highly neccessary to create shareable notebook files to reduce work load. Since these files have all files stored in a remote drive folder and are attached as directly accessible links. This makes access to data easier and increases usability.\n",
        "\n",
        "\n"
      ],
      "metadata": {
        "id": "565jhU00XhkZ"
      }
    },
    {
      "cell_type": "markdown",
      "source": [
        "Let's understand how to do this with an example."
      ],
      "metadata": {
        "id": "vK7P2eQcX1oz"
      }
    },
    {
      "cell_type": "markdown",
      "source": [
        "You can use <code>gdown</code>.\n",
        "\n"
      ],
      "metadata": {
        "id": "E-k8BZpKX6_8"
      }
    },
    {
      "cell_type": "code",
      "source": [
        "#For example, an image url\n",
        "https://drive.google.com/file/d/1ztBz3C_2BlXgNGK2mbarGnVqoI287_XT/view?usp=sharing\n",
        "It's id = 1ztBz3C_2BlXgNGK2mbarGnVqoI287_XT\n",
        "\n",
        "So, you can download it with\n",
        "\n",
        "!gdown --id 1ztBz3C_2BlXgNGK2mbarGnVqoI287_XT"
      ],
      "metadata": {
        "id": "tfJg7AkjYAvS"
      },
      "execution_count": null,
      "outputs": []
    },
    {
      "cell_type": "markdown",
      "source": [
        "###Alternate Method"
      ],
      "metadata": {
        "id": "rGYKICVkYM_p"
      }
    },
    {
      "cell_type": "markdown",
      "source": [
        "ou can use !wget in colab to download .csv file in your runtime storage For Example this is public link for google sheet <b>https://docs.google.com/spreadsheets/d/FILE_ID/edit?usp=sharing</b>\n",
        "\n",
        "We need to get download url for this google sheet file follow link to get download link.<br>\n",
        "\n",
        "Creating a link to download whole spreadsheet from Google Drive:\n",
        "\n",
        "now we got download url in this form <b>https://docs.google.com/spreadsheets/d/FILE_ID/export?</b>\n",
        "\n",
        "type this code in colab <br> \n",
        "<code>!wget https://docs.google.com/spreadsheets/d/FILE_ID/export?</code><br> file will be downloaded like this snap shot from colab<br>\n",
        "\n",
        "rename file as your choice rename snapshot<br><br>\n",
        "\n",
        "finally import it using <br>\n",
        "<code>df = pd.read_csv(\"/content/file.csv\")</code>"
      ],
      "metadata": {
        "id": "brYnSbloYQwb"
      }
    },
    {
      "cell_type": "markdown",
      "metadata": {
        "id": "GmywSx3Fx2-p"
      },
      "source": [
        "<hr>"
      ]
    },
    {
      "cell_type": "markdown",
      "metadata": {
        "id": "pthLOSFLx2-q"
      },
      "source": [
        "#10.2 Reading Text Files"
      ]
    },
    {
      "cell_type": "markdown",
      "metadata": {
        "id": "WjCaEu9zx2-r"
      },
      "source": [
        "One way to read or write a file in Python is to use the built-in 'open' function. The 'open' function provides a File object that contains the methods and attributes you need in order to read, save, and manipulate the file. In this notebook, we will only cover .txt files. The first parameter you need is the file path and the file name. An example is shown as follow:"
      ]
    },
    {
      "cell_type": "markdown",
      "metadata": {
        "id": "gx6bax3kx2-s"
      },
      "source": [
        "<img src=\"https://s3-api.us-geo.objectstorage.softlayer.net/cf-courses-data/CognitiveClass/PY0101EN/Chapter%204/Images/ReadOpen.png\" width=\"500\" />"
      ]
    },
    {
      "cell_type": "markdown",
      "metadata": {
        "id": "6J6vmfE2x2-t"
      },
      "source": [
        " The mode argument is optional and the default value is <b>r</b>. In this notebook we only cover two modes: \n",
        "<ul>\n",
        "    <li><b>r</b> Read mode for reading files </li>\n",
        "    <li><b>w</b> Write mode for writing files</li>\n",
        "</ul>"
      ]
    },
    {
      "cell_type": "markdown",
      "metadata": {
        "id": "67CzPp22x2-u"
      },
      "source": [
        "For the next example, we will use the text file <b>Example1.txt</b>. The file is shown as follow:"
      ]
    },
    {
      "cell_type": "markdown",
      "metadata": {
        "id": "zzP5QanIx2-v"
      },
      "source": [
        "<img src=\"https://s3-api.us-geo.objectstorage.softlayer.net/cf-courses-data/CognitiveClass/PY0101EN/Chapter%204/Images/ReadFile.png\" width=\"200\" />"
      ]
    },
    {
      "cell_type": "markdown",
      "metadata": {
        "id": "MUfhCOjvx2-x"
      },
      "source": [
        " We read the file: "
      ]
    },
    {
      "cell_type": "code",
      "metadata": {
        "id": "uOd0hpZmx2-y",
        "colab": {
          "base_uri": "https://localhost:8080/",
          "height": 201
        },
        "outputId": "0112d02e-ecdd-4312-a26d-3091f1e0c3f1"
      },
      "source": [
        "# Read the Example1.txt\n",
        "\n",
        "example1 = \"/content/example1.txt\"\n",
        "file1 = open(example1, \"r\")"
      ],
      "execution_count": null,
      "outputs": [
        {
          "output_type": "error",
          "ename": "FileNotFoundError",
          "evalue": "ignored",
          "traceback": [
            "\u001b[0;31m---------------------------------------------------------------------------\u001b[0m",
            "\u001b[0;31mFileNotFoundError\u001b[0m                         Traceback (most recent call last)",
            "\u001b[0;32m<ipython-input-1-e1c9bff224d3>\u001b[0m in \u001b[0;36m<module>\u001b[0;34m()\u001b[0m\n\u001b[1;32m      2\u001b[0m \u001b[0;34m\u001b[0m\u001b[0m\n\u001b[1;32m      3\u001b[0m \u001b[0mexample1\u001b[0m \u001b[0;34m=\u001b[0m \u001b[0;34m\"/content/example1.txt\"\u001b[0m\u001b[0;34m\u001b[0m\u001b[0;34m\u001b[0m\u001b[0m\n\u001b[0;32m----> 4\u001b[0;31m \u001b[0mfile1\u001b[0m \u001b[0;34m=\u001b[0m \u001b[0mopen\u001b[0m\u001b[0;34m(\u001b[0m\u001b[0mexample1\u001b[0m\u001b[0;34m,\u001b[0m \u001b[0;34m\"r\"\u001b[0m\u001b[0;34m)\u001b[0m\u001b[0;34m\u001b[0m\u001b[0;34m\u001b[0m\u001b[0m\n\u001b[0m",
            "\u001b[0;31mFileNotFoundError\u001b[0m: [Errno 2] No such file or directory: '/content/example1.txt'"
          ]
        }
      ]
    },
    {
      "cell_type": "markdown",
      "metadata": {
        "id": "bHdh_C9wx2-4"
      },
      "source": [
        " We can view the attributes of the file."
      ]
    },
    {
      "cell_type": "markdown",
      "metadata": {
        "id": "lkChiC1px2-5"
      },
      "source": [
        "The name of the file:"
      ]
    },
    {
      "cell_type": "code",
      "metadata": {
        "id": "7G9uJej4x2-6"
      },
      "source": [
        "# Print the path of file\n",
        "\n",
        "file1.name"
      ],
      "execution_count": null,
      "outputs": []
    },
    {
      "cell_type": "markdown",
      "metadata": {
        "id": "FVZbPpDAx2_A"
      },
      "source": [
        " The mode the file object is in:"
      ]
    },
    {
      "cell_type": "code",
      "metadata": {
        "id": "ZkmPceh0x2_C"
      },
      "source": [
        "# Print the mode of file, either 'r' or 'w'\n",
        "\n",
        "file1.mode"
      ],
      "execution_count": null,
      "outputs": []
    },
    {
      "cell_type": "markdown",
      "metadata": {
        "id": "EEK36Uqnx2_L"
      },
      "source": [
        "We can read the file and assign it to a variable :"
      ]
    },
    {
      "cell_type": "code",
      "metadata": {
        "id": "ArrqzEmQx2_M"
      },
      "source": [
        "# Read the file\n",
        "\n",
        "FileContent = file1.read()\n",
        "FileContent"
      ],
      "execution_count": null,
      "outputs": []
    },
    {
      "cell_type": "markdown",
      "metadata": {
        "id": "dp30tuvHx2_R"
      },
      "source": [
        "The <b>/n</b> means that there is a new line. "
      ]
    },
    {
      "cell_type": "markdown",
      "metadata": {
        "id": "oQEP3bOcx2_S"
      },
      "source": [
        "We can print the file: "
      ]
    },
    {
      "cell_type": "code",
      "metadata": {
        "id": "JeQkSJ5Kx2_U"
      },
      "source": [
        "# Print the file with '\\n' as a new line\n",
        "\n",
        "print(FileContent)"
      ],
      "execution_count": null,
      "outputs": []
    },
    {
      "cell_type": "markdown",
      "metadata": {
        "id": "3UX6RQDSx2_Z"
      },
      "source": [
        "The file is of type string:"
      ]
    },
    {
      "cell_type": "code",
      "metadata": {
        "id": "gq-kxFH3x2_a"
      },
      "source": [
        "# Type of file content\n",
        "\n",
        "type(FileContent)"
      ],
      "execution_count": null,
      "outputs": []
    },
    {
      "cell_type": "markdown",
      "metadata": {
        "id": "KUnAAW8fx2_h"
      },
      "source": [
        " We must close the file object:"
      ]
    },
    {
      "cell_type": "code",
      "metadata": {
        "jupyter": {
          "outputs_hidden": true
        },
        "id": "4npxswERx2_k"
      },
      "source": [
        "# Close file after finish\n",
        "\n",
        "file1.close()"
      ],
      "execution_count": null,
      "outputs": []
    },
    {
      "cell_type": "markdown",
      "metadata": {
        "id": "90tfqspZx2_q"
      },
      "source": [
        "<hr>"
      ]
    },
    {
      "cell_type": "markdown",
      "metadata": {
        "id": "Z7E_hj7Xx2_r"
      },
      "source": [
        "#10.3 A Better Way to Open a File"
      ]
    },
    {
      "cell_type": "markdown",
      "metadata": {
        "id": "jkm5pZOkx2_s"
      },
      "source": [
        "Using the 'with' statement is better practice, it automatically closes the file even if the code encounters an exception. The code will run everything in the indent block then close the file object. "
      ]
    },
    {
      "cell_type": "code",
      "metadata": {
        "id": "iksuKTaXx2_t"
      },
      "source": [
        "# Open file using with\n",
        "\n",
        "with open(example1, \"r\") as file1:\n",
        "    FileContent = file1.read()\n",
        "    print(FileContent)"
      ],
      "execution_count": null,
      "outputs": []
    },
    {
      "cell_type": "markdown",
      "metadata": {
        "id": "Kk2EDCDqx2_z"
      },
      "source": [
        "The file object is closed, you can verify it by running the following cell:  "
      ]
    },
    {
      "cell_type": "code",
      "metadata": {
        "id": "LqdL01Zox2_0"
      },
      "source": [
        "# Verify if the file is closed\n",
        "\n",
        "file1.closed"
      ],
      "execution_count": null,
      "outputs": []
    },
    {
      "cell_type": "markdown",
      "metadata": {
        "id": "65CuYDJIx2_4"
      },
      "source": [
        " We can see the info in the file:"
      ]
    },
    {
      "cell_type": "code",
      "metadata": {
        "id": "YGo-C1H0x2_5"
      },
      "source": [
        "# See the content of file\n",
        "\n",
        "print(FileContent)"
      ],
      "execution_count": null,
      "outputs": []
    },
    {
      "cell_type": "markdown",
      "metadata": {
        "id": "tmUsvFCFx2_9"
      },
      "source": [
        "The syntax is a little confusing as the file object is after the 'as' statement. We also don’t explicitly close the file. Therefore we summarize the steps in a figure:"
      ]
    },
    {
      "cell_type": "markdown",
      "metadata": {
        "id": "f2BMjBjox2_-"
      },
      "source": [
        "<img src=\"https://s3-api.us-geo.objectstorage.softlayer.net/cf-courses-data/CognitiveClass/PY0101EN/Chapter%204/Images/ReadWith.png\" width=\"500\" />"
      ]
    },
    {
      "cell_type": "markdown",
      "metadata": {
        "id": "fjczkJJjx2_-"
      },
      "source": [
        "We don’t have to read the entire file, for example, we can read the first 4 characters by entering three as a parameter to the method **.read()**:\n"
      ]
    },
    {
      "cell_type": "code",
      "metadata": {
        "id": "7IZWf8QXx2__"
      },
      "source": [
        "# Read first four characters\n",
        "\n",
        "with open(example1, \"r\") as file1:\n",
        "    print(file1.read(4))"
      ],
      "execution_count": null,
      "outputs": []
    },
    {
      "cell_type": "markdown",
      "metadata": {
        "id": "O2T2GSTwx3AF"
      },
      "source": [
        "Once the method '.read(4)' is called the first 4 characters are called. If we call the method again, the next 4 characters are called. The output for the following cell will demonstrate the process for different inputs to the method 'read()':"
      ]
    },
    {
      "cell_type": "code",
      "metadata": {
        "id": "qMzZvul_x3AG"
      },
      "source": [
        "# Read certain amount of characters\n",
        "\n",
        "with open(example1, \"r\") as file1:\n",
        "    print(file1.read(4))\n",
        "    print(file1.read(4))\n",
        "    print(file1.read(7))\n",
        "    print(file1.read(15))"
      ],
      "execution_count": null,
      "outputs": []
    },
    {
      "cell_type": "markdown",
      "metadata": {
        "id": "sbmasrrKx3AL"
      },
      "source": [
        "The process is illustrated in the below figure, and each color represents the part of the file read after the method 'read()' is called:"
      ]
    },
    {
      "cell_type": "markdown",
      "metadata": {
        "id": "DZdnhbwex3AM"
      },
      "source": [
        "<img src=\"https://s3-api.us-geo.objectstorage.softlayer.net/cf-courses-data/CognitiveClass/PY0101EN/Chapter%204/Images/ReadChar.png\" width=\"500\" />"
      ]
    },
    {
      "cell_type": "markdown",
      "metadata": {
        "id": "xWoeNTyAx3AM"
      },
      "source": [
        " Here is an example using the same file, but instead we read 16, 5, and then 9 characters at a time: "
      ]
    },
    {
      "cell_type": "code",
      "metadata": {
        "id": "DeEt8xklx3AN"
      },
      "source": [
        "# Read certain amount of characters\n",
        "\n",
        "with open(example1, \"r\") as file1:\n",
        "    print(file1.read(16))\n",
        "    print(file1.read(5))\n",
        "    print(file1.read(9))"
      ],
      "execution_count": null,
      "outputs": []
    },
    {
      "cell_type": "markdown",
      "metadata": {
        "id": "7p0z1t4Kx3AT"
      },
      "source": [
        "We can also read one line of the file at a time using the method 'readline()': "
      ]
    },
    {
      "cell_type": "code",
      "metadata": {
        "id": "wrXl6Lcjx3AU"
      },
      "source": [
        "# Read one line\n",
        "\n",
        "with open(example1, \"r\") as file1:\n",
        "    print(\"first line: \" + file1.readline())"
      ],
      "execution_count": null,
      "outputs": []
    },
    {
      "cell_type": "markdown",
      "metadata": {
        "id": "Cah-o9FJx3AZ"
      },
      "source": [
        " We can use a loop to iterate through each line: \n"
      ]
    },
    {
      "cell_type": "code",
      "metadata": {
        "id": "CA34SNeyx3Aa"
      },
      "source": [
        "# Iterate through the lines\n",
        "\n",
        "with open(example1,\"r\") as file1:\n",
        "        i = 0;\n",
        "        for line in file1:\n",
        "            print(\"Iteration\", str(i), \": \", line)\n",
        "            i = i + 1;"
      ],
      "execution_count": null,
      "outputs": []
    },
    {
      "cell_type": "markdown",
      "metadata": {
        "id": "gVsQHf_ax3Ae"
      },
      "source": [
        "We can use the method 'readlines()' to save the text file to a list: "
      ]
    },
    {
      "cell_type": "code",
      "metadata": {
        "jupyter": {
          "outputs_hidden": true
        },
        "id": "PO7Wirhkx3Af"
      },
      "source": [
        "# Read all lines and save as a list\n",
        "\n",
        "with open(example1, \"r\") as file1:\n",
        "    FileasList = file1.readlines()"
      ],
      "execution_count": null,
      "outputs": []
    },
    {
      "cell_type": "markdown",
      "metadata": {
        "id": "8ux46zWqx3An"
      },
      "source": [
        " Each element of the list corresponds to a line of text:"
      ]
    },
    {
      "cell_type": "code",
      "metadata": {
        "id": "SEBA4whQx3Ao"
      },
      "source": [
        "# Print the first line\n",
        "\n",
        "FileasList[0]"
      ],
      "execution_count": null,
      "outputs": []
    },
    {
      "cell_type": "code",
      "metadata": {
        "id": "a_HqstSQx3Au"
      },
      "source": [
        "# Print the second line\n",
        "\n",
        "FileasList[1]"
      ],
      "execution_count": null,
      "outputs": []
    },
    {
      "cell_type": "code",
      "metadata": {
        "id": "j9NjOrIjx3Ay"
      },
      "source": [
        "# Print the third line\n",
        "\n",
        "FileasList[2]"
      ],
      "execution_count": null,
      "outputs": []
    },
    {
      "cell_type": "markdown",
      "metadata": {
        "id": "-YfElH_oNo3F"
      },
      "source": [
        "#10.4 Python File I/O\n",
        "\n",
        "\n",
        "\n",
        "\n",
        "\n"
      ]
    },
    {
      "cell_type": "markdown",
      "source": [
        "##10.41 What is I/O?\n",
        "\n",
        "I/O, or input/output, is communication between a computer and the outside world.\n",
        "\n",
        "Inputs are signals received by the computer. The computer can get inputs from hardware like a keyboard and mouse or from other computers via the internet. Outputs are signals sent by the computer. Your monitor is probably the most obvious output device. An internet modem is an example of a device that both receives inputs (web-pages loading on your browser) and sends outputs (outbound emails).\n",
        "\n",
        "     \n"
      ],
      "metadata": {
        "id": "JpNg3GpsPCRj"
      }
    },
    {
      "cell_type": "markdown",
      "source": [
        "##10.42 Why do we use I/O?\n",
        "\n",
        "You can always define data directly in your python code:\n",
        "\n",
        "```python\n",
        "example_data = [1, 2, 3, 4, 5]\n",
        "answer = function(example_data)\n",
        "```"
      ],
      "metadata": {
        "id": "syd32WMuPGJs"
      }
    },
    {
      "cell_type": "markdown",
      "metadata": {
        "id": "fm5eiXYgNo3T"
      },
      "source": [
        "This is a great way to test functionality but isn't sustainable in the long term. It would be much easier if we could read in data from a file or API as well as write data down to files. This saves us having to manually define data and scales our solutions to handle arbitrary datasets.\n",
        "\n"
      ]
    },
    {
      "cell_type": "markdown",
      "source": [
        "##10.43 Files\n",
        "\n",
        "Common file types you likely interact with are CSV and Excel files. The pandas library has a number of convenience functions for reading data from these files and converting them directly into dataframes."
      ],
      "metadata": {
        "id": "IckBVhP4PQM-"
      }
    },
    {
      "cell_type": "markdown",
      "metadata": {
        "id": "cP05sZ_2No3U"
      },
      "source": [
        "```python\n",
        "import pandas as pd\n",
        "\n",
        "csv_dataframe = pd.read_csv('csv_file.csv')\n",
        "excel_dataframe = pd.read_excel('excel_file.xlsx')\n",
        "```"
      ]
    },
    {
      "cell_type": "markdown",
      "metadata": {
        "id": "bX5DeylHNo3V"
      },
      "source": [
        "Each method accepts the path of the data file as an argument. File paths without a '/' indicate that the data file is in the same directory as the notebook we're writing our code in. If we want to read from a file inside a folder, then we'll need to update the file path, e.g. 'folder/csv_file.csv'.\n",
        "\n",
        "Both methods accept a number of different optional parameters for defining more precisely how you want them to read the data. Visit the [I/O section](https://pandas.pydata.org/docs/reference/io.html) of the online pandas documentation to learn more about these functions.\n",
        "\n",
        "We can use the '%pwd' [Jupyter magic command](https://ipython.readthedocs.io/en/stable/interactive/magics.html) to find the local directory. Running the following code snippet in a project cell will print the path of your local directory:\n",
        "\n",
        "```python\n",
        "x = %pwd\n",
        "print(x)\n",
        "```\n",
        "\n",
        "\n"
      ]
    },
    {
      "cell_type": "markdown",
      "source": [
        "##10.44 File IO Examples\n",
        "\n",
        "1. You're writing some code inside 'notebook.ipynb' and want to read the data from 'bonds.csv' which is inside the data folder (see below). What file path do you need to specify to read the data into a dataframe: pd.read_csv(...)?\n",
        "\n",
        "```\n",
        "notebook.ipynb\n",
        "data/\n",
        "└── bonds.csv\n",
        "```\n",
        "pd.read_csv('data/bonds.csv')\n",
        "\n",
        "2. You have a CSV with 3 blank rows at the top of the file. What parameter do you need to pass to the 'read_csv' function to ignore these blank rows when reading in the data?\n",
        "\n",
        "skiprows=3\n",
        "\n",
        "3. A colleague has sent you some tabular data in a JSON file that you've moved into the same folder as your notebook. You can use pandas to read this data into a dataframe:\n",
        "\n",
        "pd.read_json"
      ],
      "metadata": {
        "id": "3Vzt2YHvPr3A"
      }
    },
    {
      "cell_type": "markdown",
      "source": [
        "#10.5 Ways to Load Contents from Remote URL"
      ],
      "metadata": {
        "id": "KwLIpGX8SGth"
      }
    },
    {
      "cell_type": "markdown",
      "source": [
        "The first step which makes loading content easy is by importing pandas into the notebook. The data gets loaded as a dataframe once we follow the further methods elaborated. <br>\n",
        "<br>\n",
        "Dataframes are more easier and clearer to work on. They also make the task of analysis easier and faster."
      ],
      "metadata": {
        "id": "TsR28cWKSbmK"
      }
    },
    {
      "cell_type": "code",
      "source": [
        "import pandas as pd\n"
      ],
      "metadata": {
        "id": "pLS-MefOSjOq"
      },
      "execution_count": null,
      "outputs": []
    },
    {
      "cell_type": "markdown",
      "source": [
        "##10.51 Importing from Github"
      ],
      "metadata": {
        "id": "8qjnFd4GSoCI"
      }
    },
    {
      "cell_type": "markdown",
      "source": [
        "The easiest way to upload a CSV file is from your GitHub repository. Click on the dataset in your repository, then click on View Raw. Copy the link to the raw dataset and store it as a string variable called url in Colab as shown below (a cleaner method but it’s not necessary). The last step is to load the url into Pandas read_csv to get the dataframe."
      ],
      "metadata": {
        "id": "MG7U2Ew7SruW"
      }
    },
    {
      "cell_type": "code",
      "source": [
        "url = 'copied_raw_GH_link'\n",
        "df1 = pd.read_csv(url)\n",
        "# Dataset is now stored in a Pandas Dataframe"
      ],
      "metadata": {
        "id": "6xKdfFcISz5u"
      },
      "execution_count": null,
      "outputs": []
    },
    {
      "cell_type": "markdown",
      "source": [
        "##10.52 From a Local Drive\n"
      ],
      "metadata": {
        "id": "ms-jQNxtTMl5"
      }
    },
    {
      "cell_type": "markdown",
      "source": [
        "To upload from your local drive, start with the following code:"
      ],
      "metadata": {
        "id": "yz3JFNZnTaQ3"
      }
    },
    {
      "cell_type": "code",
      "source": [
        "from google.colab import files\n",
        "uploaded = files.upload()"
      ],
      "metadata": {
        "id": "5c4PncLOTatX"
      },
      "execution_count": null,
      "outputs": []
    },
    {
      "cell_type": "markdown",
      "source": [
        "It will prompt you to select a file. Click on “Choose Files” then select and upload the file. Wait for the file to be 100% uploaded. You should see the name of the file once Colab has uploaded it.\n",
        "\n",
        "Finally, type in the following code to import it into a dataframe (make sure the filename matches the name of the uploaded file)."
      ],
      "metadata": {
        "id": "qdhnaBc-TcgK"
      }
    },
    {
      "cell_type": "code",
      "source": [
        "import io\n",
        "df2 = pd.read_csv(io.BytesIO(uploaded['Filename.csv']))\n",
        "# Dataset is now stored in a Pandas Dataframe"
      ],
      "metadata": {
        "id": "6Yx5oVh1Tf07"
      },
      "execution_count": null,
      "outputs": []
    },
    {
      "cell_type": "markdown",
      "source": [
        "##10.53 From Google Drive via PyDrive"
      ],
      "metadata": {
        "id": "uZTT5JwBTgaD"
      }
    },
    {
      "cell_type": "markdown",
      "source": [
        "This is the most complicated of the three methods. I’ll show it for those that have uploaded CSV files into their Google Drive for workflow control. First, type in the following code:"
      ],
      "metadata": {
        "id": "YiHk9F8_Tjun"
      }
    },
    {
      "cell_type": "code",
      "source": [
        "# Code to read csv file into Colaboratory:\n",
        "!pip install -U -q PyDrive\n",
        "from pydrive.auth import GoogleAuth\n",
        "from pydrive.drive import GoogleDrive\n",
        "from google.colab import auth\n",
        "from oauth2client.client import GoogleCredentials\n",
        "# Authenticate and create the PyDrive client.\n",
        "auth.authenticate_user()\n",
        "gauth = GoogleAuth()\n",
        "gauth.credentials = GoogleCredentials.get_application_default()\n",
        "drive = GoogleDrive(gauth)"
      ],
      "metadata": {
        "id": "hrKSkHnCTolM"
      },
      "execution_count": null,
      "outputs": []
    },
    {
      "cell_type": "markdown",
      "source": [
        "When prompted, click on the link to get authentication to allow Google to access your Drive. You should see a screen with “Google Cloud SDK wants to access your Google Account” at the top. After you allow permission, copy the given verification code and paste it in the box in Colab."
      ],
      "metadata": {
        "id": "xUCiN9BkTpDk"
      }
    },
    {
      "cell_type": "markdown",
      "source": [
        "Once you have completed verification, go to the CSV file in Google Drive, right-click on it and select “Get shareable link”. The link will be copied into your clipboard. Paste this link into a string variable in Colab."
      ],
      "metadata": {
        "id": "COWsjP-eTrL8"
      }
    },
    {
      "cell_type": "code",
      "source": [
        "link = 'https://drive.google.com/open?id=1DPZZQ43w8brRhbEMolgLqOWKbZbE-IQu' # The shareable link"
      ],
      "metadata": {
        "id": "am_G7msQTuiQ"
      },
      "execution_count": null,
      "outputs": []
    },
    {
      "cell_type": "markdown",
      "source": [
        "What you want is the id portion after the equal sign. To get that portion, type in the following code:"
      ],
      "metadata": {
        "id": "N0T8UyBFTwtH"
      }
    },
    {
      "cell_type": "code",
      "source": [
        "fluff, id = link.split('=')\n",
        "print (id) # Verify that you have everything after '='"
      ],
      "metadata": {
        "id": "bcjshnCqTyby"
      },
      "execution_count": null,
      "outputs": []
    },
    {
      "cell_type": "markdown",
      "source": [
        "Finally, type in the following code to get this file into a dataframe"
      ],
      "metadata": {
        "id": "h3RvKrpwTz8t"
      }
    },
    {
      "cell_type": "code",
      "source": [
        "downloaded = drive.CreateFile({'id':id}) \n",
        "downloaded.GetContentFile('Filename.csv')  \n",
        "df3 = pd.read_csv('Filename.csv')\n",
        "#Dataset is now stored in a Pandas Dataframe"
      ],
      "metadata": {
        "id": "9GIy68bMUEEU"
      },
      "execution_count": null,
      "outputs": []
    },
    {
      "cell_type": "markdown",
      "source": [
        "##10.54 Bonus Method - My Drive"
      ],
      "metadata": {
        "id": "VrgWRQt4UFqN"
      }
    },
    {
      "cell_type": "markdown",
      "source": [
        "This one is quite simple and clean. In your Google Drive (“My Drive”), create a folder called data in the location of your choosing. This is where you will upload your data."
      ],
      "metadata": {
        "id": "hHB9-N_4UJlo"
      }
    },
    {
      "cell_type": "markdown",
      "source": [
        "From a Colab notebook, type the following:"
      ],
      "metadata": {
        "id": "g_9MDgDtUT7M"
      }
    },
    {
      "cell_type": "code",
      "source": [
        "from google.colab import drive\n",
        "drive.mount('/content/drive')"
      ],
      "metadata": {
        "id": "nNa3P-xVUVZv"
      },
      "execution_count": null,
      "outputs": []
    },
    {
      "cell_type": "markdown",
      "source": [
        "Just like with the third method, the commands will bring you to a Google Authentication step. You should see a screen with Google Drive File Stream wants to access your Google Account. After you allow permission, copy the given verification code and paste it in the box in Colab."
      ],
      "metadata": {
        "id": "ZpwYde49UW_Q"
      }
    },
    {
      "cell_type": "markdown",
      "source": [
        "In the notebook, click on the charcoal > on the top left of the notebook and click on Files. Locate the data folder you created earlier and find your data. Right-click on your data and select Copy Path. Store this copied path into a variable and you are ready to go."
      ],
      "metadata": {
        "id": "zgzGn1dQUY71"
      }
    },
    {
      "cell_type": "code",
      "source": [
        "path = \"copied path\"\n",
        "df_bonus = pd.read_csv(path)\n",
        "# Dataset is now stored in a Pandas Dataframe"
      ],
      "metadata": {
        "id": "gjj6C7kqUa-W"
      },
      "execution_count": null,
      "outputs": []
    },
    {
      "cell_type": "markdown",
      "source": [
        "What is great about this method is that you can access a dataset from a separate dataset folder you created in your own Google Drive without the extra steps involved in the third method.\n",
        "\n"
      ],
      "metadata": {
        "id": "ejOMpGVeUdF_"
      }
    },
    {
      "cell_type": "markdown",
      "source": [
        "###Precaution"
      ],
      "metadata": {
        "id": "XGRN6NETUmxl"
      }
    },
    {
      "cell_type": "markdown",
      "source": [
        "You may sometimes receive an error while importing drive data saying that the file was not found or is not able import from the given source.\n",
        "\n",
        "In those cases follow the following steps"
      ],
      "metadata": {
        "id": "ur9fJ0EyUq97"
      }
    },
    {
      "cell_type": "markdown",
      "source": [
        "You can avoid this problem by the following steps\n",
        "\n",
        "* Upload the dataset(.csv) to google drive.\n",
        "*  Now select the uploaded dataset on google drive and select the share option from the drop down menu acquired by making a left-click on the selected file.\n",
        "* Now a pop-up window appears on the screen, change the sharing setting to editor.\n",
        "* And in the bottom left of the pop-up window change the restricted(Only-added can edit) to \"Anyone with the link can edit.\n",
        "* After these settings are saved. Copy the generated sharable link.\n",
        "* Now got to the below mentioned website and convert your link by pasting the priorly copied link and generate the google drive downloadable link. \n",
        "https://sites.google.com/site/gdocs2direct/\n",
        "* Copy the generated google drive downloadable link.\n",
        "* We are ready with the perfect path address now for the dataset.<br>\n",
        "\n",
        "<code>path = \"Paste Here the Generated link which we copied\"\n",
        "df_bonus = pd.read_csv(\"Paste Here the Generated link which we copied\")</code> \n",
        "\n",
        "\n",
        "\n",
        "This would sort the issue perfectly.\n",
        "\n",
        "The same would work even if was a .txt file as well."
      ],
      "metadata": {
        "id": "7FcFszCAU9OF"
      }
    },
    {
      "cell_type": "markdown",
      "source": [
        "# Exercises on Reading Files"
      ],
      "metadata": {
        "id": "Pvb_kHSKlDh6"
      }
    },
    {
      "cell_type": "markdown",
      "source": [
        "###**QUES-1 Read & Display - Files**\n",
        "\n",
        "Write a function in python to read the content from a text file \"poem.txt\" line by line and display the same on screen."
      ],
      "metadata": {
        "id": "4sUjVPz_lGS2"
      }
    },
    {
      "cell_type": "code",
      "source": [
        "def read_file():\n",
        "    file = open(\"poem.txt\",\"r\")\n",
        "    for line in file:\n",
        "        print(line, end=\"\")\n",
        "    file.close()\n",
        "\n",
        "read_file()"
      ],
      "metadata": {
        "id": "RNNh8L-glJag"
      },
      "execution_count": null,
      "outputs": []
    },
    {
      "cell_type": "markdown",
      "source": [
        "###**QUES-2 Conditonal Line Count**\n",
        "\n",
        "Write a function in python to count the number of lines from a text file \"story.txt\" which is not starting with an alphabet \"T\".<br>\n",
        "<br>\n",
        "> Hint:  If the file \"story.txt\" contains the following lines:<br>\n",
        "```\n",
        "A boy is playing there.\n",
        "There is a playground.\n",
        "An aeroplane is in the sky.\n",
        "The sky is pink.\n",
        "```\n",
        "\n",
        "Alphabets and numbers are allowed in the password."
      ],
      "metadata": {
        "id": "JknFgvE5lMgx"
      }
    },
    {
      "cell_type": "code",
      "source": [
        "def line_count():\n",
        "    file = open(\"story.txt\",\"r\")\n",
        "    count=0\n",
        "    for line in file:\n",
        "        if line[0] not in 'T':\n",
        "            count+= 1\n",
        "    file.close()\n",
        "    print(\"No of lines not starting with 'T'=\",count)\n",
        "\n",
        "line_count()"
      ],
      "metadata": {
        "id": "2o7Lnbx0ldxn"
      },
      "execution_count": null,
      "outputs": []
    },
    {
      "cell_type": "markdown",
      "source": [
        "### **QUES-3 Counting Words in File**\n",
        "\n",
        "Write a function in Python to count and display the total number of words in a text file \"notes.txt\"."
      ],
      "metadata": {
        "id": "GMS-4QQKl5lc"
      }
    },
    {
      "cell_type": "code",
      "source": [
        "def count_words():\n",
        "    file = open(\"notes.txt\",\"r\")\n",
        "    count = 0\n",
        "    data = file.read()\n",
        "    words = data.split()\n",
        "    for word in words:\n",
        "        count += 1\n",
        "    print(\"Total words are\",count)\n",
        "    file.close()\n",
        "\n",
        "count_words()"
      ],
      "metadata": {
        "id": "OHeBXQaDl-Dr"
      },
      "execution_count": null,
      "outputs": []
    },
    {
      "cell_type": "markdown",
      "source": [
        "###**QUES-4 Occurence of Words**\n",
        "\n",
        "Write a function in Python to read lines from a text file \"notes.txt\". Your function should find and display the occurrence of the word \"the\".<br>\n",
        "<br>\n",
        ">Hint: If the content of the file is:\n",
        "```\n",
        "\"India is the fastest-growing economy. India is looking for more investments around the globe. \n",
        "The whole world is looking at India as a great market. Most of the Indians can foresee the heights that India is capable of reaching.\"\n",
        "```"
      ],
      "metadata": {
        "id": "jAqXDTzgl_Ws"
      }
    },
    {
      "cell_type": "code",
      "source": [
        "def count_words():\n",
        "    file = open(\"notes.txt\",\"r\")\n",
        "    count = 0\n",
        "    data = file.read()\n",
        "    words = data.split()\n",
        "    for word in words:\n",
        "        if word ==\"the\" or word ==\"The\":\n",
        "            count += 1\n",
        "    print(count)\n",
        "    file.close()\n",
        "\n",
        "count_words()"
      ],
      "metadata": {
        "id": "tf8o9vp3mMNE"
      },
      "execution_count": null,
      "outputs": []
    },
    {
      "cell_type": "markdown",
      "source": [
        "### **QUES-5 Specific Occurences**\n",
        "\n",
        "Write a function in Python to count the words \"this\" and \"these\" present in a text file \"article.txt\".\n",
        "> **Note:** The words \"this\" and \"these\" are complete words"
      ],
      "metadata": {
        "id": "VRmfA94jmOL2"
      }
    },
    {
      "cell_type": "code",
      "source": [
        "def count_words():\n",
        "    file = open(\"article.txt\",\"r\")\n",
        "    count = 0\n",
        "    data = file.read()\n",
        "    words = data.split()\n",
        "    for word in words:\n",
        "        if word == 'this' or word =='these':\n",
        "            count+=1\n",
        "    print(count)\n",
        "    file.close()\n",
        "\n",
        "count_words()"
      ],
      "metadata": {
        "id": "qJD96FZKmXei"
      },
      "execution_count": null,
      "outputs": []
    },
    {
      "cell_type": "markdown",
      "source": [
        "###**QUES-6 Occurence by Character(s)**\n",
        "\n",
        "Write a function in Python to count words in a text file \"article.txt\" those are ending with alphabet \"e\"."
      ],
      "metadata": {
        "id": "1bHqDNeUmZso"
      }
    },
    {
      "cell_type": "code",
      "source": [
        "def count_words():\n",
        "    file = open(\"article.txt\",\"r\")\n",
        "    count = 0\n",
        "    data = file.read()\n",
        "    words = data.split()\n",
        "    for word in words:\n",
        "        if word[-1] == 'e':\n",
        "            count+=1\n",
        "    print(count)\n",
        "    file.close()\n",
        "\n",
        "count_words()"
      ],
      "metadata": {
        "id": "5Knu-BeVmhui"
      },
      "execution_count": null,
      "outputs": []
    },
    {
      "cell_type": "markdown",
      "source": [
        "###**QUES-7 Count by Case**\n",
        "\n",
        "Write a function in Python to count uppercase character in a text file \"article.txt\"."
      ],
      "metadata": {
        "id": "FfkM66jDmjuv"
      }
    },
    {
      "cell_type": "code",
      "source": [
        "def count_letter():\n",
        "    file = open(\"article.txt\",\"r\")\n",
        "    data = file.read()\n",
        "    count = 0\n",
        "    for letter in data:\n",
        "        if letter.isupper():\n",
        "            count+=1\n",
        "    print(count)\n",
        "    file.close()\n",
        "\n",
        "count_letter()"
      ],
      "metadata": {
        "id": "LfZjBzw-mpyG"
      },
      "execution_count": null,
      "outputs": []
    },
    {
      "cell_type": "markdown",
      "source": [
        "###**QUES-8 Edit and Display**\n",
        "\n",
        "A text file named \"matter.txt\" contains some text, which needs to be displayed such that every next character is separated by a symbol \"#\". Write a function definition for hash_display() in Python that would display the entire content of the file matter.txt in the desired format.<br>\n",
        "<br>\n",
        "> Hint: If the file matter.txt has the following content stored in it :\n",
        "```\n",
        "THE WORLD IS ROUND<\n",
        "```\n",
        "\n",
        "The function hash_display() should display the following content :\n",
        "```\n",
        "T#H#E# #W#O#R#L#D# #I#S# #R#O#U#N#D#\n",
        "```"
      ],
      "metadata": {
        "id": "kW6hig4XmrpC"
      }
    },
    {
      "cell_type": "code",
      "source": [
        "def count_hash():\n",
        "    file = open(\"matter.txt\",\"r\")\n",
        "    data = file.read()\n",
        "    for letter in data:\n",
        "        print(letter, end=\"#\")\n",
        "\n",
        "    file.close()\n",
        "\n",
        "count_hash()"
      ],
      "metadata": {
        "id": "YLZ9kLHQnJFI"
      },
      "execution_count": null,
      "outputs": []
    },
    {
      "cell_type": "markdown",
      "source": [
        "###**QUES-9 Read first *n* files**\n",
        "\n",
        "Write a Python program to read first n lines of a file \"test.txt\"."
      ],
      "metadata": {
        "id": "CYNoKJNhnLtS"
      }
    },
    {
      "cell_type": "code",
      "source": [
        "def file_read_from_head(fname, nlines):\n",
        "        from itertools import islice\n",
        "        with open(fname) as f:\n",
        "                for line in islice(f, nlines):\n",
        "                        print(line)\n",
        "file_read_from_head('test.txt',n)"
      ],
      "metadata": {
        "id": "B30hvvHCnYXA"
      },
      "execution_count": null,
      "outputs": []
    },
    {
      "cell_type": "markdown",
      "source": [
        "###**QUES-10 Storing Line to Variable**\n",
        "\n",
        "Write a Python program to read a file \"test.txt\" line by line store it into a variable.\n",
        "\n"
      ],
      "metadata": {
        "id": "NJ8kWkgeniiL"
      }
    },
    {
      "cell_type": "code",
      "source": [
        "def file_read(fname):\n",
        "        with open (fname, \"r\") as myfile:\n",
        "                data=myfile.readlines()\n",
        "                print(data)\n",
        "file_read('test.txt')"
      ],
      "metadata": {
        "id": "npOcKO31nlUX"
      },
      "execution_count": null,
      "outputs": []
    },
    {
      "cell_type": "markdown",
      "metadata": {
        "id": "fUbwDjm1x3A-"
      },
      "source": [
        "<hr>"
      ]
    },
    {
      "cell_type": "markdown",
      "metadata": {
        "id": "43rIWbQI0up-"
      },
      "source": [
        "# 10.6 Introduction to Writing and Saving Files in Python"
      ]
    },
    {
      "cell_type": "markdown",
      "metadata": {
        "id": "dyCBqDWd0uqA"
      },
      "source": [
        "This notebook will teach you about write the text to file in the Python Programming Language. By the end of this topic, you'll know how to write to file and copy the file."
      ]
    },
    {
      "cell_type": "markdown",
      "metadata": {
        "id": "0ZJjO76a0uqD"
      },
      "source": [
        "#10.7 Writing Files"
      ]
    },
    {
      "cell_type": "markdown",
      "metadata": {
        "id": "IFDcJI4g0uqF"
      },
      "source": [
        " We can open a file object using the method write() to save the text file to a list. To write the mode, argument must be set to write <b>w</b>. Let’s write a file 'Example2.txt' with the line: <b>“This is line A”</b>"
      ]
    },
    {
      "cell_type": "code",
      "metadata": {
        "id": "2U3RCqa90uqG"
      },
      "source": [
        "# Write line to file\n",
        "\n",
        "with open('/resources/data/Example2.txt', 'w') as writefile:\n",
        "    writefile.write(\"This is line A\")"
      ],
      "execution_count": null,
      "outputs": []
    },
    {
      "cell_type": "markdown",
      "metadata": {
        "id": "RpcJPaUy0uqP"
      },
      "source": [
        " We can read the file to see if it worked:"
      ]
    },
    {
      "cell_type": "code",
      "metadata": {
        "id": "-_ExPCuj0uqQ"
      },
      "source": [
        "# Read file\n",
        "\n",
        "with open('/resources/data/Example2.txt', 'r') as testwritefile:\n",
        "    print(testwritefile.read())"
      ],
      "execution_count": null,
      "outputs": []
    },
    {
      "cell_type": "markdown",
      "metadata": {
        "id": "OPX4_QDP0uqW"
      },
      "source": [
        "We can write multiple lines:"
      ]
    },
    {
      "cell_type": "code",
      "metadata": {
        "id": "9h3zbOfP0uqX"
      },
      "source": [
        "# Write lines to file\n",
        "\n",
        "with open('/resources/data/Example2.txt', 'w') as writefile:\n",
        "    writefile.write(\"This is line A\\n\")\n",
        "    writefile.write(\"This is line B\\n\")"
      ],
      "execution_count": null,
      "outputs": []
    },
    {
      "cell_type": "markdown",
      "metadata": {
        "id": "u_UJ-8eF0uqe"
      },
      "source": [
        "The method '.write()' works similar to the method '.readline', except instead of reading a new line it writes a new line. The process is illustrated in the figure , the different colour coding of the grid represents a new line added to the file after each method call."
      ]
    },
    {
      "cell_type": "markdown",
      "metadata": {
        "id": "Bv_Vsntd0uqf"
      },
      "source": [
        "<img src=\"https://s3-api.us-geo.objectstorage.softlayer.net/cf-courses-data/CognitiveClass/PY0101EN/Chapter%204/Images/WriteLine.png\" width=\"500\" />"
      ]
    },
    {
      "cell_type": "markdown",
      "metadata": {
        "id": "974YTupv0uqh"
      },
      "source": [
        "You can check the file to see if your results are correct "
      ]
    },
    {
      "cell_type": "code",
      "metadata": {
        "id": "Fsf2L9zK0uqi"
      },
      "source": [
        "# Check whether write to file\n",
        "\n",
        "with open('/resources/data/Example2.txt', 'r') as testwritefile:\n",
        "    print(testwritefile.read())"
      ],
      "execution_count": null,
      "outputs": []
    },
    {
      "cell_type": "markdown",
      "metadata": {
        "id": "c_gfSZAd0uqn"
      },
      "source": [
        " By setting the mode argument to append **a**  you can append a new line as follows:"
      ]
    },
    {
      "cell_type": "code",
      "metadata": {
        "id": "fFFgFOl00uqo"
      },
      "source": [
        "# Write a new line to text file\n",
        "\n",
        "with open('/resources/data/Example2.txt', 'a') as testwritefile:\n",
        "    testwritefile.write(\"This is line C\\n\")"
      ],
      "execution_count": null,
      "outputs": []
    },
    {
      "cell_type": "markdown",
      "metadata": {
        "id": "N23uTexm0uqx"
      },
      "source": [
        " You can verify the file has changed by running the following cell:"
      ]
    },
    {
      "cell_type": "code",
      "metadata": {
        "id": "JETFtv8p0uqy"
      },
      "source": [
        "# Verify if the new line is in the text file\n",
        "\n",
        "with open('/resources/data/Example2.txt', 'r') as testwritefile:\n",
        "    print(testwritefile.read())"
      ],
      "execution_count": null,
      "outputs": []
    },
    {
      "cell_type": "markdown",
      "metadata": {
        "id": "Ar3kQmbt0uq3"
      },
      "source": [
        " We write a list to a <b>.txt</b> file  as follows:"
      ]
    },
    {
      "cell_type": "code",
      "metadata": {
        "id": "B8An-Bco0uq4"
      },
      "source": [
        "# Sample list of text\n",
        "\n",
        "Lines = [\"This is line A\\n\", \"This is line B\\n\", \"This is line C\\n\"]\n",
        "Lines"
      ],
      "execution_count": null,
      "outputs": []
    },
    {
      "cell_type": "code",
      "metadata": {
        "id": "lIC-7duI0urD"
      },
      "source": [
        "# Write the strings in the list to text file\n",
        "\n",
        "with open('Example2.txt', 'w') as writefile:\n",
        "    for line in Lines:\n",
        "        print(line)\n",
        "        writefile.write(line)"
      ],
      "execution_count": null,
      "outputs": []
    },
    {
      "cell_type": "markdown",
      "metadata": {
        "id": "suNT40OX0urJ"
      },
      "source": [
        " We can verify the file is written by reading it and printing out the values:  "
      ]
    },
    {
      "cell_type": "code",
      "metadata": {
        "id": "7eBFo9FN0urL"
      },
      "source": [
        "# Verify if writing to file is successfully executed\n",
        "\n",
        "with open('Example2.txt', 'r') as testwritefile:\n",
        "    print(testwritefile.read())"
      ],
      "execution_count": null,
      "outputs": []
    },
    {
      "cell_type": "markdown",
      "metadata": {
        "id": "VWezcpUX0urS"
      },
      "source": [
        "We can again append to the file by changing the second parameter to <b>a</b>. This adds the code:"
      ]
    },
    {
      "cell_type": "code",
      "metadata": {
        "id": "PY8JZ4rf0urT"
      },
      "source": [
        "# Append the line to the file\n",
        "\n",
        "with open('Example2.txt', 'a') as testwritefile:\n",
        "    testwritefile.write(\"This is line D\\n\")"
      ],
      "execution_count": null,
      "outputs": []
    },
    {
      "cell_type": "markdown",
      "metadata": {
        "id": "H69mXXBN0urY"
      },
      "source": [
        "We can see the results of appending the file: "
      ]
    },
    {
      "cell_type": "code",
      "metadata": {
        "id": "MS0mzIs40urZ"
      },
      "source": [
        "# Verify if the appending is successfully executed\n",
        "\n",
        "with open('Example2.txt', 'r') as testwritefile:\n",
        "    print(testwritefile.read())"
      ],
      "execution_count": null,
      "outputs": []
    },
    {
      "cell_type": "markdown",
      "metadata": {
        "id": "VepnvnDs0urg"
      },
      "source": [
        "#10.8 Copy a File"
      ]
    },
    {
      "cell_type": "markdown",
      "metadata": {
        "id": "m9Cc3FKF0urh"
      },
      "source": [
        "Let's copy the file 'Example2.txt' to the file 'Example3.txt':"
      ]
    },
    {
      "cell_type": "code",
      "metadata": {
        "id": "hO8CimOD0uri"
      },
      "source": [
        "# Copy file to another\n",
        "\n",
        "with open('Example2.txt','r') as readfile:\n",
        "    with open('Example3.txt','w') as writefile:\n",
        "          for line in readfile:\n",
        "                writefile.write(line)"
      ],
      "execution_count": null,
      "outputs": []
    },
    {
      "cell_type": "markdown",
      "metadata": {
        "id": "HS366siV0urm"
      },
      "source": [
        "We can read the file to see if everything works:"
      ]
    },
    {
      "cell_type": "code",
      "metadata": {
        "id": "-r7RRA680urn"
      },
      "source": [
        "# Verify if the copy is successfully executed\n",
        "\n",
        "with open('Example3.txt','r') as testwritefile:\n",
        "    print(testwritefile.read())"
      ],
      "execution_count": null,
      "outputs": []
    },
    {
      "cell_type": "markdown",
      "metadata": {
        "id": "8dEoW7qP0urr"
      },
      "source": [
        " After reading files, we can also write data into files and save them in different file formats like **.txt, .csv, .xls (for excel files) etc**. "
      ]
    },
    {
      "cell_type": "markdown",
      "source": [
        "#10.9 Saving Structured Data with json"
      ],
      "metadata": {
        "id": "XTxkSMzrQaev"
      }
    },
    {
      "cell_type": "markdown",
      "source": [
        "Strings can easily be written to and read from a file. Numbers take a bit more effort, since the read() method only returns strings, which will have to be passed to a function like int(), which takes a string like '123' and returns its numeric value 123. When you want to save more complex data types like nested lists and dictionaries, parsing and serializing by hand becomes complicated.\n",
        "\n",
        "Rather than having users constantly writing and debugging code to save complicated data types to files, Python allows you to use the popular data interchange format called JSON (JavaScript Object Notation). The standard module called json can take Python data hierarchies, and convert them to string representations; this process is called serializing. Reconstructing the data from the string representation is called deserializing. Between serializing and deserializing, the string representing the object may have been stored in a file or data, or sent over a network connection to some distant machine."
      ],
      "metadata": {
        "id": "_SixUiUxQbkJ"
      }
    },
    {
      "cell_type": "markdown",
      "source": [
        " The JSON format is commonly used by modern applications to allow for data exchange. Many programmers are already familiar with it, which makes it a good choice for interoperability."
      ],
      "metadata": {
        "id": "tgIzGWZlQks3"
      }
    },
    {
      "cell_type": "markdown",
      "source": [
        "f you have an object x, you can view its JSON string representation with a simple line of code:"
      ],
      "metadata": {
        "id": "ULxbHLB9QnOW"
      }
    },
    {
      "cell_type": "code",
      "source": [
        "import json\n",
        " x = [1, 'simple', 'list']\n",
        " json.dumps(x)\n",
        "'[1, \"simple\", \"list\"]'"
      ],
      "metadata": {
        "id": "wPxYFnv3Qnqu"
      },
      "execution_count": null,
      "outputs": []
    },
    {
      "cell_type": "markdown",
      "source": [
        "Another variant of the dumps() function, called dump(), simply serializes the object to a text file. So if f is a text file object opened for writing, we can do this:"
      ],
      "metadata": {
        "id": "XFYFwFaJQrvn"
      }
    },
    {
      "cell_type": "code",
      "source": [
        "json.dump(x, f)"
      ],
      "metadata": {
        "id": "Hnva0jPcQtth"
      },
      "execution_count": null,
      "outputs": []
    },
    {
      "cell_type": "markdown",
      "source": [
        "To decode the object again, if f is a binary file or text file object which has been opened for reading:"
      ],
      "metadata": {
        "id": "akt196tIQvDt"
      }
    },
    {
      "cell_type": "code",
      "source": [
        "x = json.load(f)"
      ],
      "metadata": {
        "id": "Wv-2RJKKQw22"
      },
      "execution_count": null,
      "outputs": []
    },
    {
      "cell_type": "markdown",
      "source": [
        " JSON files must be encoded in UTF-8. Use encoding=\"utf-8\" when opening JSON file as a text file for both of reading and writing."
      ],
      "metadata": {
        "id": "qHfVoAQrQyh_"
      }
    },
    {
      "cell_type": "markdown",
      "source": [
        " pickle - the pickle module<br>\n",
        " <br>\n",
        "Contrary to JSON, pickle is a protocol which allows the serialization of arbitrarily complex Python objects. As such, it is specific to Python and cannot be used to communicate with applications written in other languages. It is also insecure by default: deserializing pickle data coming from an untrusted source can execute arbitrary code, if the data was crafted by a skilled attacker."
      ],
      "metadata": {
        "id": "rfRbGkXZQ57I"
      }
    },
    {
      "cell_type": "markdown",
      "source": [
        "#Exercises on Writing and Saving"
      ],
      "metadata": {
        "id": "IY7IX7qTntkO"
      }
    },
    {
      "cell_type": "markdown",
      "source": [
        "###**QUES-1 Functions & Remote Files**\n",
        "\n",
        "A binary file \"Book.dat\" has structure [BookNo, Book_Name, Author, Price].\n",
        "1. Write a user defined function createFile() to input data for a record and add to Book.dat.\n",
        "2. Write a function countRec(Author) in Python which accepts the Author name as parameter and count and return number of books by the given Author are stored in the binary file \"Book.dat\""
      ],
      "metadata": {
        "id": "MZ8gber8nw3O"
      }
    },
    {
      "cell_type": "code",
      "source": [
        "import pickle\n",
        "\n",
        "def createFile():\n",
        "    file = open(\"book.dat\",\"ab\")\n",
        "    BookNo = int(input(\"Enter book number: \"))\n",
        "    Book_Name = input(\"Enter book Name: \")\n",
        "    Author =input(\"Enter author: \")\n",
        "    Price = int(input(\"Enter price: \"))\n",
        "    record = [BookNo, Book_Name, Author, Price]\n",
        "    pickle.dump(record, file)\n",
        "    file.close()\n",
        "    \n",
        "def countRec(Author):\n",
        "    file = open(\"book.dat\",\"rb\")\n",
        "    count = 0\n",
        "    try:\n",
        "        while True:\n",
        "            record = pickle.load(file)\n",
        "            if record[2]==Author:\n",
        "                count+=1\n",
        "    except EOFError:\n",
        "        pass\n",
        "    return count\n",
        "    file.close()\n",
        "\n",
        "#To test working of functions\n",
        "def testProgram():\n",
        "    while True:\n",
        "        createFile()\n",
        "        choice = input(\"Add more record (y/n)? \")\n",
        "        if choice in 'Nn':\n",
        "            break\n",
        "    Author = input('Enter author name to search: ')\n",
        "    n = countRec(Author)\n",
        "    print(\"No of books are\",n)\n",
        "\n",
        "testProgram()    "
      ],
      "metadata": {
        "id": "4YlTyHpNn_SF"
      },
      "execution_count": null,
      "outputs": []
    },
    {
      "cell_type": "markdown",
      "source": [
        "###**QUES-2 Functions in Real Life**\n",
        "\n",
        "Given a binary file employee.dat, created using dictionary object having keys: (empcode, name, and salary)\n",
        "\n",
        "1. Write a python function that add one more record at the end of file.\n",
        "2. Write a python function that display all employee records whose salary is more that 30000"
      ],
      "metadata": {
        "id": "_vHcZPiKoAMS"
      }
    },
    {
      "cell_type": "code",
      "source": [
        "import pickle\n",
        "\n",
        "def add_record():\n",
        "    file = open(\"employee.dat\",\"ab\")\n",
        "    emp = {}\n",
        "    emp['empcode'] = int(input(\"Enter employee code: \"))\n",
        "    emp['name'] = input(\"Enter employee Name: \")\n",
        "    emp['salary'] = int(input(\"Enter salary: \"))\n",
        "    pickle.dump(emp, file)\n",
        "    file.close()\n",
        "    \n",
        "def search():\n",
        "    file = open(\"employee.dat\",\"rb\")\n",
        "    try:\n",
        "        while True:\n",
        "            emp = pickle.load(file)\n",
        "            if emp['salary']>30000:\n",
        "                print(emp)\n",
        "    except EOFError:\n",
        "        pass\n",
        "    file.close()\n",
        "\n",
        "#To test working of functions\n",
        "def testProgram():\n",
        "    while True:\n",
        "        add_record()\n",
        "        choice = input(\"Add more record (y/n)? \")\n",
        "        if choice in 'Nn':\n",
        "            break\n",
        "    print('Employee details having salary more than 30000')\n",
        "    search()\n",
        "\n",
        "testProgram()    "
      ],
      "metadata": {
        "id": "8E9OztJ_oMhK"
      },
      "execution_count": null,
      "outputs": []
    },
    {
      "cell_type": "markdown",
      "source": [
        "###**QUES-3 Adding Records By Functions**\n",
        "\n",
        "A binary file players.dat, containing records of following list format: [code, name, country and total runs]. Write a python function that add one record at the end of file."
      ],
      "metadata": {
        "id": "9NuQXS_1oZ-u"
      }
    },
    {
      "cell_type": "code",
      "source": [
        "import pickle\n",
        "\n",
        "def createFile():\n",
        "    file = open(\"players.dat\",\"ab\")\n",
        "    Code = int(input(\"Enter player code: \"))\n",
        "    Name = input(\"Enter player Name: \")\n",
        "    Country =input(\"Enter player country: \")\n",
        "    Total_Runs = int(input(\"Enter total runs of player: \"))\n",
        "    record = [Code, Name, Country, Total_Runs]\n",
        "    pickle.dump(record, file)\n",
        "    file.close()\n",
        "\n",
        "    def testProgram():\n",
        "    while True:\n",
        "        createFile()\n",
        "        choice = input(\"Add more record (y/n)? \")\n",
        "        if choice in 'Nn':\n",
        "            break\n",
        "    print(\"the number of players whose name starts with A:\",search())\n",
        "    Country = input('Enter country name to search: ')\n",
        "    n = countRec(Country)\n",
        "    print(\"No of players are\",n)\n",
        "\n",
        "testProgram()"
      ],
      "metadata": {
        "id": "G2CW-DXYoibc"
      },
      "execution_count": null,
      "outputs": []
    },
    {
      "cell_type": "markdown",
      "source": [
        "###**QUES-4 Read & Create**\n",
        "\n",
        "Given a binary file game.dat, containing records of following list format:\n",
        "```\n",
        " [game_name, participants]\n",
        "```\n",
        "Write a function in Python that would read contents from the file game.dat and creates a file named basket.dat copying only those records from game.dat where the game name is \"Basket Ball\""
      ],
      "metadata": {
        "id": "TH56sufOozDk"
      }
    },
    {
      "cell_type": "code",
      "source": [
        "def countRec(country):\n",
        "    infile = open(\"game.dat\",\"rb\")\n",
        "    outfile = open(\"basket.dat\",\"wb\")\n",
        "\n",
        "    try:\n",
        "        while True:\n",
        "            record = pickle.load(infile)\n",
        "            if record[0] == \"Basket Ball\":\n",
        "                pickle.dump(record, outfile)\n",
        "    except EOFError:\n",
        "        pass\n",
        "    infile.close()\n",
        "    outfile.close()"
      ],
      "metadata": {
        "id": "kgapev-Oo17B"
      },
      "execution_count": null,
      "outputs": []
    },
    {
      "cell_type": "markdown",
      "source": [
        "### **QUES-5 JTOI() & .txt**\n",
        "Aditi has used a text editing software to type some text. After saving the article as WORDS.TXT, she realised that she has wrongly typed alphabet J in place of alphabet I everywhere in the article.<br>\n",
        "\n",
        "Write a function definition for JTOI() in Python that would display the corrected version of entire content of the file WORDS.TXT with all the alphabets \"J\" to be displayed as an alphabet \"I\" on screen.<br>\n",
        "\n",
        "> **Note:** Assuming that WORD.TXT does not contain any J alphabet otherwise.\n",
        "\n",
        "\n",
        "Example:\n",
        "If Aditi has stored the following content in the file WORDS.TXT:<br>\n",
        "```\n",
        "WELL, THJS JS A WORD BY JTSELF. YOU COULD STRETCH THJS TO BE A SENTENCE\n",
        "```\n",
        "The function JTOI() should display the following content:\n",
        "```\n",
        "WELL, THIS IS A WORD BY ITSELF. YOU COULD STRETCH THIS TO BE A SENTENCE\n",
        "```"
      ],
      "metadata": {
        "id": "EWshgRlnpANi"
      }
    },
    {
      "cell_type": "code",
      "source": [
        "def JTOI():\n",
        "    file = open(\"words.txt\",\"r\")\n",
        "    data = file.read()\n",
        "    for letter in data:\n",
        "        if letter == 'J':\n",
        "            print(\"I\",end=\"\")\n",
        "        else:\n",
        "            print(letter,end=\"\")\n",
        "\n",
        "    file.close()\n",
        "\n",
        "JTOI()"
      ],
      "metadata": {
        "id": "-X6J1v2hpPNl"
      },
      "execution_count": null,
      "outputs": []
    },
    {
      "cell_type": "markdown",
      "source": [
        "###**QUES-6 Generating & Naming .txt**\n",
        "\n",
        "Write a Python program to generate 26 text files named A.txt, B.txt, and so on up to Z.txt."
      ],
      "metadata": {
        "id": "82DqG3tjpcmE"
      }
    },
    {
      "cell_type": "code",
      "source": [
        "import string, os\n",
        "if not os.path.exists(\"letters\"):\n",
        "   os.makedirs(\"letters\")\n",
        "for letter in string.ascii_uppercase:\n",
        "   with open(letter + \".txt\", \"w\") as f:\n",
        "       f.writelines(letter)\n"
      ],
      "metadata": {
        "id": "6ZewvqzKphMT"
      },
      "execution_count": null,
      "outputs": []
    },
    {
      "cell_type": "markdown",
      "source": [
        "###**QUES-7 Creating a File with Specifications**\n",
        "\n",
        "Write a Python program to create a file where all letters of English alphabet are listed by specified number of letters on each line."
      ],
      "metadata": {
        "id": "KjxBOCLKpm2U"
      }
    },
    {
      "cell_type": "code",
      "source": [
        "import string\n",
        "def letters_file_line(n):\n",
        "   with open(\"words1.txt\", \"w\") as f:\n",
        "       alphabet = string.ascii_uppercase\n",
        "       letters = [alphabet[i:i + n] + \"\\n\" for i in range(0, len(alphabet), n)]\n",
        "       f.writelines(letters)\n",
        "letters_file_line(3)"
      ],
      "metadata": {
        "id": "mJGMfQvNppHV"
      },
      "execution_count": null,
      "outputs": []
    },
    {
      "cell_type": "markdown",
      "source": [
        "###**QUES-8 Extracting From .txt**\n",
        "\n",
        "Write a Python program to extract characters from various text files and puts them into a list.\n",
        "\n",
        "words1.txt\n",
        "```\n",
        "Welcome to the Python Wiki, a user-editable compendium of knowledge\n",
        "based around the Python programming language. Some pages are protected\n",
        "against casual editing - see WikiEditingGuidelines for more information\n",
        "about editing content.\n",
        "```\n",
        "words2.txt\n",
        "```\n",
        "Python is a great object-oriented, interpreted, and interactive\n",
        "programming language. It is often compared (favorably of course :-) )\n",
        "to Lisp, Tcl, Perl, Ruby, C#, Visual Basic, Visual Fox Pro, Scheme or Java...\n",
        "and it's much more fun.\n",
        "```"
      ],
      "metadata": {
        "id": "r0a3z7WopsQP"
      }
    },
    {
      "cell_type": "code",
      "source": [
        "import glob\n",
        "char_list = []\n",
        "files_list = glob.glob(\"*.txt\")\n",
        "for file_elem in files_list:\n",
        "   with open(file_elem, \"r\") as f:\n",
        "       char_list.append(f.read())\n",
        "print(char_list)"
      ],
      "metadata": {
        "id": "KDBYAWVfp6ID"
      },
      "execution_count": null,
      "outputs": []
    },
    {
      "cell_type": "markdown",
      "source": [
        "###**QUES-9 Transfering Copy of File**\n",
        "\n",
        "Write a Python program to copy the contents of a file \"test.py\" to another file \"abc.py\"."
      ],
      "metadata": {
        "id": "wDgBLT1LqC4U"
      }
    },
    {
      "cell_type": "code",
      "source": [
        "from shutil import copyfile\n",
        "copyfile('test.py', 'abc.py')"
      ],
      "metadata": {
        "id": "YItnxtIhqFvL"
      },
      "execution_count": null,
      "outputs": []
    },
    {
      "cell_type": "markdown",
      "source": [
        "###**QUES-10 List Contents Into File**\n",
        "\n",
        "Write a Python program to write a list content to a file \"abc.txt\".\n",
        "\n",
        "Sample data:\n",
        "```\n",
        "color = ['Red', 'Green', 'White', 'Black', 'Pink', 'Yellow']\n",
        "```"
      ],
      "metadata": {
        "id": "2Z6IZ3u7qJ-L"
      }
    },
    {
      "cell_type": "code",
      "source": [
        "color = ['Red', 'Green', 'White', 'Black', 'Pink', 'Yellow']\n",
        "with open('abc.txt', \"w\") as myfile:\n",
        "        for c in color:\n",
        "                myfile.write(\"%s\\n\" % c)\n",
        "\n",
        "content = open('abc.txt')\n",
        "print(content.read())"
      ],
      "metadata": {
        "id": "AbnQNA-WqNCB"
      },
      "execution_count": null,
      "outputs": []
    },
    {
      "cell_type": "markdown",
      "metadata": {
        "id": "URT8cy_EWFzq"
      },
      "source": [
        "# Further Reading and References\n",
        "\n",
        "Following are some resources where you can learn about more arithmetic, conditional and logical operations in Python:\n",
        "\n",
        "* Reading & Writing Files in python Tutorial at tutorialspoint: [Here](https://www.tutorialspoint.com/reading-and-writing-files-in-python)\n",
        "* Reading & Writing Files in Python Guide at Realpython: [Here](https://realpython.com/read-write-files-python/)\n",
        "* Python official documentation: [Here](https://docs.python.org/3/tutorial/index.html)"
      ]
    }
  ]
}