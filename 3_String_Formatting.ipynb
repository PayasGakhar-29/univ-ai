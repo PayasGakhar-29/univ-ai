{
  "nbformat": 4,
  "nbformat_minor": 0,
  "metadata": {
    "kernelspec": {
      "name": "python3",
      "display_name": "Python 3"
    },
    "colab": {
      "name": "3.String Formatting.ipynb",
      "provenance": [],
      "collapsed_sections": [],
      "toc_visible": true
    }
  },
  "cells": [
    {
      "cell_type": "markdown",
      "source": [
        "#3.0 String Formatting"
      ],
      "metadata": {
        "id": "XpKUmq4usnan"
      }
    },
    {
      "cell_type": "markdown",
      "source": [
        "You may want to create dynamic strings that use variables or other values from other parts of your script. To insert these values into a string, you can use a process called *string formatting*. The method that we use for formatting is the string.format() method. The string.format() method has many options to customize the output (see the [documentation](https://drive.google.com/uc?export=download&id=1HpUpVC4LOfme8Gi1wHTWe6e37KAPjmYL)), but we will only cover a subset of these options in this module.\n",
        "\n",
        "In general, the syntax for this method is the following:\n",
        "\n",
        "```python\n",
        "\"This is a string that {} will edit\".format(values_to_insert)\n",
        "```\n",
        "\n",
        "In the original string, you use *placeholders*, or {} to indicate the location to insert a value. Then, you pass comma-separated values that will be inserted to the .format() method."
      ],
      "metadata": {
        "id": "TB3xsH16uHeu"
      }
    },
    {
      "cell_type": "code",
      "source": [
        "# Simple string formatting example\n",
        "\"This is a string that {} will edit\".format(\"I\")"
      ],
      "metadata": {
        "colab": {
          "base_uri": "https://localhost:8080/",
          "height": 35
        },
        "id": "jUR_wh0UuWta",
        "outputId": "1a521ec9-6058-4e29-92d9-4d4e93f6bee4"
      },
      "execution_count": null,
      "outputs": [
        {
          "output_type": "execute_result",
          "data": {
            "text/plain": [
              "'This is a string that I will edit'"
            ],
            "application/vnd.google.colaboratory.intrinsic+json": {
              "type": "string"
            }
          },
          "metadata": {},
          "execution_count": 1
        }
      ]
    },
    {
      "cell_type": "markdown",
      "source": [
        "You can also use multiple placeholders to insert multiple values into a string. By default, each placeholder is assigned an *implicit* zero-indexed location corresponding to the order that the arugments passed to the .format() method."
      ],
      "metadata": {
        "id": "DOL76rBzua8_"
      }
    },
    {
      "cell_type": "code",
      "source": [
        "\"{} and {} will work together.\".format(\"Jim\", \"Pam\")"
      ],
      "metadata": {
        "colab": {
          "base_uri": "https://localhost:8080/",
          "height": 35
        },
        "id": "WV75XXHhuhkj",
        "outputId": "96ac25bb-f7e8-457c-ec62-4200cd824ffa"
      },
      "execution_count": null,
      "outputs": [
        {
          "output_type": "execute_result",
          "data": {
            "text/plain": [
              "'Jim and Pam will work together.'"
            ],
            "application/vnd.google.colaboratory.intrinsic+json": {
              "type": "string"
            }
          },
          "metadata": {},
          "execution_count": 2
        }
      ]
    },
    {
      "cell_type": "markdown",
      "source": [
        "However, you can provide an *explicit* location to each placeholder instead of relying on the implicit numbering. These numbers refer to the order of the arguments passed to the .format() method."
      ],
      "metadata": {
        "id": "1zMqnC9IukwQ"
      }
    },
    {
      "cell_type": "code",
      "source": [
        "\"{1} and {0} will work together.\".format(\"Jim\", \"Pam\")"
      ],
      "metadata": {
        "colab": {
          "base_uri": "https://localhost:8080/",
          "height": 35
        },
        "id": "RbcwarIJunmw",
        "outputId": "f8c5c4c9-a650-4625-cfbb-e275deb0eed1"
      },
      "execution_count": null,
      "outputs": [
        {
          "output_type": "execute_result",
          "data": {
            "text/plain": [
              "'Pam and Jim will work together.'"
            ],
            "application/vnd.google.colaboratory.intrinsic+json": {
              "type": "string"
            }
          },
          "metadata": {},
          "execution_count": 3
        }
      ]
    },
    {
      "cell_type": "markdown",
      "source": [
        "Instead of using an index location, you can name the arguments passed to .format() and use them in the placeholders. **Note: the naming of the arguments is separate from the name of a variable.**"
      ],
      "metadata": {
        "id": "Usf76lTPuqIb"
      }
    },
    {
      "cell_type": "code",
      "source": [
        "person1 = \"Jim\"\n",
        "person2 = \"Pam\"\n",
        "\n",
        "\"{person1} and {person2} will work together.\".format(person1 = person1, person2 = person2)"
      ],
      "metadata": {
        "colab": {
          "base_uri": "https://localhost:8080/",
          "height": 35
        },
        "id": "4im_wbmRureA",
        "outputId": "a8ad203b-98ec-468b-dac7-155d93ca46a8"
      },
      "execution_count": null,
      "outputs": [
        {
          "output_type": "execute_result",
          "data": {
            "text/plain": [
              "'Jim and Pam will work together.'"
            ],
            "application/vnd.google.colaboratory.intrinsic+json": {
              "type": "string"
            }
          },
          "metadata": {},
          "execution_count": 4
        }
      ]
    },
    {
      "cell_type": "markdown",
      "source": [
        "You can also pass numeric types directly as a .format() argument instead of having to explicitly convert into a string."
      ],
      "metadata": {
        "id": "Lr-YNOzxuvQ4"
      }
    },
    {
      "cell_type": "code",
      "source": [
        "\"There are {} bags that weigh an average of {} pounds\".format(5, 3.533325235252)"
      ],
      "metadata": {
        "colab": {
          "base_uri": "https://localhost:8080/",
          "height": 35
        },
        "id": "QAUCNGWwuxOl",
        "outputId": "f2d567c3-0fc9-448d-d82e-a0a1ac76f24e"
      },
      "execution_count": null,
      "outputs": [
        {
          "output_type": "execute_result",
          "data": {
            "text/plain": [
              "'There are 5 bags that weigh an average of 3.533325235252 pounds'"
            ],
            "application/vnd.google.colaboratory.intrinsic+json": {
              "type": "string"
            }
          },
          "metadata": {},
          "execution_count": 5
        }
      ]
    },
    {
      "cell_type": "markdown",
      "source": [
        "You can customize the format of the numeric type by including the appropriate options in the placholder. For a list of the most up-to-date options, refer to the [documentation](https://drive.google.com/uc?export=download&id=1HpUpVC4LOfme8Gi1wHTWe6e37KAPjmYL). In the example below, we restrict (with rounding) floats to two decimal places \n",
        "\n",
        "---\n",
        "\n",
        "using the ':nf' syntax, where 'n' is the number of decimal places to show."
      ],
      "metadata": {
        "id": "B8pC7gcRu1vM"
      }
    },
    {
      "cell_type": "code",
      "source": [
        "\"There are {number} bags that weigh an average of {pounds:.2f} pounds\".format(number = 5, pounds = 3.533325235252)"
      ],
      "metadata": {
        "colab": {
          "base_uri": "https://localhost:8080/",
          "height": 35
        },
        "id": "LlRqACIWu4dI",
        "outputId": "71dd4204-b380-46e0-da2f-b6a253d6ce01"
      },
      "execution_count": null,
      "outputs": [
        {
          "output_type": "execute_result",
          "data": {
            "text/plain": [
              "'There are 5 bags that weigh an average of 3.53 pounds'"
            ],
            "application/vnd.google.colaboratory.intrinsic+json": {
              "type": "string"
            }
          },
          "metadata": {},
          "execution_count": 6
        }
      ]
    },
    {
      "cell_type": "markdown",
      "metadata": {
        "id": "HwWYcHTaSwfQ"
      },
      "source": [
        "There are four major ways to format strings in Python. In this notebook we will explore each of the four string formatting techniques."
      ]
    },
    {
      "cell_type": "code",
      "metadata": {
        "id": "lAAMuOGXSwfQ"
      },
      "source": [
        "# For example purposes, we'll declare a couple of variables that will be printed and formatted.\n",
        "errno = 50159747054\n",
        "name = 'Mr. Python'"
      ],
      "execution_count": null,
      "outputs": []
    },
    {
      "cell_type": "markdown",
      "metadata": {
        "id": "Io_-g8VZSwfT"
      },
      "source": [
        "## 3.1 - Old Style\n",
        "The '%' character is used in Python strings to trigger some built-in behavior called \"placeholder substitution\".  This technique is borrowed from early days of C-language programming and its printf() library function.  You use the '%' character (with some extra alpha characters) directly in your format string to perform substitution."
      ]
    },
    {
      "cell_type": "code",
      "metadata": {
        "id": "Nrl5gp6USwfT"
      },
      "source": [
        "# Use `%s` to perform a string variable substitution\n",
        "'Hello, %s' % name"
      ],
      "execution_count": null,
      "outputs": []
    },
    {
      "cell_type": "markdown",
      "metadata": {
        "id": "4tzMyvWtSwfW"
      },
      "source": [
        "There are many different format specifiers that let you control the look of the output string.  You can convert integers to hexadecimal notation, add whitespace, left-justify, pad with zeroes, and so forth.  Have a look at this mini-language within Python:\n",
        "```\n",
        "Flag   Meaning\n",
        "'#'\tThe value conversion will use the “alternate form” (where defined below).\n",
        "'0'\tThe conversion will be zero padded for numeric values.\n",
        "'-'\tThe converted value is left adjusted (overrides the '0' conversion if both are given).\n",
        "' '\t(a space) A blank should be left before a positive number (or empty string) produced by a signed conversion.\n",
        "'+'\tA sign character ('+' or '-') will precede the conversion (overrides a “space” flag).\n",
        "\n",
        "\n",
        "Conversion\tMeaning\tNotes\n",
        "'d'\tSigned integer decimal.\t \n",
        "'i'\tSigned integer decimal.\t \n",
        "'o'\tSigned octal value.\t(1)\n",
        "'u'\tObsolete type – it is identical to 'd'.\t(7)\n",
        "'x'\tSigned hexadecimal (lowercase).\t(2)\n",
        "'X'\tSigned hexadecimal (uppercase).\t(2)\n",
        "'e'\tFloating point exponential format (lowercase).\t(3)\n",
        "'E'\tFloating point exponential format (uppercase).\t(3)\n",
        "'f'\tFloating point decimal format.\t(3)\n",
        "'F'\tFloating point decimal format.\t(3)\n",
        "'g'\tFloating point format. Uses lowercase exponential format if exponent is less than -4 or not less than precision, decimal format otherwise.\t(4)\n",
        "'G'\tFloating point format. Uses uppercase exponential format if exponent is less than -4 or not less than precision, decimal format otherwise.\t(4)\n",
        "'c'\tSingle character (accepts integer or single character string).\t \n",
        "'r'\tString (converts any Python object using repr()).\t(5)\n",
        "'s'\tString (converts any Python object using str()).\t(6)\n",
        "'%'\tNo argument is converted, results in a '%' character in the result.\t \n",
        "```\n",
        "\n",
        "The main formatting argument specifiers that you should know are:\n",
        "\n",
        "```\n",
        "%s - String (or any object with a string representation, like numbers)\n",
        "%d - Integers\n",
        "%f - Floating point numbers\n",
        "%.<number of digits>f - Floating point numbers with a fixed amount of digits to the right of the dot.\n",
        "%x/%X - Integers in hex representation (lowercase/uppercase)\n",
        "```\n",
        "\n"
      ]
    },
    {
      "cell_type": "code",
      "metadata": {
        "id": "hpxijxQtSwfW"
      },
      "source": [
        "# Let's try out the `x` formatter to convert errno into hexadecimal.\n",
        "# Hexadecimal is another word for `base 16`\n",
        "print('Errno is %x' % errno)"
      ],
      "execution_count": null,
      "outputs": []
    },
    {
      "cell_type": "code",
      "metadata": {
        "id": "sXu3S8EwSwfZ"
      },
      "source": [
        "# If we are printing multiple arguments in the Old-Style way, \n",
        "# we need to enclose all variables as a tuple\n",
        "print('Hey, %s, there is a %x error!!' % (name, errno))"
      ],
      "execution_count": null,
      "outputs": []
    },
    {
      "cell_type": "code",
      "metadata": {
        "id": "7SrpHZcASwfb"
      },
      "source": [
        "# But we don't HAVE to use a tuple ... we could also pass a keyword dict:\n",
        "print('Hey, %(name)s, there is a %(errno)x error!!' % {'errno': errno, 'name': name})\n",
        "print('Hey, %(name)s, there is a %(errno)x error!!' % dict(name=name, errno=errno))"
      ],
      "execution_count": null,
      "outputs": []
    },
    {
      "cell_type": "markdown",
      "metadata": {
        "id": "TaKPIwVpSwfe"
      },
      "source": [
        "Using keyword argument mappings is good form in Python, because you don't need to worry whether the order of the arguments matches up with the order of the values in the format string.\n",
        "\n",
        "Any object which is not a string can be formatted using the %s operator as well. The string which returns from the __repr__ method of that object is formatted as the string.\n",
        "\n",
        "Why is this style of formatting called \"Old Style\"? Because it has been replaced with \"New Style\" formatting (LOL!). Actually replaced is too harsh...let's just say it has been _de-emphasized_. Old Style formatting is still available in all latest versions of Python.\n",
        "\n",
        "**PRACTICE**: In the next cell, write an old-style format string which prints out the data using the following syntax:\n",
        "\n",
        "```console\n",
        "Hello, John Doe. Your current balance is $53.44.\n",
        "```"
      ]
    },
    {
      "cell_type": "code",
      "metadata": {
        "id": "SoEinzLBSwfe"
      },
      "source": [
        "# Modify the format string\n",
        "data = (\"John\", \"Doe\", 53.44)\n",
        "format_string = \"Hello, %s %s. Your current balance is $%.2f.\"\n",
        "\n",
        "print(format_string % data)"
      ],
      "execution_count": null,
      "outputs": []
    },
    {
      "cell_type": "markdown",
      "metadata": {
        "id": "qJGJy2FISwfh"
      },
      "source": [
        "## 3.2 - New Style\n",
        "New-style formatting became available in Python 3, then was back-ported to Python 2.  It was introduced for syntactic improvement over the `%` operator.  Formatting is now done by calling a built-in `.format()` method on string objects."
      ]
    },
    {
      "cell_type": "code",
      "metadata": {
        "id": "Kt21y5EoSwfh"
      },
      "source": [
        "# The format() function can do simple positional formatting\n",
        "print('Hello there {}'.format(name))"
      ],
      "execution_count": null,
      "outputs": []
    },
    {
      "cell_type": "code",
      "metadata": {
        "id": "73R1WaYLSwfj"
      },
      "source": [
        "# You can also refer to your variable substitutions by name and use them in any order\n",
        "print('By the way {name}, you made a {errno} error.'.format(errno=errno, name=name))"
      ],
      "execution_count": null,
      "outputs": []
    },
    {
      "cell_type": "markdown",
      "metadata": {
        "id": "_xezWYmgSwfl"
      },
      "source": [
        "That's not a cool error, however &mdash; it looks \n",
        "better in hexadecimal. The syntax to format an int variable as a hexadecimal string has changed. To display in hex, we use the ':x' suffix after the variable name."
      ]
    },
    {
      "cell_type": "code",
      "metadata": {
        "id": "kv3ZnsPYSwfm"
      },
      "source": [
        "print('By the way {name}, you made a 0x{errno:X} error.'.format(errno=errno, name=name))\n",
        "print('By the way {name}, you made a {errno:#x} error.'.format(errno=errno, name=name))"
      ],
      "execution_count": null,
      "outputs": []
    },
    {
      "cell_type": "markdown",
      "metadata": {
        "id": "D04ucUUZSwfr"
      },
      "source": [
        "The format() style of string formatting has its own [format specification mini-language](https://drive.google.com/uc?export=download&id=1HpUpVC4LOfme8Gi1wHTWe6e37KAPjmYL). In Python, you will constantly be formatting some kind of string - you should familiarize yourself with this."
      ]
    },
    {
      "cell_type": "code",
      "metadata": {
        "id": "27HL63RQSwfs"
      },
      "source": [
        "# What will be printed?\n",
        "'{0}, {1}, {2}'.format('a', 'b', 'c')"
      ],
      "execution_count": null,
      "outputs": []
    },
    {
      "cell_type": "code",
      "metadata": {
        "id": "RC0DudzFSwfu"
      },
      "source": [
        "'{}, {}, {}'.format('a', 'b', 'c')  # 3.1+ only"
      ],
      "execution_count": null,
      "outputs": []
    },
    {
      "cell_type": "code",
      "metadata": {
        "id": "NRMaINtqSwfw"
      },
      "source": [
        "'{2}, {1}, {0}'.format('a', 'b', 'c')"
      ],
      "execution_count": null,
      "outputs": []
    },
    {
      "cell_type": "code",
      "metadata": {
        "id": "p9JjgK51Swfy"
      },
      "source": [
        "'{2}, {1}, {0}'.format(*'abc')      # unpacking argument sequence"
      ],
      "execution_count": null,
      "outputs": []
    },
    {
      "cell_type": "code",
      "metadata": {
        "id": "yXeJ6lB3Swf0"
      },
      "source": [
        "'{0}{1}{0}'.format('abra', 'cad')   # arguments' indices can be repeated"
      ],
      "execution_count": null,
      "outputs": []
    },
    {
      "cell_type": "code",
      "metadata": {
        "id": "kxTnLdJHSwf2"
      },
      "source": [
        "# Here we are accessing arguments by name\n",
        "'Coordinates: {latitude}, {longitude}'.format(latitude='37.24N', longitude='-115.81W')"
      ],
      "execution_count": null,
      "outputs": []
    },
    {
      "cell_type": "code",
      "metadata": {
        "id": "WjFGhPa4Swf5"
      },
      "source": [
        "coord = {'latitude': '37.24N', 'longitude': '-115.81W'}\n",
        "'Coordinates: {latitude}, {longitude}'.format(**coord)"
      ],
      "execution_count": null,
      "outputs": []
    },
    {
      "cell_type": "code",
      "metadata": {
        "id": "RpPqmrzKSwf7"
      },
      "source": [
        "# We can access attributes of an object\n",
        "from collections import namedtuple\n",
        "Point = namedtuple('Point', 'x y')\n",
        "pt1 = Point(1.0, 5.0)\n",
        "pt2 = Point(2.5, 1.5)\n",
        "\n",
        "'Start from point {0.x}, {0.y} and end at point {1.x}, {1.y}'.format(pt1, pt2)"
      ],
      "execution_count": null,
      "outputs": []
    },
    {
      "cell_type": "markdown",
      "metadata": {
        "id": "SBG9qpFqSwf8"
      },
      "source": [
        "## 3.3 - String Interpolation (Python 3.6+)\n",
        "In Python 3.6, we encounter yet _another_ way to format strings, called _Formatted String Literals_ (Recall that a *string literal* is any string with \"quotes\" around it). With this syntax, we can insert small Python expressions directly into string constants!\n",
        "\n",
        "These are called **f-strings**."
      ]
    },
    {
      "cell_type": "code",
      "metadata": {
        "id": "NYm6vukjSwf9"
      },
      "source": [
        "# Let's try an f-string\n",
        "errno = 50159747054\n",
        "name = 'Mrs. Python'\n",
        "# You denote an f-string by prefixing a f or F in front of a string literal:\n",
        "print(f'Hello there, {name}')"
      ],
      "execution_count": null,
      "outputs": []
    },
    {
      "cell_type": "code",
      "metadata": {
        "id": "rHt2_6YlSwf_"
      },
      "source": [
        "# What about inserting a Python expression?\n",
        "# This IS string interpolation!\n",
        "a = 12\n",
        "b = 30\n",
        "f'If a = {a} and b = {b}, then their sum is {a + b}'"
      ],
      "execution_count": null,
      "outputs": []
    },
    {
      "cell_type": "markdown",
      "metadata": {
        "id": "HuWUpYcFSwgA"
      },
      "source": [
        "This trivial-seeming feature of being able to insert (interpolate) any Python expression into a string literal is **super powerful**. Plus, it **looks great**. Which is more readable?\n",
        "\n",
        "```python\n",
        "# This?\n",
        "logging.warn(\"Disk space for drive {} is low, only {} bytes remaining\".format(driveid, space_left))\n",
        "\n",
        "# Or this?\n",
        "logging.warn(f\"Disk space for drive {driveid} is low, only {space_left} bytes remaining\")\n",
        "```"
      ]
    },
    {
      "cell_type": "code",
      "metadata": {
        "id": "5D2_gatmSwgL"
      },
      "source": [
        "# Let's try out some formatting exercises\n",
        "import math\n",
        "f\"Pi to 2 digits: {math.pi:.2f}\"  # prints \"Pi to 2 digits: 3.14\""
      ],
      "execution_count": null,
      "outputs": []
    },
    {
      "cell_type": "code",
      "metadata": {
        "id": "f_DDfQx2SwgM"
      },
      "source": [
        "# Aligning the text and specifying a width:\n",
        "f\"{'left aligned':<20} asdf\""
      ],
      "execution_count": null,
      "outputs": []
    },
    {
      "cell_type": "code",
      "metadata": {
        "id": "VRQVvaOZSwgO"
      },
      "source": [
        "# Right aligned:\n",
        "print(f\"{'Language':>10}: Python\")\n",
        "print(f\"{'Level':>10}: Expert\")"
      ],
      "execution_count": null,
      "outputs": []
    },
    {
      "cell_type": "code",
      "metadata": {
        "id": "J7Q_o0E3SwgS"
      },
      "source": [
        "# Embed commas in large numbers\n",
        "num = 1234567890\n",
        "f\"{num:,}\""
      ],
      "execution_count": null,
      "outputs": []
    },
    {
      "cell_type": "code",
      "metadata": {
        "id": "67FaVnitSwgV"
      },
      "source": [
        "# support all the different numeric bases\n",
        "x = 42\n",
        "print(f\"dec: {x:d}; hex: {x:x}; oct: {x:o}; bin: {x:b}\")"
      ],
      "execution_count": null,
      "outputs": []
    },
    {
      "cell_type": "code",
      "metadata": {
        "id": "QggtpAUPSwgX"
      },
      "source": [
        "# Numbers from 5 to 11, expressed in different bases\n",
        "width = 5\n",
        "bases = 'dXob'\n",
        "for num in range(5, 12):\n",
        "  for base in bases:\n",
        "    print(f\"{num:{width}{base}}\", end=\" \")\n",
        "  print()"
      ],
      "execution_count": null,
      "outputs": []
    },
    {
      "cell_type": "markdown",
      "metadata": {
        "id": "T90hYx9ySwgZ"
      },
      "source": [
        "\n",
        "## 3.4 - Template Strings\n",
        "It's simpler than format(), but less powerful. Template strings are not a core feature of Python. For this reason we must import the Template class from the standard library 'string' module."
      ]
    },
    {
      "cell_type": "code",
      "metadata": {
        "id": "96FjnVbySwgZ"
      },
      "source": [
        "from string import Template\n",
        "t = Template('Hey. Aren\\'t you $name?')\n",
        "t.substitute(name=name)"
      ],
      "execution_count": null,
      "outputs": []
    },
    {
      "cell_type": "markdown",
      "metadata": {
        "id": "OkbscCd1Swgb"
      },
      "source": [
        "One major drawback of template strings is that they don't support format specifiers.  We have to do all our own formatting."
      ]
    },
    {
      "cell_type": "code",
      "metadata": {
        "id": "-A4D7HtBSwgc"
      },
      "source": [
        "t_string = 'Ahem $name, you have not cleaned up that $errno error!'\n",
        "Template(t_string).substitute(name=name, errno=hex(errno))"
      ],
      "execution_count": null,
      "outputs": []
    },
    {
      "cell_type": "markdown",
      "metadata": {
        "id": "AiwQpPW-Swge"
      },
      "source": [
        "Template strings are best suited in cases where the formatting string itself is being supplied through user input.  If users are allow to supply their own formatting strings in an application by design, then template strings are a way to close this security vulnerability.\n",
        "\n",
        "In general, template strings are used when you need a simple templating engine that substitutes values into some boilerplate text to produce an output."
      ]
    },
    {
      "cell_type": "code",
      "metadata": {
        "id": "7NYq30MmSwgf"
      },
      "source": [
        "# Template Strings use `$` instead of `%`\n",
        "s = Template('$when, $who $action $what.')\n",
        "output1 = s.substitute(when='In the summer', who='John', action='drinks', what='iced tea')\n",
        "output2 = s.substitute(when='At night', who='Jean', action='eats', what='popcorn')\n",
        "print(output1)\n",
        "print(output2)"
      ],
      "execution_count": null,
      "outputs": []
    },
    {
      "cell_type": "markdown",
      "metadata": {
        "id": "j18-1Hu_Swgg"
      },
      "source": [
        "##3.5 Conclusions &mdash; what to use when?\n",
        "\n",
        " - If users are providing their own format strings, use template strings\n",
        " - If you are on Python 3.6+, use f-strings\n",
        " - Otherwise, use the format() method"
      ]
    },
    {
      "cell_type": "markdown",
      "source": [
        "#Exercises on String Formatting"
      ],
      "metadata": {
        "id": "PBfm4D2kvUKv"
      }
    },
    {
      "cell_type": "markdown",
      "source": [
        "##**QUES-1 Arguments By Name**\n",
        "\n",
        "Access the arguments by their name.\n",
        "\n",
        "```\n",
        "Latitude = 37.24N ; Longitude = -115.81W\n",
        "```"
      ],
      "metadata": {
        "id": "eJYI1nXavW4W"
      }
    },
    {
      "cell_type": "code",
      "source": [
        " 'Coordinates: {latitude}, {longitude}'.format(latitude='37.24N', longitude='-115.81W')\n",
        "'Coordinates: 37.24N, -115.81W'\n",
        " coord = {'latitude': '37.24N', 'longitude': '-115.81W'}\n",
        "'Coordinates: {latitude}, {longitude}'.format(**coord)\n",
        "'Coordinates: 37.24N, -115.81W'"
      ],
      "metadata": {
        "colab": {
          "base_uri": "https://localhost:8080/",
          "height": 35
        },
        "id": "be_a8OZQvu4v",
        "outputId": "dc657b23-5a49-4ef2-e28f-50e3d452e518"
      },
      "execution_count": null,
      "outputs": [
        {
          "output_type": "execute_result",
          "data": {
            "text/plain": [
              "'Coordinates: 37.24N, -115.81W'"
            ],
            "application/vnd.google.colaboratory.intrinsic+json": {
              "type": "string"
            }
          },
          "metadata": {},
          "execution_count": 7
        }
      ]
    },
    {
      "cell_type": "markdown",
      "source": [
        "##**QUES-2 Argument Attributes**\n",
        "\n",
        "Access arguments attributes.\n",
        "\n",
        "`3-5j`"
      ],
      "metadata": {
        "id": "l8jWNFLGv_Oy"
      }
    },
    {
      "cell_type": "code",
      "source": [
        " c = 3-5j\n",
        "('The complex number {0} is formed from the real part {0.real} '\n",
        "...  'and the imaginary part {0.imag}.').format(c)\n",
        "'The complex number (3-5j) is formed from the real part 3.0 and the imaginary part -5.0.'\n",
        "class Point:\n",
        "...     def __init__(self, x, y):\n",
        "...         self.x, self.y = x, y\n",
        "...     def __str__(self):\n",
        "...         return 'Point({self.x}, {self.y})'.format(self=self)\n",
        "...\n",
        " str(Point(4, 2))\n",
        "'Point(4, 2)'"
      ],
      "metadata": {
        "colab": {
          "base_uri": "https://localhost:8080/",
          "height": 131
        },
        "id": "efwn6cj-wIKB",
        "outputId": "2712b977-13d6-4fd0-b751-446ffe542173"
      },
      "execution_count": null,
      "outputs": [
        {
          "output_type": "error",
          "ename": "SyntaxError",
          "evalue": "ignored",
          "traceback": [
            "\u001b[0;36m  File \u001b[0;32m\"<ipython-input-10-7c641238814b>\"\u001b[0;36m, line \u001b[0;32m3\u001b[0m\n\u001b[0;31m    ...  'and the imaginary part {0.imag}.').format(c)\u001b[0m\n\u001b[0m      ^\u001b[0m\n\u001b[0;31mSyntaxError\u001b[0m\u001b[0;31m:\u001b[0m invalid syntax\n"
          ]
        }
      ]
    },
    {
      "cell_type": "markdown",
      "source": [
        "##**QUES-3 Argument Items**\n",
        "\n",
        "Access arguments items\n",
        "\n",
        "```\n",
        "coord = (3, 5)\n",
        "```"
      ],
      "metadata": {
        "id": "RC08savNwyHi"
      }
    },
    {
      "cell_type": "code",
      "source": [
        "coord = (3, 5)\n",
        "'X: {0[0]};  Y: {0[1]}'.format(coord)\n",
        "'X: 3;  Y: 5'"
      ],
      "metadata": {
        "colab": {
          "base_uri": "https://localhost:8080/",
          "height": 35
        },
        "id": "g6iHH3_kw3BZ",
        "outputId": "cc16e025-c771-4fcc-88ad-679530a4b432"
      },
      "execution_count": null,
      "outputs": [
        {
          "output_type": "execute_result",
          "data": {
            "text/plain": [
              "'X: 3;  Y: 5'"
            ],
            "application/vnd.google.colaboratory.intrinsic+json": {
              "type": "string"
            }
          },
          "metadata": {},
          "execution_count": 11
        }
      ]
    },
    {
      "cell_type": "markdown",
      "source": [
        "##**QUES-4 Replacing `%s` & `%r`**\n",
        "\n",
        "Replacing %s & %r.\n",
        "\n",
        "```\n",
        "str1 = test1\n",
        "str2 = test2\n",
        "```"
      ],
      "metadata": {
        "id": "DzmNTEnCxFl7"
      }
    },
    {
      "cell_type": "code",
      "source": [
        "\"repr() shows quotes: {!r}; str() doesn't: {!s}\".format('test1', 'test2')\n",
        "\"repr() shows quotes: 'test1'; str() doesn't: test2\""
      ],
      "metadata": {
        "colab": {
          "base_uri": "https://localhost:8080/",
          "height": 35
        },
        "id": "XujxLXV_xKZL",
        "outputId": "e326cc19-6472-45ff-b742-f76df34bd12d"
      },
      "execution_count": null,
      "outputs": [
        {
          "output_type": "execute_result",
          "data": {
            "text/plain": [
              "\"repr() shows quotes: 'test1'; str() doesn't: test2\""
            ],
            "application/vnd.google.colaboratory.intrinsic+json": {
              "type": "string"
            }
          },
          "metadata": {},
          "execution_count": 12
        }
      ]
    },
    {
      "cell_type": "markdown",
      "source": [
        "##**QUES-5 Alignment & Width**\n",
        "\n",
        "Aligning the given text in center and specify a width of 30 for the text in it's alignment.\n",
        "\n",
        "```\n",
        "Sample Text : centered\n",
        "```"
      ],
      "metadata": {
        "id": "DaSZwv9FxT-5"
      }
    },
    {
      "cell_type": "code",
      "source": [
        " '{:<30}'.format('left aligned')\n",
        "'left aligned                  '\n",
        "'{:>30}'.format('right aligned')\n",
        "'                 right aligned'\n",
        "'{:^30}'.format('centered')\n",
        "'           centered           '\n",
        " '{:*^30}'.format('centered')  # use '*' as a fill char\n",
        "'***********centered***********'"
      ],
      "metadata": {
        "colab": {
          "base_uri": "https://localhost:8080/",
          "height": 35
        },
        "id": "7bVS1-85xOcC",
        "outputId": "2bdc8062-d1e8-47b6-9469-b50f075351a1"
      },
      "execution_count": null,
      "outputs": [
        {
          "output_type": "execute_result",
          "data": {
            "text/plain": [
              "'***********centered***********'"
            ],
            "application/vnd.google.colaboratory.intrinsic+json": {
              "type": "string"
            }
          },
          "metadata": {},
          "execution_count": 13
        }
      ]
    },
    {
      "cell_type": "markdown",
      "source": [
        "##**QUES-6 Replacing `f` & Sign**\n",
        "\n",
        " Replace %+f, %-f, and % f and specify a sign for the given sample.,\n",
        "\n",
        "```\n",
        "(3.14, -3.14)\n",
        "```"
      ],
      "metadata": {
        "id": "IueNxgw4xXKx"
      }
    },
    {
      "cell_type": "code",
      "source": [
        " '{:+f}; {:+f}'.format(3.14, -3.14)  # show it always\n",
        "'+3.140000; -3.140000'\n",
        " '{: f}; {: f}'.format(3.14, -3.14)  # show a space for positive numbers\n",
        " '{:-f}; {:-f}'.format(3.14, -3.14)  # show only the minus -- same as '{:f}; {:f}'\n",
        "'3.140000; -3.140000'"
      ],
      "metadata": {
        "colab": {
          "base_uri": "https://localhost:8080/",
          "height": 35
        },
        "id": "bLMWFaEWxa03",
        "outputId": "8e6bdd4d-a972-4c22-ba3a-470c55a7876e"
      },
      "execution_count": null,
      "outputs": [
        {
          "output_type": "execute_result",
          "data": {
            "text/plain": [
              "'3.140000; -3.140000'"
            ],
            "application/vnd.google.colaboratory.intrinsic+json": {
              "type": "string"
            }
          },
          "metadata": {},
          "execution_count": 14
        }
      ]
    },
    {
      "cell_type": "markdown",
      "source": [
        "##**QUES-7 Conversion to Different Bases**\n",
        "\n",
        "Replace %x and %o and convert the value to different bases for the given data.\n",
        "\n",
        "```\n",
        "int: {0:d};  hex: {0:x};  oct: {0:o};  bin: {0:b}\n",
        "```"
      ],
      "metadata": {
        "id": "vP-vRXnDxfkV"
      }
    },
    {
      "cell_type": "code",
      "source": [
        " # format also supports binary numbers\n",
        " \"int: {0:d};  hex: {0:x};  oct: {0:o};  bin: {0:b}\".format(42)\n",
        "'int: 42;  hex: 2a;  oct: 52;  bin: 101010'\n",
        " # with 0x, 0o, or 0b as prefix:\n",
        " \"int: {0:d};  hex: {0:#x};  oct: {0:#o};  bin: {0:#b}\".format(42)\n",
        "'int: 42;  hex: 0x2a;  oct: 0o52;  bin: 0b101010'"
      ],
      "metadata": {
        "colab": {
          "base_uri": "https://localhost:8080/",
          "height": 35
        },
        "id": "sHVCIxNAxifj",
        "outputId": "0060c490-d1ec-443d-bbbf-faa8704cf00d"
      },
      "execution_count": null,
      "outputs": [
        {
          "output_type": "execute_result",
          "data": {
            "text/plain": [
              "'int: 42;  hex: 0x2a;  oct: 0o52;  bin: 0b101010'"
            ],
            "application/vnd.google.colaboratory.intrinsic+json": {
              "type": "string"
            }
          },
          "metadata": {},
          "execution_count": 15
        }
      ]
    },
    {
      "cell_type": "markdown",
      "source": [
        "##**QUES-8 Comma-Thousand Separator**\n",
        "\n",
        "Use the comma as a thousands separator.\n",
        "\n",
        "```\n",
        "1234567890\n",
        "```"
      ],
      "metadata": {
        "id": "YCyFgJUCxpti"
      }
    },
    {
      "cell_type": "code",
      "source": [
        ">>> '{:,}'.format(1234567890)\n",
        "'1,234,567,890'"
      ],
      "metadata": {
        "colab": {
          "base_uri": "https://localhost:8080/",
          "height": 35
        },
        "id": "nZ9wNloBxwSY",
        "outputId": "3eea88fc-d611-4cab-842f-db247a5f6503"
      },
      "execution_count": null,
      "outputs": [
        {
          "output_type": "execute_result",
          "data": {
            "text/plain": [
              "'1,234,567,890'"
            ],
            "application/vnd.google.colaboratory.intrinsic+json": {
              "type": "string"
            }
          },
          "metadata": {},
          "execution_count": 16
        }
      ]
    },
    {
      "cell_type": "markdown",
      "source": [
        "##**QUES-9 Expressing Percentage**\n",
        "\n",
        "Express a percentage for the given data.\n",
        "\n",
        "```\n",
        "points = 19\n",
        "total = 22\n",
        "```"
      ],
      "metadata": {
        "id": "vQvuNk1Pxyoi"
      }
    },
    {
      "cell_type": "code",
      "source": [
        " points = 19\n",
        " total = 22\n",
        " 'Correct answers: {:.2%}'.format(points/total)\n",
        "'Correct answers: 86.36%'"
      ],
      "metadata": {
        "colab": {
          "base_uri": "https://localhost:8080/",
          "height": 35
        },
        "id": "jY3kYGbyyCYI",
        "outputId": "a6340416-1271-4f11-c474-aba4ccff8e87"
      },
      "execution_count": null,
      "outputs": [
        {
          "output_type": "execute_result",
          "data": {
            "text/plain": [
              "'Correct answers: 86.36%'"
            ],
            "application/vnd.google.colaboratory.intrinsic+json": {
              "type": "string"
            }
          },
          "metadata": {},
          "execution_count": 18
        }
      ]
    },
    {
      "cell_type": "markdown",
      "source": [
        "##**QUES-10 Type-Specific Formatting**\n",
        "\n",
        "Using type-specific formatting for given data.\n",
        "\n",
        "```\n",
        "2010, 7, 4, 12, 15, 58\n",
        "```"
      ],
      "metadata": {
        "id": "bDxDD5OJyQHJ"
      }
    },
    {
      "cell_type": "code",
      "source": [
        "import datetime\n",
        "d = datetime.datetime(2010, 7, 4, 12, 15, 58)\n",
        "'{:%Y-%m-%d %H:%M:%S}'.format(d)\n",
        "'2010-07-04 12:15:58'"
      ],
      "metadata": {
        "colab": {
          "base_uri": "https://localhost:8080/",
          "height": 35
        },
        "id": "VHUWXsHJyUSY",
        "outputId": "0a023b7e-0718-46e2-e7b2-cb38dbd4868e"
      },
      "execution_count": null,
      "outputs": [
        {
          "output_type": "execute_result",
          "data": {
            "text/plain": [
              "'2010-07-04 12:15:58'"
            ],
            "application/vnd.google.colaboratory.intrinsic+json": {
              "type": "string"
            }
          },
          "metadata": {},
          "execution_count": 21
        }
      ]
    },
    {
      "cell_type": "markdown",
      "source": [
        "##**QUES-11 String Template**\n",
        "\n",
        "Apply string template on the given string and argument,\n",
        "\n",
        "```\n",
        "string: $who likes $what; \n",
        "argument: tim likes kung pao\n",
        "```"
      ],
      "metadata": {
        "id": "DHOcv961ys1d"
      }
    },
    {
      "cell_type": "code",
      "source": [
        "from string import Template\n",
        "s = Template('$who likes $what')\n",
        "s.substitute(who='tim', what='kung pao')\n",
        "'tim likes kung pao'\n",
        "d = dict(who='tim')\n",
        "Template('Give $who $100').substitute(d)"
      ],
      "metadata": {
        "colab": {
          "base_uri": "https://localhost:8080/",
          "height": 346
        },
        "id": "UsvnEf--yv1C",
        "outputId": "12d94a9b-8a9a-4dbc-af12-b9356382c8b8"
      },
      "execution_count": null,
      "outputs": [
        {
          "output_type": "error",
          "ename": "ValueError",
          "evalue": "ignored",
          "traceback": [
            "\u001b[0;31m---------------------------------------------------------------------------\u001b[0m",
            "\u001b[0;31mValueError\u001b[0m                                Traceback (most recent call last)",
            "\u001b[0;32m<ipython-input-24-090bd49be457>\u001b[0m in \u001b[0;36m<module>\u001b[0;34m()\u001b[0m\n\u001b[1;32m      4\u001b[0m \u001b[0;34m'tim likes kung pao'\u001b[0m\u001b[0;34m\u001b[0m\u001b[0;34m\u001b[0m\u001b[0m\n\u001b[1;32m      5\u001b[0m \u001b[0md\u001b[0m \u001b[0;34m=\u001b[0m \u001b[0mdict\u001b[0m\u001b[0;34m(\u001b[0m\u001b[0mwho\u001b[0m\u001b[0;34m=\u001b[0m\u001b[0;34m'tim'\u001b[0m\u001b[0;34m)\u001b[0m\u001b[0;34m\u001b[0m\u001b[0;34m\u001b[0m\u001b[0m\n\u001b[0;32m----> 6\u001b[0;31m \u001b[0mTemplate\u001b[0m\u001b[0;34m(\u001b[0m\u001b[0;34m'Give $who $100'\u001b[0m\u001b[0;34m)\u001b[0m\u001b[0;34m.\u001b[0m\u001b[0msubstitute\u001b[0m\u001b[0;34m(\u001b[0m\u001b[0md\u001b[0m\u001b[0;34m)\u001b[0m\u001b[0;34m\u001b[0m\u001b[0;34m\u001b[0m\u001b[0m\n\u001b[0m",
            "\u001b[0;32m/usr/lib/python3.7/string.py\u001b[0m in \u001b[0;36msubstitute\u001b[0;34m(*args, **kws)\u001b[0m\n\u001b[1;32m    130\u001b[0m             raise ValueError('Unrecognized named group in pattern',\n\u001b[1;32m    131\u001b[0m                              self.pattern)\n\u001b[0;32m--> 132\u001b[0;31m         \u001b[0;32mreturn\u001b[0m \u001b[0mself\u001b[0m\u001b[0;34m.\u001b[0m\u001b[0mpattern\u001b[0m\u001b[0;34m.\u001b[0m\u001b[0msub\u001b[0m\u001b[0;34m(\u001b[0m\u001b[0mconvert\u001b[0m\u001b[0;34m,\u001b[0m \u001b[0mself\u001b[0m\u001b[0;34m.\u001b[0m\u001b[0mtemplate\u001b[0m\u001b[0;34m)\u001b[0m\u001b[0;34m\u001b[0m\u001b[0;34m\u001b[0m\u001b[0m\n\u001b[0m\u001b[1;32m    133\u001b[0m \u001b[0;34m\u001b[0m\u001b[0m\n\u001b[1;32m    134\u001b[0m     \u001b[0;32mdef\u001b[0m \u001b[0msafe_substitute\u001b[0m\u001b[0;34m(\u001b[0m\u001b[0;34m*\u001b[0m\u001b[0margs\u001b[0m\u001b[0;34m,\u001b[0m \u001b[0;34m**\u001b[0m\u001b[0mkws\u001b[0m\u001b[0;34m)\u001b[0m\u001b[0;34m:\u001b[0m\u001b[0;34m\u001b[0m\u001b[0;34m\u001b[0m\u001b[0m\n",
            "\u001b[0;32m/usr/lib/python3.7/string.py\u001b[0m in \u001b[0;36mconvert\u001b[0;34m(mo)\u001b[0m\n\u001b[1;32m    127\u001b[0m                 \u001b[0;32mreturn\u001b[0m \u001b[0mself\u001b[0m\u001b[0;34m.\u001b[0m\u001b[0mdelimiter\u001b[0m\u001b[0;34m\u001b[0m\u001b[0;34m\u001b[0m\u001b[0m\n\u001b[1;32m    128\u001b[0m             \u001b[0;32mif\u001b[0m \u001b[0mmo\u001b[0m\u001b[0;34m.\u001b[0m\u001b[0mgroup\u001b[0m\u001b[0;34m(\u001b[0m\u001b[0;34m'invalid'\u001b[0m\u001b[0;34m)\u001b[0m \u001b[0;32mis\u001b[0m \u001b[0;32mnot\u001b[0m \u001b[0;32mNone\u001b[0m\u001b[0;34m:\u001b[0m\u001b[0;34m\u001b[0m\u001b[0;34m\u001b[0m\u001b[0m\n\u001b[0;32m--> 129\u001b[0;31m                 \u001b[0mself\u001b[0m\u001b[0;34m.\u001b[0m\u001b[0m_invalid\u001b[0m\u001b[0;34m(\u001b[0m\u001b[0mmo\u001b[0m\u001b[0;34m)\u001b[0m\u001b[0;34m\u001b[0m\u001b[0;34m\u001b[0m\u001b[0m\n\u001b[0m\u001b[1;32m    130\u001b[0m             raise ValueError('Unrecognized named group in pattern',\n\u001b[1;32m    131\u001b[0m                              self.pattern)\n",
            "\u001b[0;32m/usr/lib/python3.7/string.py\u001b[0m in \u001b[0;36m_invalid\u001b[0;34m(self, mo)\u001b[0m\n\u001b[1;32m    103\u001b[0m             \u001b[0mlineno\u001b[0m \u001b[0;34m=\u001b[0m \u001b[0mlen\u001b[0m\u001b[0;34m(\u001b[0m\u001b[0mlines\u001b[0m\u001b[0;34m)\u001b[0m\u001b[0;34m\u001b[0m\u001b[0;34m\u001b[0m\u001b[0m\n\u001b[1;32m    104\u001b[0m         raise ValueError('Invalid placeholder in string: line %d, col %d' %\n\u001b[0;32m--> 105\u001b[0;31m                          (lineno, colno))\n\u001b[0m\u001b[1;32m    106\u001b[0m \u001b[0;34m\u001b[0m\u001b[0m\n\u001b[1;32m    107\u001b[0m     \u001b[0;32mdef\u001b[0m \u001b[0msubstitute\u001b[0m\u001b[0;34m(\u001b[0m\u001b[0;34m*\u001b[0m\u001b[0margs\u001b[0m\u001b[0;34m,\u001b[0m \u001b[0;34m**\u001b[0m\u001b[0mkws\u001b[0m\u001b[0;34m)\u001b[0m\u001b[0;34m:\u001b[0m\u001b[0;34m\u001b[0m\u001b[0;34m\u001b[0m\u001b[0m\n",
            "\u001b[0;31mValueError\u001b[0m: Invalid placeholder in string: line 1, col 11"
          ]
        }
      ]
    },
    {
      "cell_type": "markdown",
      "metadata": {
        "id": "URT8cy_EWFzq"
      },
      "source": [
        "# Further Reading and References\n",
        "\n",
        "Following are some resources where you can learn about more arithmetic, conditional and logical operations in Python:\n",
        "\n",
        "* String Formatting Tutorial at GeeksforGeeks: [Here](https://www.geeksforgeeks.org/string-formatting-in-python/)\n",
        "* String Formatting Best Practices at Realpython: [Here](https://realpython.com/python-string-formatting/)\n",
        "* Python official documentation: [Here](https://docs.python.org/3/tutorial/index.html)"
      ]
    }
  ]
}