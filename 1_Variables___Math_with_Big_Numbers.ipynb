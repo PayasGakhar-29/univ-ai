{
  "nbformat": 4,
  "nbformat_minor": 0,
  "metadata": {
    "colab": {
      "name": "1. Variables _  Math with Big Numbers.ipynb",
      "provenance": [],
      "toc_visible": true,
      "collapsed_sections": [
        "78xArRS9PPqz",
        "5DlPcvx8LxYL",
        "GjXf3PdmL75j",
        "6SrfllPuMl51",
        "FDbW2A8CMqqS",
        "0ODRgBdXMwH9",
        "pI_ICIMQM5Zs",
        "jegEl6GRNJXt",
        "7dYVX92fN2Z8",
        "38-znmE6S7YR",
        "fy973uXiTQyR",
        "Jd8tjpRUTZIB",
        "Y-QrIYi4Tmsg",
        "R-WSpwgTT1-a",
        "q-SYKXT8UBQR",
        "kyw6Nux7UL3Z",
        "k8vuiAvXUmDv",
        "s4p7eOWTVGvs"
      ]
    },
    "kernelspec": {
      "name": "python3",
      "display_name": "Python 3"
    },
    "language_info": {
      "name": "python"
    }
  },
  "cells": [
    {
      "cell_type": "markdown",
      "source": [
        "#1.0 Introduction To Variables\n",
        "\n",
        "Variables are used to store data, they take memory space based on the type of value we assigning to them. Creating variables in Python is simple, you just have write the variable name on the left side of = and the value on the right side, as shown below. You do not have to explicitly mention the type of the variable, python infer the type based on the value we are assigning."
      ],
      "metadata": {
        "id": "B7hdm6THG4DE"
      }
    },
    {
      "cell_type": "code",
      "source": [
        "num = 100      #num is of type int\n",
        "str = \"Chaitanya\"      #str is of type string"
      ],
      "metadata": {
        "id": "e0b1pA6OG7lC"
      },
      "execution_count": null,
      "outputs": []
    },
    {
      "cell_type": "markdown",
      "source": [
        "In simple terms, Variables are containers for storing data values."
      ],
      "metadata": {
        "id": "LdiGVzJJHjOX"
      }
    },
    {
      "cell_type": "markdown",
      "source": [
        "#1.1 Variable name – Identifiers\n",
        "\n",
        "Variable name is known as identifier. There are few rules that you have to follow while naming the variables in Python.\n",
        "1. The name of the variable must always start with either a letter or an underscore (_). For example: _str, str, num, _num are all valid name for the variables.\n",
        "2. The name of the variable cannot start with a number. For example: 9num is not a valid variable name.\n",
        "3. The name of the variable cannot have special characters such as %, $, # etc, they can only have alphanumeric characters and underscore (A to Z, a to z, 0-9 or _ ).\n",
        "4. Variable name is case sensitive in Python which means num and NUM are two different variables in python."
      ],
      "metadata": {
        "id": "SnXtwiCFHop1"
      }
    },
    {
      "cell_type": "markdown",
      "source": [
        "## Example"
      ],
      "metadata": {
        "id": "M_EpuZKyJJng"
      }
    },
    {
      "cell_type": "code",
      "source": [
        "num = 100\n",
        "str = \"BeginnersBook\"\n",
        "print(num)\n",
        "print(str)"
      ],
      "metadata": {
        "colab": {
          "base_uri": "https://localhost:8080/"
        },
        "id": "LVxKdmExJM30",
        "outputId": "a0db1e10-79e2-484f-cd9b-581d5901b758"
      },
      "execution_count": null,
      "outputs": [
        {
          "output_type": "stream",
          "name": "stdout",
          "text": [
            "100\n",
            "BeginnersBook\n"
          ]
        }
      ]
    },
    {
      "cell_type": "markdown",
      "source": [
        "#1.2 Creating Variables\n",
        "\n",
        "Python has no command for declaring a variable.\n",
        "\n",
        "A variable is created the moment you first assign a value to it."
      ],
      "metadata": {
        "id": "hgeNcSlwJWLb"
      }
    },
    {
      "cell_type": "markdown",
      "source": [
        "## Example"
      ],
      "metadata": {
        "id": "MGNPkQuZJnyZ"
      }
    },
    {
      "cell_type": "code",
      "source": [
        "x = 5\n",
        "y = \"John\"\n",
        "print(x)\n",
        "print(y)"
      ],
      "metadata": {
        "colab": {
          "base_uri": "https://localhost:8080/"
        },
        "id": "mznSJXniJpK5",
        "outputId": "1ee50dbc-7023-46b1-e405-c58a999e086c"
      },
      "execution_count": null,
      "outputs": [
        {
          "output_type": "stream",
          "name": "stdout",
          "text": [
            "5\n",
            "John\n"
          ]
        }
      ]
    },
    {
      "cell_type": "code",
      "source": [
        "# Variables do not need to be declared with any particular type, and can even change type after they have been set.\n",
        "\n",
        "x = 4       # x is of type int\n",
        "x = \"Sally\" # x is now of type str\n",
        "print(x)"
      ],
      "metadata": {
        "colab": {
          "base_uri": "https://localhost:8080/"
        },
        "id": "x7a0gnm-JtZj",
        "outputId": "c7c36b05-428b-4fab-e5b6-5cb4a93a0380"
      },
      "execution_count": null,
      "outputs": [
        {
          "output_type": "stream",
          "name": "stdout",
          "text": [
            "Sally\n"
          ]
        }
      ]
    },
    {
      "cell_type": "markdown",
      "source": [
        "#1.3 Multi Words Variable Names\n",
        "\n",
        "Variable names with more than one word can be difficult to read.\n",
        "\n",
        "There are several techniques you can use to make them more readable.\n",
        "\n"
      ],
      "metadata": {
        "id": "b_92zIEGOye_"
      }
    },
    {
      "cell_type": "markdown",
      "source": [
        "##1.31 Camel Case\n",
        "\n",
        "Each word, except the first, starts with a capital letter"
      ],
      "metadata": {
        "id": "5-Y32hKvO7o3"
      }
    },
    {
      "cell_type": "code",
      "source": [
        "myVariableName = \"John\""
      ],
      "metadata": {
        "id": "HUP36xT-O_gy"
      },
      "execution_count": null,
      "outputs": []
    },
    {
      "cell_type": "markdown",
      "source": [
        "##1.32 Pascal Case\n",
        "\n",
        "Each word starts with a capital letter"
      ],
      "metadata": {
        "id": "er_eqdRvPDtC"
      }
    },
    {
      "cell_type": "code",
      "source": [
        "# my has been converted to My\n",
        "MyVariableName = \"John\""
      ],
      "metadata": {
        "id": "dSe-EPcpPIYe"
      },
      "execution_count": null,
      "outputs": []
    },
    {
      "cell_type": "markdown",
      "source": [
        "##1.33 Snake Case\n",
        "\n",
        "Each word is separated by an underscore character"
      ],
      "metadata": {
        "id": "78xArRS9PPqz"
      }
    },
    {
      "cell_type": "code",
      "source": [
        "my_variable_name = \"John\""
      ],
      "metadata": {
        "id": "-uJ6wMJePUsZ"
      },
      "execution_count": null,
      "outputs": []
    },
    {
      "cell_type": "markdown",
      "source": [
        "#1.4 Casting\n",
        "\n",
        "If you want to specify the data type of a variable, this can be done with casting."
      ],
      "metadata": {
        "id": "39vqypX6JsKh"
      }
    },
    {
      "cell_type": "markdown",
      "source": [
        "Two types of Type Casting in Python \n",
        "\n",
        "*   Implicit Type Casting\n",
        "*   Explicit Type Casting\n"
      ],
      "metadata": {
        "id": "sFMQwjJ-KBvv"
      }
    },
    {
      "cell_type": "markdown",
      "source": [
        "##1.41 Implicit Type Conversion\n",
        "\n",
        "In this,  methods, Python converts data type into another data type automatically. In this process, users don’t have to involve in this process. "
      ],
      "metadata": {
        "id": "5DlPcvx8LxYL"
      }
    },
    {
      "cell_type": "code",
      "source": [
        "# Python program to demonstrate\n",
        "# implicit type Casting\n",
        "\n",
        "# Python automatically converts\n",
        "# a to int\n",
        "a = 7\n",
        "print(type(a))\n",
        "\n",
        "# Python automatically converts\n",
        "# b to float\n",
        "b = 3.0\n",
        "print(type(b))\n",
        "\n",
        "# Python automatically converts\n",
        "# c to float as it is a float addition\n",
        "c = a + b\n",
        "print(c)\n",
        "print(type(c))\n",
        "\n",
        "# Python automatically converts\n",
        "# d to float as it is a float multiplication\n",
        "d = a * b\n",
        "print(d)\n",
        "print(type(d))\n"
      ],
      "metadata": {
        "colab": {
          "base_uri": "https://localhost:8080/"
        },
        "id": "oU0hK4kMLrfw",
        "outputId": "28eb191f-a343-401a-8020-1149a8046bc8"
      },
      "execution_count": null,
      "outputs": [
        {
          "output_type": "stream",
          "name": "stdout",
          "text": [
            "<class 'int'>\n",
            "<class 'float'>\n",
            "10.0\n",
            "<class 'float'>\n",
            "21.0\n",
            "<class 'float'>\n"
          ]
        }
      ]
    },
    {
      "cell_type": "markdown",
      "source": [
        "##1.42 Explicit Type Casting\n",
        "\n",
        "In this method, Python need user involvement to convert the variable data type into certain data type in order to the operation required.\n",
        "\n",
        "Mainly in type casting can be done with these data type function:\n",
        "\n",
        "Int() : Int() function take float or string as an argument and return int type object.\n",
        "\n",
        "float() : float() function take int or string as an argument and return float type object.\n",
        "\n",
        "str() : str() function take float or int as an argument and return string type object."
      ],
      "metadata": {
        "id": "GjXf3PdmL75j"
      }
    },
    {
      "cell_type": "markdown",
      "source": [
        "###1.421  Type Casting int to float"
      ],
      "metadata": {
        "id": "6SrfllPuMl51"
      }
    },
    {
      "cell_type": "code",
      "source": [
        "\n",
        "# Here, we are casting integer object to float object with float() function.\n",
        "\n",
        "# Python program to demonstrate\n",
        "# type Casting\n",
        "\n",
        "# int variable\n",
        "a = 5\n",
        "\n",
        "# typecast to float\n",
        "n = float(a)\n",
        "\n",
        "print(n)\n",
        "print(type(n))\n"
      ],
      "metadata": {
        "colab": {
          "base_uri": "https://localhost:8080/"
        },
        "id": "XOwY4DjGL-H7",
        "outputId": "34164a4d-20da-4de5-90f5-acd43440df69"
      },
      "execution_count": null,
      "outputs": [
        {
          "output_type": "stream",
          "name": "stdout",
          "text": [
            "5.0\n",
            "<class 'float'>\n"
          ]
        }
      ]
    },
    {
      "cell_type": "markdown",
      "source": [
        "###1.422 Type Casting float to int"
      ],
      "metadata": {
        "id": "FDbW2A8CMqqS"
      }
    },
    {
      "cell_type": "code",
      "source": [
        "\n",
        "# Here, we are casting float data type into integer data type with int() function.\n",
        "\n",
        "# Python program to demonstrate\n",
        "# type Casting\n",
        "\n",
        "# int variable\n",
        "a = 5.9\n",
        "\n",
        "# typecast to int\n",
        "n = int(a)\n",
        "\n",
        "print(n)\n",
        "print(type(n))\n"
      ],
      "metadata": {
        "colab": {
          "base_uri": "https://localhost:8080/"
        },
        "id": "QcNgp0J1MRFt",
        "outputId": "fc471308-4b6f-4861-d6df-b69c58c8be82"
      },
      "execution_count": null,
      "outputs": [
        {
          "output_type": "stream",
          "name": "stdout",
          "text": [
            "5\n",
            "<class 'int'>\n"
          ]
        }
      ]
    },
    {
      "cell_type": "markdown",
      "source": [
        "###1.423 Type casting int to string"
      ],
      "metadata": {
        "id": "0ODRgBdXMwH9"
      }
    },
    {
      "cell_type": "code",
      "source": [
        "\n",
        "# Here, we are casting int data type into string data type with str() function.\n",
        "\n",
        "# Python program to demonstrate\n",
        "# type Casting\n",
        "\n",
        "# int variable\n",
        "a = 5\n",
        "\n",
        "# typecast to str\n",
        "n = str(a)\n",
        "\n",
        "print(n)\n",
        "print(type(n))\n"
      ],
      "metadata": {
        "colab": {
          "base_uri": "https://localhost:8080/",
          "height": 235
        },
        "id": "nuWmDzEgMeWj",
        "outputId": "0adfd4af-070e-4931-ce29-aabd72fe5450"
      },
      "execution_count": null,
      "outputs": [
        {
          "output_type": "error",
          "ename": "TypeError",
          "evalue": "ignored",
          "traceback": [
            "\u001b[0;31m---------------------------------------------------------------------------\u001b[0m",
            "\u001b[0;31mTypeError\u001b[0m                                 Traceback (most recent call last)",
            "\u001b[0;32m<ipython-input-12-dec8ad22defd>\u001b[0m in \u001b[0;36m<module>\u001b[0;34m()\u001b[0m\n\u001b[1;32m      9\u001b[0m \u001b[0;34m\u001b[0m\u001b[0m\n\u001b[1;32m     10\u001b[0m \u001b[0;31m# typecast to str\u001b[0m\u001b[0;34m\u001b[0m\u001b[0;34m\u001b[0m\u001b[0;34m\u001b[0m\u001b[0m\n\u001b[0;32m---> 11\u001b[0;31m \u001b[0mn\u001b[0m \u001b[0;34m=\u001b[0m \u001b[0mstr\u001b[0m\u001b[0;34m(\u001b[0m\u001b[0ma\u001b[0m\u001b[0;34m)\u001b[0m\u001b[0;34m\u001b[0m\u001b[0;34m\u001b[0m\u001b[0m\n\u001b[0m\u001b[1;32m     12\u001b[0m \u001b[0;34m\u001b[0m\u001b[0m\n\u001b[1;32m     13\u001b[0m \u001b[0mprint\u001b[0m\u001b[0;34m(\u001b[0m\u001b[0mn\u001b[0m\u001b[0;34m)\u001b[0m\u001b[0;34m\u001b[0m\u001b[0;34m\u001b[0m\u001b[0m\n",
            "\u001b[0;31mTypeError\u001b[0m: 'str' object is not callable"
          ]
        }
      ]
    },
    {
      "cell_type": "markdown",
      "source": [
        "###1.424 Type Casting string to int"
      ],
      "metadata": {
        "id": "pI_ICIMQM5Zs"
      }
    },
    {
      "cell_type": "code",
      "source": [
        "# Here, we are casting string data type into integer data type with int() function.\n",
        "\n",
        "# Python program to demonstrate\n",
        "# type Casting\n",
        "\n",
        "# string variable\n",
        "a = \"5\"\n",
        "\n",
        "# typecast to int\n",
        "n = int(a)\n",
        "\n",
        "print(n)\n",
        "print(type(n))\n"
      ],
      "metadata": {
        "colab": {
          "base_uri": "https://localhost:8080/"
        },
        "id": "4vh3L0CRNBXo",
        "outputId": "9f87b708-ed98-4eb2-e6c5-24052312eed7"
      },
      "execution_count": null,
      "outputs": [
        {
          "output_type": "stream",
          "name": "stdout",
          "text": [
            "5\n",
            "<class 'int'>\n"
          ]
        }
      ]
    },
    {
      "cell_type": "markdown",
      "source": [
        "###1.425 Type Casting String to float"
      ],
      "metadata": {
        "id": "jegEl6GRNJXt"
      }
    },
    {
      "cell_type": "code",
      "source": [
        "# Here, we are casting string data type into float data type with float() function.\n",
        "\n",
        "# Python program to demonstrate\n",
        "# type Casting\n",
        "\n",
        "# string variable\n",
        "a = \"5.9\"\n",
        "\n",
        "# typecast to float\n",
        "n = float(a)\n",
        "\n",
        "print(n)\n",
        "print(type(n))\n"
      ],
      "metadata": {
        "colab": {
          "base_uri": "https://localhost:8080/"
        },
        "id": "XyK0r971NOJc",
        "outputId": "2ec45d59-4601-447f-dd0a-e2155427149d"
      },
      "execution_count": null,
      "outputs": [
        {
          "output_type": "stream",
          "name": "stdout",
          "text": [
            "5.9\n",
            "<class 'float'>\n"
          ]
        }
      ]
    },
    {
      "cell_type": "markdown",
      "source": [
        "#1.5 Many Values to Multiple Variables\n",
        "\n",
        "Python allows you to assign values to multiple variables in one line"
      ],
      "metadata": {
        "id": "HU7JX_6wRAU1"
      }
    },
    {
      "cell_type": "code",
      "source": [
        "x, y, z = \"Orange\", \"Banana\", \"Cherry\"\n",
        "print(x)\n",
        "print(y)\n",
        "print(z)"
      ],
      "metadata": {
        "colab": {
          "base_uri": "https://localhost:8080/"
        },
        "id": "V4KLBz2bQ_xh",
        "outputId": "230620c8-0f5b-44d0-c62a-9991548e527b"
      },
      "execution_count": null,
      "outputs": [
        {
          "output_type": "stream",
          "name": "stdout",
          "text": [
            "Orange\n",
            "Banana\n",
            "Cherry\n"
          ]
        }
      ]
    },
    {
      "cell_type": "markdown",
      "source": [
        "#1.6 One Value to Multiple Variables\n",
        "\n",
        "And you can assign the same value to multiple variables in one line"
      ],
      "metadata": {
        "id": "jWT2ChQlRJ7i"
      }
    },
    {
      "cell_type": "code",
      "source": [
        "x = y = z = \"Orange\"\n",
        "print(x)\n",
        "print(y)\n",
        "print(z)"
      ],
      "metadata": {
        "colab": {
          "base_uri": "https://localhost:8080/"
        },
        "id": "YsggVy_kRQPK",
        "outputId": "1c415b10-bb4b-4d26-ef4a-e07a2792a352"
      },
      "execution_count": null,
      "outputs": [
        {
          "output_type": "stream",
          "name": "stdout",
          "text": [
            "Orange\n",
            "Orange\n",
            "Orange\n"
          ]
        }
      ]
    },
    {
      "cell_type": "markdown",
      "source": [
        "#1.7 Get the Type\n",
        "\n",
        "You can get the data type of a variable with the type() function."
      ],
      "metadata": {
        "id": "N1wnFujSNdH7"
      }
    },
    {
      "cell_type": "code",
      "source": [
        "x = 5\n",
        "y = \"John\"\n",
        "print(type(x))\n",
        "print(type(y))"
      ],
      "metadata": {
        "colab": {
          "base_uri": "https://localhost:8080/"
        },
        "id": "TpgZdwGCNf3E",
        "outputId": "307f06ec-7554-4207-bbfb-703d5146c47e"
      },
      "execution_count": null,
      "outputs": [
        {
          "output_type": "stream",
          "name": "stdout",
          "text": [
            "<class 'int'>\n",
            "<class 'str'>\n"
          ]
        }
      ]
    },
    {
      "cell_type": "markdown",
      "source": [
        "#1.8 Single or Double Quotes?\n",
        "\n",
        "String variables can be declared either by using single or double quotes:"
      ],
      "metadata": {
        "id": "CUSlSAnSNn2y"
      }
    },
    {
      "cell_type": "code",
      "source": [
        "x = \"John\"\n",
        "# is the same as\n",
        "x = 'John'"
      ],
      "metadata": {
        "id": "GpNhLwrGNqoD"
      },
      "execution_count": null,
      "outputs": []
    },
    {
      "cell_type": "markdown",
      "source": [
        "## #Note: Case-Sensitive\n",
        "\n",
        "Variable names are case-sensitive."
      ],
      "metadata": {
        "id": "7dYVX92fN2Z8"
      }
    },
    {
      "cell_type": "code",
      "source": [
        "a = 4\n",
        "A = \"Sally\"\n",
        "#A will not overwrite a"
      ],
      "metadata": {
        "id": "227NL3fmN6nr"
      },
      "execution_count": null,
      "outputs": []
    },
    {
      "cell_type": "markdown",
      "source": [
        "#1.9 Local Variables\n",
        "\n",
        "Local variables are the variables that declared inside the function and have scope within the function."
      ],
      "metadata": {
        "id": "8d7TqPx0V40S"
      }
    },
    {
      "cell_type": "code",
      "source": [
        "# Declaring a function  \n",
        "def add():  \n",
        "    # Defining local variables. They has scope only within a function  \n",
        "    a = 20  \n",
        "    b = 30  \n",
        "    c = a + b  \n",
        "    print(\"The sum is:\", c)  \n",
        "  \n",
        "# Calling a function  \n",
        "add()  "
      ],
      "metadata": {
        "colab": {
          "base_uri": "https://localhost:8080/"
        },
        "id": "2Nol4xTrV83f",
        "outputId": "675e4d67-3bd8-4ee0-b7cc-32c2d6752ecf"
      },
      "execution_count": null,
      "outputs": [
        {
          "output_type": "stream",
          "name": "stdout",
          "text": [
            "The sum is: 50\n"
          ]
        }
      ]
    },
    {
      "cell_type": "markdown",
      "source": [
        "#1.11 Global Variables\n",
        "\n",
        "Variables that are created outside of a function (as in all of the examples above) are known as global variables.\n",
        "\n",
        "Global variables can be used by everyone, both inside of functions and outside."
      ],
      "metadata": {
        "id": "6kU_k3fPPu6U"
      }
    },
    {
      "cell_type": "code",
      "source": [
        "# Create a variable outside of a function, and use it inside the function\n",
        "\n",
        "x = \"awesome\"\n",
        "\n",
        "def myfunc():\n",
        "  print(\"Python is \" + x)\n",
        "\n",
        "myfunc()"
      ],
      "metadata": {
        "colab": {
          "base_uri": "https://localhost:8080/"
        },
        "id": "e9qHZDnkPzSK",
        "outputId": "f9bb8623-493c-4436-9d46-cc9ce56767ae"
      },
      "execution_count": null,
      "outputs": [
        {
          "output_type": "stream",
          "name": "stdout",
          "text": [
            "Python is awesome\n"
          ]
        }
      ]
    },
    {
      "cell_type": "markdown",
      "source": [
        "If you create a variable with the same name inside a function, this variable will be local, and can only be used inside the function. The global variable with the same name will remain as it was, global and with the original value."
      ],
      "metadata": {
        "id": "r9EXG4vtP9TN"
      }
    },
    {
      "cell_type": "code",
      "source": [
        "# Create a variable inside a function, with the same name as the global variable\n",
        "\n",
        "x = \"awesome\"\n",
        "\n",
        "def myfunc():\n",
        "  x = \"fantastic\"\n",
        "  print(\"Python is \" + x)\n",
        "\n",
        "myfunc()\n",
        "\n",
        "print(\"Python is \" + x)"
      ],
      "metadata": {
        "colab": {
          "base_uri": "https://localhost:8080/"
        },
        "id": "s3CoGsXhP_xa",
        "outputId": "251febe4-dcf9-4316-bf6d-fe37dfe24790"
      },
      "execution_count": null,
      "outputs": [
        {
          "output_type": "stream",
          "name": "stdout",
          "text": [
            "Python is fantastic\n",
            "Python is awesome\n"
          ]
        }
      ]
    },
    {
      "cell_type": "markdown",
      "source": [
        "Normally, when you create a variable inside a function, that variable is local, and can only be used inside that function.\n",
        "\n",
        "To create a global variable inside a function, you can use the global keyword."
      ],
      "metadata": {
        "id": "uCLXCC6VQJcq"
      }
    },
    {
      "cell_type": "code",
      "source": [
        "# If you use the global keyword, the variable belongs to the global scope:\n",
        "\n",
        "def myfunc():\n",
        "  global x\n",
        "  x = \"fantastic\"\n",
        "\n",
        "myfunc()\n",
        "\n",
        "print(\"Python is \" + x)"
      ],
      "metadata": {
        "colab": {
          "base_uri": "https://localhost:8080/"
        },
        "id": "PVEaKee8QKr1",
        "outputId": "73989e68-3046-438c-db81-96e2c7726aa1"
      },
      "execution_count": null,
      "outputs": [
        {
          "output_type": "stream",
          "name": "stdout",
          "text": [
            "Python is fantastic\n"
          ]
        }
      ]
    },
    {
      "cell_type": "markdown",
      "source": [
        "Also, use the global keyword if you want to change a global variable inside a function."
      ],
      "metadata": {
        "id": "7j0ddHUnQRcC"
      }
    },
    {
      "cell_type": "code",
      "source": [
        "# To change the value of a global variable inside a function, refer to the variable by using the global keyword:\n",
        "\n",
        "x = \"awesome\"\n",
        "\n",
        "def myfunc():\n",
        "  global x\n",
        "  x = \"fantastic\"\n",
        "\n",
        "myfunc()\n",
        "\n",
        "print(\"Python is \" + x)\n"
      ],
      "metadata": {
        "colab": {
          "base_uri": "https://localhost:8080/"
        },
        "id": "23sbOb8ZQSJR",
        "outputId": "67b9e7c1-1868-476e-9ca8-a3600fd76d1e"
      },
      "execution_count": null,
      "outputs": [
        {
          "output_type": "stream",
          "name": "stdout",
          "text": [
            "Python is fantastic\n"
          ]
        }
      ]
    },
    {
      "cell_type": "markdown",
      "source": [
        "#1.12 Unpack a Collection\n",
        "\n",
        "If you have a collection of values in a list, tuple etc. Python allows you to extract the values into variables. This is called unpacking."
      ],
      "metadata": {
        "id": "w7n2DryLRX0x"
      }
    },
    {
      "cell_type": "code",
      "source": [
        "# Unpack a list\n",
        "\n",
        "fruits = [\"apple\", \"banana\", \"cherry\"]\n",
        "x, y, z = fruits\n",
        "print(x)\n",
        "print(y)\n",
        "print(z)"
      ],
      "metadata": {
        "colab": {
          "base_uri": "https://localhost:8080/"
        },
        "id": "TiClCTWnRb8t",
        "outputId": "dd05644b-855b-40d6-eff2-c6ee63baa315"
      },
      "execution_count": null,
      "outputs": [
        {
          "output_type": "stream",
          "name": "stdout",
          "text": [
            "apple\n",
            "banana\n",
            "cherry\n"
          ]
        }
      ]
    },
    {
      "cell_type": "markdown",
      "source": [
        "#1.13 Plus and Concatenation Operation on the Variables"
      ],
      "metadata": {
        "id": "SNcNXjzKSCOK"
      }
    },
    {
      "cell_type": "code",
      "source": [
        "x = 10\n",
        "y = 20\n",
        "print(x + y)\n",
        "\n",
        "p = \"Hello\"\n",
        "q = \"World\"\n",
        "print(p + \" \" + q)"
      ],
      "metadata": {
        "colab": {
          "base_uri": "https://localhost:8080/"
        },
        "id": "UwbF0A9_SDMS",
        "outputId": "abe2e008-cce9-4b7f-a3ed-a7b0fd8f1dcd"
      },
      "execution_count": null,
      "outputs": [
        {
          "output_type": "stream",
          "name": "stdout",
          "text": [
            "30\n",
            "Hello World\n"
          ]
        }
      ]
    },
    {
      "cell_type": "markdown",
      "source": [
        "# EXERCISES"
      ],
      "metadata": {
        "id": "vt8tBvaJS3N8"
      }
    },
    {
      "cell_type": "markdown",
      "source": [
        "##**QUES-1 Assigning Value to Variable**\n",
        "\n",
        "Create a variable named carname and assign the value Volvo to it."
      ],
      "metadata": {
        "id": "38-znmE6S7YR"
      }
    },
    {
      "cell_type": "code",
      "source": [
        "carname = \"Volvo\""
      ],
      "metadata": {
        "id": "SKCKXeqcS-Dg"
      },
      "execution_count": null,
      "outputs": []
    },
    {
      "cell_type": "markdown",
      "source": [
        "##**QUES-2 Assigning Value to Variable**\n",
        "\n",
        "Create a variable named x and assign the value 50 to it."
      ],
      "metadata": {
        "id": "fy973uXiTQyR"
      }
    },
    {
      "cell_type": "code",
      "source": [
        "x=50"
      ],
      "metadata": {
        "id": "oksyYutBTS7J"
      },
      "execution_count": null,
      "outputs": []
    },
    {
      "cell_type": "markdown",
      "source": [
        "##**QUES-3 Sum of Variables**\n",
        "\n",
        "Display the sum of 5 + 10, using two variables: x and y."
      ],
      "metadata": {
        "id": "Jd8tjpRUTZIB"
      }
    },
    {
      "cell_type": "code",
      "source": [
        "x=5\n",
        "y=10\n",
        "print(x+y)"
      ],
      "metadata": {
        "colab": {
          "base_uri": "https://localhost:8080/"
        },
        "id": "fkjywjFxTdO8",
        "outputId": "c787fa15-4a88-4bda-ea54-99799b04f856"
      },
      "execution_count": null,
      "outputs": [
        {
          "output_type": "stream",
          "name": "stdout",
          "text": [
            "15\n"
          ]
        }
      ]
    },
    {
      "cell_type": "markdown",
      "source": [
        "##**QUES-4 Assigning Operation to Variable**\n",
        "\n",
        "Create a variable called z, assign x + y to it, and display the result."
      ],
      "metadata": {
        "id": "Y-QrIYi4Tmsg"
      }
    },
    {
      "cell_type": "code",
      "source": [
        "x=5\n",
        "y=10\n",
        "z=x+y\n",
        "print(z)"
      ],
      "metadata": {
        "colab": {
          "base_uri": "https://localhost:8080/"
        },
        "id": "dkXm0f-vToaQ",
        "outputId": "8ff62a5b-e7f4-4971-dd8d-ec5a29b8dbbc"
      },
      "execution_count": null,
      "outputs": [
        {
          "output_type": "stream",
          "name": "stdout",
          "text": [
            "15\n"
          ]
        }
      ]
    },
    {
      "cell_type": "markdown",
      "source": [
        "##**QUES-5 Invalid Characters**\n",
        "\n",
        "Remove the illegal characters in the variable name:\n",
        "\n",
        "`2my-first_name = \"John\"`"
      ],
      "metadata": {
        "id": "R-WSpwgTT1-a"
      }
    },
    {
      "cell_type": "code",
      "source": [
        "myfirst_name = \"John\""
      ],
      "metadata": {
        "id": "BSmiyVsUT6bZ"
      },
      "execution_count": null,
      "outputs": []
    },
    {
      "cell_type": "markdown",
      "source": [
        "##**QUES-6 Assigning by Syntax**\n",
        "\n",
        "Insert the correct syntax to assign the same value to all three variables in one code line."
      ],
      "metadata": {
        "id": "q-SYKXT8UBQR"
      }
    },
    {
      "cell_type": "code",
      "source": [
        "x=y=zz=\"Orange\""
      ],
      "metadata": {
        "id": "mKp3iDOJUD7K"
      },
      "execution_count": null,
      "outputs": []
    },
    {
      "cell_type": "markdown",
      "source": [
        "##**QUES-7 Global Scope**\n",
        "\n",
        "Insert the correct keyword to make the variable x belong to the global scope."
      ],
      "metadata": {
        "id": "kyw6Nux7UL3Z"
      }
    },
    {
      "cell_type": "code",
      "source": [
        "def myfunc():\n",
        "  global x\n",
        "  x=\"fantastic\""
      ],
      "metadata": {
        "id": "S7cbnUjtUNhI"
      },
      "execution_count": null,
      "outputs": []
    },
    {
      "cell_type": "markdown",
      "source": [
        "##**QUES-8 Birth Year**\n",
        "\n",
        "Write a program using variables for finding and printing the birth year."
      ],
      "metadata": {
        "id": "k8vuiAvXUmDv"
      }
    },
    {
      "cell_type": "code",
      "source": [
        "age = 1989\n",
        "print(\"Your birth year is\" , age)"
      ],
      "metadata": {
        "colab": {
          "base_uri": "https://localhost:8080/"
        },
        "id": "lRbLbbC9U5cy",
        "outputId": "5fc6c94e-4eb3-46be-c855-d25c7a37f6d9"
      },
      "execution_count": null,
      "outputs": [
        {
          "output_type": "stream",
          "name": "stdout",
          "text": [
            "Your birth year is 1989\n"
          ]
        }
      ]
    },
    {
      "cell_type": "markdown",
      "source": [
        "##**QUES-9 Printing List**\n",
        "\n",
        "Write a program to print a list using variables."
      ],
      "metadata": {
        "id": "s4p7eOWTVGvs"
      }
    },
    {
      "cell_type": "code",
      "source": [
        "students= [\"James\",\"Sarah\",\"Paul\",\"Isabella\",\"Lucas\"]\n",
        "print(\"List Of Students:\")\n",
        "  \n",
        "for student in students:\n",
        "   print(student)"
      ],
      "metadata": {
        "colab": {
          "base_uri": "https://localhost:8080/"
        },
        "id": "YuSQG98NVMi0",
        "outputId": "945b0f3c-1e78-4e1a-f3dc-14a5380230d7"
      },
      "execution_count": null,
      "outputs": [
        {
          "output_type": "stream",
          "name": "stdout",
          "text": [
            "List Of Students:\n",
            "James\n",
            "Sarah\n",
            "Paul\n",
            "Isabella\n",
            "Lucas\n"
          ]
        }
      ]
    },
    {
      "cell_type": "markdown",
      "source": [
        "##**QUES-10 Create-Delete-Print**\n",
        "\n",
        "Create a variable of value 6 and then delete the variable and print the variable."
      ],
      "metadata": {
        "id": "cNpahPJSW1m1"
      }
    },
    {
      "cell_type": "code",
      "source": [
        "# Assigning a value to x  \n",
        "x = 6  \n",
        "print(x)  \n",
        "# deleting a variable.   \n",
        "del x  \n",
        "print(x)  "
      ],
      "metadata": {
        "colab": {
          "base_uri": "https://localhost:8080/",
          "height": 218
        },
        "id": "I_nU_EfBXCPv",
        "outputId": "9df0d5a9-5cf9-41aa-8a06-409a57c59e66"
      },
      "execution_count": null,
      "outputs": [
        {
          "output_type": "stream",
          "name": "stdout",
          "text": [
            "6\n"
          ]
        },
        {
          "output_type": "error",
          "ename": "NameError",
          "evalue": "ignored",
          "traceback": [
            "\u001b[0;31m---------------------------------------------------------------------------\u001b[0m",
            "\u001b[0;31mNameError\u001b[0m                                 Traceback (most recent call last)",
            "\u001b[0;32m<ipython-input-42-9ae51b02b34c>\u001b[0m in \u001b[0;36m<module>\u001b[0;34m()\u001b[0m\n\u001b[1;32m      4\u001b[0m \u001b[0;31m# deleting a variable.\u001b[0m\u001b[0;34m\u001b[0m\u001b[0;34m\u001b[0m\u001b[0;34m\u001b[0m\u001b[0m\n\u001b[1;32m      5\u001b[0m \u001b[0;32mdel\u001b[0m \u001b[0mx\u001b[0m\u001b[0;34m\u001b[0m\u001b[0;34m\u001b[0m\u001b[0m\n\u001b[0;32m----> 6\u001b[0;31m \u001b[0mprint\u001b[0m\u001b[0;34m(\u001b[0m\u001b[0mx\u001b[0m\u001b[0;34m)\u001b[0m\u001b[0;34m\u001b[0m\u001b[0;34m\u001b[0m\u001b[0m\n\u001b[0m",
            "\u001b[0;31mNameError\u001b[0m: name 'x' is not defined"
          ]
        }
      ]
    },
    {
      "cell_type": "markdown",
      "metadata": {
        "id": "URT8cy_EWFzq"
      },
      "source": [
        "# Further Reading and References\n",
        "\n",
        "Following are some resources where you can learn about more arithmetic, conditional and logical operations in Python:\n",
        "\n",
        "* Python Variables at GeeksforGeeks: [Here](https://www.geeksforgeeks.org/python-variables/)\n",
        "* Variables in Python Tutorial at Realpython: [Here](https://realpython.com/python-variables/#:~:text=A%20Python%20variable%20is%20a,still%20contained%20within%20the%20object.)\n",
        "* Python official documentation: [Here](https://docs.python.org/3/tutorial/index.html)"
      ]
    },
    {
      "cell_type": "markdown",
      "source": [
        "\n",
        "---\n"
      ],
      "metadata": {
        "id": "67rERamhbQnS"
      }
    }
  ]
}