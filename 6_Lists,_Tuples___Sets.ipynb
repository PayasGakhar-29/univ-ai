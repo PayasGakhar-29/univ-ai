{
  "cells": [
    {
      "cell_type": "markdown",
      "metadata": {
        "id": "qcsWKxCv6Z50"
      },
      "source": [
        "# Lists Tuples and Sets"
      ]
    },
    {
      "cell_type": "markdown",
      "metadata": {
        "id": "tECieDxi6Z6C"
      },
      "source": [
        "In this notebook, you will learn to store more than one valuable in a single variable. \n",
        "\n",
        "This by itself is one of the most powerful ideas in programming, and it introduces a number of other central concepts such as loops. \n",
        "\n",
        "If this section ends up making sense to you, you will be able to start writing some interesting programs, and you can be more confident that you will be able to develop overall competence as a programmer."
      ]
    },
    {
      "cell_type": "markdown",
      "metadata": {
        "id": "NiGZGqFv6Z6J"
      },
      "source": [
        "#6.0 Introduction to Lists\n",
        "\n",
        "A list is a collection of items, that is stored in a variable. The items should be related in some way, but there are no restrictions on what can be stored in a list. Here is a simple example of a list, and how we can quickly access each item in the list."
      ]
    },
    {
      "cell_type": "code",
      "execution_count": null,
      "metadata": {
        "id": "6t4O0G-96Z6K",
        "outputId": "edb396b9-675a-4a48-a4ec-326a8785f4b7"
      },
      "outputs": [
        {
          "name": "stdout",
          "output_type": "stream",
          "text": [
            "Hello, Bernice!\n",
            "Hello, Aaron!\n",
            "Hello, Cody!\n"
          ]
        }
      ],
      "source": [
        "students = ['bernice', 'aaron', 'cody']\n",
        "\n",
        "for student in students:\n",
        "    print(\"Hello, \" + student.title() + \"!\")"
      ]
    },
    {
      "cell_type": "markdown",
      "metadata": {
        "id": "PeGTvHBY6Z6N"
      },
      "source": [
        "##6.01 Naming and defining a list\n",
        "\n",
        "Since lists are collection of objects, it is good practice to give them a plural name. If each item in your list is a car, call the list 'cars'. If each item is a dog, call your list 'dogs'. This gives you a straightforward way to refer to the entire list ('dogs'), and to a single item in the list ('dog')."
      ]
    },
    {
      "cell_type": "markdown",
      "metadata": {
        "id": "jTuiUyuJ6Z6P"
      },
      "source": [
        "In Python, square brackets designate a list. To define a list, you give the name of the list, the equals sign, and the values you want to include in your list within square brackets."
      ]
    },
    {
      "cell_type": "code",
      "execution_count": null,
      "metadata": {
        "id": "Dg3KI66h6Z6Q"
      },
      "outputs": [],
      "source": [
        "dogs = ['border collie', \n",
        "        'australian cattle dog', \n",
        "        'labrador retriever']"
      ]
    },
    {
      "cell_type": "markdown",
      "source": [
        "Python has many useful list methods that makes it really easy to work with lists. Here are some of the commonly used list methods.\n",
        "\n",
        "<table border=\"0\"><tbody><tr><th>Methods</th>\n",
        "<th>Descriptions</th>\n",
        "</tr><tr><td><a href=\"/python-programming/methods/list/append\">append()</a></td>\n",
        "<td>adds an element to the end of the list</td>\n",
        "</tr><tr><td><a href=\"/python-programming/methods/list/extend\">extend()</a></td>\n",
        "<td>adds all elements of a list to another list</td>\n",
        "</tr><tr><td><a href=\"/python-programming/methods/list/insert\">insert()</a></td>\n",
        "<td>inserts an item at the defined index</td>\n",
        "</tr><tr><td><a href=\"/python-programming/methods/list/remove\">remove()</a></td>\n",
        "<td>removes an item from the list</td>\n",
        "</tr><tr><td><a href=\"/python-programming/methods/list/pop\">pop()</a></td>\n",
        "<td>returns and removes an element at the given index</td>\n",
        "</tr><tr><td><a href=\"/python-programming/methods/list/clear\">clear()</a></td>\n",
        "<td>removes all items from the list</td>\n",
        "</tr><tr><td><a href=\"/python-programming/methods/list/index\">index()</a></td>\n",
        "<td>returns the index of the first matched item</td>\n",
        "</tr><tr><td><a href=\"/python-programming/methods/list/count\">count()</a></td>\n",
        "<td>returns the count of the number of items passed as an argument</td>\n",
        "</tr><tr><td><a href=\"/python-programming/methods/list/sort\">sort()</a></td>\n",
        "<td>sort items in a list in ascending order</td>\n",
        "</tr><tr><td><a href=\"/python-programming/methods/list/reverse\">reverse()</a></td>\n",
        "<td>reverse the order of items in the list</td>\n",
        "</tr><tr><td><a href=\"/python-programming/methods/list/copy\">copy()</a> </td>\n",
        "<td>returns a shallow copy of the list</td>\n",
        "</tr></tbody></table>"
      ],
      "metadata": {
        "id": "645lNAsB7hgX"
      }
    },
    {
      "cell_type": "markdown",
      "metadata": {
        "id": "kcUls3bg6Z6R"
      },
      "source": [
        "##6.02 Accessing one item in a list\n",
        "\n",
        "Items in a list are identified by their position in the list, starting with zero. This will almost certainly trip you up at some point. Programmers even joke about how often we all make \"off-by-one\" errors, so don't feel bad when you make this kind of error."
      ]
    },
    {
      "cell_type": "markdown",
      "metadata": {
        "id": "nzmItdQL6Z6S"
      },
      "source": [
        "To access the first element in a list, you give the name of the list, followed by a zero in parentheses."
      ]
    },
    {
      "cell_type": "code",
      "execution_count": null,
      "metadata": {
        "id": "rjVMtOAg6Z6T",
        "outputId": "0a7b3d6a-dcb1-4e7f-e096-82d864a9e977"
      },
      "outputs": [
        {
          "name": "stdout",
          "output_type": "stream",
          "text": [
            "Border Collie\n"
          ]
        }
      ],
      "source": [
        "dogs = ['border collie', \n",
        "        'australian cattle dog', \n",
        "        'labrador retriever']\n",
        "\n",
        "dog = dogs[0]\n",
        "print(dog.title())"
      ]
    },
    {
      "cell_type": "markdown",
      "metadata": {
        "id": "BjINK-I76Z6U"
      },
      "source": [
        "The number in parentheses is called the index of the item. \n",
        "\n",
        "Because lists start at zero, the index of an item is always one less than its position in the list. \n",
        "Because of that, Python is said to be a zero-indexed \n",
        "language (as many others, like C, or Java)"
      ]
    },
    {
      "cell_type": "markdown",
      "metadata": {
        "id": "8UuJTPyH6Z6U"
      },
      "source": [
        "So to get the second item in the list, we need to use an index of 1, and so on.."
      ]
    },
    {
      "cell_type": "code",
      "execution_count": null,
      "metadata": {
        "id": "t7fFb4o26Z6V",
        "outputId": "51d414e3-ebe2-4c46-bb0d-78cc879a7738"
      },
      "outputs": [
        {
          "name": "stdout",
          "output_type": "stream",
          "text": [
            "Australian Cattle Dog\n"
          ]
        }
      ],
      "source": [
        "dog = dogs[1]\n",
        "print(dog.title())"
      ]
    },
    {
      "cell_type": "markdown",
      "metadata": {
        "id": "E-BuURdD6Z6V"
      },
      "source": [
        "##6.03 Accessing the last items in a list\n",
        "You can probably see that to get the last item in this list, we would use an index of 2. This works, but it would only work because our list has exactly three items. To get the last item in a list, no matter how long the list is, you can use an index of -1."
      ]
    },
    {
      "cell_type": "code",
      "execution_count": null,
      "metadata": {
        "id": "LD2q1_m-6Z6W",
        "outputId": "509a872e-85e2-4b72-ab81-2077f4e4178b"
      },
      "outputs": [
        {
          "name": "stdout",
          "output_type": "stream",
          "text": [
            "Labrador Retriever\n"
          ]
        }
      ],
      "source": [
        "dog = dogs[-1]\n",
        "print(dog.title())"
      ]
    },
    {
      "cell_type": "markdown",
      "metadata": {
        "id": "_klfHAnc6Z6W"
      },
      "source": [
        "This syntax also works for the second to last item, the third to last, and so forth."
      ]
    },
    {
      "cell_type": "code",
      "execution_count": null,
      "metadata": {
        "id": "4Jv9X6FM6Z6X",
        "outputId": "7fa2c1c5-3236-4445-ec69-99527aef1223"
      },
      "outputs": [
        {
          "name": "stdout",
          "output_type": "stream",
          "text": [
            "Australian Cattle Dog\n"
          ]
        }
      ],
      "source": [
        "dog = dogs[-2]\n",
        "print(dog.title())"
      ]
    },
    {
      "cell_type": "markdown",
      "metadata": {
        "id": "Z_x3ghFZ6Z6X"
      },
      "source": [
        "You can't use a negative number larger than the length of the list, however."
      ]
    },
    {
      "cell_type": "code",
      "execution_count": null,
      "metadata": {
        "id": "SZzIR2cB6Z6Y",
        "outputId": "1cef6e26-32c7-437f-9191-dabaaab8ed19"
      },
      "outputs": [
        {
          "ename": "IndexError",
          "evalue": "list index out of range",
          "output_type": "error",
          "traceback": [
            "\u001b[0;31m---------------------------------------------------------------------------\u001b[0m\n\u001b[0;31mIndexError\u001b[0m                                Traceback (most recent call last)",
            "\u001b[0;32m<ipython-input-33-32c58df001ad>\u001b[0m in \u001b[0;36m<module>\u001b[0;34m()\u001b[0m\n\u001b[1;32m      1\u001b[0m \u001b[0mdogs\u001b[0m \u001b[0;34m=\u001b[0m \u001b[0;34m[\u001b[0m\u001b[0;34m'border collie'\u001b[0m\u001b[0;34m,\u001b[0m \u001b[0;34m'australian cattle dog'\u001b[0m\u001b[0;34m,\u001b[0m \u001b[0;34m'labrador retriever'\u001b[0m\u001b[0;34m]\u001b[0m\u001b[0;34m\u001b[0m\u001b[0m\n\u001b[1;32m      2\u001b[0m \u001b[0;34m\u001b[0m\u001b[0m\n\u001b[0;32m----> 3\u001b[0;31m \u001b[0mdog\u001b[0m \u001b[0;34m=\u001b[0m \u001b[0mdogs\u001b[0m\u001b[0;34m[\u001b[0m\u001b[0;34m-\u001b[0m\u001b[0;36m4\u001b[0m\u001b[0;34m]\u001b[0m\u001b[0;34m\u001b[0m\u001b[0m\n\u001b[0m\u001b[1;32m      4\u001b[0m \u001b[0mprint\u001b[0m\u001b[0;34m(\u001b[0m\u001b[0mdog\u001b[0m\u001b[0;34m.\u001b[0m\u001b[0mtitle\u001b[0m\u001b[0;34m(\u001b[0m\u001b[0;34m)\u001b[0m\u001b[0;34m)\u001b[0m\u001b[0;34m\u001b[0m\u001b[0m\n",
            "\u001b[0;31mIndexError\u001b[0m: list index out of range"
          ]
        }
      ],
      "source": [
        "dog = dogs[-4]\n",
        "print(dog.title())"
      ]
    },
    {
      "cell_type": "markdown",
      "metadata": {
        "id": "qB69Y16A6Z6a"
      },
      "source": [
        "#6.1 Lists and Looping\n"
      ]
    },
    {
      "cell_type": "markdown",
      "metadata": {
        "id": "pUHXuNmS6Z6b"
      },
      "source": [
        "##6.11 Accessing all elements in a list\n",
        "\n",
        "This is one of the most important concepts related to lists. You can have a list with a million items in it, and in three lines of code you can write a sentence for each of those million items. If you want to understand lists, and become a competent programmer, make sure you take the time to understand this section.\n",
        "\n",
        "We use a loop to access all the elements in a list. A loop is a block of code that repeats itself until it runs out of items to work with, or until a certain condition is met. In this case, our loop will run once for every item in our list. With a list that is three items long, our loop will run three times."
      ]
    },
    {
      "cell_type": "markdown",
      "metadata": {
        "id": "ezvSbfP_6Z6b"
      },
      "source": [
        "Let's take a look at how we access all the items in a list, and then try to understand how it works."
      ]
    },
    {
      "cell_type": "code",
      "execution_count": null,
      "metadata": {
        "id": "mixoLeov6Z6b",
        "outputId": "5b24044f-fa7a-40b2-9e9d-50c92b3f9901",
        "colab": {
          "base_uri": "https://localhost:8080/"
        }
      },
      "outputs": [
        {
          "output_type": "stream",
          "name": "stdout",
          "text": [
            "border collie\n",
            "australian cattle dog\n",
            "labrador retriever\n"
          ]
        }
      ],
      "source": [
        "dogs = ['border collie', 'australian cattle dog', 'labrador retriever']\n",
        "\n",
        "for dog in dogs:\n",
        "    print(dog)"
      ]
    },
    {
      "cell_type": "markdown",
      "metadata": {
        "id": "d73MQRc26Z6c"
      },
      "source": [
        "We have already seen how to create a list, so we are really just trying to understand how the last two lines work. These last two lines make up a loop, and the language here can help us see what is happening:\n",
        "\n",
        "    for dog in dogs:\n",
        "\n",
        "- The keyword \"for\" tells Python to get ready to use a loop.\n",
        "- The variable \"dog\", with no \"s\" on it, is a temporary placeholder variable. This is the variable that Python will place each item in the list into, one at a time.\n",
        "- The first time through the loop, the value of \"dog\" will be 'border collie'.\n",
        "- The second time through the loop, the value of \"dog\" will be 'australian cattle dog'.\n",
        "- The third time through, \"dog\" will be 'labrador retriever'.\n",
        "- After this, there are no more items in the list, and the loop will end."
      ]
    },
    {
      "cell_type": "markdown",
      "metadata": {
        "id": "egHb--dI6Z6c"
      },
      "source": [
        "###6.111 Doing more with each item\n",
        "\n",
        "We can do whatever we want with the value of \"dog\" inside the loop. In this case, we just print the name of the dog.\n",
        "\n",
        "    print(dog)\n",
        "\n",
        "We are not limited to just printing the word dog. We can do whatever we want with this value, and this action will be carried out for every item in the list."
      ]
    },
    {
      "cell_type": "markdown",
      "metadata": {
        "id": "9t_7mL5l6Z6c"
      },
      "source": [
        "Let's say something about each dog in our list."
      ]
    },
    {
      "cell_type": "code",
      "execution_count": null,
      "metadata": {
        "id": "C0siM6Gz6Z6c",
        "outputId": "458072db-07f6-4b50-d8e6-7de25aa4885d",
        "colab": {
          "base_uri": "https://localhost:8080/"
        }
      },
      "outputs": [
        {
          "output_type": "stream",
          "name": "stdout",
          "text": [
            "I like border collies.\n",
            "I like australian cattle dogs.\n",
            "I like labrador retrievers.\n"
          ]
        }
      ],
      "source": [
        "dogs = ['border collie', 'australian cattle dog', 'labrador retriever']\n",
        "\n",
        "for dog in dogs:\n",
        "    print('I like ' + dog + 's.')"
      ]
    },
    {
      "cell_type": "markdown",
      "metadata": {
        "id": "0su2xr-F6Z6d"
      },
      "source": [
        "###6.112 Inside and outside the loop\n",
        "\n",
        "Python uses indentation to decide what is inside the loop and what is outside the loop. Code that is inside the loop will be run for every item in the list. Code that is not indented, which comes after the loop, will be run once just like regular code."
      ]
    },
    {
      "cell_type": "code",
      "execution_count": null,
      "metadata": {
        "id": "YmhRgqmB6Z6d",
        "outputId": "0b906942-a809-480c-e767-6fc3ec2fd161",
        "colab": {
          "base_uri": "https://localhost:8080/"
        }
      },
      "outputs": [
        {
          "output_type": "stream",
          "name": "stdout",
          "text": [
            "I like border collies.\n",
            "No, I really really like border collies!\n",
            "\n",
            "I like australian cattle dogs.\n",
            "No, I really really like australian cattle dogs!\n",
            "\n",
            "I like labrador retrievers.\n",
            "No, I really really like labrador retrievers!\n",
            "\n",
            "\n",
            "That's just how I feel about dogs.\n"
          ]
        }
      ],
      "source": [
        "dogs = ['border collie', 'australian cattle dog', 'labrador retriever']\n",
        "\n",
        "for dog in dogs:\n",
        "    print('I like ' + dog + 's.')\n",
        "    print('No, I really really like ' + dog +'s!\\n')\n",
        "    \n",
        "print(\"\\nThat's just how I feel about dogs.\")"
      ]
    },
    {
      "cell_type": "markdown",
      "metadata": {
        "id": "Bmmwl7gd6Z6e"
      },
      "source": [
        "Notice that the last line only runs once, after the loop is completed. Also notice the use of newlines (\"\\n\") to make the output easier to read."
      ]
    },
    {
      "cell_type": "markdown",
      "metadata": {
        "id": "_2WebplL6Z6f"
      },
      "source": [
        "##6.12 Enumerating a list\n",
        "\n",
        "When you are looping through a list, you may want to know the index of the current item. You could always use the *list.index(value)* syntax, but there is a simpler way. The *enumerate()* function tracks the index of each item for you, as it loops through the list:"
      ]
    },
    {
      "cell_type": "code",
      "execution_count": null,
      "metadata": {
        "id": "m4pNM-OS6Z6f",
        "outputId": "d76d946c-c132-4e95-cb22-f9d1aaf86ed5",
        "colab": {
          "base_uri": "https://localhost:8080/"
        }
      },
      "outputs": [
        {
          "output_type": "stream",
          "name": "stdout",
          "text": [
            "Results for the dog show are as follows:\n",
            "\n",
            "Place: 0 Dog: Border Collie\n",
            "Place: 1 Dog: Australian Cattle Dog\n",
            "Place: 2 Dog: Labrador Retriever\n"
          ]
        }
      ],
      "source": [
        "dogs = ['border collie', 'australian cattle dog', 'labrador retriever']\n",
        "\n",
        "print(\"Results for the dog show are as follows:\\n\")\n",
        "for index, dog in enumerate(dogs):\n",
        "    place = str(index)\n",
        "    print(\"Place: \" + place + \" Dog: \" + dog.title())"
      ]
    },
    {
      "cell_type": "markdown",
      "metadata": {
        "id": "7d82N3w16Z6f"
      },
      "source": [
        "To enumerate a list, you need to add an *index* variable to hold the current index. So instead of\n",
        "\n",
        "    for dog in dogs:\n",
        "    \n",
        "You have\n",
        "\n",
        "    for index, dog in enumerate(dogs)\n",
        "    \n",
        "The value in the variable *index* is always an integer. If you want to print it in a string, you have to turn the integer into a string:\n",
        "\n",
        "    str(index)\n",
        "    "
      ]
    },
    {
      "cell_type": "markdown",
      "metadata": {
        "id": "qN4ere3v6Z6f"
      },
      "source": [
        "The index always starts at 0, so in this example the value of *place* should actually be the current index, plus one:"
      ]
    },
    {
      "cell_type": "code",
      "execution_count": null,
      "metadata": {
        "id": "PilASQvt6Z6g",
        "outputId": "52f5a325-ff04-4b5a-ab48-52aff8c66bf7",
        "colab": {
          "base_uri": "https://localhost:8080/"
        }
      },
      "outputs": [
        {
          "output_type": "stream",
          "name": "stdout",
          "text": [
            "Results for the dog show are as follows:\n",
            "\n",
            "Place: 1 Dog: Border Collie\n",
            "Place: 2 Dog: Australian Cattle Dog\n",
            "Place: 3 Dog: Labrador Retriever\n"
          ]
        }
      ],
      "source": [
        "dogs = ['border collie', 'australian cattle dog', 'labrador retriever']\n",
        "\n",
        "print(\"Results for the dog show are as follows:\\n\")\n",
        "for index, dog in enumerate(dogs):\n",
        "    place = str(index + 1)\n",
        "    print(\"Place: \" + place + \" Dog: \" + dog.title())"
      ]
    },
    {
      "cell_type": "markdown",
      "metadata": {
        "id": "CJwoXtlU6Z6g"
      },
      "source": [
        "###6.121 A common looping error\n",
        "One common looping error occurs when instead of using the single variable *dog* inside the loop, we accidentally use the variable that holds the entire list:"
      ]
    },
    {
      "cell_type": "code",
      "execution_count": null,
      "metadata": {
        "id": "iuUx5bZr6Z6g",
        "outputId": "feee002f-1c33-4c51-c417-e7a890c6dbb9",
        "colab": {
          "base_uri": "https://localhost:8080/"
        }
      },
      "outputs": [
        {
          "output_type": "stream",
          "name": "stdout",
          "text": [
            "['border collie', 'australian cattle dog', 'labrador retriever']\n",
            "['border collie', 'australian cattle dog', 'labrador retriever']\n",
            "['border collie', 'australian cattle dog', 'labrador retriever']\n"
          ]
        }
      ],
      "source": [
        "dogs = ['border collie', 'australian cattle dog', 'labrador retriever']\n",
        "\n",
        "for dog in dogs:\n",
        "    print(dogs)"
      ]
    },
    {
      "cell_type": "markdown",
      "metadata": {
        "id": "UJIOE8ML6Z6h"
      },
      "source": [
        "In this example, instead of printing each dog in the list, we print the entire list every time we go through the loop. Python puts each individual item in the list into the variable *dog*, but we never use that variable. Sometimes you will just get an error if you try to do this:"
      ]
    },
    {
      "cell_type": "code",
      "execution_count": null,
      "metadata": {
        "id": "653HG1Yp6Z6h",
        "outputId": "52f2462f-8eac-43ca-cad0-72146e7d6aa8",
        "colab": {
          "base_uri": "https://localhost:8080/",
          "height": 201
        }
      },
      "outputs": [
        {
          "output_type": "error",
          "ename": "TypeError",
          "evalue": "ignored",
          "traceback": [
            "\u001b[0;31m---------------------------------------------------------------------------\u001b[0m",
            "\u001b[0;31mTypeError\u001b[0m                                 Traceback (most recent call last)",
            "\u001b[0;32m<ipython-input-7-751b2ca2182a>\u001b[0m in \u001b[0;36m<module>\u001b[0;34m()\u001b[0m\n\u001b[1;32m      2\u001b[0m \u001b[0;34m\u001b[0m\u001b[0m\n\u001b[1;32m      3\u001b[0m \u001b[0;32mfor\u001b[0m \u001b[0mdog\u001b[0m \u001b[0;32min\u001b[0m \u001b[0mdogs\u001b[0m\u001b[0;34m:\u001b[0m\u001b[0;34m\u001b[0m\u001b[0;34m\u001b[0m\u001b[0m\n\u001b[0;32m----> 4\u001b[0;31m     \u001b[0mprint\u001b[0m\u001b[0;34m(\u001b[0m\u001b[0;34m'I like '\u001b[0m \u001b[0;34m+\u001b[0m \u001b[0mdogs\u001b[0m \u001b[0;34m+\u001b[0m \u001b[0;34m's.'\u001b[0m\u001b[0;34m)\u001b[0m\u001b[0;34m\u001b[0m\u001b[0;34m\u001b[0m\u001b[0m\n\u001b[0m",
            "\u001b[0;31mTypeError\u001b[0m: can only concatenate str (not \"list\") to str"
          ]
        }
      ],
      "source": [
        "dogs = ['border collie', 'australian cattle dog', 'labrador retriever']\n",
        "\n",
        "for dog in dogs:\n",
        "    print('I like ' + dogs + 's.')"
      ]
    },
    {
      "cell_type": "markdown",
      "metadata": {
        "id": "mx1LgKOV6Z6h"
      },
      "source": [
        "##6.13 The FOR (iteration) loop\n",
        "\n",
        "The 'for' loop statement is the most widely used iteration mechanisms in Python.\n",
        "\n",
        "* Almost every structure in Python can be iterated (*element by element*) by a 'for' loop\n",
        "    - a list, a tuple, a dictionary, $\\ldots$ (more details will follows)\n",
        "\n",
        "* In Python, also 'while' loops are permitted, but 'for' is the one you would see (and use) most of the time!"
      ]
    },
    {
      "cell_type": "markdown",
      "metadata": {
        "id": "JRhGnh3a6Z6i"
      },
      "source": [
        "### 6.131 FOR Special keywords\n",
        "\n",
        "Python allows two **keywords** to be used within a 'for' loop: **break** and **continue**.\n",
        "\n",
        "The two keywords have two **different** meanings:"
      ]
    },
    {
      "cell_type": "markdown",
      "metadata": {
        "id": "Nc9-3WXG6Z6i"
      },
      "source": [
        "* **Break** used to *immediatly break the loop and exit!*\n",
        "* **Continue** used to *skip to the **next** iteration step!*"
      ]
    },
    {
      "cell_type": "markdown",
      "metadata": {
        "id": "zT4Vt3DF6Z6j"
      },
      "source": [
        "**NOTE**: The two keywords are permitted with 'while' loops as well!"
      ]
    },
    {
      "cell_type": "markdown",
      "metadata": {
        "id": "qAP6L6Rl6Z6m"
      },
      "source": [
        "#6.2 Common List Operations\n"
      ]
    },
    {
      "cell_type": "markdown",
      "metadata": {
        "id": "I7O2VAq-6Z6m"
      },
      "source": [
        "##6.21 Modifying elements in a list\n",
        "\n",
        "You can change the value of any element in a list if you know the position of that item."
      ]
    },
    {
      "cell_type": "code",
      "execution_count": null,
      "metadata": {
        "id": "XPnWMxIk6Z6m",
        "outputId": "68f2a9e8-ba20-414d-a84b-382edfa3d140"
      },
      "outputs": [
        {
          "name": "stdout",
          "output_type": "stream",
          "text": [
            "['australian shepherd', 'australian cattle dog', 'labrador retriever']\n"
          ]
        }
      ],
      "source": [
        "dogs = ['border collie', 'australian cattle dog', 'labrador retriever']\n",
        "\n",
        "dogs[0] = 'australian shepherd'\n",
        "print(dogs)"
      ]
    },
    {
      "cell_type": "markdown",
      "metadata": {
        "id": "Mg8aLlLf6Z6n"
      },
      "source": [
        "##6.22 Finding an element in a list\n",
        "\n",
        "If you want to find out the position of an element in a list, you can use the index() function."
      ]
    },
    {
      "cell_type": "code",
      "execution_count": null,
      "metadata": {
        "id": "juKNa0bQ6Z6n",
        "outputId": "91d6e18e-dce2-4a83-b8a6-a086a0ad79b0"
      },
      "outputs": [
        {
          "name": "stdout",
          "output_type": "stream",
          "text": [
            "1\n"
          ]
        }
      ],
      "source": [
        "dogs = ['border collie', 'australian cattle dog', 'labrador retriever']\n",
        "\n",
        "print(dogs.index('australian cattle dog'))"
      ]
    },
    {
      "cell_type": "markdown",
      "metadata": {
        "id": "6OyiC1OA6Z6o"
      },
      "source": [
        "This method returns a ValueError if the requested item is not in the list."
      ]
    },
    {
      "cell_type": "code",
      "execution_count": null,
      "metadata": {
        "id": "WUaRXJP26Z6o",
        "outputId": "8a49fe40-ec2a-4115-980a-4cd01820a9c3"
      },
      "outputs": [
        {
          "ename": "ValueError",
          "evalue": "'poodle' is not in list",
          "output_type": "error",
          "traceback": [
            "\u001b[0;31m---------------------------------------------------------------------------\u001b[0m\n\u001b[0;31mValueError\u001b[0m                                Traceback (most recent call last)",
            "\u001b[0;32m<ipython-input-13-a9e05e37e8df>\u001b[0m in \u001b[0;36m<module>\u001b[0;34m()\u001b[0m\n\u001b[1;32m      1\u001b[0m \u001b[0mdogs\u001b[0m \u001b[0;34m=\u001b[0m \u001b[0;34m[\u001b[0m\u001b[0;34m'border collie'\u001b[0m\u001b[0;34m,\u001b[0m \u001b[0;34m'australian cattle dog'\u001b[0m\u001b[0;34m,\u001b[0m \u001b[0;34m'labrador retriever'\u001b[0m\u001b[0;34m]\u001b[0m\u001b[0;34m\u001b[0m\u001b[0m\n\u001b[1;32m      2\u001b[0m \u001b[0;34m\u001b[0m\u001b[0m\n\u001b[0;32m----> 3\u001b[0;31m \u001b[0mprint\u001b[0m\u001b[0;34m(\u001b[0m\u001b[0mdogs\u001b[0m\u001b[0;34m.\u001b[0m\u001b[0mindex\u001b[0m\u001b[0;34m(\u001b[0m\u001b[0;34m'poodle'\u001b[0m\u001b[0;34m)\u001b[0m\u001b[0;34m)\u001b[0m\u001b[0;34m\u001b[0m\u001b[0m\n\u001b[0m",
            "\u001b[0;31mValueError\u001b[0m: 'poodle' is not in list"
          ]
        }
      ],
      "source": [
        "dogs = ['border collie', 'australian cattle dog', 'labrador retriever']\n",
        "\n",
        "print(dogs.index('poodle'))"
      ]
    },
    {
      "cell_type": "markdown",
      "metadata": {
        "id": "dFmssZA16Z6o"
      },
      "source": [
        "##6.23 Testing whether an item is in a list\n",
        "\n",
        "You can test whether an item is in a list using the \"in\" keyword. This will become more useful after learning how to use if-else statements."
      ]
    },
    {
      "cell_type": "code",
      "execution_count": null,
      "metadata": {
        "id": "_vU1aK8r6Z6o",
        "outputId": "844fa352-a839-41cd-81ec-3bf85c4b4103"
      },
      "outputs": [
        {
          "name": "stdout",
          "output_type": "stream",
          "text": [
            "True\n",
            "False\n"
          ]
        }
      ],
      "source": [
        "dogs = ['border collie', 'australian cattle dog', 'labrador retriever']\n",
        "\n",
        "print('australian cattle dog' in dogs)\n",
        "print('poodle' in dogs)"
      ]
    },
    {
      "cell_type": "markdown",
      "metadata": {
        "id": "Xns3Mdkl6Z6p"
      },
      "source": [
        "##6.24 Adding items to a list\n",
        "\n",
        "### Appending items to the end of a list\n",
        "We can add an item to a list using the append() method. This method adds the new item to the end of the list."
      ]
    },
    {
      "cell_type": "code",
      "execution_count": null,
      "metadata": {
        "id": "0C7m9IW46Z6p",
        "outputId": "92e3e2be-1538-4db3-ae31-029f82e716b7"
      },
      "outputs": [
        {
          "name": "stdout",
          "output_type": "stream",
          "text": [
            "Border Collies are cool.\n",
            "Australian Cattle Dogs are cool.\n",
            "Labrador Retrievers are cool.\n",
            "Poodles are cool.\n"
          ]
        }
      ],
      "source": [
        "dogs = ['border collie', 'australian cattle dog', 'labrador retriever']\n",
        "dogs.append('poodle')\n",
        "\n",
        "for dog in dogs:\n",
        "    print(dog.title() + \"s are cool.\")"
      ]
    },
    {
      "cell_type": "markdown",
      "metadata": {
        "id": "e50NNV8N6Z6p"
      },
      "source": [
        "### Inserting items into a list\n",
        "We can also insert items anywhere we want in a list, using the insert() function. We specify the position we want the item to have, and everything from that point on is shifted one position to the right. In other words, the index of every item after the new item is increased by one."
      ]
    },
    {
      "cell_type": "code",
      "execution_count": null,
      "metadata": {
        "id": "S-7VcnLn6Z6p",
        "outputId": "9528a328-1d1e-4c36-a0c4-88e7ffd76f59"
      },
      "outputs": [
        {
          "name": "stdout",
          "output_type": "stream",
          "text": [
            "['border collie', 'poodle', 'australian cattle dog', 'labrador retriever']\n"
          ]
        }
      ],
      "source": [
        "dogs = ['border collie', 'australian cattle dog', 'labrador retriever']\n",
        "dogs.insert(1, 'poodle')\n",
        "\n",
        "print(dogs)"
      ]
    },
    {
      "cell_type": "markdown",
      "metadata": {
        "id": "el4S1YPb6Z6q"
      },
      "source": [
        "Note that you have to give the position of the new item first, and then the value of the new item. If you do it in the reverse order, you will get an error."
      ]
    },
    {
      "cell_type": "markdown",
      "metadata": {
        "id": "XKB66SEH6Z6q"
      },
      "source": [
        "##6.25 Creating an empty list\n",
        "\n",
        "Now that we know how to add items to a list after it is created, we can use lists more dynamically. We are no longer stuck defining our entire list at once.\n",
        "\n",
        "A common approach with lists is to define an empty list, and then let your program add items to the list as necessary. This approach works, for example, when starting to build an interactive web site. Your list of users might start out empty, and then as people register for the site it will grow. This is a simplified approach to how web sites actually work, but the idea is realistic.\n",
        "\n",
        "Here is a brief example of how to start with an empty list, start to fill it up, and work with the items in the list. The only new thing here is the way we define an empty list, which is just an empty set of square brackets."
      ]
    },
    {
      "cell_type": "code",
      "execution_count": null,
      "metadata": {
        "id": "p5CMfUgb6Z6q",
        "outputId": "11fe6499-25ea-455a-b500-e2a35948bf50"
      },
      "outputs": [
        {
          "name": "stdout",
          "output_type": "stream",
          "text": [
            "Welcome, Bernice!\n",
            "Welcome, Cody!\n",
            "Welcome, Aaron!\n"
          ]
        }
      ],
      "source": [
        "# Create an empty list to hold our users.\n",
        "usernames = []\n",
        "\n",
        "# Add some users.\n",
        "usernames.append('bernice')\n",
        "usernames.append('cody')\n",
        "usernames.append('aaron')\n",
        "\n",
        "# Greet all of our users.\n",
        "for username in usernames:\n",
        "    print(\"Welcome, \" + username.title() + '!')"
      ]
    },
    {
      "cell_type": "markdown",
      "metadata": {
        "id": "ibFDz7z86Z6q"
      },
      "source": [
        "If we don't change the order in our list, we can use the list to figure out who our oldest and newest users are."
      ]
    },
    {
      "cell_type": "code",
      "execution_count": null,
      "metadata": {
        "id": "reJjRlqf6Z6r",
        "outputId": "34ff4725-8268-4caf-ebbd-5e52b3c2f29d"
      },
      "outputs": [
        {
          "name": "stdout",
          "output_type": "stream",
          "text": [
            "Welcome, Bernice!\n",
            "Welcome, Cody!\n",
            "Welcome, Aaron!\n",
            "\n",
            "Thank you for being our very first user, Bernice!\n",
            "And a warm welcome to our newest user, Aaron!\n"
          ]
        }
      ],
      "source": [
        "# Create an empty list to hold our users.\n",
        "usernames = []\n",
        "\n",
        "# Add some users.\n",
        "usernames.append('bernice')\n",
        "usernames.append('cody')\n",
        "usernames.append('aaron')\n",
        "\n",
        "# Greet all of our users.\n",
        "for username in usernames:\n",
        "    print(\"Welcome, \" + username.title() + '!')\n",
        "\n",
        "# Recognize our first user, and welcome our newest user.\n",
        "print(\"\\nThank you for being our very first user, \" + usernames[0].title() + '!')\n",
        "print(\"And a warm welcome to our newest user, \" + usernames[-1].title() + '!')"
      ]
    },
    {
      "cell_type": "markdown",
      "metadata": {
        "id": "zcTRGkg66Z6r"
      },
      "source": [
        "Note that the code welcoming our newest user will always work, because we have used the index -1. If we had used the index 2 we would always get the third user, even as our list of users grows and grows."
      ]
    },
    {
      "cell_type": "markdown",
      "metadata": {
        "id": "Teu4J8GI6Z6r"
      },
      "source": [
        "##6.26 Sorting a List\n",
        "\n",
        "We can sort a list alphabetically, in either order."
      ]
    },
    {
      "cell_type": "code",
      "execution_count": null,
      "metadata": {
        "id": "bOyuh9Sv6Z6r",
        "outputId": "f335a72d-c8dc-4c12-f2c2-b35336737141"
      },
      "outputs": [
        {
          "name": "stdout",
          "output_type": "stream",
          "text": [
            "Our students are currently in alphabetical order.\n",
            "Aaron\n",
            "Bernice\n",
            "Cody\n",
            "\n",
            "Our students are now in reverse alphabetical order.\n",
            "Cody\n",
            "Bernice\n",
            "Aaron\n"
          ]
        }
      ],
      "source": [
        "students = ['bernice', 'aaron', 'cody']\n",
        "\n",
        "# Put students in alphabetical order.\n",
        "students.sort()\n",
        "\n",
        "# Display the list in its current order.\n",
        "print(\"Our students are currently in alphabetical order.\")\n",
        "for student in students:\n",
        "    print(student.title())\n",
        "\n",
        "#Put students in reverse alphabetical order.\n",
        "students.sort(reverse=True)\n",
        "\n",
        "# Display the list in its current order.\n",
        "print(\"\\nOur students are now in reverse alphabetical order.\")\n",
        "for student in students:\n",
        "    print(student.title())"
      ]
    },
    {
      "cell_type": "markdown",
      "metadata": {
        "id": "-8Ro6CXy6Z6s"
      },
      "source": [
        "###6.261 sorted() vs. sort()\n",
        "Whenever you consider sorting a list, keep in mind that you can not recover the original order. If you want to display a list in sorted order, but preserve the original order, you can use the sorted() function. The sorted() function also accepts the optional reverse=True argument."
      ]
    },
    {
      "cell_type": "code",
      "execution_count": null,
      "metadata": {
        "id": "e-Jj0mYn6Z6s",
        "outputId": "8b0b8184-96cd-445f-92dc-535b6a21621c"
      },
      "outputs": [
        {
          "name": "stdout",
          "output_type": "stream",
          "text": [
            "Here is the list in alphabetical order:\n",
            "Aaron\n",
            "Bernice\n",
            "Cody\n",
            "\n",
            "Here is the list in reverse alphabetical order:\n",
            "Cody\n",
            "Bernice\n",
            "Aaron\n",
            "\n",
            "Here is the list in its original order:\n",
            "Bernice\n",
            "Aaron\n",
            "Cody\n"
          ]
        }
      ],
      "source": [
        "students = ['bernice', 'aaron', 'cody']\n",
        "\n",
        "# Display students in alphabetical order, but keep the original order.\n",
        "print(\"Here is the list in alphabetical order:\")\n",
        "for student in sorted(students):\n",
        "    print(student.title())\n",
        "\n",
        "# Display students in reverse alphabetical order, but keep the original order.\n",
        "print(\"\\nHere is the list in reverse alphabetical order:\")\n",
        "for student in sorted(students, reverse=True):\n",
        "    print(student.title())\n",
        "\n",
        "print(\"\\nHere is the list in its original order:\")\n",
        "# Show that the list is still in its original order.\n",
        "for student in students:\n",
        "    print(student.title())"
      ]
    },
    {
      "cell_type": "markdown",
      "metadata": {
        "id": "MQZ_y5386Z6t"
      },
      "source": [
        "###6.262 Reversing a list\n",
        "We have seen three possible orders for a list:\n",
        "- The original order in which the list was created\n",
        "- Alphabetical order\n",
        "- Reverse alphabetical order\n",
        "\n",
        "There is one more order we can use, and that is the reverse of the original order of the list. The *reverse()* function gives us this order."
      ]
    },
    {
      "cell_type": "code",
      "execution_count": null,
      "metadata": {
        "id": "yKrzD1LL6Z6t",
        "outputId": "dc40c862-dbfd-4ec9-8081-949af6b02328"
      },
      "outputs": [
        {
          "name": "stdout",
          "output_type": "stream",
          "text": [
            "['cody', 'aaron', 'bernice']\n"
          ]
        }
      ],
      "source": [
        "students = ['bernice', 'aaron', 'cody']\n",
        "students.reverse()\n",
        "\n",
        "print(students)"
      ]
    },
    {
      "cell_type": "markdown",
      "metadata": {
        "id": "vkeUQCzb6Z6u"
      },
      "source": [
        "Note that reverse is permanent, although you could follow up with another call to *reverse()* and get back the original order of the list."
      ]
    },
    {
      "cell_type": "markdown",
      "metadata": {
        "id": "8ZyWwbrE6Z6u"
      },
      "source": [
        "###6.263 Sorting a numerical list\n",
        "All of the sorting functions work for numerical lists as well."
      ]
    },
    {
      "cell_type": "code",
      "execution_count": null,
      "metadata": {
        "id": "3eSPh5pX6Z6u",
        "outputId": "3c715f07-7c47-456b-9de0-05f9823b4124"
      },
      "outputs": [
        {
          "name": "stdout",
          "output_type": "stream",
          "text": [
            "[1, 2, 3, 4]\n",
            "[4, 3, 2, 1]\n"
          ]
        }
      ],
      "source": [
        "numbers = [1, 3, 4, 2]\n",
        "\n",
        "# sort() puts numbers in increasing order.\n",
        "numbers.sort()\n",
        "print(numbers)\n",
        "\n",
        "# sort(reverse=True) puts numbers in decreasing order.\n",
        "numbers.sort(reverse=True)\n",
        "print(numbers)\n"
      ]
    },
    {
      "cell_type": "code",
      "execution_count": null,
      "metadata": {
        "id": "i-h230Rr6Z6u",
        "outputId": "a785dff1-9e06-4063-b6cb-1c8ce4983644"
      },
      "outputs": [
        {
          "name": "stdout",
          "output_type": "stream",
          "text": [
            "[1, 2, 3, 4]\n",
            "[1, 3, 4, 2]\n"
          ]
        }
      ],
      "source": [
        "numbers = [1, 3, 4, 2]\n",
        "\n",
        "# sorted() preserves the original order of the list:\n",
        "print(sorted(numbers))\n",
        "print(numbers)"
      ]
    },
    {
      "cell_type": "code",
      "execution_count": null,
      "metadata": {
        "id": "yDI5Zn4N6Z6v",
        "outputId": "1a000d13-6d3f-4c84-dacd-d17a6b957934"
      },
      "outputs": [
        {
          "name": "stdout",
          "output_type": "stream",
          "text": [
            "[2, 4, 3, 1]\n"
          ]
        }
      ],
      "source": [
        "numbers = [1, 3, 4, 2]\n",
        "\n",
        "# The reverse() function also works for numerical lists.\n",
        "numbers.reverse()\n",
        "print(numbers)"
      ]
    },
    {
      "cell_type": "markdown",
      "metadata": {
        "id": "hHYlIydC6Z6v"
      },
      "source": [
        "##6.27 Finding the length of a list\n",
        "\n",
        "You can find the length of a list using the *len()* function."
      ]
    },
    {
      "cell_type": "code",
      "execution_count": null,
      "metadata": {
        "id": "PXRCU2Fm6Z6v",
        "outputId": "d3368b0f-b80b-45db-a98b-d8518d4fc266"
      },
      "outputs": [
        {
          "name": "stdout",
          "output_type": "stream",
          "text": [
            "3\n"
          ]
        }
      ],
      "source": [
        "usernames = ['bernice', 'cody', 'aaron']\n",
        "user_count = len(usernames)\n",
        "\n",
        "print(user_count)"
      ]
    },
    {
      "cell_type": "markdown",
      "metadata": {
        "id": "-iQeNuCg6Z6v"
      },
      "source": [
        "There are many situations where you might want to know how many items in a list. If you have a list that stores your users, you can find the length of your list at any time, and know how many users you have."
      ]
    },
    {
      "cell_type": "code",
      "execution_count": null,
      "metadata": {
        "id": "Y4YQ0QXn6Z6w",
        "outputId": "ebbf35b3-1971-4b4b-b79f-fa154076b163"
      },
      "outputs": [
        {
          "name": "stdout",
          "output_type": "stream",
          "text": [
            "We have 1 user!\n",
            "We have 3 users!\n"
          ]
        }
      ],
      "source": [
        "# Create an empty list to hold our users.\n",
        "usernames = []\n",
        "\n",
        "# Add some users, and report on how many users we have.\n",
        "usernames.append('bernice')\n",
        "user_count = len(usernames)\n",
        "\n",
        "print(\"We have \" + str(user_count) + \" user!\")\n",
        "\n",
        "usernames.append('cody')\n",
        "usernames.append('aaron')\n",
        "user_count = len(usernames)\n",
        "\n",
        "print(\"We have \" + str(user_count) + \" users!\")"
      ]
    },
    {
      "cell_type": "markdown",
      "metadata": {
        "id": "NsyzkJM_6Z6w"
      },
      "source": [
        "On a technical note, the *len()* function returns an integer, which can't be printed directly with strings. We use the *str()* function to turn the integer into a string so that it prints nicely:"
      ]
    },
    {
      "cell_type": "code",
      "execution_count": null,
      "metadata": {
        "id": "nxrcstNH6Z63",
        "outputId": "9222e713-6e39-4490-ba7f-47386458dfbd"
      },
      "outputs": [
        {
          "ename": "TypeError",
          "evalue": "Can't convert 'int' object to str implicitly",
          "output_type": "error",
          "traceback": [
            "\u001b[0;31m---------------------------------------------------------------------------\u001b[0m\n\u001b[0;31mTypeError\u001b[0m                                 Traceback (most recent call last)",
            "\u001b[0;32m<ipython-input-43-92e732ef190e>\u001b[0m in \u001b[0;36m<module>\u001b[0;34m()\u001b[0m\n\u001b[1;32m      2\u001b[0m \u001b[0muser_count\u001b[0m \u001b[0;34m=\u001b[0m \u001b[0mlen\u001b[0m\u001b[0;34m(\u001b[0m\u001b[0musernames\u001b[0m\u001b[0;34m)\u001b[0m\u001b[0;34m\u001b[0m\u001b[0m\n\u001b[1;32m      3\u001b[0m \u001b[0;34m\u001b[0m\u001b[0m\n\u001b[0;32m----> 4\u001b[0;31m \u001b[0mprint\u001b[0m\u001b[0;34m(\u001b[0m\u001b[0;34m\"This will cause an error: \"\u001b[0m \u001b[0;34m+\u001b[0m \u001b[0muser_count\u001b[0m\u001b[0;34m)\u001b[0m\u001b[0;34m\u001b[0m\u001b[0m\n\u001b[0m",
            "\u001b[0;31mTypeError\u001b[0m: Can't convert 'int' object to str implicitly"
          ]
        }
      ],
      "source": [
        "usernames = ['bernice', 'cody', 'aaron']\n",
        "user_count = len(usernames)\n",
        "\n",
        "print(\"This will cause an error: \" + user_count)"
      ]
    },
    {
      "cell_type": "code",
      "execution_count": null,
      "metadata": {
        "id": "CKIebdwO6Z63",
        "outputId": "ff371e6a-6a1c-4299-fa79-e2c37e47f8c0"
      },
      "outputs": [
        {
          "name": "stdout",
          "output_type": "stream",
          "text": [
            "This will work: 3\n"
          ]
        }
      ],
      "source": [
        "usernames = ['bernice', 'cody', 'aaron']\n",
        "user_count = len(usernames)\n",
        "\n",
        "print(\"This will work: \" + str(user_count))"
      ]
    },
    {
      "cell_type": "code",
      "execution_count": null,
      "metadata": {
        "id": "reNiQKS96Z64"
      },
      "outputs": [],
      "source": [
        "# Ex 3.7 : Working List\n",
        "\n",
        "# put your code here"
      ]
    },
    {
      "cell_type": "code",
      "execution_count": null,
      "metadata": {
        "id": "ZxaxTimi6Z64"
      },
      "outputs": [],
      "source": [
        "# Ex 3.8 : Starting From Empty\n",
        "\n",
        "# put your code here"
      ]
    },
    {
      "cell_type": "code",
      "execution_count": null,
      "metadata": {
        "id": "XKHJ1LTB6Z64"
      },
      "outputs": [],
      "source": [
        "# Ex 3.9 : Ordered Working List\n",
        "\n",
        "# put your code here"
      ]
    },
    {
      "cell_type": "code",
      "execution_count": null,
      "metadata": {
        "id": "MygBHxEe6Z65"
      },
      "outputs": [],
      "source": [
        "# Ex 3.10 : Ordered Numbers\n",
        "\n",
        "# put your code here"
      ]
    },
    {
      "cell_type": "code",
      "execution_count": null,
      "metadata": {
        "id": "Z5gGdol36Z65"
      },
      "outputs": [],
      "source": [
        "# Ex 3.11 : List Lengths\n",
        "\n",
        "# put your code here"
      ]
    },
    {
      "cell_type": "code",
      "source": [
        ""
      ],
      "metadata": {
        "id": "GZHIeT3_SjDy"
      },
      "execution_count": null,
      "outputs": []
    },
    {
      "cell_type": "markdown",
      "metadata": {
        "id": "iTxu6eeO6Z65"
      },
      "source": [
        "#6.3 Removing Items from a List\n",
        "\n",
        "Hopefully you can see by now that lists are a dynamic structure. We can define an empty list and then fill it up as information comes into our program. To become really dynamic, we need some ways to remove items from a list when we no longer need them. You can remove items from a list through their position, or through their value."
      ]
    },
    {
      "cell_type": "markdown",
      "metadata": {
        "id": "9unmsK2l6Z66"
      },
      "source": [
        "##6.31Removing items by position\n",
        "\n",
        "If you know the position of an item in a list, you can remove that item using the *del* command. To use this approach, give the command *del* and the name of your list, with the index of the item you want to move in square brackets:"
      ]
    },
    {
      "cell_type": "code",
      "execution_count": null,
      "metadata": {
        "id": "2rZPQq076Z66",
        "outputId": "63d489fe-4938-4b24-f772-d277156d1ba1"
      },
      "outputs": [
        {
          "name": "stdout",
          "output_type": "stream",
          "text": [
            "['australian cattle dog', 'labrador retriever']\n"
          ]
        }
      ],
      "source": [
        "dogs = ['border collie', 'australian cattle dog', 'labrador retriever']\n",
        "# Remove the first dog from the list.\n",
        "del dogs[0]\n",
        "\n",
        "print(dogs)"
      ]
    },
    {
      "cell_type": "markdown",
      "metadata": {
        "id": "7Qp5xpNZ6Z66"
      },
      "source": [
        "##6.32 Removing items by value\n",
        "\n",
        "You can also remove an item from a list if you know its value. To do this, we use the *remove()* function. Give the name of the list, followed by the word remove with the value of the item you want to remove in parentheses. Python looks through your list, finds the first item with this value, and removes it."
      ]
    },
    {
      "cell_type": "code",
      "execution_count": null,
      "metadata": {
        "id": "Dy6z1niw6Z66",
        "outputId": "7bf4b922-ac3c-44ca-9b49-e21c01589e88"
      },
      "outputs": [
        {
          "name": "stdout",
          "output_type": "stream",
          "text": [
            "['border collie', 'labrador retriever']\n"
          ]
        }
      ],
      "source": [
        "dogs = ['border collie', 'australian cattle dog', 'labrador retriever']\n",
        "# Remove australian cattle dog from the list.\n",
        "dogs.remove('australian cattle dog')\n",
        "\n",
        "print(dogs)"
      ]
    },
    {
      "cell_type": "markdown",
      "metadata": {
        "id": "SSZkrrnu6Z67"
      },
      "source": [
        "Be careful to note, however, that *only* the first item with this value is removed. If you have multiple items with the same value, you will have some items with this value left in your list."
      ]
    },
    {
      "cell_type": "code",
      "execution_count": null,
      "metadata": {
        "id": "ZqXpw4K86Z67",
        "outputId": "9615b1a5-ff6a-4b39-88fb-4776eb9cc59f"
      },
      "outputs": [
        {
          "name": "stdout",
          "output_type": "stream",
          "text": [
            "['b', 'c', 'a', 'b', 'c']\n"
          ]
        }
      ],
      "source": [
        "letters = ['a', 'b', 'c', 'a', 'b', 'c']\n",
        "# Remove the letter a from the list.\n",
        "letters.remove('a')\n",
        "\n",
        "print(letters)"
      ]
    },
    {
      "cell_type": "markdown",
      "metadata": {
        "id": "5hfE0nh26Z67"
      },
      "source": [
        "##6.33 Popping items from a list\n",
        "\n",
        "There is a cool concept in programming called \"popping\" items from a collection. Every programming language has some sort of data structure similar to Python's lists. All of these structures can be used as queues, and there are various ways of processing the items in a queue.\n",
        "\n",
        "One simple approach is to start with an empty list, and then add items to that list. When you want to work with the items in the list, you always take the last item from the list, do something with it, and then remove that item. The *pop()* function makes this easy. It removes the last item from the list, and gives it to us so we can work with it. "
      ]
    },
    {
      "cell_type": "markdown",
      "metadata": {
        "id": "Xlzu2Nya6Z67"
      },
      "source": [
        "This is easier to show with an example"
      ]
    },
    {
      "cell_type": "code",
      "execution_count": null,
      "metadata": {
        "id": "zACKLo9a6Z68",
        "outputId": "eba8fa1f-2351-4dfb-ad1a-b06205b2b27b"
      },
      "outputs": [
        {
          "name": "stdout",
          "output_type": "stream",
          "text": [
            "labrador retriever\n",
            "['border collie', 'australian cattle dog']\n"
          ]
        }
      ],
      "source": [
        "dogs = ['border collie', 'australian cattle dog', 'labrador retriever']\n",
        "last_dog = dogs.pop()\n",
        "\n",
        "print(last_dog)\n",
        "print(dogs)"
      ]
    },
    {
      "cell_type": "markdown",
      "metadata": {
        "id": "mMWruuv06Z68"
      },
      "source": [
        "This is an example of a first-in, last-out approach. The first item in the list would be the last item processed if you kept using this approach. We will see a full implementation of this approach later on, when we learn about *while* loops.\n",
        "\n",
        "You can actually pop any item you want from a list, by giving the index of the item you want to pop. So we could do a first-in, first-out approach by popping the first iem in the list:"
      ]
    },
    {
      "cell_type": "code",
      "execution_count": null,
      "metadata": {
        "id": "VOBCnEDK6Z68",
        "outputId": "dfe78873-4583-4de3-bf42-587485d15eca"
      },
      "outputs": [
        {
          "name": "stdout",
          "output_type": "stream",
          "text": [
            "border collie\n",
            "['australian cattle dog', 'labrador retriever']\n"
          ]
        }
      ],
      "source": [
        "dogs = ['border collie', 'australian cattle dog', 'labrador retriever']\n",
        "first_dog = dogs.pop(0)\n",
        "\n",
        "print(first_dog)\n",
        "print(dogs)"
      ]
    },
    {
      "cell_type": "markdown",
      "metadata": {
        "id": "IuWVfX6Q6Z69"
      },
      "source": [
        "##Exercises\n",
        "\n",
        "#### Famous People\n",
        "- Make a list that includes the names of four famous people.\n",
        "- Remove each person from the list, one at a time, using each of the four methods we have just seen:\n",
        "    - Pop the last item from the list, and pop any item except the last item.\n",
        "    - Remove one item by its position, and one item by its value.\n",
        "- Print out a message that there are no famous people left in your list, and print your list to prove that it is empty."
      ]
    },
    {
      "cell_type": "code",
      "execution_count": null,
      "metadata": {
        "id": "vES225w96Z69",
        "outputId": "8a7eaadc-13f4-49f1-c160-a2e1d157da17"
      },
      "outputs": [
        {
          "name": "stdout",
          "output_type": "stream",
          "text": [
            "['david bowie', 'robert plant', 'obama']\n",
            "['david bowie', 'robert plant']\n",
            "david bowie ['robert plant']\n",
            "there are no more famous people in the list\n",
            "[]\n"
          ]
        }
      ],
      "source": [
        "# Ex 3.12 : Famous People\n",
        "fpeople = ['david bowie', 'robert plant', 'obama', 'taylor swift']\n",
        "#Remove each person from the list, one at a time, using each of the four methods we have just seen\n",
        "fpeople.remove('taylor swift')\n",
        "print(fpeople)\n",
        "del fpeople[2]\n",
        "print(fpeople)\n",
        "bowie=fpeople.pop(0)\n",
        "print(bowie,fpeople)\n",
        "last=fpeople.pop()\n",
        "print('there are no more famous people in the list')\n",
        "print(fpeople)\n",
        "# put your code here"
      ]
    },
    {
      "cell_type": "code",
      "execution_count": null,
      "metadata": {
        "id": "ty2CmSv46Z69",
        "outputId": "0325f41d-8681-476e-fbaf-031beeb7fd25"
      },
      "outputs": [
        {
          "name": "stdout",
          "output_type": "stream",
          "text": [
            "['david bowie', 'robert plant', 'obama']\n",
            "['taylor swift']\n",
            "['david bowie', 'robert plant']\n"
          ]
        }
      ],
      "source": [
        "#Pop the last item from the list\n",
        "fpeople = ['david bowie', 'robert plant', 'obama', 'taylor swift']\n",
        "fpeople.pop()\n",
        "print(fpeople)\n",
        "# and pop any item except the last item.\n",
        "fpeople = ['david bowie', 'robert plant', 'obama', 'taylor swift']\n",
        "for _ in range(0,len(fpeople)-1):\n",
        "    fpeople.pop(0)\n",
        "print(fpeople)\n",
        "\n",
        "fpeople = ['david bowie', 'robert plant', 'obama', 'taylor swift']\n",
        "fpeople.remove('obama')\n",
        "del fpeople[2]\n",
        "print(fpeople)\n"
      ]
    },
    {
      "cell_type": "markdown",
      "metadata": {
        "id": "T7WYC7Ul6Z6-"
      },
      "source": [
        "Want to see what functions are?\n",
        "\n",
        "At this point, you might have noticed we have a fair bit of repetetive code in some of our examples. This repetition will disappear once we learn how to use functions. "
      ]
    },
    {
      "cell_type": "markdown",
      "metadata": {
        "id": "k-RsQz_f6Z6-"
      },
      "source": [
        "#6.4 Slicing a List\n",
        "\n",
        "Since a list is a collection of items, we should be able to get any subset of those items. For example, if we want to get just the first three items from the list, we should be able to do so easily. The same should be true for any three items in the middle of the list, or the last three items, or any x items from anywhere in the list. These subsets of a list are called *slices*."
      ]
    },
    {
      "cell_type": "markdown",
      "metadata": {
        "id": "CXSWAWVZ6Z6_"
      },
      "source": [
        "To get a subset of a list, we give the position of the first item we want, and the position of the first item we do *not* want to include in the subset. So the slice *list[0:3]* will return a list containing items 0, 1, and 2, but not item 3. "
      ]
    },
    {
      "cell_type": "markdown",
      "metadata": {
        "id": "t_QKi6kf6Z6_"
      },
      "source": [
        "Here is how you get a batch containing the first three items."
      ]
    },
    {
      "cell_type": "code",
      "execution_count": null,
      "metadata": {
        "id": "gpSaVhIn6Z6_",
        "outputId": "edda2af1-76cf-4057-bf1b-e4a5fb116155"
      },
      "outputs": [
        {
          "name": "stdout",
          "output_type": "stream",
          "text": [
            "Bernice\n",
            "Cody\n",
            "Aaron\n"
          ]
        }
      ],
      "source": [
        "usernames = ['bernice', 'cody', 'aaron', 'ever', 'dalia']\n",
        "\n",
        "# Grab the first three users in the list.\n",
        "first_batch = usernames[0:3]\n",
        "\n",
        "for user in first_batch:\n",
        "    print(user.title())"
      ]
    },
    {
      "cell_type": "markdown",
      "metadata": {
        "id": "I8qERGvw6Z7A"
      },
      "source": [
        "If you want to grab everything up to a certain position in the list, you can also leave the first index blank:"
      ]
    },
    {
      "cell_type": "code",
      "execution_count": null,
      "metadata": {
        "id": "CeeI_h1N6Z7A",
        "outputId": "57f4d467-26a3-41da-a323-24b2102348e6"
      },
      "outputs": [
        {
          "name": "stdout",
          "output_type": "stream",
          "text": [
            "Bernice\n",
            "Cody\n",
            "Aaron\n"
          ]
        }
      ],
      "source": [
        "usernames = ['bernice', 'cody', 'aaron', 'ever', 'dalia']\n",
        "\n",
        "# Grab the first three users in the list.\n",
        "first_batch = usernames[:3]\n",
        "\n",
        "for user in first_batch:\n",
        "    print(user.title())"
      ]
    },
    {
      "cell_type": "markdown",
      "metadata": {
        "id": "vfJAQzvs6Z7A"
      },
      "source": [
        "When we grab a slice from a list, the original list is not affected:"
      ]
    },
    {
      "cell_type": "code",
      "execution_count": null,
      "metadata": {
        "id": "ca2EoZgz6Z7B",
        "outputId": "035ace58-192c-4372-e1f0-e995034e98e0"
      },
      "outputs": [
        {
          "name": "stdout",
          "output_type": "stream",
          "text": [
            "Bernice\n",
            "Cody\n",
            "Aaron\n",
            "Ever\n",
            "Dalia\n"
          ]
        }
      ],
      "source": [
        "usernames = ['bernice', 'cody', 'aaron', 'ever', 'dalia']\n",
        "\n",
        "# Grab the first three users in the list.\n",
        "first_batch = usernames[0:3]\n",
        "\n",
        "# The original list is unaffected.\n",
        "for user in usernames:\n",
        "    print(user.title())"
      ]
    },
    {
      "cell_type": "markdown",
      "metadata": {
        "id": "_6cUUfih6Z7B"
      },
      "source": [
        "We can get any segment of a list we want, using the slice method:"
      ]
    },
    {
      "cell_type": "code",
      "execution_count": null,
      "metadata": {
        "id": "fSLAq55Z6Z7C",
        "outputId": "9fd66b2e-7ac2-4eae-827e-fd0346683941"
      },
      "outputs": [
        {
          "name": "stdout",
          "output_type": "stream",
          "text": [
            "Cody\n",
            "Aaron\n",
            "Ever\n"
          ]
        }
      ],
      "source": [
        "usernames = ['bernice', 'cody', 'aaron', 'ever', 'dalia']\n",
        "\n",
        "# Grab a batch from the middle of the list.\n",
        "middle_batch = usernames[1:4]\n",
        "\n",
        "for user in middle_batch:\n",
        "    print(user.title())"
      ]
    },
    {
      "cell_type": "markdown",
      "metadata": {
        "id": "CJ5y1RKJ6Z7C"
      },
      "source": [
        "To get all items from one position in the list to the end of the list, we can leave off the second index:"
      ]
    },
    {
      "cell_type": "code",
      "execution_count": null,
      "metadata": {
        "id": "6lIGoosx6Z7D",
        "outputId": "90285aaa-b33b-4d74-86d5-325f7618d55b"
      },
      "outputs": [
        {
          "name": "stdout",
          "output_type": "stream",
          "text": [
            "Aaron\n",
            "Ever\n",
            "Dalia\n"
          ]
        }
      ],
      "source": [
        "usernames = ['bernice', 'cody', 'aaron', 'ever', 'dalia']\n",
        "\n",
        "# Grab all users from the third to the end.\n",
        "end_batch = usernames[2:]\n",
        "\n",
        "for user in end_batch:\n",
        "    print(user.title())"
      ]
    },
    {
      "cell_type": "markdown",
      "metadata": {
        "id": "6Ps_97k16Z7D"
      },
      "source": [
        "#6.5 Copying a list\n",
        "You can use the slice notation to make a copy of a list, by leaving out both the starting and the ending index. This causes the slice to consist of everything from the first item to the last, which is the entire list."
      ]
    },
    {
      "cell_type": "code",
      "execution_count": null,
      "metadata": {
        "id": "D3ct2ux36Z7D",
        "outputId": "54471bba-9120-4178-e97c-4b092ea5a7f3"
      },
      "outputs": [
        {
          "name": "stdout",
          "output_type": "stream",
          "text": [
            "The full copied list:\n",
            "\t ['bernice', 'cody', 'aaron', 'ever', 'dalia']\n",
            "\n",
            "Two users removed from copied list:\n",
            "\t ['aaron', 'ever', 'dalia']\n",
            "\n",
            "The original list:\n",
            "\t ['bernice', 'cody', 'aaron', 'ever', 'dalia']\n"
          ]
        }
      ],
      "source": [
        "usernames = ['bernice', 'cody', 'aaron', 'ever', 'dalia']\n",
        "\n",
        "# Make a copy of the list.\n",
        "copied_usernames = usernames[:]\n",
        "print(\"The full copied list:\\n\\t\", copied_usernames)\n",
        "\n",
        "# Remove the first two users from the copied list.\n",
        "del copied_usernames[0]\n",
        "del copied_usernames[0]\n",
        "print(\"\\nTwo users removed from copied list:\\n\\t\", copied_usernames)\n",
        "\n",
        "# The original list is unaffected.\n",
        "print(\"\\nThe original list:\\n\\t\", usernames)"
      ]
    },
    {
      "cell_type": "code",
      "execution_count": null,
      "metadata": {
        "id": "vn-1PqDx6Z7E",
        "outputId": "9d5f16e9-9323-42a4-9f28-484b8ed1b03b"
      },
      "outputs": [
        {
          "name": "stdout",
          "output_type": "stream",
          "text": [
            "abcdefghijklmnopqrstuvwxyz\n",
            "abcdefghij\n"
          ]
        }
      ],
      "source": [
        "from string import ascii_lowercase\n",
        "print(ascii_lowercase)\n",
        "tenletters=ascii_lowercase[0:10]\n",
        "print(tenletters)"
      ]
    },
    {
      "cell_type": "code",
      "execution_count": null,
      "metadata": {
        "id": "MD_CKqiT6Z7E",
        "outputId": "ff73f3c9-47c0-40d6-bfa2-8dbf447b32c8"
      },
      "outputs": [
        {
          "name": "stdout",
          "output_type": "stream",
          "text": [
            "abc\n",
            "ghi\n",
            "ghij\n"
          ]
        }
      ],
      "source": [
        "# Ex 3.13 : Alphabet Slices\n",
        "#Store the first ten letters of the alphabet in a list.\n",
        "alphabet=tenletters[:]\n",
        "#Use a slice to print out the first three letters of the alphabet.\n",
        "print(alphabet[:3])\n",
        "#Use a slice to print out any three letters from the middle of your list.\n",
        "print(alphabet[6:9])\n",
        "#Use a slice to print out the letters from any point in the middle of your list, to the end.\n",
        "print(alphabet[6:])\n",
        "# put your code here"
      ]
    },
    {
      "cell_type": "code",
      "execution_count": null,
      "metadata": {
        "id": "GZWVvYaY6Z7F",
        "outputId": "4343f51e-2c2a-42d7-cd2e-a0bb0b1eb18d"
      },
      "outputs": [
        {
          "name": "stdout",
          "output_type": "stream",
          "text": [
            "This is the original list:\n",
            "Alice\n",
            "Anna\n",
            "Ada\n",
            "This is the copy: \n",
            "Alice\n",
            "Anna\n",
            "Ada\n",
            "Agata\n",
            "Aurora\n",
            "['alice', 'anna', 'ada', 'agata', 'aurora']\n",
            "['alice', 'anna', 'ada']\n",
            "['Alice', 'Anna', 'Ada', 'Agata', 'Aurora']\n"
          ]
        }
      ],
      "source": [
        "# Ex 3.14 : Protected List\n",
        "#Your goal in this exercise is to prove that copying a list protects the original list.\n",
        "#Make a list with three people's names in it.\n",
        "names=['alice','anna','ada']\n",
        "#Use a slice to make a copy of the entire list.\n",
        "copied_names=names[:]\n",
        "#Add at least two new names to the new copy of the list.\n",
        "copied_names.append('agata')\n",
        "copied_names.append('aurora')\n",
        "#Make a loop that prints out all of the names in the original list, along with a message that this is the original list.\n",
        "print('This is the original list:')\n",
        "for name in names:\n",
        "    print(name.title())\n",
        "#Make a loop that prints out all of the names in the copied list, along with a message that this is the copied list.\n",
        "print('This is the copy: ')\n",
        "for cname in copied_names:\n",
        "    print(cname.title())\n",
        "print(copied_names)\n",
        "\n",
        "#title the names in the original list\n",
        "print (names)\n",
        "copied_names = [i.title() for i in copied_names]\n",
        "print(copied_names)"
      ]
    },
    {
      "cell_type": "markdown",
      "metadata": {
        "id": "zrc1xHAc6Z7F"
      },
      "source": [
        "# 6.6 Numerical Lists\n",
        "\n",
        "There is nothing special about lists of numbers, but there are some functions you can use to make working with numerical lists more efficient. Let's make a list of the first ten numbers, and start working with it to see how we can use numbers in a list."
      ]
    },
    {
      "cell_type": "code",
      "execution_count": null,
      "metadata": {
        "id": "Co0Zpv0B6Z7G",
        "outputId": "689d82cd-ead9-4bdc-909a-3a07a9dff202"
      },
      "outputs": [
        {
          "name": "stdout",
          "output_type": "stream",
          "text": [
            "1\n",
            "2\n",
            "3\n",
            "4\n",
            "5\n",
            "6\n",
            "7\n",
            "8\n",
            "9\n",
            "10\n"
          ]
        }
      ],
      "source": [
        "# Print out the first ten numbers.\n",
        "numbers = [1, 2, 3, 4, 5, 6, 7, 8, 9, 10]\n",
        "\n",
        "for number in numbers:\n",
        "    print(number)"
      ]
    },
    {
      "cell_type": "markdown",
      "metadata": {
        "id": "wGWag0fx6Z7G"
      },
      "source": [
        "#6.7 The range() function\n",
        "\n",
        "This works, but it is not very efficient if we want to work with a large set of numbers. The *range()* function helps us generate long lists of numbers. Here are two ways to do the same thing, using the *range* function."
      ]
    },
    {
      "cell_type": "code",
      "execution_count": null,
      "metadata": {
        "id": "35J8JJp56Z7G",
        "outputId": "6326d626-32e1-4a94-e6f0-23d52ba02254"
      },
      "outputs": [
        {
          "name": "stdout",
          "output_type": "stream",
          "text": [
            "1\n",
            "2\n",
            "3\n",
            "4\n",
            "5\n",
            "6\n",
            "7\n",
            "8\n",
            "9\n",
            "10\n"
          ]
        }
      ],
      "source": [
        "# Print the first ten numbers.\n",
        "for number in range(1,11):\n",
        "    print(number)"
      ]
    },
    {
      "cell_type": "markdown",
      "metadata": {
        "id": "pMzo6HEB6Z7G"
      },
      "source": [
        "The range function takes in a starting number, and an end number. You get all integers, up to but not including the end number. You can also add a *step* value, which tells the *range* function how big of a step to take between numbers:"
      ]
    },
    {
      "cell_type": "code",
      "execution_count": null,
      "metadata": {
        "id": "sBABgnQr6Z7H",
        "outputId": "0d1f0ade-9287-4093-a713-3cb0dc3dd9af"
      },
      "outputs": [
        {
          "name": "stdout",
          "output_type": "stream",
          "text": [
            "1\n",
            "3\n",
            "5\n",
            "7\n",
            "9\n",
            "11\n",
            "13\n",
            "15\n",
            "17\n",
            "19\n"
          ]
        }
      ],
      "source": [
        "# Print the first ten odd numbers.\n",
        "for number in range(1,21,2):\n",
        "    print(number)"
      ]
    },
    {
      "cell_type": "markdown",
      "metadata": {
        "id": "NNzcAPut6Z7H"
      },
      "source": [
        "If we want to store these numbers in a list, we can use the *list()* function. This function takes in a range, and turns it into a list:"
      ]
    },
    {
      "cell_type": "code",
      "execution_count": null,
      "metadata": {
        "id": "eRmvuV5x6Z7H",
        "outputId": "af9c4126-8284-4054-e7bc-09bea283cbb9"
      },
      "outputs": [
        {
          "name": "stdout",
          "output_type": "stream",
          "text": [
            "[1, 2, 3, 4, 5, 6, 7, 8, 9, 10]\n"
          ]
        }
      ],
      "source": [
        "# Create a list of the first ten numbers.\n",
        "numbers = list(range(1,11))\n",
        "print(numbers)"
      ]
    },
    {
      "cell_type": "markdown",
      "metadata": {
        "id": "GoO68TO56Z7H"
      },
      "source": [
        "This is incredibly powerful; we can now create a list of the first million numbers, just as easily as we made a list of the first ten numbers. It doesn't really make sense to print the million numbers here, but we can show that the list really does have one million items in it, and we can print the last ten items to show that the list is correct."
      ]
    },
    {
      "cell_type": "code",
      "execution_count": null,
      "metadata": {
        "id": "yqY-I7Di6Z7I",
        "outputId": "c7771e60-70fa-42cb-d6bb-2c7e762e0b56"
      },
      "outputs": [
        {
          "name": "stdout",
          "output_type": "stream",
          "text": [
            "The list 'numbers' has 1000000 numbers in it.\n",
            "\n",
            "The last ten numbers in the list are:\n",
            "999991\n",
            "999992\n",
            "999993\n",
            "999994\n",
            "999995\n",
            "999996\n",
            "999997\n",
            "999998\n",
            "999999\n",
            "1000000\n"
          ]
        }
      ],
      "source": [
        "# Store the first million numbers in a list.\n",
        "numbers = list(range(1,1000001))\n",
        "\n",
        "# Show the length of the list:\n",
        "print(\"The list 'numbers' has \" + str(len(numbers)) + \" numbers in it.\")\n",
        "\n",
        "# Show the last ten numbers:\n",
        "print(\"\\nThe last ten numbers in the list are:\")\n",
        "for number in numbers[-10:]:\n",
        "    print(number)"
      ]
    },
    {
      "cell_type": "markdown",
      "metadata": {
        "id": "X6zQSCQx6Z7I"
      },
      "source": [
        "There are two things here that might be a little unclear. The expression\n",
        "\n",
        "    str(len(numbers))\n",
        "\n",
        "takes the length of the numbers list, and turns it into a string that can be printed.\n",
        "\n",
        "The expression \n",
        "\n",
        "    numbers[-10:]\n",
        "\n",
        "gives us a slice of the list. The index '-1' is the last item in the list, and the index '-10' is the item ten places from the end of the list. So the slice 'numbers[-10:]' gives us everything from that item to the end of the list."
      ]
    },
    {
      "cell_type": "markdown",
      "metadata": {
        "id": "EXNmg0Mk6Z7J"
      },
      "source": [
        "#6.8 The min(), max(), and sum() functions\n",
        "\n",
        "There are three functions you can easily use with numerical lists. As you might expect, the *min()* function returns the smallest number in the list, the *max()* function returns the largest number in the list, and the *sum()* function returns the total of all numbers in the list."
      ]
    },
    {
      "cell_type": "code",
      "execution_count": null,
      "metadata": {
        "id": "H4F1XIy16Z7J",
        "outputId": "35088438-136b-4cf6-ae19-009f51d4a754"
      },
      "outputs": [
        {
          "name": "stdout",
          "output_type": "stream",
          "text": [
            "Our youngest reader is 11 years old.\n",
            "Our oldest reader is 38 years old.\n",
            "Together, we have 149 years worth of life experience.\n"
          ]
        }
      ],
      "source": [
        "ages = [23, 16, 14, 28, 19, 11, 38]\n",
        "\n",
        "youngest = min(ages)\n",
        "oldest = max(ages)\n",
        "total_years = sum(ages)\n",
        "\n",
        "print(\"Our youngest reader is \" + str(youngest) + \" years old.\")\n",
        "print(\"Our oldest reader is \" + str(oldest) + \" years old.\")\n",
        "print(\"Together, we have \" + str(total_years) + \n",
        "      \" years worth of life experience.\")"
      ]
    },
    {
      "cell_type": "code",
      "execution_count": null,
      "metadata": {
        "id": "Zt4xqwRn6Z7K",
        "outputId": "e687d07f-fb11-4b21-f886-4658145e3d9e"
      },
      "outputs": [
        {
          "name": "stdout",
          "output_type": "stream",
          "text": [
            "1\n",
            "2\n",
            "3\n",
            "4\n",
            "5\n",
            "6\n",
            "7\n",
            "8\n",
            "9\n",
            "10\n",
            "11\n",
            "12\n",
            "13\n",
            "14\n",
            "15\n",
            "16\n",
            "17\n",
            "18\n",
            "19\n",
            "20\n"
          ]
        }
      ],
      "source": [
        "# Ex 3.15 : First Twenty\n",
        "twenties=list(range(1,21))\n",
        "for n in twenties:\n",
        "    print(n)\n",
        "# put your code here"
      ]
    },
    {
      "cell_type": "code",
      "execution_count": null,
      "metadata": {
        "id": "987vUirN6Z7K",
        "outputId": "7350dffc-3de3-42b7-9158-6f059b4d346d"
      },
      "outputs": [
        {
          "data": {
            "text/plain": [
              "1000000"
            ]
          },
          "execution_count": 51,
          "metadata": {},
          "output_type": "execute_result"
        }
      ],
      "source": [
        "# Ex 3.16 : Larger Sets\n",
        "millions=list(range(0,int(1e6)))\n",
        "len(millions)\n",
        "\n",
        "# put your code here"
      ]
    },
    {
      "cell_type": "code",
      "execution_count": null,
      "metadata": {
        "id": "8ECyJMqp6Z7K",
        "outputId": "2033c3ee-30f8-4232-b37f-74dfad80efed"
      },
      "outputs": [
        {
          "name": "stdout",
          "output_type": "stream",
          "text": [
            "[[76, 62, 53], [53, 69, 30, 5, 65, 9, 39, 75], [7, 37, 60, 64, 36, 68, 71, 88, 40], [96, 6, 15, 74, 3, 79, 54, 8, 35, 99], [1, 67, 57, 71]]\n",
            "[191, 345, 471, 469, 196]\n",
            "The fattest wallet has 471 in it\n",
            "All together, these wallets have 1672 value in them\n",
            "The thinnest wallet has 191 in it\n"
          ]
        }
      ],
      "source": [
        "# Ex 3.17 : Five Wallets\n",
        "#Imagine five wallets with different amounts of cash in them. Store these five values in a list, \n",
        "#and print out the following sentences:\n",
        "#\"The fattest wallet has ∗value∗init.\"−\"Theskinniestwallethas value in it.\"\n",
        "#\"All together, these wallets have $ value in them.\"\n",
        "\n",
        "from random import randint\n",
        "\n",
        "wallets = [ [randint(1,100) for _ in range(randint(2,10))] for _ in range(5) ]\n",
        "print(wallets)\n",
        "amounts = [ sum(wallet) for wallet in wallets ]\n",
        "print(amounts)\n",
        "print('The fattest wallet has {} in it'.format(max(amounts)))\n",
        "print('All together, these wallets have {} value in them'.format(sum(amounts)))\n",
        "print('The thinnest wallet has {} in it'.format(min(amounts)))"
      ]
    },
    {
      "cell_type": "markdown",
      "metadata": {
        "id": "pgjHBQzW6Z7L"
      },
      "source": [
        "#6.9 List Comprehensions\n",
        "\n",
        "I thought carefully before including this section. If you are brand new to programming, list comprehensions may look confusing at first. They are a shorthand way of creating and working with lists. It is good to be aware of list comprehensions, because you will see them in other people's code, and they are really useful when you understand how to use them. That said, if they don't make sense to you yet, don't worry about using them right away. When you have worked with enough lists, you will want to use comprehensions. For now, it is good enough to know they exist, and to recognize them when you see them. If you like them, go ahead and start trying to use them now."
      ]
    },
    {
      "cell_type": "markdown",
      "metadata": {
        "id": "vXLP3n1f6Z7L"
      },
      "source": [
        "##6.91 Numerical Comprehensions\n",
        "\n",
        "Let's consider how we might make a list of the first ten square numbers. We could do it like this:"
      ]
    },
    {
      "cell_type": "code",
      "execution_count": null,
      "metadata": {
        "id": "4trJn6xw6Z7M",
        "outputId": "a682c357-5639-4f3b-e0cb-23366d3ff329"
      },
      "outputs": [
        {
          "name": "stdout",
          "output_type": "stream",
          "text": [
            "1\n",
            "4\n",
            "9\n",
            "16\n",
            "25\n",
            "36\n",
            "49\n",
            "64\n",
            "81\n",
            "100\n"
          ]
        }
      ],
      "source": [
        "# Store the first ten square numbers in a list.\n",
        "# Make an empty list that will hold our square numbers.\n",
        "squares = []\n",
        "\n",
        "# Go through the first ten numbers, square them, and add them to our list.\n",
        "for number in range(1,11):\n",
        "    new_square = number**2\n",
        "    squares.append(new_square)\n",
        "    \n",
        "# Show that our list is correct.\n",
        "for square in squares:\n",
        "    print(square)"
      ]
    },
    {
      "cell_type": "markdown",
      "metadata": {
        "id": "zU3haz8a6Z7M"
      },
      "source": [
        "This should make sense at this point. If it doesn't, go over the code with these thoughts in mind:\n",
        "- We make an empty list called *squares* that will hold the values we are interested in.\n",
        "- Using the range() function, we start a loop that will go through the numbers 1-10.\n",
        "- Each time we pass through the loop, we find the square of the current number by raising it to the second power.\n",
        "- We add this new value to our list *squares*.\n",
        "- We go through our newly-defined list and print out each square.\n",
        "\n",
        "Now let's make this code more efficient. We don't really need to store the new square in its own variable *new_square*; we can just add it directly to the list of squares. The line\n",
        "\n",
        "    new_square = number**2\n",
        "\n",
        "is taken out, and the next line takes care of the squaring:"
      ]
    },
    {
      "cell_type": "code",
      "execution_count": null,
      "metadata": {
        "id": "XoFBr6sR6Z7M",
        "outputId": "034be2d1-bbf4-45a9-db99-c1e0813045dc"
      },
      "outputs": [
        {
          "name": "stdout",
          "output_type": "stream",
          "text": [
            "1\n",
            "4\n",
            "9\n",
            "16\n",
            "25\n",
            "36\n",
            "49\n",
            "64\n",
            "81\n",
            "100\n"
          ]
        }
      ],
      "source": [
        "# Store the first ten square numbers in a list.\n",
        "# Make an empty list that will hold our square numbers.\n",
        "squares = []\n",
        "\n",
        "# Go through the first ten numbers, square them, and add them to our list.\n",
        "for number in range(1,11):\n",
        "    squares.append(number**2)\n",
        "    \n",
        "# Show that our list is correct.\n",
        "for square in squares:\n",
        "    print(square)"
      ]
    },
    {
      "cell_type": "markdown",
      "metadata": {
        "id": "lbaAXv4H6Z7N"
      },
      "source": [
        "List comprehensions allow us to collapse the first three lines of code into one line. Here's what it looks like:"
      ]
    },
    {
      "cell_type": "code",
      "execution_count": null,
      "metadata": {
        "id": "jqTBgFX06Z7N",
        "outputId": "1f227cb2-6b84-4e9a-a75d-a7de98568070"
      },
      "outputs": [
        {
          "name": "stdout",
          "output_type": "stream",
          "text": [
            "1\n",
            "4\n",
            "9\n",
            "16\n",
            "25\n",
            "36\n",
            "49\n",
            "64\n",
            "81\n",
            "100\n"
          ]
        }
      ],
      "source": [
        "# Store the first ten square numbers in a list.\n",
        "squares = [number**2 for number in range(1,11)]\n",
        "\n",
        "# Show that our list is correct.\n",
        "for square in squares:\n",
        "    print(square)"
      ]
    },
    {
      "cell_type": "markdown",
      "metadata": {
        "id": "vNwza_I-6Z7N"
      },
      "source": [
        "It should be pretty clear that this code is more efficient than our previous approach, but it may not be clear what is happening. Let's take a look at everything that is happening in that first line:\n",
        "\n",
        "We define a list called *squares*.\n",
        "\n",
        "Look at the second part of what's in square brackets:\n",
        "\n",
        "    for number in range(1,11)\n",
        "\n",
        "This sets up a loop that goes through the numbers 1-10, storing each value in the variable *number*. Now we can see what happens to each *number* in the loop:\n",
        "\n",
        "    number**2\n",
        "\n",
        "Each number is raised to the second power, and this is the value that is stored in the list we defined. We might read this line in the following way:\n",
        "\n",
        "squares = [raise *number* to the second power, for each *number* in the range 1-10]"
      ]
    },
    {
      "cell_type": "markdown",
      "metadata": {
        "id": "L7s7jNm66Z7N"
      },
      "source": [
        "### Another example\n",
        "It is probably helpful to see a few more examples of how comprehensions can be used. Let's try to make the first ten even numbers, the longer way:"
      ]
    },
    {
      "cell_type": "code",
      "execution_count": null,
      "metadata": {
        "id": "ekLE4aUe6Z7O",
        "outputId": "69133490-81c6-48b1-a14b-65605d4bab99"
      },
      "outputs": [
        {
          "name": "stdout",
          "output_type": "stream",
          "text": [
            "2\n",
            "4\n",
            "6\n",
            "8\n",
            "10\n",
            "12\n",
            "14\n",
            "16\n",
            "18\n",
            "20\n"
          ]
        }
      ],
      "source": [
        "# Make an empty list that will hold the even numbers.\n",
        "evens = []\n",
        "\n",
        "# Loop through the numbers 1-10, double each one, and add it to our list.\n",
        "for number in range(1,11):\n",
        "    evens.append(number*2)\n",
        "    \n",
        "# Show that our list is correct:\n",
        "for even in evens:\n",
        "    print(even)"
      ]
    },
    {
      "cell_type": "markdown",
      "metadata": {
        "id": "1bUEIHLE6Z7O"
      },
      "source": [
        "Here's how we might think of doing the same thing, using a list comprehension:\n",
        "\n",
        "evens = [multiply each *number* by 2, for each *number* in the range 1-10]\n",
        "\n",
        "Here is the same line in code:"
      ]
    },
    {
      "cell_type": "code",
      "execution_count": null,
      "metadata": {
        "id": "ApFk7OY86Z7O",
        "outputId": "e6e6c881-39e7-4476-b7e8-d66a89a684cf"
      },
      "outputs": [
        {
          "name": "stdout",
          "output_type": "stream",
          "text": [
            "2\n",
            "4\n",
            "6\n",
            "8\n",
            "10\n",
            "12\n",
            "14\n",
            "16\n",
            "18\n",
            "20\n"
          ]
        }
      ],
      "source": [
        "# Make a list of the first ten even numbers.\n",
        "evens = [number*2 for number in range(1,11)]\n",
        "\n",
        "for even in evens:\n",
        "    print(even)"
      ]
    },
    {
      "cell_type": "markdown",
      "metadata": {
        "id": "cYuWGn4O6Z7P"
      },
      "source": [
        "##6.92 Non-numerical comprehensions\n",
        "\n",
        "We can use comprehensions with non-numerical lists as well. In this case, we will create an initial list, and then use a comprehension to make a second list from the first one. Here is a simple example, without using comprehensions:"
      ]
    },
    {
      "cell_type": "code",
      "execution_count": null,
      "metadata": {
        "id": "oGyJ2F_o6Z7P",
        "outputId": "151b8347-d011-4115-ebce-5043a8d3a523"
      },
      "outputs": [
        {
          "name": "stdout",
          "output_type": "stream",
          "text": [
            "Hello, Bernice the great!\n",
            "Hello, Aaron the great!\n",
            "Hello, Cody the great!\n"
          ]
        }
      ],
      "source": [
        "# Consider some students.\n",
        "students = ['bernice', 'aaron', 'cody']\n",
        "\n",
        "# Let's turn them into great students.\n",
        "great_students = []\n",
        "for student in students:\n",
        "    great_students.append(student.title() + \" the great!\")\n",
        "\n",
        "# Let's greet each great student.\n",
        "for great_student in great_students:\n",
        "    print(\"Hello, \" + great_student)"
      ]
    },
    {
      "cell_type": "markdown",
      "metadata": {
        "id": "ZFwEr0xu6Z7P"
      },
      "source": [
        "To use a comprehension in this code, we want to write something like this:\n",
        "\n",
        "great_students = [add 'the great' to each *student*, for each *student* in the list of *students*]\n",
        "\n",
        "Here's what it looks like:"
      ]
    },
    {
      "cell_type": "code",
      "execution_count": null,
      "metadata": {
        "id": "BeHC8dJF6Z7Q",
        "outputId": "1747b201-42fc-483c-9074-e5ee67b791b7"
      },
      "outputs": [
        {
          "name": "stdout",
          "output_type": "stream",
          "text": [
            "Hello, Bernice the great!\n",
            "Hello, Aaron the great!\n",
            "Hello, Cody the great!\n"
          ]
        }
      ],
      "source": [
        "# Consider some students.\n",
        "students = ['bernice', 'aaron', 'cody']\n",
        "\n",
        "# Let's turn them into great students.\n",
        "great_students = [student.title() + \" the great!\" for student in students]\n",
        "\n",
        "# Let's greet each great student.\n",
        "for great_student in great_students:\n",
        "    print(\"Hello, \" + great_student)"
      ]
    },
    {
      "cell_type": "code",
      "execution_count": null,
      "metadata": {
        "id": "nV_Fs3-x6Z7Q"
      },
      "outputs": [],
      "source": [
        "# Ex 3.18 : Multiples of Ten\n",
        "\n",
        "# put your code here"
      ]
    },
    {
      "cell_type": "code",
      "execution_count": null,
      "metadata": {
        "id": "opjEkZ4s6Z7Q"
      },
      "outputs": [],
      "source": [
        "# Ex 3.19 : Cubes\n",
        "\n",
        "# put your code here"
      ]
    },
    {
      "cell_type": "code",
      "execution_count": null,
      "metadata": {
        "id": "GEz-EARk6Z7R"
      },
      "outputs": [],
      "source": [
        "# Ex 3.20 : Awesomeness\n",
        "\n",
        "# put your code here"
      ]
    },
    {
      "cell_type": "code",
      "execution_count": null,
      "metadata": {
        "id": "yr2GsUuc6Z7R"
      },
      "outputs": [],
      "source": [
        "# Ex 3.21 : Working Backwards\n",
        "\n",
        "# put your code here"
      ]
    },
    {
      "cell_type": "markdown",
      "metadata": {
        "id": "YpKW1igU6Z7R"
      },
      "source": [
        "#6.10 Strings as Lists\n",
        "\n",
        "Now that you have some familiarity with lists, we can take a second look at strings. A string is really a list of characters, so many of the concepts from working with lists behave the same with strings."
      ]
    },
    {
      "cell_type": "markdown",
      "metadata": {
        "id": "2iA5T-916Z7S"
      },
      "source": [
        "##6.101 Strings as a list of characters\n",
        "\n",
        "We can loop through a string using a *for* loop, just like we loop through a list:"
      ]
    },
    {
      "cell_type": "code",
      "execution_count": null,
      "metadata": {
        "id": "NaF8voEg6Z7S",
        "outputId": "3bd096ef-6498-45b1-b244-1d61cc356eb6"
      },
      "outputs": [
        {
          "name": "stdout",
          "output_type": "stream",
          "text": [
            "H\n",
            "e\n",
            "l\n",
            "l\n",
            "o\n",
            "!\n"
          ]
        }
      ],
      "source": [
        "message = \"Hello!\"\n",
        "\n",
        "for letter in message:\n",
        "    print(letter)"
      ]
    },
    {
      "cell_type": "markdown",
      "metadata": {
        "id": "VZitsRV86Z7S"
      },
      "source": [
        "We can create a list from a string. The list will have one element for each character in the string:"
      ]
    },
    {
      "cell_type": "code",
      "execution_count": null,
      "metadata": {
        "id": "3HKz-F-I6Z7S",
        "outputId": "101b7765-9d98-4319-807c-47a38aef8648"
      },
      "outputs": [
        {
          "name": "stdout",
          "output_type": "stream",
          "text": [
            "['H', 'e', 'l', 'l', 'o', ' ', 'w', 'o', 'r', 'l', 'd', '!']\n"
          ]
        }
      ],
      "source": [
        "message = \"Hello world!\"\n",
        "\n",
        "message_list = list(message)\n",
        "print(message_list)"
      ]
    },
    {
      "cell_type": "markdown",
      "metadata": {
        "id": "AOs1yl4C6Z7S"
      },
      "source": [
        "##6.102 Slicing strings\n",
        "\n",
        "We can access any character in a string by its position, just as we access individual items in a list:"
      ]
    },
    {
      "cell_type": "code",
      "execution_count": null,
      "metadata": {
        "id": "SSpINcM-6Z7T",
        "outputId": "e02aee2d-8612-422b-e1f8-a87f197cd1fd"
      },
      "outputs": [
        {
          "name": "stdout",
          "output_type": "stream",
          "text": [
            "('H', '!')\n"
          ]
        }
      ],
      "source": [
        "message = \"Hello World!\"\n",
        "first_char = message[0]\n",
        "last_char = message[-1]\n",
        "\n",
        "print(first_char, last_char)"
      ]
    },
    {
      "cell_type": "markdown",
      "metadata": {
        "id": "5uO9Di2O6Z7T"
      },
      "source": [
        "We can extend this to take slices of a string:"
      ]
    },
    {
      "cell_type": "code",
      "execution_count": null,
      "metadata": {
        "id": "XVbbNofc6Z7T",
        "outputId": "9b191a97-c013-4143-94cb-db83b5f35e78"
      },
      "outputs": [
        {
          "name": "stdout",
          "output_type": "stream",
          "text": [
            "('Hel', 'ld!')\n"
          ]
        }
      ],
      "source": [
        "message = \"Hello World!\"\n",
        "first_three = message[:3]\n",
        "last_three = message[-3:]\n",
        "\n",
        "print(first_three, last_three)"
      ]
    },
    {
      "cell_type": "markdown",
      "metadata": {
        "id": "O9ct-HsD6Z7T"
      },
      "source": [
        "##6.103 Finding substrings\n",
        "\n",
        "Now that you have seen what indexes mean for strings, we can search for *substrings*. A substring is a series of characters that appears in a string.\n",
        "\n",
        "You can use the *in* keyword to find out whether a particular substring appears in a string:"
      ]
    },
    {
      "cell_type": "code",
      "execution_count": null,
      "metadata": {
        "id": "fTeeJ8-s6Z7U",
        "outputId": "68a72f74-6f1b-4935-dc45-cb4cc2bf8205"
      },
      "outputs": [
        {
          "name": "stdout",
          "output_type": "stream",
          "text": [
            "True\n"
          ]
        }
      ],
      "source": [
        "message = \"I like cats and dogs.\"\n",
        "dog_present = 'dog' in message\n",
        "print(dog_present)"
      ]
    },
    {
      "cell_type": "markdown",
      "metadata": {
        "id": "rjztOoSd6Z7U"
      },
      "source": [
        "If you want to know where a substring appears in a string, you can use the *find()* method. The *find()* method tells you the index at which the substring begins."
      ]
    },
    {
      "cell_type": "code",
      "execution_count": null,
      "metadata": {
        "id": "hh-V0e9j6Z7U",
        "outputId": "73b44c9c-9878-4ea4-d4ce-6f412853477e"
      },
      "outputs": [
        {
          "name": "stdout",
          "output_type": "stream",
          "text": [
            "16\n"
          ]
        }
      ],
      "source": [
        "message = \"I like cats and dogs.\"\n",
        "dog_index = message.find('dog')\n",
        "print(dog_index)"
      ]
    },
    {
      "cell_type": "markdown",
      "metadata": {
        "id": "OzG_1QxL6Z7U"
      },
      "source": [
        "Note, however, that this function only returns the index of the first appearance of the substring you are looking for. If the substring appears more than once, you will miss the other substrings."
      ]
    },
    {
      "cell_type": "code",
      "execution_count": null,
      "metadata": {
        "id": "86aIl6kt6Z7V",
        "outputId": "73d2d9a1-b5cb-4cf0-cecc-ade647f4155e"
      },
      "outputs": [
        {
          "name": "stdout",
          "output_type": "stream",
          "text": [
            "16\n"
          ]
        }
      ],
      "source": [
        "message = \"I like cats and dogs, but I'd much rather own a dog.\"\n",
        "dog_index = message.find('dog')\n",
        "print(dog_index)"
      ]
    },
    {
      "cell_type": "markdown",
      "metadata": {
        "id": "ETeYpSuw6Z7V"
      },
      "source": [
        "If you want to find the last appearance of a substring, you can use the *rfind()* function:"
      ]
    },
    {
      "cell_type": "code",
      "execution_count": null,
      "metadata": {
        "id": "xh5txRWj6Z7V",
        "outputId": "e7fb9680-74be-4bdd-81c0-62d1328fcab5"
      },
      "outputs": [
        {
          "name": "stdout",
          "output_type": "stream",
          "text": [
            "48\n"
          ]
        }
      ],
      "source": [
        "message = \"I like cats and dogs, but I'd much rather own a dog.\"\n",
        "last_dog_index = message.rfind('dog')\n",
        "print(last_dog_index)"
      ]
    },
    {
      "cell_type": "markdown",
      "metadata": {
        "id": "Ok70tnmy6Z7V"
      },
      "source": [
        "##6.104 Replacing substrings\n",
        "\n",
        "You can use the *replace()* function to replace any substring with another substring. To use the *replace()* function, give the substring you want to replace, and then the substring you want to replace it with. You also need to store the new string, either in the same string variable or in a new variable."
      ]
    },
    {
      "cell_type": "code",
      "execution_count": null,
      "metadata": {
        "id": "3azVBm5k6Z7W",
        "outputId": "f6033dec-3b4b-4f24-d8e6-0818f36c4ae9"
      },
      "outputs": [
        {
          "name": "stdout",
          "output_type": "stream",
          "text": [
            "I like cats and snakes, but I'd much rather own a snake.\n"
          ]
        }
      ],
      "source": [
        "message = \"I like cats and dogs, but I'd much rather own a dog.\"\n",
        "message = message.replace('dog', 'snake')\n",
        "print(message)"
      ]
    },
    {
      "cell_type": "markdown",
      "metadata": {
        "id": "h4gFv0Fw6Z7W"
      },
      "source": [
        "##6.105 Counting substrings\n",
        "\n",
        "If you want to know how many times a substring appears within a string, you can use the *count()* method."
      ]
    },
    {
      "cell_type": "code",
      "execution_count": null,
      "metadata": {
        "id": "EBIjKaaB6Z7X",
        "outputId": "b7a3eb40-b6ad-4db3-9228-400cd7e624e6"
      },
      "outputs": [
        {
          "name": "stdout",
          "output_type": "stream",
          "text": [
            "2\n"
          ]
        }
      ],
      "source": [
        "message = \"I like cats and dogs, but I'd much rather own a dog.\"\n",
        "number_dogs = message.count('dog')\n",
        "print(number_dogs)"
      ]
    },
    {
      "cell_type": "markdown",
      "metadata": {
        "id": "AMoxzm8N6Z7X"
      },
      "source": [
        "##6.106 Splitting strings\n",
        "\n",
        "Strings can be split into a set of substrings when they are separated by a repeated character. If a string consists of a simple sentence, the string can be split based on spaces. The *split()* function returns a list of substrings. The *split()* function takes one argument, the character that separates the parts of the string."
      ]
    },
    {
      "cell_type": "code",
      "execution_count": null,
      "metadata": {
        "id": "U-Khk0RZ6Z7X",
        "outputId": "caebae21-b10c-44c9-eeec-bc3372f6095b"
      },
      "outputs": [
        {
          "name": "stdout",
          "output_type": "stream",
          "text": [
            "['I', 'like', 'cats', 'and', 'dogs,', 'but', \"I'd\", 'much', 'rather', 'own', 'a', 'dog.']\n"
          ]
        }
      ],
      "source": [
        "message = \"I like cats and dogs, but I'd much rather own a dog.\"\n",
        "words = message.split(' ')\n",
        "print(words)"
      ]
    },
    {
      "cell_type": "markdown",
      "metadata": {
        "id": "40-RP3pP6Z7X"
      },
      "source": [
        "Notice that the punctuation is left in the substrings.\n",
        "\n",
        "It is more common to split strings that are really lists, separated by something like a comma. The *split()* function gives you an easy way to turn comma-separated strings, which you can't do much with in Python, into lists. Once you have your data in a list, you can work with it in much more powerful ways."
      ]
    },
    {
      "cell_type": "code",
      "execution_count": null,
      "metadata": {
        "id": "Y81pg5Rp6Z7Y",
        "outputId": "aa3a51e3-b8b4-492b-fb9b-b493cead9938"
      },
      "outputs": [
        {
          "name": "stdout",
          "output_type": "stream",
          "text": [
            "['dog', ' cat', ' tiger', ' mouse', ' liger', ' bear']\n"
          ]
        }
      ],
      "source": [
        "animals = \"dog, cat, tiger, mouse, liger, bear\"\n",
        "\n",
        "# Rewrite the string as a list, and store it in the same variable\n",
        "animals = animals.split(',')\n",
        "print(animals)"
      ]
    },
    {
      "cell_type": "markdown",
      "metadata": {
        "id": "y6sJipbO6Z7Y"
      },
      "source": [
        "Notice that in this case, the spaces are also ignored. It is a good idea to test the output of the *split()* function and make sure it is doing what you want with the data you are interested in.\n",
        "\n",
        "One use of this is to work with spreadsheet data in your Python programs. Most spreadsheet applications allow you to dump your data into a comma-separated text file. You can read this file into your Python program, or even copy and paste from the text file into your program file, and then turn the data into a list. You can then process your spreadsheet data using a *for* loop."
      ]
    },
    {
      "cell_type": "markdown",
      "metadata": {
        "id": "E8FBFw7P6Z7Y"
      },
      "source": [
        "##6.107 Other string methods\n",
        "\n",
        "There are a number of other string methods that we won't go into right here, but you might want to take a look at them. Most of these methods should make sense to you at this point. You might not have use for any of them right now, but it is good to know what you can do with strings. This way you will have a sense of how to solve certain problems, even if it means referring back to the list of methods to remind yourself how to write the correct syntax when you need it."
      ]
    },
    {
      "cell_type": "markdown",
      "metadata": {
        "id": "riB71ggU6Z7a"
      },
      "source": [
        "## Try it For Yourself\n",
        "\n",
        "#### Counting DNA Nucleotides\n",
        "- [Project Rosalind](http://rosalind.info/problems/locations/) is a [problem set](http://rosalind.info/problems/list-view/) based on biotechnology concepts. It is meant to show how programming skills can help solve problems in genetics and biology.\n",
        "- If you have understood this section on strings, you have enough information to solve the first problem in Project Rosalind, [Counting DNA Nucleotides](http://rosalind.info/problems/dna/). Give the sample problem a try.\n",
        "- If you get the sample problem correct, log in and try the full version of the problem!\n",
        "\n",
        "#### Transcribing DNA into RNA\n",
        "- You also have enough information to try the second problem, [Transcribing DNA into RNA](http://rosalind.info/problems/rna/). Solve the sample problem.\n",
        "- If you solved the sample problem, log in and try the full version!\n",
        "\n",
        "#### Complementing a Strand of DNA\n",
        "- You guessed it, you can now try the third problem as well: [Complementing a Strand of DNA](http://rosalind.info/problems/revc/). Try the sample problem, and then try the full version if you are successful."
      ]
    },
    {
      "cell_type": "markdown",
      "metadata": {
        "id": "1sHseIb-6Z7b"
      },
      "source": [
        "#6.11 Tuples\n",
        "\n",
        "Tuples are basically lists that can never be changed. Lists are quite dynamic; they can grow as you append and insert items, and they can shrink as you remove items. You can modify any element you want to in a list. Sometimes we like this behavior, but other times we may want to ensure that no user or no part of a program can change a list. That's what tuples are for.\n",
        "\n",
        "Technically, lists are *mutable* objects and tuples are *immutable* objects. Mutable objects can change (think of *mutations*), and immutable objects can not change."
      ]
    },
    {
      "cell_type": "markdown",
      "metadata": {
        "id": "nPI5mYAn6Z7b"
      },
      "source": [
        "##6.111 Defining tuples, and accessing elements\n",
        "\n",
        "\n",
        "You define a tuple just like you define a list, except you use parentheses instead of square brackets. Once you have a tuple, you can access individual elements just like you can with a list, and you can loop through the tuple with a *for* loop:"
      ]
    },
    {
      "cell_type": "code",
      "execution_count": null,
      "metadata": {
        "id": "OwffmI3i6Z7b",
        "outputId": "f0d24a6b-eb5b-47ed-e3b4-8aeee85a7a51"
      },
      "outputs": [
        {
          "name": "stdout",
          "output_type": "stream",
          "text": [
            "The first color is: red\n",
            "\n",
            "The available colors are:\n",
            "- red\n",
            "- green\n",
            "- blue\n"
          ]
        }
      ],
      "source": [
        "colors = ('red', 'green', 'blue')\n",
        "print(\"The first color is: \" + colors[0])\n",
        "\n",
        "print(\"\\nThe available colors are:\")\n",
        "for color in colors:\n",
        "    print(\"- \" + color)"
      ]
    },
    {
      "cell_type": "markdown",
      "metadata": {
        "id": "duc38VNu6Z7b"
      },
      "source": [
        "If you try to add something to a tuple, you will get an error:"
      ]
    },
    {
      "cell_type": "code",
      "execution_count": null,
      "metadata": {
        "id": "sRLkDX5M6Z7b",
        "outputId": "0f6707b4-1e3b-4633-e834-d0722fb1f848"
      },
      "outputs": [
        {
          "ename": "AttributeError",
          "evalue": "'tuple' object has no attribute 'append'",
          "output_type": "error",
          "traceback": [
            "\u001b[0;31m---------------------------------------------------------------------------\u001b[0m\n\u001b[0;31mAttributeError\u001b[0m                            Traceback (most recent call last)",
            "\u001b[0;32m<ipython-input-37-ed1dbff53ab2>\u001b[0m in \u001b[0;36m<module>\u001b[0;34m()\u001b[0m\n\u001b[1;32m      1\u001b[0m \u001b[0mcolors\u001b[0m \u001b[0;34m=\u001b[0m \u001b[0;34m(\u001b[0m\u001b[0;34m'red'\u001b[0m\u001b[0;34m,\u001b[0m \u001b[0;34m'green'\u001b[0m\u001b[0;34m,\u001b[0m \u001b[0;34m'blue'\u001b[0m\u001b[0;34m)\u001b[0m\u001b[0;34m\u001b[0m\u001b[0m\n\u001b[0;32m----> 2\u001b[0;31m \u001b[0mcolors\u001b[0m\u001b[0;34m.\u001b[0m\u001b[0mappend\u001b[0m\u001b[0;34m(\u001b[0m\u001b[0;34m'purple'\u001b[0m\u001b[0;34m)\u001b[0m\u001b[0;34m\u001b[0m\u001b[0m\n\u001b[0m",
            "\u001b[0;31mAttributeError\u001b[0m: 'tuple' object has no attribute 'append'"
          ]
        }
      ],
      "source": [
        "colors = ('red', 'green', 'blue')\n",
        "colors.append('purple')"
      ]
    },
    {
      "cell_type": "markdown",
      "metadata": {
        "id": "6kEI2p106Z7c"
      },
      "source": [
        "The same kind of thing happens when you try to remove something from a tuple, or modify one of its elements. Once you define a tuple, you can be confident that its values will not change."
      ]
    },
    {
      "cell_type": "markdown",
      "metadata": {
        "id": "I4Ll-qIH6Z7c"
      },
      "source": [
        "##6.112 Using tuples to make strings\n",
        "\n",
        "We have seen that it is pretty useful to be able to mix raw English strings with values that are stored in variables, as in the following:"
      ]
    },
    {
      "cell_type": "code",
      "execution_count": null,
      "metadata": {
        "id": "wDZJqK3P6Z7c",
        "outputId": "0e1eae4f-bd0f-4d39-ea09-c1fbb584d06a"
      },
      "outputs": [
        {
          "name": "stdout",
          "output_type": "stream",
          "text": [
            "I have a dog.\n"
          ]
        }
      ],
      "source": [
        "animal = 'dog'\n",
        "print(\"I have a \" + animal + \".\")"
      ]
    },
    {
      "cell_type": "markdown",
      "metadata": {
        "id": "SyiZ87YD6Z7c"
      },
      "source": [
        "This was especially useful when we had a series of similar statements to make:"
      ]
    },
    {
      "cell_type": "code",
      "execution_count": null,
      "metadata": {
        "id": "ULdKfxyc6Z7c",
        "outputId": "7e0de9ac-bf6e-4a5c-b1db-c8411170f91c"
      },
      "outputs": [
        {
          "name": "stdout",
          "output_type": "stream",
          "text": [
            "I have a dog.\n",
            "I have a cat.\n",
            "I have a bear.\n"
          ]
        }
      ],
      "source": [
        "animals = ['dog', 'cat', 'bear']\n",
        "for animal in animals:\n",
        "    print(\"I have a \" + animal + \".\")"
      ]
    },
    {
      "cell_type": "markdown",
      "metadata": {
        "id": "Tt0he44m6Z7d"
      },
      "source": [
        "I like this approach of using the plus sign to build strings because it is fairly intuitive. We can see that we are adding several smaller strings together to make one longer string. This is intuitive, but it is a lot of typing. There is a shorter way to do this, using *placeholders*.\n",
        "\n",
        "Python ignores most of the characters we put inside of strings. There are a few characters that Python pays attention to, as we saw with strings such as \"\\t\" and \"\\n\". Python also pays attention to \"%s\" and \"%d\". These are placeholders. When Python sees the \"%s\" placeholder, it looks ahead and pulls in the first argument after the % sign:"
      ]
    },
    {
      "cell_type": "code",
      "execution_count": null,
      "metadata": {
        "id": "SohErPQ26Z7d",
        "outputId": "0fadec7c-28d9-4a73-f6d5-17f3b8c0df14"
      },
      "outputs": [
        {
          "name": "stdout",
          "output_type": "stream",
          "text": [
            "I have a dog.\n"
          ]
        }
      ],
      "source": [
        "animal = 'dog'\n",
        "print(\"I have a %s.\" % animal)"
      ]
    },
    {
      "cell_type": "markdown",
      "metadata": {
        "id": "fKebaZaA6Z7d"
      },
      "source": [
        "This is a much cleaner way of generating strings that include values. We compose our sentence all in one string, and then tell Python what values to pull into the string, in the appropriate places.\n",
        "\n",
        "This is called *string formatting*, and it looks the same when you use a list:"
      ]
    },
    {
      "cell_type": "code",
      "execution_count": null,
      "metadata": {
        "id": "lxdO7RL-6Z7d",
        "outputId": "154aca7d-1a1b-4d9d-8a20-f040f706ad95"
      },
      "outputs": [
        {
          "name": "stdout",
          "output_type": "stream",
          "text": [
            "I have a dog.\n",
            "I have a cat.\n",
            "I have a bear.\n"
          ]
        }
      ],
      "source": [
        "animals = ['dog', 'cat', 'bear']\n",
        "for animal in animals:\n",
        "    print(\"I have a %s.\" % animal)"
      ]
    },
    {
      "cell_type": "markdown",
      "metadata": {
        "id": "T8kdgr9m6Z7e"
      },
      "source": [
        "If you have more than one value to put into the string you are composing, you have to pack the values into a tuple:"
      ]
    },
    {
      "cell_type": "code",
      "execution_count": null,
      "metadata": {
        "id": "TozroQAX6Z7e",
        "outputId": "0abd7660-0ca6-4b67-960e-fee670ebb0d2"
      },
      "outputs": [
        {
          "name": "stdout",
          "output_type": "stream",
          "text": [
            "I have a dog, a cat, and a bear.\n"
          ]
        }
      ],
      "source": [
        "animals = ['dog', 'cat', 'bear']\n",
        "print(\"I have a %s, a %s, and a %s.\" % (animals[0], animals[1], animals[2]))"
      ]
    },
    {
      "cell_type": "markdown",
      "metadata": {
        "id": "P-3Jmo1r6Z7e"
      },
      "source": [
        "##6.113 String formatting with numbers\n",
        "\n",
        "If you recall, printing a number with a string can cause an error:"
      ]
    },
    {
      "cell_type": "code",
      "execution_count": null,
      "metadata": {
        "id": "AXNJqef76Z7f",
        "outputId": "b539c471-3e4b-4a80-d7f9-0985091a07b0"
      },
      "outputs": [
        {
          "ename": "TypeError",
          "evalue": "cannot concatenate 'str' and 'int' objects",
          "output_type": "error",
          "traceback": [
            "\u001b[0;31m---------------------------------------------------------------------------\u001b[0m\n\u001b[0;31mTypeError\u001b[0m                                 Traceback (most recent call last)",
            "\u001b[0;32m<ipython-input-47-1ed2c5bb2bba>\u001b[0m in \u001b[0;36m<module>\u001b[0;34m()\u001b[0m\n\u001b[1;32m      1\u001b[0m \u001b[0mnumber\u001b[0m \u001b[0;34m=\u001b[0m \u001b[0;36m23\u001b[0m\u001b[0;34m\u001b[0m\u001b[0m\n\u001b[0;32m----> 2\u001b[0;31m \u001b[0;32mprint\u001b[0m\u001b[0;34m(\u001b[0m\u001b[0;34m\"My favorite number is \"\u001b[0m \u001b[0;34m+\u001b[0m \u001b[0mnumber\u001b[0m \u001b[0;34m+\u001b[0m \u001b[0;34m\".\"\u001b[0m\u001b[0;34m)\u001b[0m\u001b[0;34m\u001b[0m\u001b[0m\n\u001b[0m",
            "\u001b[0;31mTypeError\u001b[0m: cannot concatenate 'str' and 'int' objects"
          ]
        }
      ],
      "source": [
        "number = 23\n",
        "print(\"My favorite number is \" + number + \".\")"
      ]
    },
    {
      "cell_type": "markdown",
      "metadata": {
        "id": "YfyqKAJ-6Z7f"
      },
      "source": [
        "Python knows that you could be talking about the value 23, or the characters '23'. So it throws an error, forcing us to clarify that we want Python to treat the number as a string. We do this by casting the number into a string using the str() function:"
      ]
    },
    {
      "cell_type": "code",
      "execution_count": null,
      "metadata": {
        "id": "dr7z2M456Z7f",
        "outputId": "a68da1a2-9c9f-48e0-b3b4-c3e6c854f803"
      },
      "outputs": [
        {
          "name": "stdout",
          "output_type": "stream",
          "text": [
            "My favorite number is 23.\n"
          ]
        }
      ],
      "source": [
        "number = 23\n",
        "print(\"My favorite number is \" + str(number) + \".\")"
      ]
    },
    {
      "cell_type": "markdown",
      "metadata": {
        "id": "Z56i5m636Z7f"
      },
      "source": [
        "The format string \"%d\" takes care of this for us. Watch how clean this code is:"
      ]
    },
    {
      "cell_type": "code",
      "execution_count": null,
      "metadata": {
        "id": "T56Iu3yJ6Z7g",
        "outputId": "78f8fe7e-badb-44b5-b971-c8ee1994e498"
      },
      "outputs": [
        {
          "name": "stdout",
          "output_type": "stream",
          "text": [
            "My favorite number is 23.\n"
          ]
        }
      ],
      "source": [
        "number = 23\n",
        "print(\"My favorite number is %d.\" % number)"
      ]
    },
    {
      "cell_type": "markdown",
      "metadata": {
        "id": "TFpqySfq6Z7g"
      },
      "source": [
        "If you want to use a series of numbers, you pack them into a tuple just like we saw with strings:"
      ]
    },
    {
      "cell_type": "code",
      "execution_count": null,
      "metadata": {
        "id": "DFSv7A6U6Z7g",
        "outputId": "fd95d8dd-37f0-45a6-e50a-f53bcc796783"
      },
      "outputs": [
        {
          "name": "stdout",
          "output_type": "stream",
          "text": [
            "My favorite numbers are 7, 23, and 42.\n"
          ]
        }
      ],
      "source": [
        "numbers = [7, 23, 42]\n",
        "print(\"My favorite numbers are %d, %d, and %d.\" % (numbers[0], numbers[1], numbers[2]))"
      ]
    },
    {
      "cell_type": "markdown",
      "metadata": {
        "id": "PLVJiO386Z7g"
      },
      "source": [
        "Just for clarification, look at how much longer the code is if you use concatenation instead of string formatting:"
      ]
    },
    {
      "cell_type": "code",
      "execution_count": null,
      "metadata": {
        "id": "ABpKO9Wz6Z7g",
        "outputId": "dbca6c37-acd0-49fb-80a7-c640e9b937c0"
      },
      "outputs": [
        {
          "name": "stdout",
          "output_type": "stream",
          "text": [
            "My favorite numbers are 7, 23, and 42.\n"
          ]
        }
      ],
      "source": [
        "numbers = [7, 23, 42]\n",
        "print(\"My favorite numbers are \" + str(numbers[0]) + \", \" + str(numbers[1]) + \", and \" + str(numbers[2]) + \".\")"
      ]
    },
    {
      "cell_type": "markdown",
      "metadata": {
        "id": "-Yw9xUU46Z7h"
      },
      "source": [
        "You can mix string and numerical placeholders in any order you want."
      ]
    },
    {
      "cell_type": "code",
      "execution_count": null,
      "metadata": {
        "id": "bvdZBzEn6Z7h",
        "outputId": "d1d3f760-b2be-4aab-d302-1393ab4409ea"
      },
      "outputs": [
        {
          "name": "stdout",
          "output_type": "stream",
          "text": [
            "Eric's favorite number is 23, and Ever's favorite number is 2.\n"
          ]
        }
      ],
      "source": [
        "names = ['eric', 'ever']\n",
        "numbers = [23, 2]\n",
        "print(\"%s's favorite number is %d, and %s's favorite number is %d.\" % (names[0].title(), numbers[0], names[1].title(), numbers[1]))"
      ]
    },
    {
      "cell_type": "markdown",
      "metadata": {
        "id": "ke19_cjk6Z7h"
      },
      "source": [
        "There are more sophisticated ways to do string formatting in Python 3, but we will save that for later because it's a bit less intuitive than this approach. For now, you can use whichever approach consistently gets you the output that you want to see."
      ]
    },
    {
      "cell_type": "code",
      "execution_count": null,
      "metadata": {
        "id": "8VKA43tW6Z7i"
      },
      "outputs": [],
      "source": [
        "# Ex 3.26 : Gymnast Scores\n",
        "\n",
        "# put your code here"
      ]
    },
    {
      "cell_type": "code",
      "execution_count": null,
      "metadata": {
        "id": "deS4xWRL6Z7i"
      },
      "outputs": [],
      "source": [
        "# Ex 3.27 : Revision with Tuples\n",
        "\n",
        "# put your code here"
      ]
    },
    {
      "cell_type": "markdown",
      "metadata": {
        "id": "W2Xca8o26Z7i"
      },
      "source": [
        "#6.12 Sets\n",
        "\n",
        "\n",
        "A set object is an unordered collection of distinct hashable objects. Common uses include membership testing, removing duplicates from a sequence, and computing mathematical operations such as intersection, union, difference, and symmetric difference."
      ]
    },
    {
      "cell_type": "code",
      "execution_count": null,
      "metadata": {
        "id": "M3oZffGr6Z7i",
        "outputId": "3cc0c1d1-b13d-4866-9f08-4a227481007a"
      },
      "outputs": [
        {
          "data": {
            "text/plain": [
              "{'circle', 'square', 'triangle'}"
            ]
          },
          "execution_count": 1,
          "metadata": {},
          "output_type": "execute_result"
        }
      ],
      "source": [
        "shapes = ['circle','square','triangle','circle']\n",
        "set_of_shapes = set(shapes)\n",
        "set_of_shapes"
      ]
    },
    {
      "cell_type": "code",
      "execution_count": null,
      "metadata": {
        "id": "_nfoQ00R6Z7j",
        "outputId": "1d272119-e983-4eff-97e0-20fda5980e97"
      },
      "outputs": [
        {
          "name": "stdout",
          "output_type": "stream",
          "text": [
            "circle\n",
            "square\n",
            "polygon\n",
            "triangle\n"
          ]
        }
      ],
      "source": [
        "shapes = {'circle','square','triangle','circle'}\n",
        "for shape in set_of_shapes:\n",
        "    print(shape)"
      ]
    },
    {
      "cell_type": "code",
      "execution_count": null,
      "metadata": {
        "id": "Rw8whSx26Z7j",
        "outputId": "97feef60-c851-4715-91a7-f64ffed37cfc"
      },
      "outputs": [
        {
          "name": "stdout",
          "output_type": "stream",
          "text": [
            "{'circle', 'square', 'polygon', 'triangle'}\n"
          ]
        }
      ],
      "source": [
        "set_of_shapes.add('polygon') \n",
        "print(set_of_shapes)"
      ]
    },
    {
      "cell_type": "markdown",
      "metadata": {
        "id": "40vEmz_66Z7j"
      },
      "source": [
        "##6.121 Exists (Check)"
      ]
    },
    {
      "cell_type": "code",
      "execution_count": null,
      "metadata": {
        "id": "6FCx253X6Z7j",
        "outputId": "1aaca55f-559f-4884-bc6b-fb7db9473220"
      },
      "outputs": [
        {
          "name": "stdout",
          "output_type": "stream",
          "text": [
            "Circle is in the set:  True\n",
            "Rhombus is in the set: False\n"
          ]
        }
      ],
      "source": [
        "# Test if circle is IN the set (i.e. exist)\n",
        "print('Circle is in the set: ', ('circle' in set_of_shapes))\n",
        "print('Rhombus is in the set:', ('rhombus' in set_of_shapes))"
      ]
    },
    {
      "cell_type": "markdown",
      "metadata": {
        "id": "hXIMgS3A6Z7j"
      },
      "source": [
        "##6.122 Operations"
      ]
    },
    {
      "cell_type": "code",
      "execution_count": null,
      "metadata": {
        "id": "aFwXyac36Z7k",
        "outputId": "5e385c77-72f4-49d2-ce08-2e876f02daf7"
      },
      "outputs": [
        {
          "data": {
            "text/plain": [
              "{'circle', 'triangle'}"
            ]
          },
          "execution_count": 3,
          "metadata": {},
          "output_type": "execute_result"
        }
      ],
      "source": [
        "favourites_shapes = set(['circle','triangle','hexagon'])\n",
        "\n",
        "# Intersection\n",
        "set_of_shapes.intersection(favourites_shapes)"
      ]
    },
    {
      "cell_type": "code",
      "execution_count": null,
      "metadata": {
        "id": "FE2_C0oj6Z7k",
        "outputId": "ad8a089b-688a-44de-ad85-226bc068099d"
      },
      "outputs": [
        {
          "data": {
            "text/plain": [
              "{'circle', 'hexagon', 'square', 'triangle'}"
            ]
          },
          "execution_count": 4,
          "metadata": {},
          "output_type": "execute_result"
        }
      ],
      "source": [
        "# Union\n",
        "set_of_shapes.union(favourites_shapes)"
      ]
    },
    {
      "cell_type": "code",
      "execution_count": null,
      "metadata": {
        "id": "VN6JZp5_6Z7k",
        "outputId": "8cb87570-ae88-4e9a-d50f-a1d99e876b49"
      },
      "outputs": [
        {
          "data": {
            "text/plain": [
              "{'square'}"
            ]
          },
          "execution_count": 5,
          "metadata": {},
          "output_type": "execute_result"
        }
      ],
      "source": [
        "# Difference\n",
        "set_of_shapes.difference(favourites_shapes)"
      ]
    },
    {
      "cell_type": "markdown",
      "source": [
        "#EXERCISES"
      ],
      "metadata": {
        "id": "OI4PUQrzJb6W"
      }
    },
    {
      "cell_type": "markdown",
      "source": [
        "## **QUES-1 Addition**\n",
        "\n",
        "Write a Python program to sum all the items in a list."
      ],
      "metadata": {
        "id": "DNH12XxAPGPd"
      }
    },
    {
      "cell_type": "code",
      "source": [
        "def sum_list(items):\n",
        "    sum_numbers = 0\n",
        "    for x in items:\n",
        "        sum_numbers += x\n",
        "    return sum_numbers\n",
        "print(sum_list([1,2,-8]))"
      ],
      "metadata": {
        "colab": {
          "base_uri": "https://localhost:8080/"
        },
        "id": "nV9kKB36wbBC",
        "outputId": "05f43f1f-714b-4c5d-9160-16c54f734b0f"
      },
      "execution_count": null,
      "outputs": [
        {
          "output_type": "stream",
          "name": "stdout",
          "text": [
            "-5\n"
          ]
        }
      ]
    },
    {
      "cell_type": "markdown",
      "source": [
        "##**QUES-2 Multiplication**\n",
        "\n",
        "Write a Python program to multiply all the items in a list."
      ],
      "metadata": {
        "id": "fJpvMMDixbyL"
      }
    },
    {
      "cell_type": "code",
      "source": [
        "def multiply_list(items):\n",
        "    tot = 1\n",
        "    for x in items:\n",
        "        tot *= x\n",
        "    return tot\n",
        "print(multiply_list([1,2,-8]))"
      ],
      "metadata": {
        "colab": {
          "base_uri": "https://localhost:8080/"
        },
        "id": "Dg_SVXEPxegq",
        "outputId": "1429e078-44bd-48d8-aec8-9445645af973"
      },
      "execution_count": null,
      "outputs": [
        {
          "output_type": "stream",
          "name": "stdout",
          "text": [
            "-16\n"
          ]
        }
      ]
    },
    {
      "cell_type": "markdown",
      "source": [
        "##**QUES-3 Largest Number**\n",
        "\n",
        "Write a Python program to get the largest number from a list."
      ],
      "metadata": {
        "id": "Wbww4mSyxkKW"
      }
    },
    {
      "cell_type": "code",
      "source": [
        "def max_num_in_list( list ):\n",
        "    max = list[ 0 ]\n",
        "    for a in list:\n",
        "        if a > max:\n",
        "            max = a\n",
        "    return max\n",
        "print(max_num_in_list([1, 2, -8, 0]))\n"
      ],
      "metadata": {
        "colab": {
          "base_uri": "https://localhost:8080/"
        },
        "id": "5R4-cHVLxkKX",
        "outputId": "05895b72-5e89-4169-f078-1cec0e57f183"
      },
      "execution_count": null,
      "outputs": [
        {
          "output_type": "stream",
          "name": "stdout",
          "text": [
            "2\n"
          ]
        }
      ]
    },
    {
      "cell_type": "markdown",
      "source": [
        "##**QUES-4 Counting Strings**\n",
        "\n",
        "Write a Python program to count the number of strings where the string length is 2 or more and the first and last character are same from a given list of strings.\n",
        "```\n",
        "Sample List : ['abc', 'xyz', 'aba', '1221']\n",
        "```"
      ],
      "metadata": {
        "id": "5t7K9yhNPaSN"
      }
    },
    {
      "cell_type": "code",
      "source": [
        "def match_words(words):\n",
        "  ctr = 0\n",
        "\n",
        "  for word in words:\n",
        "    if len(word) > 1 and word[0] == word[-1]:\n",
        "      ctr += 1\n",
        "  return ctr\n",
        "\n",
        "print(match_words(['abc', 'xyz', 'aba', '1221']))"
      ],
      "metadata": {
        "colab": {
          "base_uri": "https://localhost:8080/"
        },
        "id": "bxKUSBWFxkj9",
        "outputId": "e89f4917-bbe0-44fd-bd89-85f96938163b"
      },
      "execution_count": null,
      "outputs": [
        {
          "output_type": "stream",
          "name": "stdout",
          "text": [
            "2\n"
          ]
        }
      ]
    },
    {
      "cell_type": "markdown",
      "source": [
        "##**QUES-5 Remove Duplicates**\n",
        "Write a Python program to remove duplicates from a list."
      ],
      "metadata": {
        "id": "h7lDTVucxkti"
      }
    },
    {
      "cell_type": "code",
      "source": [
        "a = [10,20,30,20,10,50,60,40,80,50,40]\n",
        "\n",
        "dup_items = set()\n",
        "uniq_items = []\n",
        "for x in a:\n",
        "    if x not in dup_items:\n",
        "        uniq_items.append(x)\n",
        "        dup_items.add(x)\n",
        "\n",
        "print(dup_items)"
      ],
      "metadata": {
        "colab": {
          "base_uri": "https://localhost:8080/"
        },
        "id": "-KQ6ychZzWy3",
        "outputId": "b1116d7a-f1db-4360-ee0b-84fbdc302326"
      },
      "execution_count": null,
      "outputs": [
        {
          "output_type": "stream",
          "name": "stdout",
          "text": [
            "{40, 10, 80, 50, 20, 60, 30}\n"
          ]
        }
      ]
    },
    {
      "cell_type": "markdown",
      "source": [
        "##**QUES-6 Empty List?**\n",
        "\n",
        " Write a Python program to check a list is empty or not."
      ],
      "metadata": {
        "id": "NVY4AlLlxlST"
      }
    },
    {
      "cell_type": "code",
      "source": [
        "l = []\n",
        "if not l:\n",
        "  print(\"List is empty\")"
      ],
      "metadata": {
        "colab": {
          "base_uri": "https://localhost:8080/"
        },
        "id": "raFMRl4NxlST",
        "outputId": "9f88d1fa-8efb-4918-d679-f1d9beb047b8"
      },
      "execution_count": null,
      "outputs": [
        {
          "output_type": "stream",
          "name": "stdout",
          "text": [
            "List is empty\n"
          ]
        }
      ]
    },
    {
      "cell_type": "markdown",
      "source": [
        "##**QUES-7 List Cloning**\n",
        "\n",
        "Write a Python program to clone or copy a list."
      ],
      "metadata": {
        "id": "vBiGZIK_xldQ"
      }
    },
    {
      "cell_type": "code",
      "source": [
        "original_list = [10, 22, 44, 23, 4]\n",
        "new_list = list(original_list)\n",
        "print(original_list)\n",
        "print(new_list)"
      ],
      "metadata": {
        "colab": {
          "base_uri": "https://localhost:8080/"
        },
        "id": "bRISmp4RxldR",
        "outputId": "44345e00-a35e-40c4-b36a-992494c2b432"
      },
      "execution_count": null,
      "outputs": [
        {
          "output_type": "stream",
          "name": "stdout",
          "text": [
            "[10, 22, 44, 23, 4]\n",
            "[10, 22, 44, 23, 4]\n"
          ]
        }
      ]
    },
    {
      "cell_type": "markdown",
      "source": [
        "##**QUES-8 Longer than *n***\n",
        "\n",
        "Write a Python program to find the list of words that are longer than n from a given list of words.\n",
        "```\n",
        "str1 = The quick brown fox jumps over the lazy dog\n",
        "```"
      ],
      "metadata": {
        "id": "SMO9Po-jP_Z-"
      }
    },
    {
      "cell_type": "code",
      "source": [
        "def long_words(n, str):\n",
        "    word_len = []\n",
        "    txt = str.split(\" \")\n",
        "    for x in txt:\n",
        "        if len(x) > n:\n",
        "            word_len.append(x)\n",
        "    return word_len\t\n",
        "print(long_words(3, \"The quick brown fox jumps over the lazy dog\"))"
      ],
      "metadata": {
        "colab": {
          "base_uri": "https://localhost:8080/"
        },
        "id": "3Z-qoYsrxlo3",
        "outputId": "16f2bee3-5faa-43b3-df69-5614c332f70e"
      },
      "execution_count": null,
      "outputs": [
        {
          "output_type": "stream",
          "name": "stdout",
          "text": [
            "['quick', 'brown', 'jumps', 'over', 'lazy']\n"
          ]
        }
      ]
    },
    {
      "cell_type": "markdown",
      "source": [
        "##**QUES-9 Common Member**\n",
        "\n",
        "Write a Python function that takes two lists and returns True if they have at least one common member.\n",
        "```\n",
        "list1 = [1,2,3,4,5], [5,6,7,8,9]\n",
        "list2 = [1,2,3,4,5], [6,7,8,9]\n",
        "```"
      ],
      "metadata": {
        "id": "HgWUs7y5xl0A"
      }
    },
    {
      "cell_type": "code",
      "source": [
        "def common_data(list1, list2):\n",
        "     result = False\n",
        "     for x in list1:\n",
        "         for y in list2:\n",
        "             if x == y:\n",
        "                 result = True\n",
        "                 return result\n",
        "print(common_data([1,2,3,4,5], [5,6,7,8,9]))\n",
        "print(common_data([1,2,3,4,5], [6,7,8,9]))"
      ],
      "metadata": {
        "colab": {
          "base_uri": "https://localhost:8080/"
        },
        "id": "uh_8TnZAxl0A",
        "outputId": "eaec1b14-06d0-46e6-a33d-6b739c63b2d6"
      },
      "execution_count": null,
      "outputs": [
        {
          "output_type": "stream",
          "name": "stdout",
          "text": [
            "True\n",
            "None\n"
          ]
        }
      ]
    },
    {
      "cell_type": "markdown",
      "source": [
        "##**QUES-10 Remove & Print**\n",
        "\n",
        "Write a Python program to print a specified list after removing the 0th, 4th and 5th elements.\n",
        "```\n",
        "Sample List : ['Red', 'Green', 'White', 'Black', 'Pink', 'Yellow']\n",
        "```"
      ],
      "metadata": {
        "id": "nbIJe8t_xl_I"
      }
    },
    {
      "cell_type": "code",
      "source": [
        "color = ['Red', 'Green', 'White', 'Black', 'Pink', 'Yellow']\n",
        "color = [x for (i,x) in enumerate(color) if i not in (0,4,5)]\n",
        "print(color)"
      ],
      "metadata": {
        "colab": {
          "base_uri": "https://localhost:8080/"
        },
        "id": "p8pmLteNxl_J",
        "outputId": "5b1fbaad-4d48-41f8-ec03-0051242b5605"
      },
      "execution_count": null,
      "outputs": [
        {
          "output_type": "stream",
          "name": "stdout",
          "text": [
            "['Green', 'White', 'Black']\n"
          ]
        }
      ]
    },
    {
      "cell_type": "markdown",
      "source": [
        "##**QUES-11 3D Array**\n",
        "\n",
        "Write a Python program to generate a 3*4*6 3D array whose each element is *."
      ],
      "metadata": {
        "id": "eOuw-1tnxmNL"
      }
    },
    {
      "cell_type": "code",
      "source": [
        "array = [[ ['*' for col in range(6)] for col in range(4)] for row in range(3)]\n",
        "print(array)"
      ],
      "metadata": {
        "colab": {
          "base_uri": "https://localhost:8080/"
        },
        "id": "rws-_cSNxmNM",
        "outputId": "d6ddecea-facf-49f2-f7fa-8509c59b61c9"
      },
      "execution_count": null,
      "outputs": [
        {
          "output_type": "stream",
          "name": "stdout",
          "text": [
            "[[['*', '*', '*', '*', '*', '*'], ['*', '*', '*', '*', '*', '*'], ['*', '*', '*', '*', '*', '*'], ['*', '*', '*', '*', '*', '*']], [['*', '*', '*', '*', '*', '*'], ['*', '*', '*', '*', '*', '*'], ['*', '*', '*', '*', '*', '*'], ['*', '*', '*', '*', '*', '*']], [['*', '*', '*', '*', '*', '*'], ['*', '*', '*', '*', '*', '*'], ['*', '*', '*', '*', '*', '*'], ['*', '*', '*', '*', '*', '*']]]\n"
          ]
        }
      ]
    },
    {
      "cell_type": "markdown",
      "source": [
        "##**QUES-12 List Shuffling**\n",
        "\n",
        "Write a Python program to shuffle and print a specified list.\n",
        "\n",
        "Sample List:\n",
        "```\n",
        "color = ['Red', 'Green', 'White', 'Black', 'Pink', 'Yellow']\n",
        "```"
      ],
      "metadata": {
        "id": "0GjnHgNPxmYK"
      }
    },
    {
      "cell_type": "code",
      "source": [
        "from random import shuffle\n",
        "color = ['Red', 'Green', 'White', 'Black', 'Pink', 'Yellow']\n",
        "shuffle(color)\n",
        "print(color)"
      ],
      "metadata": {
        "colab": {
          "base_uri": "https://localhost:8080/"
        },
        "id": "8YZYFkHPxmYK",
        "outputId": "f943eafd-241c-4dd1-e3fb-d805bae329c3"
      },
      "execution_count": null,
      "outputs": [
        {
          "output_type": "stream",
          "name": "stdout",
          "text": [
            "['Black', 'Red', 'Pink', 'Green', 'Yellow', 'White']\n"
          ]
        }
      ]
    },
    {
      "cell_type": "markdown",
      "source": [
        "##**QUES-13 Printing Squares**\n",
        "\n",
        "Write a Python program to generate and print a list of first and last 5 elements where the values are square of numbers between 1 and 30 (both included)."
      ],
      "metadata": {
        "id": "e57dBB2EptWX"
      }
    },
    {
      "cell_type": "code",
      "source": [
        "def printValues():\n",
        "\tl = list()\n",
        "\tfor i in range(1,21):\n",
        "\t\tl.append(i**2)\n",
        "\tprint(l[:5])\n",
        "\tprint(l[-5:])\n",
        "\n",
        "printValues()"
      ],
      "metadata": {
        "colab": {
          "base_uri": "https://localhost:8080/"
        },
        "id": "zPaX_brrxmiy",
        "outputId": "57c88c0b-06e7-42a2-c02e-1ae0d6ede593"
      },
      "execution_count": null,
      "outputs": [
        {
          "output_type": "stream",
          "name": "stdout",
          "text": [
            "[1, 4, 9, 16, 25]\n",
            "[256, 289, 324, 361, 400]\n"
          ]
        }
      ]
    },
    {
      "cell_type": "markdown",
      "source": [
        "##**QUES-14 Printing Squares**\n",
        "\n",
        "Write a Python program to generate and print a list except for the first 8 elements, where the values are square of numbers between 5 and 42 (both included)."
      ],
      "metadata": {
        "id": "SEWr903KxmuE"
      }
    },
    {
      "cell_type": "code",
      "source": [
        "def printValues():\n",
        "\tl = list()\n",
        "\tfor i in range(6,43):\n",
        "\t\tl.append(i**2)\n",
        "\tprint(l[8:])\n",
        "printValues()"
      ],
      "metadata": {
        "colab": {
          "base_uri": "https://localhost:8080/"
        },
        "id": "TBQBvPBKxmuE",
        "outputId": "86f0a4ff-042f-4d1c-c9a7-d94155baf852"
      },
      "execution_count": null,
      "outputs": [
        {
          "output_type": "stream",
          "name": "stdout",
          "text": [
            "[196, 225, 256, 289, 324, 361, 400, 441, 484, 529, 576, 625, 676, 729, 784, 841, 900, 961, 1024, 1089, 1156, 1225, 1296, 1369, 1444, 1521, 1600, 1681, 1764]\n"
          ]
        }
      ]
    },
    {
      "cell_type": "markdown",
      "source": [
        "##**QUES-15 Permutations**\n",
        "\n",
        "Write a Python program to generate all permutations of a list containing elements 1,2 & 3 in Python. "
      ],
      "metadata": {
        "id": "ocY9XtCLp_eC"
      }
    },
    {
      "cell_type": "code",
      "source": [
        "import itertools\n",
        "print(list(itertools.permutations([1,2,3])))"
      ],
      "metadata": {
        "colab": {
          "base_uri": "https://localhost:8080/"
        },
        "id": "1Iv0XT1uxm3E",
        "outputId": "62ddc347-7358-4425-cfb3-ceb27a66616e"
      },
      "execution_count": null,
      "outputs": [
        {
          "output_type": "stream",
          "name": "stdout",
          "text": [
            "[(1, 2, 3), (1, 3, 2), (2, 1, 3), (2, 3, 1), (3, 1, 2), (3, 2, 1)]\n"
          ]
        }
      ]
    },
    {
      "cell_type": "markdown",
      "source": [
        "##**QUES-16 Difference Between Lists**\n",
        "\n",
        "Write a Python program to get the difference between the two lists.\n",
        "```\n",
        "list1 = [1, 3, 5, 7, 9]\n",
        "list2=[1, 2, 4, 6, 7, 8]\n",
        "```"
      ],
      "metadata": {
        "id": "GjuBnkaKrAeq"
      }
    },
    {
      "cell_type": "code",
      "source": [
        "list1 = [1, 3, 5, 7, 9]\n",
        "list2=[1, 2, 4, 6, 7, 8]\n",
        "diff_list1_list2 = list(set(list1) - set(list2))\n",
        "diff_list2_list1 = list(set(list2) - set(list1))\n",
        "total_diff = diff_list1_list2 + diff_list2_list1\n",
        "print(total_diff)"
      ],
      "metadata": {
        "colab": {
          "base_uri": "https://localhost:8080/"
        },
        "id": "tgC-62eGxnAT",
        "outputId": "4e9ff1a6-5a2d-4abd-efa9-da5d9d90488b"
      },
      "execution_count": null,
      "outputs": [
        {
          "output_type": "stream",
          "name": "stdout",
          "text": [
            "[9, 3, 5, 8, 2, 4, 6]\n"
          ]
        }
      ]
    },
    {
      "cell_type": "markdown",
      "source": [
        "##**QUES-17 Index of List**\n",
        "\n",
        "Write a Python program access the index of a list.\n",
        "\n",
        "Sample List:\n",
        "```\n",
        "nums = [5, 15, 35, 8, 98]\n",
        "```"
      ],
      "metadata": {
        "id": "CzEXXGtLxnKB"
      }
    },
    {
      "cell_type": "code",
      "source": [
        "nums = [5, 15, 35, 8, 98]\n",
        "for num_index, num_val in enumerate(nums):\n",
        "    print(num_index, num_val)"
      ],
      "metadata": {
        "colab": {
          "base_uri": "https://localhost:8080/"
        },
        "id": "bVpO8erXxnKC",
        "outputId": "8f455770-0a22-430d-d1d0-5045fc1d8f54"
      },
      "execution_count": null,
      "outputs": [
        {
          "output_type": "stream",
          "name": "stdout",
          "text": [
            "0 5\n",
            "1 15\n",
            "2 35\n",
            "3 8\n",
            "4 98\n"
          ]
        }
      ]
    },
    {
      "cell_type": "markdown",
      "source": [
        "##**QUES-18 List Into String**\n",
        "\n",
        "Write a Python program to convert a list of characters into a string.\n",
        "```\n",
        "sample list = ['a', 'b', 'c', 'd']\n",
        "```"
      ],
      "metadata": {
        "id": "cwk1jJx6xnU5"
      }
    },
    {
      "cell_type": "code",
      "source": [
        "s = ['a', 'b', 'c', 'd']\n",
        "str1 = ''.join(s)\n",
        "print(str1)"
      ],
      "metadata": {
        "colab": {
          "base_uri": "https://localhost:8080/"
        },
        "id": "hXtRSBr6xnU5",
        "outputId": "ede251d5-a73f-42c7-eccf-977842c7640e"
      },
      "execution_count": null,
      "outputs": [
        {
          "output_type": "stream",
          "name": "stdout",
          "text": [
            "abcd\n"
          ]
        }
      ]
    },
    {
      "cell_type": "markdown",
      "source": [
        "##**QUES-19 Flatten a Shallow List**\n",
        "\n",
        "Write a Python program to flatten a shallow list.\n",
        "\n",
        "Sample List:\n",
        "```\n",
        "original_list = [[2,4,3],[1,5,6], [9], [7,9,0]]\n",
        "```"
      ],
      "metadata": {
        "id": "4FBJK-Rdxnf_"
      }
    },
    {
      "cell_type": "code",
      "source": [
        "import itertools\n",
        "original_list = [[2,4,3],[1,5,6], [9], [7,9,0]]\n",
        "new_merged_list = list(itertools.chain(*original_list))\n",
        "print(new_merged_list)"
      ],
      "metadata": {
        "colab": {
          "base_uri": "https://localhost:8080/"
        },
        "id": "POrfwuTCxnf_",
        "outputId": "f7e9f124-25e8-4b6c-ee34-9cadfde8b95e"
      },
      "execution_count": null,
      "outputs": [
        {
          "output_type": "stream",
          "name": "stdout",
          "text": [
            "[2, 4, 3, 1, 5, 6, 9, 7, 9, 0]\n"
          ]
        }
      ]
    },
    {
      "cell_type": "markdown",
      "source": [
        "##**QUES-20 Append to Second List**\n",
        "\n",
        " Write a Python program to append a list to the second list.\n",
        " ```\n",
        "list1 = [1, 2, 3, 0]\n",
        "list2 = ['Red', 'Green', 'Black']\n",
        " ```"
      ],
      "metadata": {
        "id": "S4cTaYanxnqk"
      }
    },
    {
      "cell_type": "code",
      "source": [
        "list1 = [1, 2, 3, 0]\n",
        "list2 = ['Red', 'Green', 'Black']\n",
        "final_list = list1 + list2\n",
        "print(final_list)"
      ],
      "metadata": {
        "colab": {
          "base_uri": "https://localhost:8080/"
        },
        "id": "VtF7qXihxnql",
        "outputId": "3072ab5f-4c36-45b0-dda9-3fd6b2ad6abc"
      },
      "execution_count": null,
      "outputs": [
        {
          "output_type": "stream",
          "name": "stdout",
          "text": [
            "[1, 2, 3, 0, 'Red', 'Green', 'Black']\n"
          ]
        }
      ]
    },
    {
      "cell_type": "markdown",
      "source": [
        "##**QUES-21 Identical Circular Lists**\n",
        "\n",
        "Write a python program to check whether two lists are circularly identical witht the another.\n",
        "```\n",
        "list1 = [10, 10, 0, 0, 10]\n",
        "list2 = [10, 10, 10, 0, 0]\n",
        "list3 = [1, 10, 10, 0, 0]\n",
        "```"
      ],
      "metadata": {
        "id": "4CsaIaf8sAEJ"
      }
    },
    {
      "cell_type": "code",
      "source": [
        "list1 = [10, 10, 0, 0, 10]\n",
        "list2 = [10, 10, 10, 0, 0]\n",
        "list3 = [1, 10, 10, 0, 0]\n",
        "\n",
        "print('Compare list1 and list2')\n",
        "print(' '.join(map(str, list2)) in ' '.join(map(str, list1 * 2)))\n",
        "print('Compare list1 and list3')\n",
        "print(' '.join(map(str, list3)) in ' '.join(map(str, list1 * 2)))"
      ],
      "metadata": {
        "colab": {
          "base_uri": "https://localhost:8080/"
        },
        "id": "9TlJzGXmxn07",
        "outputId": "81292db0-5f93-46be-b2ee-26a0d6a7ebf8"
      },
      "execution_count": null,
      "outputs": [
        {
          "output_type": "stream",
          "name": "stdout",
          "text": [
            "Compare list1 and list2\n",
            "True\n",
            "Compare list1 and list3\n",
            "False\n"
          ]
        }
      ]
    },
    {
      "cell_type": "markdown",
      "source": [
        "##**QUES-22 Unique Values**\n",
        "\n",
        "Write a Python program to get unique values from a list. \n",
        "\n",
        "Sample List:\n",
        "```\n",
        "my_list = [10, 20, 30, 40, 20, 50, 60, 40]\n",
        "```"
      ],
      "metadata": {
        "id": "aYLdg6owxn-u"
      }
    },
    {
      "cell_type": "code",
      "source": [
        "my_list = [10, 20, 30, 40, 20, 50, 60, 40]\n",
        "print(\"Original List : \",my_list)\n",
        "my_set = set(my_list)\n",
        "my_new_list = list(my_set)\n",
        "print(\"List of unique numbers : \",my_new_list)"
      ],
      "metadata": {
        "colab": {
          "base_uri": "https://localhost:8080/"
        },
        "id": "8y13XM5Sxn-v",
        "outputId": "8e31420c-e040-4324-a80a-39562e6fc120"
      },
      "execution_count": null,
      "outputs": [
        {
          "output_type": "stream",
          "name": "stdout",
          "text": [
            "Original List :  [10, 20, 30, 40, 20, 50, 60, 40]\n",
            "List of unique numbers :  [40, 10, 50, 20, 60, 30]\n"
          ]
        }
      ]
    },
    {
      "cell_type": "markdown",
      "source": [
        "##**QUES-23 Lists & Sublists**\n",
        "\n",
        "Write a Python program to check whether a list contains a sublist.\n",
        "\n",
        "Sample Dat:\n",
        "```\n",
        "a = [2,4,3,5,7]\n",
        "b = [4,3]\n",
        "c = [3,7]\n",
        "```"
      ],
      "metadata": {
        "id": "7pOiT4z4sdaY"
      }
    },
    {
      "cell_type": "code",
      "source": [
        "def is_Sublist(l, s):\n",
        "\tsub_set = False\n",
        "\tif s == []:\n",
        "\t\tsub_set = True\n",
        "\telif s == l:\n",
        "\t\tsub_set = True\n",
        "\telif len(s) > len(l):\n",
        "\t\tsub_set = False\n",
        "\n",
        "\telse:\n",
        "\t\tfor i in range(len(l)):\n",
        "\t\t\tif l[i] == s[0]:\n",
        "\t\t\t\tn = 1\n",
        "\t\t\t\twhile (n < len(s)) and (l[i+n] == s[n]):\n",
        "\t\t\t\t\tn += 1\n",
        "\t\t\t\t\n",
        "\t\t\t\tif n == len(s):\n",
        "\t\t\t\t\tsub_set = True\n",
        "\n",
        "\treturn sub_set\n",
        "\n",
        "a = [2,4,3,5,7]\n",
        "b = [4,3]\n",
        "c = [3,7]\n",
        "print(is_Sublist(a, b))\n",
        "print(is_Sublist(a, c))"
      ],
      "metadata": {
        "colab": {
          "base_uri": "https://localhost:8080/"
        },
        "id": "ksagsIX1xoIL",
        "outputId": "214f977d-72fc-4d0d-f9ca-a73e2dd779b2"
      },
      "execution_count": null,
      "outputs": [
        {
          "output_type": "stream",
          "name": "stdout",
          "text": [
            "True\n",
            "False\n"
          ]
        }
      ]
    },
    {
      "cell_type": "markdown",
      "source": [
        "##**QUES-24 Generating All Sublists**\n",
        "\n",
        "Write a Python program to generate all sublists of a list.\n",
        "\n",
        "Sample Data:\n",
        "```\n",
        "l1 = [10, 20, 30, 40]\n",
        "l2 = ['X', 'Y', 'Z']\n",
        "```"
      ],
      "metadata": {
        "id": "PUQph23TxoSU"
      }
    },
    {
      "cell_type": "code",
      "source": [
        "from itertools import combinations\n",
        "def sub_lists(my_list):\n",
        "\tsubs = []\n",
        "\tfor i in range(0, len(my_list)+1):\n",
        "\t  temp = [list(x) for x in combinations(my_list, i)]\n",
        "\t  if len(temp)>0:\n",
        "\t    subs.extend(temp)\n",
        "\treturn subs\n",
        "\n",
        "\n",
        "l1 = [10, 20, 30, 40]\n",
        "l2 = ['X', 'Y', 'Z']\n",
        "print(\"Original list:\")\n",
        "print(l1)\n",
        "print(\"S\")\n",
        "print(sub_lists(l1))\n",
        "print(\"Sublists of the said list:\")\n",
        "print(sub_lists(l1))\n",
        "print(\"\\nOriginal list:\")\n",
        "print(l2)\n",
        "print(\"Sublists of the said list:\")\n",
        "print(sub_lists(l2))"
      ],
      "metadata": {
        "colab": {
          "base_uri": "https://localhost:8080/"
        },
        "id": "XjybHknSxoSV",
        "outputId": "bb02dff0-49e2-4050-beff-3f3969295323"
      },
      "execution_count": null,
      "outputs": [
        {
          "output_type": "stream",
          "name": "stdout",
          "text": [
            "Original list:\n",
            "[10, 20, 30, 40]\n",
            "S\n",
            "[[], [10], [20], [30], [40], [10, 20], [10, 30], [10, 40], [20, 30], [20, 40], [30, 40], [10, 20, 30], [10, 20, 40], [10, 30, 40], [20, 30, 40], [10, 20, 30, 40]]\n",
            "Sublists of the said list:\n",
            "[[], [10], [20], [30], [40], [10, 20], [10, 30], [10, 40], [20, 30], [20, 40], [30, 40], [10, 20, 30], [10, 20, 40], [10, 30, 40], [20, 30, 40], [10, 20, 30, 40]]\n",
            "\n",
            "Original list:\n",
            "['X', 'Y', 'Z']\n",
            "Sublists of the said list:\n",
            "[[], ['X'], ['Y'], ['Z'], ['X', 'Y'], ['X', 'Z'], ['Y', 'Z'], ['X', 'Y', 'Z']]\n"
          ]
        }
      ]
    },
    {
      "cell_type": "markdown",
      "source": [
        "##**QUES-25 List to Unique String**\n",
        "\n",
        "Write a Python program to get variable unique identification number or string.\n",
        "\n",
        "Sample Data:\n",
        "```\n",
        "s = 'w3resource'\n",
        "```"
      ],
      "metadata": {
        "id": "O4JnfzQsxobj"
      }
    },
    {
      "cell_type": "code",
      "source": [
        "x = 100\n",
        "print(format(id(x), 'x'))\n",
        "s = 'w3resource'\n",
        "print(format(id(s), 'x')) "
      ],
      "metadata": {
        "colab": {
          "base_uri": "https://localhost:8080/"
        },
        "id": "2KMAkNa-xobk",
        "outputId": "9fd592c3-654d-4c51-97a2-65bd806c644a"
      },
      "execution_count": null,
      "outputs": [
        {
          "output_type": "stream",
          "name": "stdout",
          "text": [
            "abcd60\n",
            "7f826a219970\n"
          ]
        }
      ]
    },
    {
      "cell_type": "markdown",
      "source": [
        "##**QUES-26 Changing Positions in List**\n",
        "Write a Python program to change the position of every *n*-th value with the *(n+1)*th in a list.\n",
        "\n",
        "Sample list: \n",
        "```\n",
        "list = [0,1,2,3,4,5]\n",
        "```"
      ],
      "metadata": {
        "id": "G5kGWTDBxom2"
      }
    },
    {
      "cell_type": "code",
      "source": [
        "from itertools import zip_longest, chain, tee\n",
        "def replace2copy(lst):\n",
        "    lst1, lst2 = tee(iter(lst), 2)\n",
        "    return list(chain.from_iterable(zip_longest(lst[1::2], lst[::2])))\n",
        "n = [0,1,2,3,4,5]\n",
        "print(replace2copy(n))"
      ],
      "metadata": {
        "colab": {
          "base_uri": "https://localhost:8080/"
        },
        "id": "vcbdsWdDxom3",
        "outputId": "ea961eaa-a875-41a5-89ad-c1fd9dce05f8"
      },
      "execution_count": null,
      "outputs": [
        {
          "output_type": "stream",
          "name": "stdout",
          "text": [
            "[1, 0, 3, 2, 5, 4]\n"
          ]
        }
      ]
    },
    {
      "cell_type": "markdown",
      "source": [
        "##**QUES-27 Multi to Single Integer**\n",
        "Write a Python program to convert a list of multiple integers into a single integer.\n",
        "\n",
        "Sample list:\n",
        "```\n",
        " [11, 33, 50]\n",
        "```"
      ],
      "metadata": {
        "id": "d5A93z8gxo5w"
      }
    },
    {
      "cell_type": "code",
      "source": [
        "L = [11, 33, 50]\n",
        "print(\"Original List: \",L)\n",
        "x = int(\"\".join(map(str, L)))\n",
        "print(\"Single Integer: \",x)"
      ],
      "metadata": {
        "colab": {
          "base_uri": "https://localhost:8080/"
        },
        "id": "3mHbrO_hxo5x",
        "outputId": "8f84e21e-a893-4e63-e3f6-d0373b71c66d"
      },
      "execution_count": null,
      "outputs": [
        {
          "output_type": "stream",
          "name": "stdout",
          "text": [
            "Original List:  [11, 33, 50]\n",
            "Single Integer:  113350\n"
          ]
        }
      ]
    },
    {
      "cell_type": "markdown",
      "source": [
        "##**QUES-28 Conditonal Split**\n",
        "\n",
        "Write a Python program to split a list based on first character of word.\n",
        "\n",
        "Sample Data:\n",
        "```\n",
        "word_list = ['be','have','do','say','get','make','go','know','take','see','come','think','look','want','give','use','find','tell','ask','work','seem','feel','leave','call']\n",
        "```"
      ],
      "metadata": {
        "id": "YV04NXxNt8SB"
      }
    },
    {
      "cell_type": "code",
      "source": [
        "from itertools import groupby\n",
        "from operator import itemgetter\n",
        "\n",
        "word_list = ['be','have','do','say','get','make','go','know','take','see','come','think',\n",
        "     'look','want','give','use','find','tell','ask','work','seem','feel','leave','call']\n",
        "\n",
        "for letter, words in groupby(sorted(word_list), key=itemgetter(0)):\n",
        "    print(letter)\n",
        "    for word in words:\n",
        "        print(word)"
      ],
      "metadata": {
        "colab": {
          "base_uri": "https://localhost:8080/"
        },
        "id": "wrfLM3EBxpJJ",
        "outputId": "71788cff-d009-4457-ae22-0bc5d40444a3"
      },
      "execution_count": null,
      "outputs": [
        {
          "output_type": "stream",
          "name": "stdout",
          "text": [
            "a\n",
            "ask\n",
            "b\n",
            "be\n",
            "c\n",
            "call\n",
            "come\n",
            "d\n",
            "do\n",
            "f\n",
            "feel\n",
            "find\n",
            "g\n",
            "get\n",
            "give\n",
            "go\n",
            "h\n",
            "have\n",
            "k\n",
            "know\n",
            "l\n",
            "leave\n",
            "look\n",
            "m\n",
            "make\n",
            "s\n",
            "say\n",
            "see\n",
            "seem\n",
            "t\n",
            "take\n",
            "tell\n",
            "think\n",
            "u\n",
            "use\n",
            "w\n",
            "want\n",
            "work\n"
          ]
        }
      ]
    },
    {
      "cell_type": "markdown",
      "source": [
        "##**QUES-29 Missing & Additonal Values**\n",
        "\n",
        "Write a Python program to find missing and additional values in two lists.\n",
        "\n",
        "Sample data:\n",
        "```\n",
        "Missing values in second list: b,a,c\n",
        "Additional values in second list: g,h\n",
        "```"
      ],
      "metadata": {
        "id": "P6GjPEs2xpRG"
      }
    },
    {
      "cell_type": "code",
      "source": [
        "list1 = ['a','b','c','d','e','f']\n",
        "list2 = ['d','e','f','g','h']\n",
        "print('Missing values in second list: ', ','.join(set(list1).difference(list2)))\n",
        "print('Additional values in second list: ', ','.join(set(list2).difference(list1)))\n"
      ],
      "metadata": {
        "colab": {
          "base_uri": "https://localhost:8080/"
        },
        "id": "l17efmK1xpRG",
        "outputId": "982c9f9a-116f-4b5a-8610-74200222e499"
      },
      "execution_count": null,
      "outputs": [
        {
          "output_type": "stream",
          "name": "stdout",
          "text": [
            "Missing values in second list:  a,c,b\n",
            "Additional values in second list:  g,h\n"
          ]
        }
      ]
    },
    {
      "cell_type": "markdown",
      "source": [
        "##**QUES-30 Positional Insertion of Elements**\n",
        "\n",
        "Write a Python program to insert an element before each element of a list.\n",
        "\n",
        "Sample Data:\n",
        "```\n",
        "list -> color = ['Red', 'Green', 'Black']\n",
        "Element to be Added -> color\n",
        "```"
      ],
      "metadata": {
        "id": "McJGZqXzuTvZ"
      }
    },
    {
      "cell_type": "code",
      "source": [
        "color = ['Red', 'Green', 'Black']\n",
        "print(\"Original List: \",color)\n",
        "color = [v for elt in color for v in ('c', elt)]\n",
        "print(\"Original List: \",color)"
      ],
      "metadata": {
        "id": "TywJHXK7xpYu"
      },
      "execution_count": null,
      "outputs": []
    },
    {
      "cell_type": "markdown",
      "metadata": {
        "id": "URT8cy_EWFzq"
      },
      "source": [
        "# Further Reading and References\n",
        "\n",
        "Following are some resources where you can learn about more arithmetic, conditional and logical operations in Python:\n",
        "\n",
        "* Lists Tutorial at W3schools: [Here](https://www.w3schools.com/python/python_lists.asp)\n",
        "* List, Tuple, Set & Dictionary Tutorial at GeeksforGeeks: [Here](https://www.geeksforgeeks.org/differences-and-applications-of-list-tuple-set-and-dictionary-in-python/)\n",
        "* Python official documentation: [Here](https://docs.python.org/3/tutorial/index.html)"
      ]
    }
  ],
  "metadata": {
    "kernelspec": {
      "display_name": "Python 3",
      "language": "python",
      "name": "python3"
    },
    "language_info": {
      "codemirror_mode": {
        "name": "ipython",
        "version": 3
      },
      "file_extension": ".py",
      "mimetype": "text/x-python",
      "name": "python",
      "nbconvert_exporter": "python",
      "pygments_lexer": "ipython3",
      "version": "3.5.1"
    },
    "colab": {
      "name": "6.Lists, Tuples _ Sets.ipynb",
      "provenance": [],
      "toc_visible": true,
      "collapsed_sections": [
        "qB69Y16A6Z6a",
        "pUHXuNmS6Z6b",
        "egHb--dI6Z6c",
        "0su2xr-F6Z6d",
        "_2WebplL6Z6f",
        "CJwoXtlU6Z6g",
        "mx1LgKOV6Z6h",
        "JRhGnh3a6Z6i",
        "qAP6L6Rl6Z6m",
        "I7O2VAq-6Z6m",
        "Mg8aLlLf6Z6n",
        "dFmssZA16Z6o",
        "Xns3Mdkl6Z6p",
        "e50NNV8N6Z6p",
        "XKB66SEH6Z6q",
        "Teu4J8GI6Z6r",
        "-8Ro6CXy6Z6s",
        "MQZ_y5386Z6t",
        "8ZyWwbrE6Z6u",
        "hHYlIydC6Z6v",
        "iTxu6eeO6Z65",
        "9unmsK2l6Z66",
        "7Qp5xpNZ6Z66",
        "5hfE0nh26Z67",
        "IuWVfX6Q6Z69",
        "k-RsQz_f6Z6-",
        "6Ps_97k16Z7D",
        "zrc1xHAc6Z7F",
        "wGWag0fx6Z7G",
        "EXNmg0Mk6Z7J",
        "pgjHBQzW6Z7L",
        "vXLP3n1f6Z7L",
        "L7s7jNm66Z7N",
        "cYuWGn4O6Z7P",
        "YpKW1igU6Z7R",
        "2iA5T-916Z7S",
        "AOs1yl4C6Z7S",
        "O9ct-HsD6Z7T",
        "Ok70tnmy6Z7V",
        "h4gFv0Fw6Z7W",
        "AMoxzm8N6Z7X",
        "E8FBFw7P6Z7Y",
        "riB71ggU6Z7a",
        "1sHseIb-6Z7b",
        "nPI5mYAn6Z7b",
        "I4Ll-qIH6Z7c",
        "P-3Jmo1r6Z7e",
        "W2Xca8o26Z7i",
        "40vEmz_66Z7j",
        "hXIMgS3A6Z7j"
      ]
    }
  },
  "nbformat": 4,
  "nbformat_minor": 0
}