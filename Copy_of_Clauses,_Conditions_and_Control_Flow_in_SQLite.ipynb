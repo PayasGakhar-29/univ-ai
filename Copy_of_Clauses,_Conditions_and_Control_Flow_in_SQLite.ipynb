{
  "nbformat": 4,
  "nbformat_minor": 0,
  "metadata": {
    "colab": {
      "name": "Copy of Clauses, Conditions and Control Flow in SQLite.ipynb",
      "provenance": []
    },
    "kernelspec": {
      "name": "python3",
      "display_name": "Python 3"
    },
    "language_info": {
      "name": "python"
    }
  },
  "cells": [
    {
      "cell_type": "markdown",
      "source": [
        "#Clauses/Conditions in SQLite"
      ],
      "metadata": {
        "id": "3jhZcTQ7WLB2"
      }
    },
    {
      "cell_type": "markdown",
      "source": [
        "##Where\n",
        "\n",
        "The SQLite WHERE clause is generally used with SELECT, UPDATE and DELETE statement to specify a condition while you fetch the data from one table or multiple tables.\n",
        "\n",
        "If the condition is satisfied or true, it returns specific value from the table. You would use WHERE clause to filter the records and fetching only necessary records.\n",
        "\n",
        "WHERE clause is also used to filter the records and fetch only specific data.\n",
        "\n"
      ],
      "metadata": {
        "id": "WMClCqRdWfuz"
      }
    },
    {
      "cell_type": "markdown",
      "source": [
        "### Syntax:\n",
        "\n",
        "```\n",
        "SELECT column1, column2, columnN   \n",
        "FROM table_name  \n",
        "WHERE [condition] \n",
        "```\n",
        "\n"
      ],
      "metadata": {
        "id": "4b83FPF6crPQ"
      }
    },
    {
      "cell_type": "markdown",
      "source": [
        "###Question-  Write a query to find the names (first_name, last_name) and salaries of the employees who have a higher salary than the employee whose last_name='Bull'.\n",
        "\n",
        "\n",
        "```\n",
        "employee_id  first_name  last_name   email       phone_number  hire_date   job_id      salary      commission_pct  manager_id  department_id\n",
        "-----------  ----------  ----------  ----------  ------------  ----------  ----------  ----------  --------------  ----------  -------------\n",
        "100          Steven      King        SKING       515.123.4567  6/17/1987   AD_PRES     24000                                   90\n",
        "101          Neena       Kochhar     NKOCHHAR    515.123.4568  6/18/1987   AD_VP       17000                       100         90\n",
        "102          Lex         De Haan     LDEHAAN     515.123.4569  6/19/1987   AD_VP       17000                       100         90\n",
        "103          Alexander   Hunold      AHUNOLD     590.423.4567  6/20/1987   IT_PROG     9000                        102         60\n",
        "104          Bruce       Ernst       BERNST      590.423.4568  6/21/1987   IT_PROG     6000                        103         60\n",
        "105          David       Austin      DAUSTIN     590.423.4569  6/22/1987   IT_PROG     4800                        103         60\n",
        "106          Valli       Pataballa   VPATABAL    590.423.4560  6/23/1987   IT_PROG     4800                        103         60\n",
        "107          Diana       Lorentz     DLORENTZ    590.423.5567  6/24/1987   IT_PROG     4200                        103         60\n",
        "108          Nancy       Greenberg   NGREENBE    515.124.4569  6/25/1987   FI_MGR      12000                       101         100\n",
        "109          Daniel      Faviet      DFAVIET     515.124.4169  6/26/1987   FI_ACCOUNT  9000                        108         100\n",
        "110          John        Chen        JCHEN       515.124.4269  6/27/1987   FI_ACCOUNT  8200                        108         100\n",
        "111          Ismael      Sciarra     ISCIARRA    515.124.4369  6/28/1987   FI_ACCOUNT  7700                        108         100\n",
        "112          Jose Manue  Urman       JMURMAN     515.124.4469  6/29/1987   FI_ACCOUNT  7800                        108         100\n",
        "113          Luis        Popp        LPOPP       515.124.4567  6/30/1987   FI_ACCOUNT  6900                        108         100\n",
        "114          Den         Raphaely    DRAPHEAL    515.127.4561  7/1/1987    PU_MAN      11000                       100         30\n",
        "115          Alexander   Khoo        AKHOO       515.127.4562  7/2/1987    PU_CLERK    3100                        114         30\n",
        "```"
      ],
      "metadata": {
        "id": "s2nANhYjbTX6"
      }
    },
    {
      "cell_type": "markdown",
      "source": [
        "Solution\n",
        "\n",
        "```\n",
        "SELECT FIRST_NAME, LAST_NAME, SALARY \n",
        "FROM employees \n",
        "WHERE SALARY > \n",
        "(SELECT salary FROM employees WHERE last_name = 'Bull');\n",
        "```\n",
        "\n"
      ],
      "metadata": {
        "id": "PhoyO7DtbbCq"
      }
    },
    {
      "cell_type": "markdown",
      "source": [
        "###Question-  Write a query to find the names (first_name, last_name) of all employees who works in the IT department.\n",
        "\n",
        "\n",
        "```\n",
        "employee_id  first_name  last_name   email       phone_number  hire_date   job_id      salary      commission_pct  manager_id  department_id\n",
        "-----------  ----------  ----------  ----------  ------------  ----------  ----------  ----------  --------------  ----------  -------------\n",
        "100          Steven      King        SKING       515.123.4567  6/17/1987   AD_PRES     24000                                   90\n",
        "101          Neena       Kochhar     NKOCHHAR    515.123.4568  6/18/1987   AD_VP       17000                       100         90\n",
        "102          Lex         De Haan     LDEHAAN     515.123.4569  6/19/1987   AD_VP       17000                       100         90\n",
        "103          Alexander   Hunold      AHUNOLD     590.423.4567  6/20/1987   IT_PROG     9000                        102         60\n",
        "104          Bruce       Ernst       BERNST      590.423.4568  6/21/1987   IT_PROG     6000                        103         60\n",
        "105          David       Austin      DAUSTIN     590.423.4569  6/22/1987   IT_PROG     4800                        103         60\n",
        "106          Valli       Pataballa   VPATABAL    590.423.4560  6/23/1987   IT_PROG     4800                        103         60\n",
        "107          Diana       Lorentz     DLORENTZ    590.423.5567  6/24/1987   IT_PROG     4200                        103         60\n",
        "108          Nancy       Greenberg   NGREENBE    515.124.4569  6/25/1987   FI_MGR      12000                       101         100\n",
        "109          Daniel      Faviet      DFAVIET     515.124.4169  6/26/1987   FI_ACCOUNT  9000                        108         100\n",
        "110          John        Chen        JCHEN       515.124.4269  6/27/1987   FI_ACCOUNT  8200                        108         100\n",
        "111          Ismael      Sciarra     ISCIARRA    515.124.4369  6/28/1987   FI_ACCOUNT  7700                        108         100\n",
        "112          Jose Manue  Urman       JMURMAN     515.124.4469  6/29/1987   FI_ACCOUNT  7800                        108         100\n",
        "113          Luis        Popp        LPOPP       515.124.4567  6/30/1987   FI_ACCOUNT  6900                        108         100\n",
        "114          Den         Raphaely    DRAPHEAL    515.127.4561  7/1/1987    PU_MAN      11000                       100         30\n",
        "115          Alexander   Khoo        AKHOO       515.127.4562  7/2/1987    PU_CLERK    3100                        114         30\n",
        "```\n"
      ],
      "metadata": {
        "id": "WDHTDEpzbjzM"
      }
    },
    {
      "cell_type": "markdown",
      "source": [
        "Solution\n",
        "\n",
        "```\n",
        "SELECT first_name, last_name \n",
        "FROM employees \n",
        "WHERE department_id \n",
        "IN (SELECT department_id FROM departments WHERE depart_name='IT');\n",
        "```\n",
        "\n"
      ],
      "metadata": {
        "id": "6r0fO6mvbriP"
      }
    },
    {
      "cell_type": "markdown",
      "source": [
        "###Question- Write a query to find the names (first_name, last_name), the salary of the employees whose salary is equal to the minimum salary for their job grade..\n",
        "\n",
        "\n",
        "```\n",
        "Employees Table\n",
        "\n",
        "employee_id  first_name  last_name   email       phone_number  hire_date   job_id      salary      commission_pct  manager_id  department_id\n",
        "-----------  ----------  ----------  ----------  ------------  ----------  ----------  ----------  --------------  ----------  -------------\n",
        "100          Steven      King        SKING       515.123.4567  6/17/1987   AD_PRES     24000                                   90\n",
        "101          Neena       Kochhar     NKOCHHAR    515.123.4568  6/18/1987   AD_VP       17000                       100         90\n",
        "102          Lex         De Haan     LDEHAAN     515.123.4569  6/19/1987   AD_VP       17000                       100         90\n",
        "103          Alexander   Hunold      AHUNOLD     590.423.4567  6/20/1987   IT_PROG     9000                        102         60\n",
        "104          Bruce       Ernst       BERNST      590.423.4568  6/21/1987   IT_PROG     6000                        103         60\n",
        "105          David       Austin      DAUSTIN     590.423.4569  6/22/1987   IT_PROG     4800                        103         60\n",
        "106          Valli       Pataballa   VPATABAL    590.423.4560  6/23/1987   IT_PROG     4800                        103         60\n",
        "107          Diana       Lorentz     DLORENTZ    590.423.5567  6/24/1987   IT_PROG     4200                        103         60\n",
        "108          Nancy       Greenberg   NGREENBE    515.124.4569  6/25/1987   FI_MGR      12000                       101         100\n",
        "109          Daniel      Faviet      DFAVIET     515.124.4169  6/26/1987   FI_ACCOUNT  9000                        108         100\n",
        "110          John        Chen        JCHEN       515.124.4269  6/27/1987   FI_ACCOUNT  8200                        108         100\n",
        "111          Ismael      Sciarra     ISCIARRA    515.124.4369  6/28/1987   FI_ACCOUNT  7700                        108         100\n",
        "112          Jose Manue  Urman       JMURMAN     515.124.4469  6/29/1987   FI_ACCOUNT  7800                        108         100\n",
        "113          Luis        Popp        LPOPP       515.124.4567  6/30/1987   FI_ACCOUNT  6900                        108         100\n",
        "114          Den         Raphaely    DRAPHEAL    515.127.4561  7/1/1987    PU_MAN      11000                       100         30\n",
        "115          Alexander   Khoo        AKHOO       515.127.4562  7/2/1987    PU_CLERK    3100                        114         30\n",
        "116          Shelli      Baida       SBAIDA      515.127.4563  7/3/1987    PU_CLERK    2900                        114         30\n",
        "117          Sigal       Tobias      STOBIAS     515.127.4564  7/4/1987    PU_CLERK    2800                        114         30\n",
        "118          Guy         Himuro      GHIMURO     515.127.4565  7/5/1987    PU_CLERK    2600                        114         30\n",
        "119          Karen       Colmenares  KCOLMENA    515.127.4566  7/6/1987    PU_CLERK    2500                        114         30\n",
        "120          Matthew     Weiss       MWEISS      650.123.1234  7/7/1987    ST_MAN      8000                        100         50\n",
        "121          Adam        Fripp       AFRIPP      650.123.2234  7/8/1987    ST_MAN      8200                        100         50\n",
        "122          Payam       Kaufling    PKAUFLIN    650.123.3234  7/9/1987    ST_MAN      7900                        100         50\n",
        "123          Shanta      Vollman     SVOLLMAN    650.123.4234  7/10/1987   ST_MAN      6500                        100         50\n",
        "124          Kevin       Mourgos     KMOURGOS    650.123.5234  7/11/1987   ST_MAN      5800                        100         50\n",
        "125          Julia       Nayer       JNAYER      650.124.1214  7/12/1987   ST_CLERK    3200                        120         50\n",
        "126          Irene       Mikkilinen  IMIKKILI    650.124.1224  7/13/1987   ST_CLERK    2700                        120         50\n",
        "127          James       Landry      JLANDRY     650.124.1334  7/14/1987   ST_CLERK    2400                        120         50\n",
        "128          Steven      Markle      SMARKLE     650.124.1434  7/15/1987   ST_CLERK    2200                        120         50\n",
        "129          Laura       Bissot      LBISSOT     650.124.5234  7/16/1987   ST_CLERK    3300                        121         50\n",
        "130          Mozhe       Atkinson    MATKINSO    650.124.6234  7/17/1987   ST_CLERK    2800                        121         50\n",
        "131          James       Marlow      JAMRLOW     650.124.7234  7/18/1987   ST_CLERK    2500                        121         50\n",
        "132          TJ          Olson       TJOLSON     650.124.8234  7/19/1987   ST_CLERK    2100                        121         50\n",
        "133          Jason       Mallin      JMALLIN     650.127.1934  7/20/1987   ST_CLERK    3300                        122         50\n",
        "134          Michael     Rogers      MROGERS     650.127.1834  7/21/1987   ST_CLERK    2900                        122         50\n",
        "135          Ki          Gee         KGEE        650.127.1734  7/22/1987   ST_CLERK    2400                        122         50\n",
        "136          Hazel       Philtanker  HPHILTAN    650.127.1634  7/23/1987   ST_CLERK    2200                        122         50\n",
        "137          Renske      Ladwig      RLADWIG     650.121.1234  7/24/1987   ST_CLERK    3600                        123         50\n",
        "138          Stephen     Stiles      SSTILES     650.121.2034  7/25/1987   ST_CLERK    3200                        123         50\n",
        "139          John        Seo         JSEO        650.121.2019  7/26/1987   ST_CLERK    2700                        123         50\n",
        "140          Joshua      Patel       JPATEL      650.121.1834  7/27/1987   ST_CLERK    2500                        123         50\n",
        "141          Trenna      Rajs        TRAJS       650.121.8009  7/28/1987   ST_CLERK    3500                        124         50\n",
        "142          Curtis      Davies      CDAVIES     650.121.2994  7/29/1987   ST_CLERK    3100                        124         50\n",
        "143          Randall     Matos       RMATOS      650.121.2874  7/30/1987   ST_CLERK    2600                        124         50\n",
        "144          Peter       Vargas      PVARGAS     650.121.2004  7/31/1987   ST_CLERK    2500                        124         50\n",
        "145          John        Russell     JRUSSEL     011.44.1344.  8/1/1987    SA_MAN      14000       0.4             100         80\n",
        "146          Karen       Partners    KPARTNER    011.44.1344.  8/2/1987    SA_MAN      13500       0.3             100         80\n",
        "147          Alberto     Errazuriz   AERRAZUR    011.44.1344.  8/3/1987    SA_MAN      12000       0.3             100         80\n",
        "148          Gerald      Cambrault   GCAMBRAU    011.44.1344.  8/4/1987    SA_MAN      11000       0.3             100         80\n",
        "149          Eleni       Zlotkey     EZLOTKEY    011.44.1344.  8/5/1987    SA_MAN      10500       0.2             100         80\n",
        "150          Peter       Tucker      PTUCKER     011.44.1344.  8/6/1987    SA_REP      10000       0.3             145         80\n",
        "151          David       Bernstein   DBERNSTE    011.44.1344.  8/7/1987    SA_REP      9500        0.25            145         80\n",
        "152          Peter       Hall        PHALL       011.44.1344.  8/8/1987    SA_REP      9000        0.25            145         80\n",
        "153          Christophe  Olsen       COLSEN      011.44.1344.  8/9/1987    SA_REP      8000        0.2             145         80\n",
        "154          Nanette     Cambrault   NCAMBRAU    011.44.1344.  8/10/1987   SA_REP      7500        0.2             145         80\n",
        "155          Oliver      Tuvault     OTUVAULT    011.44.1344.  8/11/1987   SA_REP      7000        0.15            145         80\n",
        "156          Janette     King        JKING       011.44.1345.  8/12/1987   SA_REP      10000       0.35            146         80\n",
        "157          Patrick     Sully       PSULLY      011.44.1345.  8/13/1987   SA_REP      9500        0.35            146         80\n",
        "158          Allan       McEwen      AMCEWEN     011.44.1345.  8/14/1987   SA_REP      9000        0.35            146         80\n",
        "159          Lindsey     Smith       LSMITH      011.44.1345.  8/15/1987   SA_REP      8000        0.3             146         80\n",
        "160          Louise      Doran       LDORAN      011.44.1345.  8/16/1987   SA_REP      7500        0.3             146         80\n",
        "161          Sarath      Sewall      SSEWALL     011.44.1345.  8/17/1987   SA_REP      7000        0.25            146         80\n",
        "162          Clara       Vishney     CVISHNEY    011.44.1346.  8/18/1987   SA_REP      10500       0.25            147         80\n",
        "163          Danielle    Greene      DGREENE     011.44.1346.  8/19/1987   SA_REP      9500        0.15            147         80\n",
        "164          Mattea      Marvins     MMARVINS    011.44.1346.  8/20/1987   SA_REP      7200        0.1             147         80\n",
        "165          David       Lee         DLEE        011.44.1346.  8/21/1987   SA_REP      6800        0.1             147         80\n",
        "166          Sundar      Ande        SANDE       011.44.1346.  8/22/1987   SA_REP      6400        0.1             147         80\n",
        "167          Amit        Banda       ABANDA      011.44.1346.  8/23/1987   SA_REP      6200        0.1             147         80\n",
        "168          Lisa        Ozer        LOZER       011.44.1343.  8/24/1987   SA_REP      11500       0.25            148         80\n",
        "169          Harrison    Bloom       HBLOOM      011.44.1343.  8/25/1987   SA_REP      10000       0.2             148         80\n",
        "170          Tayler      Fox         TFOX        011.44.1343.  8/26/1987   SA_REP      9600        0.2             148         80\n",
        "171          William     Smith       WSMITH      011.44.1343.  8/27/1987   SA_REP      7400        0.15            148         80\n",
        "172          Elizabeth   Bates       EBATES      011.44.1343.  8/28/1987   SA_REP      7300        0.15            148         80\n",
        "173          Sundita     Kumar       SKUMAR      011.44.1343.  8/29/1987   SA_REP      6100        0.1             148         80\n",
        "174          Ellen       Abel        EABEL       011.44.1644.  8/30/1987   SA_REP      11000       0.3             149         80\n",
        "175          Alyssa      Hutton      AHUTTON     011.44.1644.  8/31/1987   SA_REP      8800        0.25            149         80\n",
        "176          Jonathon    Taylor      JTAYLOR     011.44.1644.  9/1/1987    SA_REP      8600        0.2             149         80\n",
        "177          Jack        Livingston  JLIVINGS    011.44.1644.  9/2/1987    SA_REP      8400        0.2             149         80\n",
        "178          Kimberely   Grant       KGRANT      011.44.1644.  9/3/1987    SA_REP      7000        0.15            149\n",
        "179          Charles     Johnson     CJOHNSON    011.44.1644.  9/4/1987    SA_REP      6200        0.1             149         80\n",
        "180          Winston     Taylor      WTAYLOR     650.507.9876  9/5/1987    SH_CLERK    3200                        120         50\n",
        "181          Jean        Fleaur      JFLEAUR     650.507.9877  9/6/1987    SH_CLERK    3100                        120         50\n",
        "182          Martha      Sullivan    MSULLIVA    650.507.9878  9/7/1987    SH_CLERK    2500                        120         50\n",
        "183          Girard      Geoni       GGEONI      650.507.9879  9/8/1987    SH_CLERK    2800                        120         50\n",
        "184          Nandita     Sarchand    NSARCHAN    650.509.1876  9/9/1987    SH_CLERK    4200                        121         50\n",
        "185          Alexis      Bull        ABULL       650.509.2876  9/10/1987   SH_CLERK    4100                        121         50\n",
        "186          Julia       Dellinger   JDELLING    650.509.3876  9/11/1987   SH_CLERK    3400                        121         50\n",
        "187          Anthony     Cabrio      ACABRIO     650.509.4876  9/12/1987   SH_CLERK    3000                        121         50\n",
        "188          Kelly       Chung       KCHUNG      650.505.1876  9/13/1987   SH_CLERK    3800                        122         50\n",
        "189          Jennifer    Dilly       JDILLY      650.505.2876  9/14/1987   SH_CLERK    3600                        122         50\n",
        "190          Timothy     Gates       TGATES      650.505.3876  9/15/1987   SH_CLERK    2900                        122         50\n",
        "191          Randall     Perkins     RPERKINS    650.505.4876  9/16/1987   SH_CLERK    2500                        122         50\n",
        "192          Sarah       Bell        SBELL       650.501.1876  9/17/1987   SH_CLERK    4000                        123         50\n",
        "193          Britney     Everett     BEVERETT    650.501.2876  9/18/1987   SH_CLERK    3900                        123         50\n",
        "194          Samuel      McCain      SMCCAIN     650.501.3876  9/19/1987   SH_CLERK    3200                        123         50\n",
        "195          Vance       Jones       VJONES      650.501.4876  9/20/1987   SH_CLERK    2800                        123         50\n",
        "196          Alana       Walsh       AWALSH      650.507.9811  9/21/1987   SH_CLERK    3100                        124         50\n",
        "197          Kevin       Feeney      KFEENEY     650.507.9822  9/22/1987   SH_CLERK    3000                        124         50\n",
        "198          Donald      OConnell    DOCONNEL    650.507.9833  9/23/1987   SH_CLERK    2600                        124         50\n",
        "199          Douglas     Grant       DGRANT      650.507.9844  9/24/1987   SH_CLERK    2600                        124         50\n",
        "200          Jennifer    Whalen      JWHALEN     515.123.4444  9/25/1987   AD_ASST     4400                        101         10\n",
        "201          Michael     Hartstein   MHARTSTE    515.123.5555  9/26/1987   MK_MAN      13000                       100         20\n",
        "202          Pat         Fay         PFAY        603.123.6666  9/27/1987   MK_REP      6000                        201         20\n",
        "203          Susan       Mavris      SMAVRIS     515.123.7777  9/28/1987   HR_REP      6500                        101         40\n",
        "204          Hermann     Baer        HBAER       515.123.8888  9/29/1987   PR_REP      10000                       101         70\n",
        "205          Shelley     Higgins     SHIGGINS    515.123.8080  9/30/1987   AC_MGR      12000                       101         110\n",
        "206          William     Gietz       WGIETZ      515.123.8181  10/1/1987   AC_ACCOUNT  8300                        205         110\n",
        "```\n",
        "```\n",
        "Jobs Table\n",
        "\n",
        "+------------+---------------------------------+------------+------------+\n",
        "| JOB_ID     | JOB_TITLE                       | MIN_SALARY | MAX_SALARY |\n",
        "+------------+---------------------------------+------------+------------+\n",
        "| AD_PRES    | President                       |      20000 |      40000 |\n",
        "| AD_VP      | Administration Vice President   |      15000 |      30000 |\n",
        "| AD_ASST    | Administration Assistant        |       3000 |       6000 |\n",
        "| FI_MGR     | Finance Manager                 |       8200 |      16000 |\n",
        "| FI_ACCOUNT | Accountant                      |       4200 |       9000 |\n",
        "| AC_MGR     | Accounting Manager              |       8200 |      16000 |\n",
        "| AC_ACCOUNT | Public Accountant               |       4200 |       9000 |\n",
        "| SA_MAN     | Sales Manager                   |      10000 |      20000 |\n",
        "| SA_REP     | Sales Representative            |       6000 |      12000 |\n",
        "| PU_MAN     | Purchasing Manager              |       8000 |      15000 |\n",
        "| PU_CLERK   | Purchasing Clerk                |       2500 |       5500 |\n",
        "| ST_MAN     | Stock Manager                   |       5500 |       8500 |\n",
        "| ST_CLERK   | Stock Clerk                     |       2000 |       5000 |\n",
        "| SH_CLERK   | Shipping Clerk                  |       2500 |       5500 |\n",
        "| IT_PROG    | Programmer                      |       4000 |      10000 |\n",
        "| MK_MAN     | Marketing Manager               |       9000 |      15000 |\n",
        "| MK_REP     | Marketing Representative        |       4000 |       9000 |\n",
        "| HR_REP     | Human Resources Representative  |       4000 |       9000 |\n",
        "| PR_REP     | Public Relations Representative |       4500 |      10500 |\n",
        "+------------+---------------------------------+------------+------------+\n",
        "```"
      ],
      "metadata": {
        "id": "_jg-bHz2byZZ"
      }
    },
    {
      "cell_type": "markdown",
      "source": [
        "Solution\n",
        "\n",
        "```\n",
        "SELECT first_name, last_name, salary \n",
        "FROM employees \n",
        "WHERE employees.salary = \n",
        "(SELECT min_salary FROM jobs WHERE employees.job_id = jobs.job_id);\n",
        "```\n",
        "\n"
      ],
      "metadata": {
        "id": "V4kDs7S7cEcY"
      }
    },
    {
      "cell_type": "markdown",
      "source": [
        "##And\n",
        "\n",
        "The SQLite AND Operator is generally used with SELECT, UPDATE and DELETE statement to combine multiple conditions. It is a conjunctive operator which makes multiple comparisons with different operators in the same SQLite statement.\n",
        "\n",
        "It is always used with WHERE Clause."
      ],
      "metadata": {
        "id": "fSDteX84WkL-"
      }
    },
    {
      "cell_type": "markdown",
      "source": [
        "### Syntax:\n",
        "```\n",
        "SELECT column1, column2, columnN   \n",
        "FROM table_name  \n",
        "WHERE [condition1] AND [condition2]...AND [conditionN];   \n",
        "```\n",
        "\n",
        "\n",
        "\n"
      ],
      "metadata": {
        "id": "QCjOHRm4c57j"
      }
    },
    {
      "cell_type": "markdown",
      "source": [
        "###Question- Write a query to display the names (first_name, last_name) and salary for all employees whose salary is not in the range ```$10,000``` through ```$15,000``` and are in department 30 or 100.\n",
        "\n",
        "```\n",
        "employee_id  first_name  last_name   email       phone_number  hire_date   job_id      salary      commission_pct  manager_id  department_id\n",
        "-----------  ----------  ----------  ----------  ------------  ----------  ----------  ----------  --------------  ----------  -------------\n",
        "100          Steven      King        SKING       515.123.4567  6/17/1987   AD_PRES     24000                                   90\n",
        "101          Neena       Kochhar     NKOCHHAR    515.123.4568  6/18/1987   AD_VP       17000                       100         90\n",
        "102          Lex         De Haan     LDEHAAN     515.123.4569  6/19/1987   AD_VP       17000                       100         90\n",
        "103          Alexander   Hunold      AHUNOLD     590.423.4567  6/20/1987   IT_PROG     9000                        102         60\n",
        "104          Bruce       Ernst       BERNST      590.423.4568  6/21/1987   IT_PROG     6000                        103         60\n",
        "105          David       Austin      DAUSTIN     590.423.4569  6/22/1987   IT_PROG     4800                        103         60\n",
        "106          Valli       Pataballa   VPATABAL    590.423.4560  6/23/1987   IT_PROG     4800                        103         60\n",
        "107          Diana       Lorentz     DLORENTZ    590.423.5567  6/24/1987   IT_PROG     4200                        103         60\n",
        "108          Nancy       Greenberg   NGREENBE    515.124.4569  6/25/1987   FI_MGR      12000                       101         100\n",
        "109          Daniel      Faviet      DFAVIET     515.124.4169  6/26/1987   FI_ACCOUNT  9000                        108         100\n",
        "110          John        Chen        JCHEN       515.124.4269  6/27/1987   FI_ACCOUNT  8200                        108         100\n",
        "111          Ismael      Sciarra     ISCIARRA    515.124.4369  6/28/1987   FI_ACCOUNT  7700                        108         100\n",
        "112          Jose Manue  Urman       JMURMAN     515.124.4469  6/29/1987   FI_ACCOUNT  7800                        108         100\n",
        "113          Luis        Popp        LPOPP       515.124.4567  6/30/1987   FI_ACCOUNT  6900                        108         100\n",
        "114          Den         Raphaely    DRAPHEAL    515.127.4561  7/1/1987    PU_MAN      11000                       100         30\n",
        "115          Alexander   Khoo        AKHOO       515.127.4562  7/2/1987    PU_CLERK    3100\n",
        "```\n"
      ],
      "metadata": {
        "id": "ZsM3iz8LnVPM"
      }
    },
    {
      "cell_type": "markdown",
      "source": [
        "Solution\n",
        "```\n",
        "SELECT first_name, last_name, salary, department_id\n",
        "FROM employees\n",
        "WHERE salary NOT BETWEEN 10000 AND 15000 \n",
        "AND department_id IN (30, 100);\n",
        "```\n",
        "\n"
      ],
      "metadata": {
        "id": "aMAVwdi5nlKx"
      }
    },
    {
      "cell_type": "markdown",
      "source": [
        "###Question- Write an SQL query to find the ids of products that are both low fat and recyclable using the description given below. \n",
        "\n",
        "product_id is the primary key for the given table. low_fats is an ENUM of type ('Y', 'N') where 'Y' means this product is low fat and 'N' means it is not. recyclable is an ENUM of types ('Y', 'N') where 'Y' means this product is recyclable and 'N' means it is not.\n",
        "\n",
        "Table: Products\n",
        "```\n",
        "+-------------+---------+\n",
        "| Column Name | Type    |\n",
        "+-------------+---------+\n",
        "| product_id  | int     |\n",
        "| low_fats    | enum    |\n",
        "| recyclable  | enum    |\n",
        "+-------------+---------+\n",
        "```\n"
      ],
      "metadata": {
        "id": "-Tga6_JMnuV6"
      }
    },
    {
      "cell_type": "markdown",
      "source": [
        "Solution\n",
        "```\n",
        "Select product_id from products where low_fats = \"Y\" and recyclable  = \"Y\";\n",
        "```"
      ],
      "metadata": {
        "id": "lyEa_-z2oIB5"
      }
    },
    {
      "cell_type": "markdown",
      "source": [
        "###Question- From the following table, write a SQL query to find all the customers in ‘New York’ city who have a grade value above 100. Return customer_id, cust_name, city, grade, and salesman_id.\n",
        "\n",
        "```\n",
        "Table: Customer\n",
        "\n",
        " customer_id |   cust_name    |    city    | grade | salesman_id \n",
        "-------------+----------------+------------+-------+-------------\n",
        "        3002 | Nick Rimando   | New York   |   100 |        5001\n",
        "        3007 | Brad Davis     | New York   |   200 |        5001\n",
        "        3005 | Graham Zusi    | California |   200 |        5002\n",
        "        3008 | Julian Green   | London     |   300 |        5002\n",
        "        3004 | Fabian Johnson | Paris      |   300 |        5006\n",
        "        3009 | Geoff Cameron  | Berlin     |   100 |        5003\n",
        "        3003 | Jozy Altidor   | Moscow     |   200 |        5007\n",
        "        3001 | Brad Guzan     | London     |       |        5005\n",
        "```\n"
      ],
      "metadata": {
        "id": "dzjP9P_KoZ6h"
      }
    },
    {
      "cell_type": "markdown",
      "source": [
        "Solution:\n",
        "```\n",
        "SELECT * \n",
        "FROM customer \n",
        "WHERE city = 'New York' AND grade>100;\n",
        "```"
      ],
      "metadata": {
        "id": "GZGbbVZ-odew"
      }
    },
    {
      "cell_type": "markdown",
      "source": [
        "###Question- From the following table, write a SQL query to find details of all orders excluding those with ord_date equal to '2012-09-10' and salesman_id higher than 5005 or purch_amt greater than 1000.Return ord_no, purch_amt, ord_date, customer_id and salesman_id.\n",
        "\n",
        "```\n",
        "ord_no      purch_amt   ord_date    customer_id  salesman_id\n",
        "----------  ----------  ----------  -----------  -----------\n",
        "70001       150.5       2012-10-05  3005         5002\n",
        "70009       270.65      2012-09-10  3001         5005\n",
        "70002       65.26       2012-10-05  3002         5001\n",
        "70004       110.5       2012-08-17  3009         5003\n",
        "70007       948.5       2012-09-10  3005         5002\n",
        "70005       2400.6      2012-07-27  3007         5001\n",
        "70008       5760        2012-09-10  3002         5001\n",
        "70010       1983.43     2012-10-10  3004         5006\n",
        "70003       2480.4      2012-10-10  3009         5003\n",
        "70012       250.45      2012-06-27  3008         5002\n",
        "70011       75.29       2012-08-17  3003         5007\n",
        "70013       3045.6      2012-04-25  3002         5001\n",
        "```"
      ],
      "metadata": {
        "id": "AooqLiGKohJ3"
      }
    },
    {
      "cell_type": "markdown",
      "source": [
        "Solution\n",
        "```\n",
        "SELECT * \n",
        "FROM  orders \n",
        "WHERE NOT ((ord_date ='2012-09-10' \n",
        "AND salesman_id>5005) \n",
        "OR purch_amt>1000.00);\n",
        "\n",
        "```"
      ],
      "metadata": {
        "id": "Sosc56ugoofi"
      }
    },
    {
      "cell_type": "markdown",
      "source": [
        "###Question- From the following table, write a SQL query to find the details of those salespeople whose commissions range from 0.10 to0.12. Return salesman_id, name, city, and commission.\n",
        "\n",
        "```\n",
        " salesman_id |    name    |   city   | commission \n",
        "-------------+------------+----------+------------\n",
        "        5001 | James Hoog | New York |       0.15\n",
        "        5002 | Nail Knite | Paris    |       0.13\n",
        "        5005 | Pit Alex   | London   |       0.11\n",
        "        5006 | Mc Lyon    | Paris    |       0.14\n",
        "        5007 | Paul Adam  | Rome     |       0.13\n",
        "        5003 | Lauson Hen | San Jose |       0.12\n",
        "```\n"
      ],
      "metadata": {
        "id": "-0wIwL3wo6Bl"
      }
    },
    {
      "cell_type": "markdown",
      "source": [
        "Solution\n",
        "```\n",
        "SELECT salesman_id,name,city,commission \n",
        "FROM salesman \n",
        "WHERE (commission > 0.10 \n",
        "AND commission< 0.12);\n",
        "```"
      ],
      "metadata": {
        "id": "nT3aZ6eypA5t"
      }
    },
    {
      "cell_type": "markdown",
      "source": [
        "##Or\n",
        "\n",
        "The SQLite OR Operator is generally used with SELECT, UPDATE and DELETE statement to combine multiple conditions. OR operator is always used with WHERE clause and the complete condition is assumed true if anyone of the both condition is true."
      ],
      "metadata": {
        "id": "VsyUQHwtWmdC"
      }
    },
    {
      "cell_type": "markdown",
      "source": [
        "### Syntax:\n",
        "\n",
        "```\n",
        "SELECT column1, column2, columnN   \n",
        "FROM table_name  \n",
        "WHERE [condition1] OR [condition2]...OR [conditionN]  \n",
        "```\n",
        "\n"
      ],
      "metadata": {
        "id": "93zH0guRdFb7"
      }
    },
    {
      "cell_type": "markdown",
      "source": [
        "###Question- Write an SQL query to report the name, population, and area of the big countries based on the data given below.\n",
        "Table: World\n",
        "```\n",
        "+-------------+---------+\n",
        "| Column Name | Type    |\n",
        "+-------------+---------+\n",
        "| name        | varchar |\n",
        "| continent   | varchar |\n",
        "| area        | int     |\n",
        "| population  | int     |\n",
        "| gdp         | int     |\n",
        "+-------------+---------+\n",
        "```\n",
        "name is the primary key column for this table.\n",
        "Each row of this table gives information about the name of a country, the continent to which it belongs, its area, the population, and its GDP value.\n",
        " \n",
        "\n",
        "A country is big if:\n",
        "\n",
        "it has an area of at least three million (i.e., 3000000 km2), or\n",
        "it has a population of at least twenty-five million (i.e., 25000000).\n",
        "\n"
      ],
      "metadata": {
        "id": "WoiIlHL3tGlt"
      }
    },
    {
      "cell_type": "markdown",
      "source": [
        "Solution\n",
        "```\n",
        "select name, population,area from  world where area >= 3000000 or population >=25000000;\n",
        "```"
      ],
      "metadata": {
        "id": "ucqcyk-6tddU"
      }
    },
    {
      "cell_type": "markdown",
      "source": [
        "###Question- From the following table, write a SQL query to find the details of those salespeople who come from the 'Paris' City or 'Rome' City. Return salesman_id, name, city, commission.\n",
        "\n",
        "```\n",
        " salesman_id |    name    |   city   | commission \n",
        "-------------+------------+----------+------------\n",
        "        5001 | James Hoog | New York |       0.15\n",
        "        5002 | Nail Knite | Paris    |       0.13\n",
        "        5005 | Pit Alex   | London   |       0.11\n",
        "        5006 | Mc Lyon    | Paris    |       0.14\n",
        "        5007 | Paul Adam  | Rome     |       0.13\n",
        "        5003 | Lauson Hen | San Jose |       0.12\n",
        "```"
      ],
      "metadata": {
        "id": "zGjVSra-tmAj"
      }
    },
    {
      "cell_type": "markdown",
      "source": [
        "Solution\n",
        "\n",
        "```\n",
        "SELECT * \n",
        "FROM salesman \n",
        "WHERE city = 'Paris' OR city = 'Rome';\n",
        "```\n"
      ],
      "metadata": {
        "id": "5sfXN7oNtvdE"
      }
    },
    {
      "cell_type": "markdown",
      "source": [
        "###Question- From the following table, write a SQL query to find customers who are from the city of New York or have a grade of over 100. Return customer_id, cust_name, city, grade, and salesman_id.\n",
        "\n",
        "```\n",
        " customer_id |   cust_name    |    city    | grade | salesman_id \n",
        "-------------+----------------+------------+-------+-------------\n",
        "        3002 | Nick Rimando   | New York   |   100 |        5001\n",
        "        3007 | Brad Davis     | New York   |   200 |        5001\n",
        "        3005 | Graham Zusi    | California |   200 |        5002\n",
        "        3008 | Julian Green   | London     |   300 |        5002\n",
        "        3004 | Fabian Johnson | Paris      |   300 |        5006\n",
        "        3009 | Geoff Cameron  | Berlin     |   100 |        5003\n",
        "        3003 | Jozy Altidor   | Moscow     |   200 |        5007\n",
        "        3001 | Brad Guzan     | London     |       |        5005\n",
        "```\n"
      ],
      "metadata": {
        "id": "vYmqUILnt2Zc"
      }
    },
    {
      "cell_type": "markdown",
      "source": [
        "Solution\n",
        "\n",
        "```\n",
        "SELECT * \n",
        "FROM customer \n",
        "WHERE city = 'New York' OR grade>100;\n",
        "```"
      ],
      "metadata": {
        "id": "X79cHrU6t4_U"
      }
    },
    {
      "cell_type": "markdown",
      "source": [
        "###Question- From the following table, write a SQL query to find customers who are either from the city 'New York' or who do not have a grade greater than 100. Return customer_id, cust_name, city, grade, and salesman_id.\n",
        "\n",
        "```\n",
        "Table: Customer\n",
        "\n",
        " customer_id |   cust_name    |    city    | grade | salesman_id \n",
        "-------------+----------------+------------+-------+-------------\n",
        "        3002 | Nick Rimando   | New York   |   100 |        5001\n",
        "        3007 | Brad Davis     | New York   |   200 |        5001\n",
        "        3005 | Graham Zusi    | California |   200 |        5002\n",
        "        3008 | Julian Green   | London     |   300 |        5002\n",
        "        3004 | Fabian Johnson | Paris      |   300 |        5006\n",
        "        3009 | Geoff Cameron  | Berlin     |   100 |        5003\n",
        "        3003 | Jozy Altidor   | Moscow     |   200 |        5007\n",
        "        3001 | Brad Guzan     | London     |       |        5005\n",
        "```\n"
      ],
      "metadata": {
        "id": "8wS4WKTYuXLO"
      }
    },
    {
      "cell_type": "markdown",
      "source": [
        "Solution\n",
        "```\n",
        "SELECT * \n",
        "FROM customer \n",
        "WHERE city = 'New York' OR NOT grade>100;\n",
        "\n",
        "```"
      ],
      "metadata": {
        "id": "uIYWmsomuZqC"
      }
    },
    {
      "cell_type": "markdown",
      "source": [
        "##Like\n",
        "\n",
        "The SQLite LIKE operator is used to match text values against a pattern using wildcards. In the case search expression is matched to the pattern expression, the LIKE operator will return true, which is 1.\n",
        "\n",
        "There are two wildcards used in conjunction with the LIKE operator:\n",
        "\n",
        "- The percent sign (%)\n",
        "- The underscore (_)\n",
        "\n",
        "\n",
        "The percent sign represents zero, one, or multiple numbers or characters. The underscore represents a single number or character."
      ],
      "metadata": {
        "id": "00WXazSnWoNF"
      }
    },
    {
      "cell_type": "markdown",
      "source": [
        "### Syntax:\n",
        "\n",
        "\n",
        "1. \n",
        "```\n",
        "SELECT FROM table_name  \n",
        "WHERE column LIKE 'XXXX%'  \n",
        "```\n",
        "\n",
        "OR\n",
        "\n",
        "2. \n",
        "```\n",
        "SELECT FROM table_name  \n",
        "WHERE column LIKE '%XXXX%'  \n",
        "```\n",
        "\n",
        "OR\n",
        "\n",
        "3. \n",
        "```\n",
        "SELECT FROM table_name  \n",
        "WHERE column LIKE 'XXXX_'  \n",
        "```\n",
        "\n",
        "OR\n",
        "\n",
        "4. \n",
        "```\n",
        "SELECT FROM table_name  \n",
        "WHERE column LIKE '_XXXX'  \n",
        "```\n",
        "\n",
        "OR\n",
        "\n",
        "5. \n",
        "```\n",
        "SELECT FROM table_name  \n",
        "WHERE column LIKE '_XXXX_'  \n",
        "```\n",
        "Here, XXXX could be any numeric or string value.\n",
        "\n",
        "\n",
        "\n"
      ],
      "metadata": {
        "id": "uwIoXe5mdZa0"
      }
    },
    {
      "cell_type": "markdown",
      "source": [
        "### Here, the WHERE statement is having different LIKE clause with '%' and '_' operators and operation is done on 'FEES', Let us one by one go through each Statement and its Description.\n",
        "\n"
      ],
      "metadata": {
        "id": "g99pRazNfFdz"
      }
    },
    {
      "cell_type": "markdown",
      "source": [
        "![image.png](data:image/png;base64,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)"
      ],
      "metadata": {
        "id": "nwdYypyafdqS"
      }
    },
    {
      "cell_type": "markdown",
      "source": [
        "###Question- Write a query to display the first_name of all employees who have both an \"b\" and \"c\" in their first name.\n",
        "\n",
        "\n",
        "\n",
        "```\n",
        "employee_id  first_name  last_name   email       phone_number  hire_date   job_id      salary      commission_pct  manager_id  department_id\n",
        "-----------  ----------  ----------  ----------  ------------  ----------  ----------  ----------  --------------  ----------  -------------\n",
        "100          Steven      King        SKING       515.123.4567  6/17/1987   AD_PRES     24000                                   90\n",
        "101          Neena       Kochhar     NKOCHHAR    515.123.4568  6/18/1987   AD_VP       17000                       100         90\n",
        "102          Lex         De Haan     LDEHAAN     515.123.4569  6/19/1987   AD_VP       17000                       100         90\n",
        "103          Alexander   Hunold      AHUNOLD     590.423.4567  6/20/1987   IT_PROG     9000                        102         60\n",
        "104          Bruce       Ernst       BERNST      590.423.4568  6/21/1987   IT_PROG     6000                        103         60\n",
        "105          David       Austin      DAUSTIN     590.423.4569  6/22/1987   IT_PROG     4800                        103         60\n",
        "106          Valli       Pataballa   VPATABAL    590.423.4560  6/23/1987   IT_PROG     4800                        103         60\n",
        "107          Diana       Lorentz     DLORENTZ    590.423.5567  6/24/1987   IT_PROG     4200                        103         60\n",
        "108          Nancy       Greenberg   NGREENBE    515.124.4569  6/25/1987   FI_MGR      12000                       101         100\n",
        "109          Daniel      Faviet      DFAVIET     515.124.4169  6/26/1987   FI_ACCOUNT  9000                        108         100\n",
        "110          John        Chen        JCHEN       515.124.4269  6/27/1987   FI_ACCOUNT  8200                        108         100\n",
        "111          Ismael      Sciarra     ISCIARRA    515.124.4369  6/28/1987   FI_ACCOUNT  7700                        108         100\n",
        "112          Jose Manue  Urman       JMURMAN     515.124.4469  6/29/1987   FI_ACCOUNT  7800                        108         100\n",
        "113          Luis        Popp        LPOPP       515.124.4567  6/30/1987   FI_ACCOUNT  6900                        108         100\n",
        "114          Den         Raphaely    DRAPHEAL    515.127.4561  7/1/1987    PU_MAN      11000                       100         30\n",
        "115          Alexander   Khoo        AKHOO       515.127.4562  7/2/1987    PU_CLERK    3100\n",
        "```\n"
      ],
      "metadata": {
        "id": "E_m04HrXu3qv"
      }
    },
    {
      "cell_type": "markdown",
      "source": [
        "Solution\n",
        "```\n",
        "SELECT first_name\n",
        "FROM employees\n",
        "WHERE first_name LIKE '%b%'\n",
        "AND first_name LIKE '%c%';\n",
        "```\n",
        "\n"
      ],
      "metadata": {
        "id": "JkXRt-a0HgNY"
      }
    },
    {
      "cell_type": "markdown",
      "source": [
        "###Question-  Write a query to display the last names of employees whose names have exactly 6 characters.\n",
        "\n",
        "\n",
        "```\n",
        "employee_id  first_name  last_name   email       phone_number  hire_date   job_id      salary      commission_pct  manager_id  department_id\n",
        "-----------  ----------  ----------  ----------  ------------  ----------  ----------  ----------  --------------  ----------  -------------\n",
        "100          Steven      King        SKING       515.123.4567  6/17/1987   AD_PRES     24000                                   90\n",
        "101          Neena       Kochhar     NKOCHHAR    515.123.4568  6/18/1987   AD_VP       17000                       100         90\n",
        "102          Lex         De Haan     LDEHAAN     515.123.4569  6/19/1987   AD_VP       17000                       100         90\n",
        "103          Alexander   Hunold      AHUNOLD     590.423.4567  6/20/1987   IT_PROG     9000                        102         60\n",
        "104          Bruce       Ernst       BERNST      590.423.4568  6/21/1987   IT_PROG     6000                        103         60\n",
        "105          David       Austin      DAUSTIN     590.423.4569  6/22/1987   IT_PROG     4800                        103         60\n",
        "106          Valli       Pataballa   VPATABAL    590.423.4560  6/23/1987   IT_PROG     4800                        103         60\n",
        "107          Diana       Lorentz     DLORENTZ    590.423.5567  6/24/1987   IT_PROG     4200                        103         60\n",
        "108          Nancy       Greenberg   NGREENBE    515.124.4569  6/25/1987   FI_MGR      12000                       101         100\n",
        "109          Daniel      Faviet      DFAVIET     515.124.4169  6/26/1987   FI_ACCOUNT  9000                        108         100\n",
        "110          John        Chen        JCHEN       515.124.4269  6/27/1987   FI_ACCOUNT  8200                        108         100\n",
        "111          Ismael      Sciarra     ISCIARRA    515.124.4369  6/28/1987   FI_ACCOUNT  7700                        108         100\n",
        "112          Jose Manue  Urman       JMURMAN     515.124.4469  6/29/1987   FI_ACCOUNT  7800                        108         100\n",
        "113          Luis        Popp        LPOPP       515.124.4567  6/30/1987   FI_ACCOUNT  6900                        108         100\n",
        "114          Den         Raphaely    DRAPHEAL    515.127.4561  7/1/1987    PU_MAN      11000                       100         30\n",
        "115          Alexander   Khoo        AKHOO       515.127.4562  7/2/1987    PU_CLERK    3100                        114         30\n",
        "```"
      ],
      "metadata": {
        "id": "ZzAcFdwpHlsL"
      }
    },
    {
      "cell_type": "markdown",
      "source": [
        "Solution\n",
        "\n",
        "```\n",
        "SELECT last_name \n",
        "FROM employees \n",
        "WHERE last_name LIKE '______';\n",
        "```\n",
        "\n"
      ],
      "metadata": {
        "id": "xdOZlHhMHuvK"
      }
    },
    {
      "cell_type": "markdown",
      "source": [
        "###Question-  Write a query to display the last names of employees having 'e' as the third character.\n",
        "\n",
        "\n",
        "```\n",
        "employee_id  first_name  last_name   email       phone_number  hire_date   job_id      salary      commission_pct  manager_id  department_id\n",
        "-----------  ----------  ----------  ----------  ------------  ----------  ----------  ----------  --------------  ----------  -------------\n",
        "100          Steven      King        SKING       515.123.4567  6/17/1987   AD_PRES     24000                                   90\n",
        "101          Neena       Kochhar     NKOCHHAR    515.123.4568  6/18/1987   AD_VP       17000                       100         90\n",
        "102          Lex         De Haan     LDEHAAN     515.123.4569  6/19/1987   AD_VP       17000                       100         90\n",
        "103          Alexander   Hunold      AHUNOLD     590.423.4567  6/20/1987   IT_PROG     9000                        102         60\n",
        "104          Bruce       Ernst       BERNST      590.423.4568  6/21/1987   IT_PROG     6000                        103         60\n",
        "105          David       Austin      DAUSTIN     590.423.4569  6/22/1987   IT_PROG     4800                        103         60\n",
        "106          Valli       Pataballa   VPATABAL    590.423.4560  6/23/1987   IT_PROG     4800                        103         60\n",
        "107          Diana       Lorentz     DLORENTZ    590.423.5567  6/24/1987   IT_PROG     4200                        103         60\n",
        "108          Nancy       Greenberg   NGREENBE    515.124.4569  6/25/1987   FI_MGR      12000                       101         100\n",
        "109          Daniel      Faviet      DFAVIET     515.124.4169  6/26/1987   FI_ACCOUNT  9000                        108         100\n",
        "110          John        Chen        JCHEN       515.124.4269  6/27/1987   FI_ACCOUNT  8200                        108         100\n",
        "111          Ismael      Sciarra     ISCIARRA    515.124.4369  6/28/1987   FI_ACCOUNT  7700                        108         100\n",
        "112          Jose Manue  Urman       JMURMAN     515.124.4469  6/29/1987   FI_ACCOUNT  7800                        108         100\n",
        "113          Luis        Popp        LPOPP       515.124.4567  6/30/1987   FI_ACCOUNT  6900                        108         100\n",
        "114          Den         Raphaely    DRAPHEAL    515.127.4561  7/1/1987    PU_MAN      11000                       100         30\n",
        "115          Alexander   Khoo        AKHOO       515.127.4562  7/2/1987    PU_CLERK    3100                        114         30\n",
        "```\n"
      ],
      "metadata": {
        "id": "oCOi8fQ6H0qP"
      }
    },
    {
      "cell_type": "markdown",
      "source": [
        "Solution\n",
        "\n",
        "```\n",
        "SELECT last_name \n",
        "FROM employees \n",
        "WHERE last_name LIKE '__e%';\n",
        "```\n",
        "\n"
      ],
      "metadata": {
        "id": "_jLfaUQTH7wC"
      }
    },
    {
      "cell_type": "markdown",
      "source": [
        "###Question- From the following table, write a SQL query to find the details of the customers whose names end with the letter 'n'. Return customer_id, cust_name, city, grade, salesman_id.\n",
        "\n",
        "```\n",
        "Table: customer\n",
        "\n",
        " customer_id |   cust_name    |    city    | grade | salesman_id \n",
        "-------------+----------------+------------+-------+-------------\n",
        "        3002 | Nick Rimando   | New York   |   100 |        5001\n",
        "        3007 | Brad Davis     | New York   |   200 |        5001\n",
        "        3005 | Graham Zusi    | California |   200 |        5002\n",
        "        3008 | Julian Green   | London     |   300 |        5002\n",
        "        3004 | Fabian Johnson | Paris      |   300 |        5006\n",
        "        3009 | Geoff Cameron  | Berlin     |   100 |        5003\n",
        "        3003 | Jozy Altidor   | Moscow     |   200 |        5007\n",
        "        3001 | Brad Guzan     | London     |       |        5005\n",
        "```\n"
      ],
      "metadata": {
        "id": "tRfAWVuGICu6"
      }
    },
    {
      "cell_type": "markdown",
      "source": [
        "Solution\n",
        "```\n",
        "SELECT *\n",
        "FROM customer\n",
        "WHERE cust_name LIKE '%n';\n",
        "```\n",
        "\n"
      ],
      "metadata": {
        "id": "RTOC9IMAII10"
      }
    },
    {
      "cell_type": "markdown",
      "source": [
        "###Question- From the following table, write a SQL query to find the details of the customers whose names end with the letter 'n'. Return customer_id, cust_name, city, grade, salesman_id.\n",
        "\n",
        "```\n",
        " salesman_id |    name    |   city   | commission \n",
        "-------------+------------+----------+------------\n",
        "        5001 | James Hoog | New York |       0.15\n",
        "        5002 | Nail Knite | Paris    |       0.13\n",
        "        5005 | Pit Alex   | London   |       0.11\n",
        "        5006 | Mc Lyon    | Paris    |       0.14\n",
        "        5007 | Paul Adam  | Rome     |       0.13\n",
        "        5003 | Lauson Hen | San Jose |       0.12\n",
        "```\n"
      ],
      "metadata": {
        "id": "nWCKOJL3IPbW"
      }
    },
    {
      "cell_type": "markdown",
      "source": [
        "Solution\n",
        "\n",
        "```\n",
        "SELECT *\n",
        "FROM salesman\n",
        "WHERE name LIKE 'N__l%';\n",
        "```\n",
        "\n"
      ],
      "metadata": {
        "id": "e5crR-ZnIXJj"
      }
    },
    {
      "cell_type": "markdown",
      "source": [
        "###Question- From the following table, write a SQL query to find those rows where col1 contains the escape character underscore ( _ ). Return col1.\n",
        "\n",
        "```\n",
        "Table: testTable\n",
        "col1\n",
        "--------------------------\n",
        "A001/DJ-402\\44_/100/2015\n",
        "A001_\\DJ-402\\44_/100/2015\n",
        "A001_DJ-402-2014-2015\n",
        "A002_DJ-401-2014-2015\n",
        "A001/DJ_401\n",
        "A001/DJ_402\\44\n",
        "A001/DJ_402\\44\\2015\n",
        "A001/DJ-402%45\\2015/200\n",
        "A001/DJ_402\\45\\2015%100\n",
        "A001/DJ_402%45\\2015/300\n",
        "A001/DJ-402\\44\n",
        "```\n"
      ],
      "metadata": {
        "id": "lEqSk0azIeKZ"
      }
    },
    {
      "cell_type": "markdown",
      "source": [
        "Solution\n",
        "```\n",
        "SELECT *\n",
        "FROM testtable\n",
        "WHERE col1 LIKE '%/_%' ESCAPE '/';\n",
        "```\n",
        "\n",
        "\n"
      ],
      "metadata": {
        "id": "0ejkossJIkOt"
      }
    },
    {
      "cell_type": "markdown",
      "source": [
        "###Question- From the following table, write a SQL query to find those rows where col1  contain the forward slash character ( / ). Return col1.\n",
        "\n",
        "```\n",
        "Table: testtable\n",
        "\n",
        "col1\n",
        "--------------------------\n",
        "A001/DJ-402\\44_/100/2015\n",
        "A001_\\DJ-402\\44_/100/2015\n",
        "A001_DJ-402-2014-2015\n",
        "A002_DJ-401-2014-2015\n",
        "A001/DJ_401\n",
        "A001/DJ_402\\44\n",
        "A001/DJ_402\\44\\2015\n",
        "A001/DJ-402%45\\2015/200\n",
        "A001/DJ_402\\45\\2015%100\n",
        "A001/DJ_402%45\\2015/300\n",
        "A001/DJ-402\\44\n",
        "```\n"
      ],
      "metadata": {
        "id": "6YqcqbqnIqFq"
      }
    },
    {
      "cell_type": "markdown",
      "source": [
        "Solution\n",
        "\n",
        "```\n",
        "SELECT *\n",
        "FROM testtable\n",
        "WHERE col1 LIKE '%//%' ESCAPE '/';\n",
        "```\n",
        "\n"
      ],
      "metadata": {
        "id": "c65IIXdZIzEr"
      }
    },
    {
      "cell_type": "markdown",
      "source": [
        "###Question- From the following table, write a SQL query to find those rows where col1 contains the string ( _/ ). Return col1.\n",
        "\n",
        "```\n",
        "Table: testtable\n",
        "\n",
        "col1\n",
        "--------------------------\n",
        "A001/DJ-402\\44_/100/2015\n",
        "A001_\\DJ-402\\44_/100/2015\n",
        "A001_DJ-402-2014-2015\n",
        "A002_DJ-401-2014-2015\n",
        "A001/DJ_401\n",
        "A001/DJ_402\\44\n",
        "A001/DJ_402\\44\\2015\n",
        "A001/DJ-402%45\\2015/200\n",
        "A001/DJ_402\\45\\2015%100\n",
        "A001/DJ_402%45\\2015/300\n",
        "A001/DJ-402\\44\n",
        "```\n"
      ],
      "metadata": {
        "id": "YKAEYedqI5Uo"
      }
    },
    {
      "cell_type": "markdown",
      "source": [
        "Solution\n",
        "```\n",
        "SELECT *\n",
        "FROM testtable\n",
        "WHERE col1 LIKE '%/_//%' ESCAPE '/';\n",
        "```\n",
        "\n"
      ],
      "metadata": {
        "id": "8O29xBvZI-YM"
      }
    },
    {
      "cell_type": "markdown",
      "source": [
        "###Question- From the following table, write a SQL query to find the employees whose last name begins with the character 'D'. Return emp_idno, emp_fname, emp_lname and emp_dept.\n",
        "\n",
        "```\n",
        "Table: Emp_details\n",
        "\n",
        " EMP_IDNO EMP_FNAME       EMP_LNAME         EMP_DEPT\n",
        "--------- --------------- --------------- ----------\n",
        "   127323 Michale         Robbin                  57\n",
        "   526689 Carlos          Snares                  63\n",
        "   843795 Enric           Dosio                   57\n",
        "   328717 Jhon            Snares                  63\n",
        "   444527 Joseph          Dosni                   47\n",
        "   659831 Zanifer         Emily                   47\n",
        "   847674 Kuleswar        Sitaraman               57\n",
        "   748681 Henrey          Gabriel                 47\n",
        "   555935 Alex            Manuel                  57\n",
        "   539569 George          Mardy                   27\n",
        "   733843 Mario           Saule                   63\n",
        "   631548 Alan            Snappy                  27\n",
        "   839139 Maria           Foster                  57\n",
        "```\n"
      ],
      "metadata": {
        "id": "d2kBGdb-JEgw"
      }
    },
    {
      "cell_type": "markdown",
      "source": [
        "Solution\n",
        "```\n",
        "SELECT * \n",
        " FROM emp_details\n",
        "  WHERE emp_lname LIKE 'D%'; \n",
        "\n",
        "```"
      ],
      "metadata": {
        "id": "RmSZFYJpJLWP"
      }
    },
    {
      "cell_type": "markdown",
      "source": [
        "##Glob\n",
        "\n",
        "The SQLite GLOB operator matches only text values against a pattern by using wildcards. When the search expression is matched with the pattern expression, the GLOB operator will return true which is 1.\n",
        "\n",
        "The GLOB operator follows syntax of UNIX for specifying THE following wildcards.\n",
        "\n",
        "- The asterisk sign (*): This sign represents zero or multiple numbers or characters\n",
        "- The question mark (?): This sign represents a single number or character."
      ],
      "metadata": {
        "id": "lQaGXmqyWqL1"
      }
    },
    {
      "cell_type": "markdown",
      "source": [
        "### Syntax for asterisk sign:\n",
        "\n",
        "```\n",
        "SELECT FROM table_name  \n",
        "WHERE column GLOB 'XXXX*'  \n",
        "or   \n",
        "SELECT FROM table_name  \n",
        "WHERE column GLOB '*XXXX*'   \n",
        "```\n",
        "\n"
      ],
      "metadata": {
        "id": "QximYUPefzqq"
      }
    },
    {
      "cell_type": "markdown",
      "source": [
        "### Syntax for question mark:\n",
        "\n",
        "```\n",
        "SELECT FROM table_name  \n",
        "WHERE column GLOB 'XXXX?'  \n",
        "or  \n",
        "SELECT FROM table_name  \n",
        "WHERE column GLOB '?XXXX'  \n",
        "or  \n",
        "SELECT FROM table_name  \n",
        "WHERE column GLOB '?XXXX?'  \n",
        "or  \n",
        "SELECT FROM table_name  \n",
        "WHERE column GLOB '????'   \n",
        "```\n",
        "\n"
      ],
      "metadata": {
        "id": "0ESZeE5rf4BR"
      }
    },
    {
      "cell_type": "markdown",
      "source": [
        "### Here, the WHERE statement is having different BLOB clause with '*' and '?' operators. Let us one by one go through each Statement and its Description."
      ],
      "metadata": {
        "id": "JeqA-wZygBoa"
      }
    },
    {
      "cell_type": "markdown",
      "source": [
        "![image.png](data:image/png;base64,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)"
      ],
      "metadata": {
        "id": "3L0HdnBjgO-H"
      }
    },
    {
      "cell_type": "markdown",
      "source": [
        "##Limit\n",
        "\n",
        "The SQLite LIMIT clause is used to limit the data amount fetched by SELECT command from a table."
      ],
      "metadata": {
        "id": "9AXQ-0zjWr4i"
      }
    },
    {
      "cell_type": "markdown",
      "source": [
        "###Syntax:\n",
        "\n",
        "```\n",
        "SELECT column1, column2, columnN   \n",
        "FROM table_name  \n",
        "LIMIT [no of rows]   \n",
        "\n",
        "```\n",
        "  \n",
        "The LIMIT clause can also be used along with OFFSET clause.\n",
        "\n",
        "```\n",
        "SELECT column1, column2, columnN   \n",
        "FROM table_name  \n",
        "LIMIT [no of rows] OFFSET [row num]  \n",
        "```"
      ],
      "metadata": {
        "id": "u1o92-Dkgfml"
      }
    },
    {
      "cell_type": "markdown",
      "source": [
        "###Question- Write a query to select first 10 records from a table.\n",
        "\n",
        "```\n",
        "employee_id  first_name  last_name   email       phone_number  hire_date   job_id      salary      commission_pct  manager_id  department_id\n",
        "-----------  ----------  ----------  ----------  ------------  ----------  ----------  ----------  --------------  ----------  -------------\n",
        "100          Steven      King        SKING       515.123.4567  6/17/1987   AD_PRES     24000                                   90\n",
        "101          Neena       Kochhar     NKOCHHAR    515.123.4568  6/18/1987   AD_VP       17000                       100         90\n",
        "102          Lex         De Haan     LDEHAAN     515.123.4569  6/19/1987   AD_VP       17000                       100         90\n",
        "103          Alexander   Hunold      AHUNOLD     590.423.4567  6/20/1987   IT_PROG     9000                        102         60\n",
        "104          Bruce       Ernst       BERNST      590.423.4568  6/21/1987   IT_PROG     6000                        103         60\n",
        "105          David       Austin      DAUSTIN     590.423.4569  6/22/1987   IT_PROG     4800                        103         60\n",
        "106          Valli       Pataballa   VPATABAL    590.423.4560  6/23/1987   IT_PROG     4800                        103         60\n",
        "107          Diana       Lorentz     DLORENTZ    590.423.5567  6/24/1987   IT_PROG     4200                        103         60\n",
        "108          Nancy       Greenberg   NGREENBE    515.124.4569  6/25/1987   FI_MGR      12000                       101         100\n",
        "109          Daniel      Faviet      DFAVIET     515.124.4169  6/26/1987   FI_ACCOUNT  9000                        108         100\n",
        "110          John        Chen        JCHEN       515.124.4269  6/27/1987   FI_ACCOUNT  8200                        108         100\n",
        "111          Ismael      Sciarra     ISCIARRA    515.124.4369  6/28/1987   FI_ACCOUNT  7700                        108         100\n",
        "112          Jose Manue  Urman       JMURMAN     515.124.4469  6/29/1987   FI_ACCOUNT  7800                        108         100\n",
        "113          Luis        Popp        LPOPP       515.124.4567  6/30/1987   FI_ACCOUNT  6900                        108         100\n",
        "114          Den         Raphaely    DRAPHEAL    515.127.4561  7/1/1987    PU_MAN      11000                       100         30\n",
        "115          Alexander   Khoo        AKHOO       515.127.4562  7/2/1987    PU_CLERK    3100                        114         30\n",
        "```"
      ],
      "metadata": {
        "id": "prM873AbbmNH"
      }
    },
    {
      "cell_type": "markdown",
      "source": [
        "Solution\n",
        "\n",
        "```\n",
        "SELECT employee_id, first_name \n",
        "FROM employees  \n",
        "LIMIT 10;\n",
        "```\n",
        "\n"
      ],
      "metadata": {
        "id": "LVTtSUcSbp0M"
      }
    },
    {
      "cell_type": "markdown",
      "source": [
        "##Order By\n",
        "\n",
        "The SQLite ORDER BY clause is used to sort the fetched data in ascending or descending order, based on one or more column."
      ],
      "metadata": {
        "id": "iWqRlGoNWtyt"
      }
    },
    {
      "cell_type": "markdown",
      "source": [
        "### Syntax:\n",
        "```\n",
        "SELECT column-list   \n",
        "FROM table_name   \n",
        "[WHERE condition]   \n",
        "[ORDER BY column1, column2, .. columnN] [ASC | DESC];   \n",
        "```\n",
        "You can use one or more columns in ORDER BY clause. Your used column must be presented in column-list.\n",
        "\n"
      ],
      "metadata": {
        "id": "uJ1pdzbGg6_9"
      }
    },
    {
      "cell_type": "markdown",
      "source": [
        "###Question-  Write a query to get all employee details from the employee table order by first name, descending.\n",
        "\n",
        "```\n",
        "employee_id  first_name  last_name   email       phone_number  hire_date   job_id      salary      commission_pct  manager_id  department_id\n",
        "-----------  ----------  ----------  ----------  ------------  ----------  ----------  ----------  --------------  ----------  -------------\n",
        "100          Steven      King        SKING       515.123.4567  6/17/1987   AD_PRES     24000                                   90\n",
        "101          Neena       Kochhar     NKOCHHAR    515.123.4568  6/18/1987   AD_VP       17000                       100         90\n",
        "102          Lex         De Haan     LDEHAAN     515.123.4569  6/19/1987   AD_VP       17000                       100         90\n",
        "103          Alexander   Hunold      AHUNOLD     590.423.4567  6/20/1987   IT_PROG     9000                        102         60\n",
        "104          Bruce       Ernst       BERNST      590.423.4568  6/21/1987   IT_PROG     6000                        103         60\n",
        "105          David       Austin      DAUSTIN     590.423.4569  6/22/1987   IT_PROG     4800                        103         60\n",
        "106          Valli       Pataballa   VPATABAL    590.423.4560  6/23/1987   IT_PROG     4800                        103         60\n",
        "107          Diana       Lorentz     DLORENTZ    590.423.5567  6/24/1987   IT_PROG     4200                        103         60\n",
        "108          Nancy       Greenberg   NGREENBE    515.124.4569  6/25/1987   FI_MGR      12000                       101         100\n",
        "109          Daniel      Faviet      DFAVIET     515.124.4169  6/26/1987   FI_ACCOUNT  9000                        108         100\n",
        "110          John        Chen        JCHEN       515.124.4269  6/27/1987   FI_ACCOUNT  8200                        108         100\n",
        "111          Ismael      Sciarra     ISCIARRA    515.124.4369  6/28/1987   FI_ACCOUNT  7700                        108         100\n",
        "112          Jose Manue  Urman       JMURMAN     515.124.4469  6/29/1987   FI_ACCOUNT  7800                        108         100\n",
        "113          Luis        Popp        LPOPP       515.124.4567  6/30/1987   FI_ACCOUNT  6900                        108         100\n",
        "114          Den         Raphaely    DRAPHEAL    515.127.4561  7/1/1987    PU_MAN      11000                       100         30\n",
        "115          Alexander   Khoo        AKHOO       515.127.4562  7/2/1987    PU_CLERK    3100                        114         30\n",
        "```\n"
      ],
      "metadata": {
        "id": "6LaNPCEFnOAY"
      }
    },
    {
      "cell_type": "markdown",
      "source": [
        "Solution\n",
        "\n",
        "```\n",
        "SELECT * \n",
        "FROM employees \n",
        "ORDER BY first_name DESC; \n",
        "```\n",
        "\n"
      ],
      "metadata": {
        "id": "jem-m6efv1uf"
      }
    },
    {
      "cell_type": "markdown",
      "source": [
        "###Question- Write a query to get the employee ID, names (first_name, last_name), salary in ascending order of salary.\n",
        "\n",
        "```\n",
        "employee_id  first_name  last_name   email       phone_number  hire_date   job_id      salary      commission_pct  manager_id  department_id\n",
        "-----------  ----------  ----------  ----------  ------------  ----------  ----------  ----------  --------------  ----------  -------------\n",
        "100          Steven      King        SKING       515.123.4567  6/17/1987   AD_PRES     24000                                   90\n",
        "101          Neena       Kochhar     NKOCHHAR    515.123.4568  6/18/1987   AD_VP       17000                       100         90\n",
        "102          Lex         De Haan     LDEHAAN     515.123.4569  6/19/1987   AD_VP       17000                       100         90\n",
        "103          Alexander   Hunold      AHUNOLD     590.423.4567  6/20/1987   IT_PROG     9000                        102         60\n",
        "104          Bruce       Ernst       BERNST      590.423.4568  6/21/1987   IT_PROG     6000                        103         60\n",
        "105          David       Austin      DAUSTIN     590.423.4569  6/22/1987   IT_PROG     4800                        103         60\n",
        "106          Valli       Pataballa   VPATABAL    590.423.4560  6/23/1987   IT_PROG     4800                        103         60\n",
        "107          Diana       Lorentz     DLORENTZ    590.423.5567  6/24/1987   IT_PROG     4200                        103         60\n",
        "108          Nancy       Greenberg   NGREENBE    515.124.4569  6/25/1987   FI_MGR      12000                       101         100\n",
        "109          Daniel      Faviet      DFAVIET     515.124.4169  6/26/1987   FI_ACCOUNT  9000                        108         100\n",
        "110          John        Chen        JCHEN       515.124.4269  6/27/1987   FI_ACCOUNT  8200                        108         100\n",
        "111          Ismael      Sciarra     ISCIARRA    515.124.4369  6/28/1987   FI_ACCOUNT  7700                        108         100\n",
        "112          Jose Manue  Urman       JMURMAN     515.124.4469  6/29/1987   FI_ACCOUNT  7800                        108         100\n",
        "113          Luis        Popp        LPOPP       515.124.4567  6/30/1987   FI_ACCOUNT  6900                        108         100\n",
        "114          Den         Raphaely    DRAPHEAL    515.127.4561  7/1/1987    PU_MAN      11000                       100         30\n",
        "115          Alexander   Khoo        AKHOO       515.127.4562  7/2/1987    PU_CLERK    3100                        114         30\n",
        "```\n"
      ],
      "metadata": {
        "id": "DbwworTlwcWR"
      }
    },
    {
      "cell_type": "markdown",
      "source": [
        "Solution\n",
        "\n",
        "```\n",
        "SELECT employee_id, first_name, last_name, salary \n",
        "FROM employees ORDER BY salary;\n",
        "```\n",
        "\n"
      ],
      "metadata": {
        "id": "ih1DTdFAwCXB"
      }
    },
    {
      "cell_type": "markdown",
      "source": [
        "##Group By\n",
        "\n",
        "The SQLite GROUP BY clause is used with SELECT statement to collaborate the same identical elements into groups.\n",
        "\n",
        "The GROUP BY clause is used with WHERE clause in SELECT statement and precedes the ORDER BY clause."
      ],
      "metadata": {
        "id": "2nQkOnFtWw1K"
      }
    },
    {
      "cell_type": "markdown",
      "source": [
        "### Syntax:\n",
        "\n",
        "```\n",
        "SELECT column-list  \n",
        "FROM table_name  \n",
        "WHERE [ conditions ]  \n",
        "GROUP BY column1, column2....columnN  \n",
        "ORDER BY column1, column2....columnN   \n",
        "```\n",
        "\n"
      ],
      "metadata": {
        "id": "leZgYV_jhMqi"
      }
    },
    {
      "cell_type": "markdown",
      "source": [
        "###Question- Write a SQL query to find the highest grade of the customers for each of the city. Return city, maximum grade.\n",
        "\n",
        "```\n",
        " customer_id |   cust_name    |    city    | grade | salesman_id \n",
        "-------------+----------------+------------+-------+-------------\n",
        "        3002 | Nick Rimando   | New York   |   100 |        5001\n",
        "        3007 | Brad Davis     | New York   |   200 |        5001\n",
        "        3005 | Graham Zusi    | California |   200 |        5002\n",
        "        3008 | Julian Green   | London     |   300 |        5002\n",
        "        3004 | Fabian Johnson | Paris      |   300 |        5006\n",
        "        3009 | Geoff Cameron  | Berlin     |   100 |        5003\n",
        "        3003 | Jozy Altidor   | Moscow     |   200 |        5007\n",
        "        3001 | Brad Guzan     | London     |       |        5005\n",
        "```\n",
        "\n"
      ],
      "metadata": {
        "id": "NJ35_TauwKp1"
      }
    },
    {
      "cell_type": "markdown",
      "source": [
        "Solution\n",
        "\n",
        "```\n",
        "SELECT city,MAX(grade) \n",
        "FROM customer \n",
        "GROUP BY city;\n",
        "```\n",
        "\n"
      ],
      "metadata": {
        "id": "Tw-YW0xBufip"
      }
    },
    {
      "cell_type": "markdown",
      "source": [
        "###Question- Write a SQL query to find the highest purchase amount ordered by each customer. Return customer ID, maximum purchase amount. \n",
        "```\n",
        "ord_no      purch_amt   ord_date    customer_id  salesman_id\n",
        "----------  ----------  ----------  -----------  -----------\n",
        "70001       150.5       2012-10-05  3005         5002\n",
        "70009       270.65      2012-09-10  3001         5005\n",
        "70002       65.26       2012-10-05  3002         5001\n",
        "70004       110.5       2012-08-17  3009         5003\n",
        "70007       948.5       2012-09-10  3005         5002\n",
        "70005       2400.6      2012-07-27  3007         5001\n",
        "70008       5760        2012-09-10  3002         5001\n",
        "70010       1983.43     2012-10-10  3004         5006\n",
        "70003       2480.4      2012-10-10  3009         5003\n",
        "70012       250.45      2012-06-27  3008         5002\n",
        "70011       75.29       2012-08-17  3003         5007\n",
        "70013       3045.6      2012-04-25  3002         5001\n",
        "```\n"
      ],
      "metadata": {
        "id": "iT7Tw9KBwd7l"
      }
    },
    {
      "cell_type": "markdown",
      "source": [
        "Solution\n",
        "\n",
        "```\n",
        "SELECT customer_id,MAX(purch_amt) \n",
        "FROM orders \n",
        "GROUP BY customer_id;\n",
        "```\n",
        "\n"
      ],
      "metadata": {
        "id": "BJW0GWxQut-4"
      }
    },
    {
      "cell_type": "markdown",
      "source": [
        "###Question- Write a SQL query to find the highest purchase amount ordered by each customer on a particular date. Return, order date and highest purchase amount.\n",
        "\n",
        "```\n",
        "ord_no      purch_amt   ord_date    customer_id  salesman_id\n",
        "----------  ----------  ----------  -----------  -----------\n",
        "70001       150.5       2012-10-05  3005         5002\n",
        "70009       270.65      2012-09-10  3001         5005\n",
        "70002       65.26       2012-10-05  3002         5001\n",
        "70004       110.5       2012-08-17  3009         5003\n",
        "70007       948.5       2012-09-10  3005         5002\n",
        "70005       2400.6      2012-07-27  3007         5001\n",
        "70008       5760        2012-09-10  3002         5001\n",
        "70010       1983.43     2012-10-10  3004         5006\n",
        "70003       2480.4      2012-10-10  3009         5003\n",
        "70012       250.45      2012-06-27  3008         5002\n",
        "70011       75.29       2012-08-17  3003         5007\n",
        "70013       3045.6      2012-04-25  3002         5001\n",
        "```\n"
      ],
      "metadata": {
        "id": "_46zmwzVwuQF"
      }
    },
    {
      "cell_type": "markdown",
      "source": [
        "Solution\n",
        "\n",
        "```\n",
        "SELECT customer_id,ord_date,MAX(purch_amt) \n",
        "FROM orders \n",
        "GROUP BY customer_id,ord_date;\n",
        "```\n",
        "\n"
      ],
      "metadata": {
        "id": "3O-V1h0iu6EB"
      }
    },
    {
      "cell_type": "markdown",
      "source": [
        "###Question- Write a SQL query to find the highest purchase amount on '2012-08-17' by each salesperson. Return salesperson ID, purchase amount.\n",
        "\n",
        "```\n",
        "ord_no      purch_amt   ord_date    customer_id  salesman_id\n",
        "----------  ----------  ----------  -----------  -----------\n",
        "70001       150.5       2012-10-05  3005         5002\n",
        "70009       270.65      2012-09-10  3001         5005\n",
        "70002       65.26       2012-10-05  3002         5001\n",
        "70004       110.5       2012-08-17  3009         5003\n",
        "70007       948.5       2012-09-10  3005         5002\n",
        "70005       2400.6      2012-07-27  3007         5001\n",
        "70008       5760        2012-09-10  3002         5001\n",
        "70010       1983.43     2012-10-10  3004         5006\n",
        "70003       2480.4      2012-10-10  3009         5003\n",
        "70012       250.45      2012-06-27  3008         5002\n",
        "70011       75.29       2012-08-17  3003         5007\n",
        "70013       3045.6      2012-04-25  3002         5001\n",
        "```\n"
      ],
      "metadata": {
        "id": "3Y-A65vPxPqV"
      }
    },
    {
      "cell_type": "markdown",
      "source": [
        "Solution\n",
        "\n",
        "```\n",
        "SELECT salesman_id,MAX(purch_amt) \n",
        "FROM orders \n",
        "WHERE ord_date = '2012-08-17' \n",
        "GROUP BY salesman_id;\n",
        "```\n",
        "\n"
      ],
      "metadata": {
        "id": "OfFuFJfyvFXH"
      }
    },
    {
      "cell_type": "markdown",
      "source": [
        "###Question- Write a query to get the number of employees with the same job.\n",
        "\n",
        "```\n",
        "employee_id  first_name  last_name   email       phone_number  hire_date   job_id      salary      commission_pct  manager_id  department_id\n",
        "-----------  ----------  ----------  ----------  ------------  ----------  ----------  ----------  --------------  ----------  -------------\n",
        "100          Steven      King        SKING       515.123.4567  6/17/1987   AD_PRES     24000                                   90\n",
        "101          Neena       Kochhar     NKOCHHAR    515.123.4568  6/18/1987   AD_VP       17000                       100         90\n",
        "102          Lex         De Haan     LDEHAAN     515.123.4569  6/19/1987   AD_VP       17000                       100         90\n",
        "103          Alexander   Hunold      AHUNOLD     590.423.4567  6/20/1987   IT_PROG     9000                        102         60\n",
        "104          Bruce       Ernst       BERNST      590.423.4568  6/21/1987   IT_PROG     6000                        103         60\n",
        "105          David       Austin      DAUSTIN     590.423.4569  6/22/1987   IT_PROG     4800                        103         60\n",
        "106          Valli       Pataballa   VPATABAL    590.423.4560  6/23/1987   IT_PROG     4800                        103         60\n",
        "107          Diana       Lorentz     DLORENTZ    590.423.5567  6/24/1987   IT_PROG     4200                        103         60\n",
        "108          Nancy       Greenberg   NGREENBE    515.124.4569  6/25/1987   FI_MGR      12000                       101         100\n",
        "109          Daniel      Faviet      DFAVIET     515.124.4169  6/26/1987   FI_ACCOUNT  9000                        108         100\n",
        "110          John        Chen        JCHEN       515.124.4269  6/27/1987   FI_ACCOUNT  8200                        108         100\n",
        "111          Ismael      Sciarra     ISCIARRA    515.124.4369  6/28/1987   FI_ACCOUNT  7700                        108         100\n",
        "112          Jose Manue  Urman       JMURMAN     515.124.4469  6/29/1987   FI_ACCOUNT  7800                        108         100\n",
        "113          Luis        Popp        LPOPP       515.124.4567  6/30/1987   FI_ACCOUNT  6900                        108         100\n",
        "114          Den         Raphaely    DRAPHEAL    515.127.4561  7/1/1987    PU_MAN      11000                       100         30\n",
        "115          Alexander   Khoo        AKHOO       515.127.4562  7/2/1987    PU_CLERK    3100                        114         30\n",
        "116          Shelli      Baida       SBAIDA      515.127.4563  7/3/1987    PU_CLERK    2900                        114         30\n",
        "117          Sigal       Tobias      STOBIAS     515.127.4564  7/4/1987    PU_CLERK    2800                        114         30\n",
        "118          Guy         Himuro      GHIMURO     515.127.4565  7/5/1987    PU_CLERK    2600                        114         30\n",
        "119          Karen       Colmenares  KCOLMENA    515.127.4566  7/6/1987    PU_CLERK    2500                        114         30\n",
        "120          Matthew     Weiss       MWEISS      650.123.1234  7/7/1987    ST_MAN      8000\n",
        "\n",
        "```\n"
      ],
      "metadata": {
        "id": "RX4nqcAkQj5G"
      }
    },
    {
      "cell_type": "markdown",
      "source": [
        "Solution\n",
        "\n",
        "```\n",
        "SELECT job_id, COUNT(*)\n",
        "FROM employees\n",
        "GROUP BY job_id;\n",
        "```\n",
        "\n"
      ],
      "metadata": {
        "id": "GA_IzgAUvXh3"
      }
    },
    {
      "cell_type": "markdown",
      "source": [
        "##Having\n",
        "\n",
        "The SQLite HAVING clause is used to specify conditions that filter which group results appear in the final results. The WHERE clause places conditions on the selected columns, whereas the HAVING clause places conditions on groups created by the GROUP BY clause.\n",
        "\n"
      ],
      "metadata": {
        "id": "O8PZk_vpW0ED"
      }
    },
    {
      "cell_type": "markdown",
      "source": [
        "### The position of HAVING clause in a SELECT query:\n",
        "\n",
        "```\n",
        "SELECT  \n",
        "FROM  \n",
        "WHERE  \n",
        "GROUP BY  \n",
        "HAVING  \n",
        "ORDER BY  \n",
        "```\n",
        "\n"
      ],
      "metadata": {
        "id": "WuPAYp_Mm6AT"
      }
    },
    {
      "cell_type": "markdown",
      "source": [
        "### Syntax:\n",
        "\n",
        "```\n",
        "SELECT column1, column2  \n",
        "FROM table1, table2  \n",
        "WHERE [ conditions ]  \n",
        "GROUP BY column1, column2  \n",
        "HAVING [ conditions ]  \n",
        "ORDER BY column1, column2  \n",
        "```\n",
        "\n"
      ],
      "metadata": {
        "id": "hLaZzIiqm-8T"
      }
    },
    {
      "cell_type": "markdown",
      "source": [
        "###Question- From the following table, write a SQL query to find highest order (purchase) amount by each customer in a particular order date. \n",
        "Filter the result by highest order (purchase) amount above 2000.00. Return customer id, order date and maximum purchase amount.\n",
        "\n",
        "\n",
        "```\n",
        "ord_no      purch_amt   ord_date    customer_id  salesman_id\n",
        "----------  ----------  ----------  -----------  -----------\n",
        "70001       150.5       2012-10-05  3005         5002\n",
        "70009       270.65      2012-09-10  3001         5005\n",
        "70002       65.26       2012-10-05  3002         5001\n",
        "70004       110.5       2012-08-17  3009         5003\n",
        "70007       948.5       2012-09-10  3005         5002\n",
        "70005       2400.6      2012-07-27  3007         5001\n",
        "70008       5760        2012-09-10  3002         5001\n",
        "70010       1983.43     2012-10-10  3004         5006\n",
        "70003       2480.4      2012-10-10  3009         5003\n",
        "70012       250.45      2012-06-27  3008         5002\n",
        "70011       75.29       2012-08-17  3003         5007\n",
        "70013       3045.6      2012-04-25  3002         5001\n",
        "```"
      ],
      "metadata": {
        "id": "urzEGouytPN_"
      }
    },
    {
      "cell_type": "markdown",
      "source": [
        "Solution\n",
        "\n",
        "```\n",
        "SELECT customer_id,ord_date,MAX(purch_amt) \n",
        "FROM orders \n",
        "GROUP BY customer_id,ord_date \n",
        "HAVING MAX(purch_amt)>2000.00;\n",
        "```\n",
        "\n"
      ],
      "metadata": {
        "id": "6deegE8_tUWN"
      }
    },
    {
      "cell_type": "markdown",
      "source": [
        "###Question- Write a SQL query to find the maximum order (purchase) amount in the range 2000, 6000 \n",
        "(Begin and end values are included) by combination of each customer and order date. Return customer id, order date and maximum purchase amount.\n",
        "\n",
        "```\n",
        "ord_no      purch_amt   ord_date    customer_id  salesman_id\n",
        "----------  ----------  ----------  -----------  -----------\n",
        "70001       150.5       2012-10-05  3005         5002\n",
        "70009       270.65      2012-09-10  3001         5005\n",
        "70002       65.26       2012-10-05  3002         5001\n",
        "70004       110.5       2012-08-17  3009         5003\n",
        "70007       948.5       2012-09-10  3005         5002\n",
        "70005       2400.6      2012-07-27  3007         5001\n",
        "70008       5760        2012-09-10  3002         5001\n",
        "70010       1983.43     2012-10-10  3004         5006\n",
        "70003       2480.4      2012-10-10  3009         5003\n",
        "70012       250.45      2012-06-27  3008         5002\n",
        "70011       75.29       2012-08-17  3003         5007\n",
        "70013       3045.6      2012-04-25  3002         5001\n",
        "```"
      ],
      "metadata": {
        "id": "Nrmf3GQjtcFe"
      }
    },
    {
      "cell_type": "markdown",
      "source": [
        "Solution\n",
        "\n",
        "```\n",
        "\n",
        "SELECT customer_id,ord_date,MAX(purch_amt) \n",
        "FROM orders \n",
        "GROUP BY customer_id,ord_date \n",
        "HAVING MAX(purch_amt) BETWEEN 2000 AND 6000;\n",
        "```\n",
        "\n"
      ],
      "metadata": {
        "id": "E56G-DxRtvNb"
      }
    },
    {
      "cell_type": "markdown",
      "source": [
        "###Question- Write a SQL query to find the maximum order (purchase) amount by the combination of each customer and order date. \n",
        "Filter the rows for maximum order (purchase) amount is either 2000, 3000, 5760, 6000. Return customer id, order date and maximum purchase amount. \n",
        "\n",
        "```\n",
        "ord_no      purch_amt   ord_date    customer_id  salesman_id\n",
        "----------  ----------  ----------  -----------  -----------\n",
        "70001       150.5       2012-10-05  3005         5002\n",
        "70009       270.65      2012-09-10  3001         5005\n",
        "70002       65.26       2012-10-05  3002         5001\n",
        "70004       110.5       2012-08-17  3009         5003\n",
        "70007       948.5       2012-09-10  3005         5002\n",
        "70005       2400.6      2012-07-27  3007         5001\n",
        "70008       5760        2012-09-10  3002         5001\n",
        "70010       1983.43     2012-10-10  3004         5006\n",
        "70003       2480.4      2012-10-10  3009         5003\n",
        "70012       250.45      2012-06-27  3008         5002\n",
        "70011       75.29       2012-08-17  3003         5007\n",
        "70013       3045.6      2012-04-25  3002         5001\n",
        "```"
      ],
      "metadata": {
        "id": "j47zZJm3t5rN"
      }
    },
    {
      "cell_type": "markdown",
      "source": [
        "Solution\n",
        "\n",
        "```\n",
        "SELECT customer_id,ord_date,MAX(purch_amt) \n",
        "FROM orders \n",
        "GROUP BY customer_id,ord_date \n",
        "HAVING MAX(purch_amt) IN(2000 ,3000,5760, 6000);\n",
        "```\n",
        "\n"
      ],
      "metadata": {
        "id": "7CmvPmRot8od"
      }
    },
    {
      "cell_type": "markdown",
      "source": [
        "##Distinct\n",
        "\n",
        "The SQLite DISTINCT clause is used with SELECT statement to eliminate all the duplicate records and fetching only unique records.\n",
        "\n",
        "It is used when you have multiple duplicate records in the table."
      ],
      "metadata": {
        "id": "SIZd_tk-W17q"
      }
    },
    {
      "cell_type": "markdown",
      "source": [
        "### Syntax:\n",
        "\n",
        "```\n",
        "SELECT DISTINCT column1, column2,.....columnN   \n",
        "FROM table_name  \n",
        "WHERE [condition]   \n",
        "```\n",
        "\n"
      ],
      "metadata": {
        "id": "TMbJ9UtjnP-o"
      }
    },
    {
      "cell_type": "markdown",
      "source": [
        "###Question- Write a query to display the jobs/designations available in the employees table.\n",
        "\n",
        "\n",
        "```\n",
        "employee_id  first_name  last_name   email       phone_number  hire_date   job_id      salary      commission_pct  manager_id  department_id\n",
        "-----------  ----------  ----------  ----------  ------------  ----------  ----------  ----------  --------------  ----------  -------------\n",
        "100          Steven      King        SKING       515.123.4567  6/17/1987   AD_PRES     24000                                   90\n",
        "101          Neena       Kochhar     NKOCHHAR    515.123.4568  6/18/1987   AD_VP       17000                       100         90\n",
        "102          Lex         De Haan     LDEHAAN     515.123.4569  6/19/1987   AD_VP       17000                       100         90\n",
        "103          Alexander   Hunold      AHUNOLD     590.423.4567  6/20/1987   IT_PROG     9000                        102         60\n",
        "104          Bruce       Ernst       BERNST      590.423.4568  6/21/1987   IT_PROG     6000                        103         60\n",
        "105          David       Austin      DAUSTIN     590.423.4569  6/22/1987   IT_PROG     4800                        103         60\n",
        "106          Valli       Pataballa   VPATABAL    590.423.4560  6/23/1987   IT_PROG     4800                        103         60\n",
        "107          Diana       Lorentz     DLORENTZ    590.423.5567  6/24/1987   IT_PROG     4200                        103         60\n",
        "108          Nancy       Greenberg   NGREENBE    515.124.4569  6/25/1987   FI_MGR      12000                       101         100\n",
        "109          Daniel      Faviet      DFAVIET     515.124.4169  6/26/1987   FI_ACCOUNT  9000                        108         100\n",
        "110          John        Chen        JCHEN       515.124.4269  6/27/1987   FI_ACCOUNT  8200                        108         100\n",
        "111          Ismael      Sciarra     ISCIARRA    515.124.4369  6/28/1987   FI_ACCOUNT  7700                        108         100\n",
        "112          Jose Manue  Urman       JMURMAN     515.124.4469  6/29/1987   FI_ACCOUNT  7800                        108         100\n",
        "113          Luis        Popp        LPOPP       515.124.4567  6/30/1987   FI_ACCOUNT  6900                        108         100\n",
        "114          Den         Raphaely    DRAPHEAL    515.127.4561  7/1/1987    PU_MAN      11000                       100         30\n",
        "115          Alexander   Khoo        AKHOO       515.127.4562  7/2/1987    PU_CLERK    3100                        114         30\n",
        "```\n"
      ],
      "metadata": {
        "id": "t9rrsDjPqa0k"
      }
    },
    {
      "cell_type": "markdown",
      "source": [
        "Solution\n",
        "\n",
        "```\n",
        "SELECT DISTINCT job_id  \n",
        "FROM employees;\n",
        "```\n",
        "\n"
      ],
      "metadata": {
        "id": "BRSj5FTcwb-X"
      }
    },
    {
      "cell_type": "markdown",
      "source": [
        "###Question- Write a query to get unique department ID from employee table.\n",
        "\n",
        "\n",
        "```\n",
        "employee_id  first_name  last_name   email       phone_number  hire_date   job_id      salary      commission_pct  manager_id  department_id\n",
        "-----------  ----------  ----------  ----------  ------------  ----------  ----------  ----------  --------------  ----------  -------------\n",
        "100          Steven      King        SKING       515.123.4567  6/17/1987   AD_PRES     24000                                   90\n",
        "101          Neena       Kochhar     NKOCHHAR    515.123.4568  6/18/1987   AD_VP       17000                       100         90\n",
        "102          Lex         De Haan     LDEHAAN     515.123.4569  6/19/1987   AD_VP       17000                       100         90\n",
        "103          Alexander   Hunold      AHUNOLD     590.423.4567  6/20/1987   IT_PROG     9000                        102         60\n",
        "104          Bruce       Ernst       BERNST      590.423.4568  6/21/1987   IT_PROG     6000                        103         60\n",
        "105          David       Austin      DAUSTIN     590.423.4569  6/22/1987   IT_PROG     4800                        103         60\n",
        "106          Valli       Pataballa   VPATABAL    590.423.4560  6/23/1987   IT_PROG     4800                        103         60\n",
        "107          Diana       Lorentz     DLORENTZ    590.423.5567  6/24/1987   IT_PROG     4200                        103         60\n",
        "108          Nancy       Greenberg   NGREENBE    515.124.4569  6/25/1987   FI_MGR      12000                       101         100\n",
        "109          Daniel      Faviet      DFAVIET     515.124.4169  6/26/1987   FI_ACCOUNT  9000                        108         100\n",
        "110          John        Chen        JCHEN       515.124.4269  6/27/1987   FI_ACCOUNT  8200                        108         100\n",
        "111          Ismael      Sciarra     ISCIARRA    515.124.4369  6/28/1987   FI_ACCOUNT  7700                        108         100\n",
        "112          Jose Manue  Urman       JMURMAN     515.124.4469  6/29/1987   FI_ACCOUNT  7800                        108         100\n",
        "113          Luis        Popp        LPOPP       515.124.4567  6/30/1987   FI_ACCOUNT  6900                        108         100\n",
        "114          Den         Raphaely    DRAPHEAL    515.127.4561  7/1/1987    PU_MAN      11000                       100         30\n",
        "115          Alexander   Khoo        AKHOO       515.127.4562  7/2/1987    PU_CLERK    3100                        114         30\n",
        "```\n"
      ],
      "metadata": {
        "id": "jgv7vF_3nI1W"
      }
    },
    {
      "cell_type": "markdown",
      "source": [
        "Solution\n",
        "\n",
        "```\n",
        "SELECT DISTINCT department_id\n",
        "FROM employees;\n",
        "```\n",
        "\n"
      ],
      "metadata": {
        "id": "ttNhY_Axwu3_"
      }
    },
    {
      "cell_type": "markdown",
      "source": [
        "##Union\n",
        "\n",
        "SQLite UNION Operator is used to combine the result set of two or more tables using SELECT statement. The UNION operator shows only the unique rows and removes duplicate rows.\n",
        "\n",
        "While using UNION operator, each SELECT statement must have the same number of fields in the result set."
      ],
      "metadata": {
        "id": "6jYuHkZBW4Pg"
      }
    },
    {
      "cell_type": "markdown",
      "source": [
        "### Syntax:\n",
        "\n",
        "```\n",
        "SELECT expression1, expression2, ... expression_n  \n",
        "FROM tables  \n",
        "[WHERE conditions]  \n",
        "UNION  \n",
        "SELECT expression1, expression2, ... expression_n  \n",
        "FROM tables  \n",
        "[WHERE conditions];   \n",
        "```\n",
        "\n"
      ],
      "metadata": {
        "id": "Ch-ukq9PTqgk"
      }
    },
    {
      "cell_type": "markdown",
      "source": [
        "##Union All\n",
        "\n",
        "The SQLite UNION ALL operator is used to combine the result of two or more SELECT statement without ignoring the duplicate rows.\n",
        "\n",
        "In SQLite UNION ALL, the resultant table also includes the duplicate values. Otherwise, the same rule applies as Union."
      ],
      "metadata": {
        "id": "3wdXX3whW6rY"
      }
    },
    {
      "cell_type": "markdown",
      "source": [
        "### Syntax:\n",
        "\n",
        "```\n",
        "SELECT expression1, expression2, ... expression_n  \n",
        "FROM tables  \n",
        "[WHERE conditions]  \n",
        "UNION ALL  \n",
        "SELECT expression1, expression2, ... expression_n  \n",
        "FROM tables  \n",
        "[WHERE conditions];  \n",
        "```\n",
        "\n"
      ],
      "metadata": {
        "id": "3mDOEagzUq4c"
      }
    },
    {
      "cell_type": "markdown",
      "source": [
        "##Null\n",
        "\n",
        "SQLite NULL is the term used to represent a missing value. A NULL value in a table is a value in a field that appears to be blank.\n",
        "\n",
        "A field with a NULL value is a field with no value. It is very important to understand that a NULL value is different than a zero value or a field that contains spaces."
      ],
      "metadata": {
        "id": "As21CdNJYDKk"
      }
    },
    {
      "cell_type": "markdown",
      "source": [
        "### Syntax:\n",
        "\n",
        "```\n",
        "SQLite> CREATE TABLE COMPANY(\n",
        "ID INT PRIMARY KEY NOT NULL,\n",
        "NAME TEXT NOT NULL,\n",
        "AGE INT NOT NULL,\n",
        "ADDRESS CHAR(50),\n",
        "SALARY REAL\n",
        ");\n",
        "```\n",
        "\n"
      ],
      "metadata": {
        "id": "RzFzfnO1VlBQ"
      }
    },
    {
      "cell_type": "markdown",
      "source": [
        "###Question- From the following table, write a SQL query to find all those customers who does not have any grade. Return customer_id, cust_name, city, grade, salesman_id.\n",
        "\n",
        "```\n",
        "Table: Customer\n",
        "\n",
        " customer_id |   cust_name    |    city    | grade | salesman_id \n",
        "-------------+----------------+------------+-------+-------------\n",
        "        3002 | Nick Rimando   | New York   |   100 |        5001\n",
        "        3007 | Brad Davis     | New York   |   200 |        5001\n",
        "        3005 | Graham Zusi    | California |   200 |        5002\n",
        "        3008 | Julian Green   | London     |   300 |        5002\n",
        "        3004 | Fabian Johnson | Paris      |   300 |        5006\n",
        "        3009 | Geoff Cameron  | Berlin     |   100 |        5003\n",
        "        3003 | Jozy Altidor   | Moscow     |   200 |        5007\n",
        "        3001 | Brad Guzan     | London     |       |        5005\n",
        "```"
      ],
      "metadata": {
        "id": "BsmoxiPSasJg"
      }
    },
    {
      "cell_type": "markdown",
      "source": [
        "Solution\n",
        "\n",
        "```\n",
        "SELECT *\n",
        "FROM customer\n",
        "WHERE grade IS NULL;\n",
        "```\n",
        "\n"
      ],
      "metadata": {
        "id": "W9IaWUgpaz6e"
      }
    },
    {
      "cell_type": "markdown",
      "source": [
        "###Question- From the following table, write a SQL query to find all those customers whose grade value exists. Return customer_id, cust_name, city, grade, salesman_id.\n",
        "\n",
        "```\n",
        "Table: customer\n",
        "\n",
        " customer_id |   cust_name    |    city    | grade | salesman_id \n",
        "-------------+----------------+------------+-------+-------------\n",
        "        3002 | Nick Rimando   | New York   |   100 |        5001\n",
        "        3007 | Brad Davis     | New York   |   200 |        5001\n",
        "        3005 | Graham Zusi    | California |   200 |        5002\n",
        "        3008 | Julian Green   | London     |   300 |        5002\n",
        "        3004 | Fabian Johnson | Paris      |   300 |        5006\n",
        "        3009 | Geoff Cameron  | Berlin     |   100 |        5003\n",
        "        3003 | Jozy Altidor   | Moscow     |   200 |        5007\n",
        "        3001 | Brad Guzan     | London     |       |        5005\n",
        "```"
      ],
      "metadata": {
        "id": "zOBuuF-5bAr2"
      }
    },
    {
      "cell_type": "markdown",
      "source": [
        "Solution\n",
        "\n",
        "```\n",
        "SELECT *\n",
        "FROM customer\n",
        "WHERE grade IS NOT NULL;\n",
        "```\n",
        "or \n",
        "\n",
        "```\n",
        "SELECT *\n",
        "FROM customer\n",
        "WHERE NOT grade IS NULL;\n",
        "\n",
        "```\n"
      ],
      "metadata": {
        "id": "KNWkjsrsbGi7"
      }
    },
    {
      "cell_type": "markdown",
      "source": [
        "##In\n",
        "\n",
        "The SQLite IN condition is used to help reduce the need to use multiple OR conditions in a SELECT, INSERT, UPDATE, or DELETE statement.\n",
        "\n"
      ],
      "metadata": {
        "id": "_rdgAQZOYE-f"
      }
    },
    {
      "cell_type": "markdown",
      "source": [
        "### Syntax:\n",
        "\n",
        "```\n",
        "expression IN (value1, value2, .... value_n);\n",
        "OR\n",
        "\n",
        "expression IN (subquery);\n",
        "```\n",
        "\n"
      ],
      "metadata": {
        "id": "ujiL5QNpXePQ"
      }
    },
    {
      "cell_type": "markdown",
      "source": [
        "###Question- Write a query to display the names (first_name, last_name) and department ID of all employees in departments 30 or 100 in ascending alphabetical order by department ID.\n",
        "\n",
        "```\n",
        "employee_id  first_name  last_name   email       phone_number  hire_date   job_id      salary      commission_pct  manager_id  department_id\n",
        "-----------  ----------  ----------  ----------  ------------  ----------  ----------  ----------  --------------  ----------  -------------\n",
        "100          Steven      King        SKING       515.123.4567  6/17/1987   AD_PRES     24000                                   90\n",
        "101          Neena       Kochhar     NKOCHHAR    515.123.4568  6/18/1987   AD_VP       17000                       100         90\n",
        "102          Lex         De Haan     LDEHAAN     515.123.4569  6/19/1987   AD_VP       17000                       100         90\n",
        "103          Alexander   Hunold      AHUNOLD     590.423.4567  6/20/1987   IT_PROG     9000                        102         60\n",
        "104          Bruce       Ernst       BERNST      590.423.4568  6/21/1987   IT_PROG     6000                        103         60\n",
        "105          David       Austin      DAUSTIN     590.423.4569  6/22/1987   IT_PROG     4800                        103         60\n",
        "106          Valli       Pataballa   VPATABAL    590.423.4560  6/23/1987   IT_PROG     4800                        103         60\n",
        "107          Diana       Lorentz     DLORENTZ    590.423.5567  6/24/1987   IT_PROG     4200                        103         60\n",
        "108          Nancy       Greenberg   NGREENBE    515.124.4569  6/25/1987   FI_MGR      12000                       101         100\n",
        "109          Daniel      Faviet      DFAVIET     515.124.4169  6/26/1987   FI_ACCOUNT  9000                        108         100\n",
        "110          John        Chen        JCHEN       515.124.4269  6/27/1987   FI_ACCOUNT  8200                        108         100\n",
        "111          Ismael      Sciarra     ISCIARRA    515.124.4369  6/28/1987   FI_ACCOUNT  7700                        108         100\n",
        "112          Jose Manue  Urman       JMURMAN     515.124.4469  6/29/1987   FI_ACCOUNT  7800                        108         100\n",
        "113          Luis        Popp        LPOPP       515.124.4567  6/30/1987   FI_ACCOUNT  6900                        108         100\n",
        "114          Den         Raphaely    DRAPHEAL    515.127.4561  7/1/1987    PU_MAN      11000                       100         30\n",
        "115          Alexander   Khoo        AKHOO       515.127.4562  7/2/1987    PU_CLERK    3100\n",
        "```\n"
      ],
      "metadata": {
        "id": "8lMdoML5EYIg"
      }
    },
    {
      "cell_type": "markdown",
      "source": [
        "Solution\n",
        "\n",
        "```\n",
        "SELECT first_name, last_name, department_id\n",
        "FROM employees\n",
        "WHERE department_id IN (30, 100)\n",
        "ORDER BY  department_id  ASC;\n",
        "```\n",
        "\n"
      ],
      "metadata": {
        "id": "3B9-If_UEhYh"
      }
    },
    {
      "cell_type": "markdown",
      "source": [
        "###Question-  Write a query to display the last name, job, and salary for all employees whose job is that of a Programmer or a Shipping Clerk, and whose salary is not equal to ```$4,500```, ```$10,000```, or ```$15,000```.\n",
        "\n",
        "\n",
        "```\n",
        "employee_id  first_name  last_name   email       phone_number  hire_date   job_id      salary      commission_pct  manager_id  department_id\n",
        "-----------  ----------  ----------  ----------  ------------  ----------  ----------  ----------  --------------  ----------  -------------\n",
        "100          Steven      King        SKING       515.123.4567  6/17/1987   AD_PRES     24000                                   90\n",
        "101          Neena       Kochhar     NKOCHHAR    515.123.4568  6/18/1987   AD_VP       17000                       100         90\n",
        "102          Lex         De Haan     LDEHAAN     515.123.4569  6/19/1987   AD_VP       17000                       100         90\n",
        "103          Alexander   Hunold      AHUNOLD     590.423.4567  6/20/1987   IT_PROG     9000                        102         60\n",
        "104          Bruce       Ernst       BERNST      590.423.4568  6/21/1987   IT_PROG     6000                        103         60\n",
        "105          David       Austin      DAUSTIN     590.423.4569  6/22/1987   IT_PROG     4800                        103         60\n",
        "106          Valli       Pataballa   VPATABAL    590.423.4560  6/23/1987   IT_PROG     4800                        103         60\n",
        "107          Diana       Lorentz     DLORENTZ    590.423.5567  6/24/1987   IT_PROG     4200                        103         60\n",
        "108          Nancy       Greenberg   NGREENBE    515.124.4569  6/25/1987   FI_MGR      12000                       101         100\n",
        "109          Daniel      Faviet      DFAVIET     515.124.4169  6/26/1987   FI_ACCOUNT  9000                        108         100\n",
        "110          John        Chen        JCHEN       515.124.4269  6/27/1987   FI_ACCOUNT  8200                        108         100\n",
        "111          Ismael      Sciarra     ISCIARRA    515.124.4369  6/28/1987   FI_ACCOUNT  7700                        108         100\n",
        "112          Jose Manue  Urman       JMURMAN     515.124.4469  6/29/1987   FI_ACCOUNT  7800                        108         100\n",
        "113          Luis        Popp        LPOPP       515.124.4567  6/30/1987   FI_ACCOUNT  6900                        108         100\n",
        "114          Den         Raphaely    DRAPHEAL    515.127.4561  7/1/1987    PU_MAN      11000                       100         30\n",
        "115          Alexander   Khoo        AKHOO       515.127.4562  7/2/1987    PU_CLERK    3100                        114         30\n",
        "```"
      ],
      "metadata": {
        "id": "vd7ThBh-EnBF"
      }
    },
    {
      "cell_type": "markdown",
      "source": [
        "Solution\n",
        "\n",
        "```\n",
        "SELECT last_name, job_id, salary\n",
        "FROM employees\n",
        "WHERE job_id IN ('IT_PROG', 'SH_CLERK')\n",
        "AND salary NOT IN (4500,10000, 15000);\n",
        "```\n",
        "\n"
      ],
      "metadata": {
        "id": "fq5cs-ojEt-a"
      }
    },
    {
      "cell_type": "markdown",
      "source": [
        "###Question-  Write a query to find the names (first_name, last_name) of the employees who have a manager who works for a department based in the United States.\n",
        "\n",
        "\n",
        "```\n",
        "employee_id  first_name  last_name   email       phone_number  hire_date   job_id      salary      commission_pct  manager_id  department_id\n",
        "-----------  ----------  ----------  ----------  ------------  ----------  ----------  ----------  --------------  ----------  -------------\n",
        "100          Steven      King        SKING       515.123.4567  6/17/1987   AD_PRES     24000                                   90\n",
        "101          Neena       Kochhar     NKOCHHAR    515.123.4568  6/18/1987   AD_VP       17000                       100         90\n",
        "102          Lex         De Haan     LDEHAAN     515.123.4569  6/19/1987   AD_VP       17000                       100         90\n",
        "103          Alexander   Hunold      AHUNOLD     590.423.4567  6/20/1987   IT_PROG     9000                        102         60\n",
        "104          Bruce       Ernst       BERNST      590.423.4568  6/21/1987   IT_PROG     6000                        103         60\n",
        "105          David       Austin      DAUSTIN     590.423.4569  6/22/1987   IT_PROG     4800                        103         60\n",
        "106          Valli       Pataballa   VPATABAL    590.423.4560  6/23/1987   IT_PROG     4800                        103         60\n",
        "107          Diana       Lorentz     DLORENTZ    590.423.5567  6/24/1987   IT_PROG     4200                        103         60\n",
        "108          Nancy       Greenberg   NGREENBE    515.124.4569  6/25/1987   FI_MGR      12000                       101         100\n",
        "109          Daniel      Faviet      DFAVIET     515.124.4169  6/26/1987   FI_ACCOUNT  9000                        108         100\n",
        "110          John        Chen        JCHEN       515.124.4269  6/27/1987   FI_ACCOUNT  8200                        108         100\n",
        "111          Ismael      Sciarra     ISCIARRA    515.124.4369  6/28/1987   FI_ACCOUNT  7700                        108         100\n",
        "112          Jose Manue  Urman       JMURMAN     515.124.4469  6/29/1987   FI_ACCOUNT  7800                        108         100\n",
        "113          Luis        Popp        LPOPP       515.124.4567  6/30/1987   FI_ACCOUNT  6900                        108         100\n",
        "114          Den         Raphaely    DRAPHEAL    515.127.4561  7/1/1987    PU_MAN      11000                       100         30\n",
        "115          Alexander   Khoo        AKHOO       515.127.4562  7/2/1987    PU_CLERK    3100                        114         30\n",
        "```"
      ],
      "metadata": {
        "id": "vstSfW2IEzqQ"
      }
    },
    {
      "cell_type": "markdown",
      "source": [
        "Solution\n",
        "\n",
        "```\n",
        "SELECT first_name, last_name FROM employees \n",
        "WHERE manager_id in (select employee_id \n",
        "FROM employees WHERE department_id \n",
        "IN (SELECT department_id FROM departments WHERE location_id \n",
        "IN (select location_id from locations where country_id='US')));\n",
        "```\n",
        "\n"
      ],
      "metadata": {
        "id": "ugv-efE8E5cf"
      }
    },
    {
      "cell_type": "markdown",
      "source": [
        "###Question-  Write a query to find the names (first_name, last_name) of the employees who are managers.\n",
        "\n",
        "\n",
        "```\n",
        "employee_id  first_name  last_name   email       phone_number  hire_date   job_id      salary      commission_pct  manager_id  department_id\n",
        "-----------  ----------  ----------  ----------  ------------  ----------  ----------  ----------  --------------  ----------  -------------\n",
        "100          Steven      King        SKING       515.123.4567  6/17/1987   AD_PRES     24000                                   90\n",
        "101          Neena       Kochhar     NKOCHHAR    515.123.4568  6/18/1987   AD_VP       17000                       100         90\n",
        "102          Lex         De Haan     LDEHAAN     515.123.4569  6/19/1987   AD_VP       17000                       100         90\n",
        "103          Alexander   Hunold      AHUNOLD     590.423.4567  6/20/1987   IT_PROG     9000                        102         60\n",
        "104          Bruce       Ernst       BERNST      590.423.4568  6/21/1987   IT_PROG     6000                        103         60\n",
        "105          David       Austin      DAUSTIN     590.423.4569  6/22/1987   IT_PROG     4800                        103         60\n",
        "106          Valli       Pataballa   VPATABAL    590.423.4560  6/23/1987   IT_PROG     4800                        103         60\n",
        "107          Diana       Lorentz     DLORENTZ    590.423.5567  6/24/1987   IT_PROG     4200                        103         60\n",
        "108          Nancy       Greenberg   NGREENBE    515.124.4569  6/25/1987   FI_MGR      12000                       101         100\n",
        "109          Daniel      Faviet      DFAVIET     515.124.4169  6/26/1987   FI_ACCOUNT  9000                        108         100\n",
        "110          John        Chen        JCHEN       515.124.4269  6/27/1987   FI_ACCOUNT  8200                        108         100\n",
        "111          Ismael      Sciarra     ISCIARRA    515.124.4369  6/28/1987   FI_ACCOUNT  7700                        108         100\n",
        "112          Jose Manue  Urman       JMURMAN     515.124.4469  6/29/1987   FI_ACCOUNT  7800                        108         100\n",
        "113          Luis        Popp        LPOPP       515.124.4567  6/30/1987   FI_ACCOUNT  6900                        108         100\n",
        "114          Den         Raphaely    DRAPHEAL    515.127.4561  7/1/1987    PU_MAN      11000                       100         30\n",
        "115          Alexander   Khoo        AKHOO       515.127.4562  7/2/1987    PU_CLERK    3100                        114         30\n",
        "```"
      ],
      "metadata": {
        "id": "slzQNyHgE_mC"
      }
    },
    {
      "cell_type": "markdown",
      "source": [
        "Solution\n",
        "\n",
        "```\n",
        "SELECT first_name, last_name \n",
        "FROM employees \n",
        "WHERE (employee_id IN (SELECT manager_id FROM employees));\n",
        "```\n",
        "\n"
      ],
      "metadata": {
        "id": "rqyZR4bPFGav"
      }
    },
    {
      "cell_type": "markdown",
      "source": [
        "###Question- From the following table, write a SQL query to find the details of those salespeople who come from any of the City 'Paris' or 'Rome'. Return salesman_id, name, city, commission.\n",
        "\n",
        "```\n",
        "Table: Salesman\n",
        "\n",
        " salesman_id |    name    |   city   | commission \n",
        "-------------+------------+----------+------------\n",
        "        5001 | James Hoog | New York |       0.15\n",
        "        5002 | Nail Knite | Paris    |       0.13\n",
        "        5005 | Pit Alex   | London   |       0.11\n",
        "        5006 | Mc Lyon    | Paris    |       0.14\n",
        "        5007 | Paul Adam  | Rome     |       0.13\n",
        "        5003 | Lauson Hen | San Jose |       0.12\n",
        "```"
      ],
      "metadata": {
        "id": "aqsavZbuFSex"
      }
    },
    {
      "cell_type": "markdown",
      "source": [
        "Solution\n",
        "\n",
        "```\n",
        "SELECT * \n",
        "FROM salesman \n",
        "WHERE city IN('Paris','Rome');\n",
        "```\n",
        "\n"
      ],
      "metadata": {
        "id": "LDSAdTboFZK6"
      }
    },
    {
      "cell_type": "markdown",
      "source": [
        "##Between\n",
        "\n",
        "The BETWEEN operator is a logical operator that tests whether a value is in range of values. If the value is in the specified range, the BETWEEN operator returns true. The BETWEEN operator can be used in the WHERE clause of the SELECT, DELETE, UPDATE, and REPLACE statements."
      ],
      "metadata": {
        "id": "cy1FZqp7YGYB"
      }
    },
    {
      "cell_type": "markdown",
      "source": [
        "### Syntax:\n",
        "```\n",
        "test_expression BETWEEN low_expression AND high_expression\n",
        "```\n",
        "\n"
      ],
      "metadata": {
        "id": "BVXtxiBbX453"
      }
    },
    {
      "cell_type": "markdown",
      "source": [
        "###Question- Write a SQL query to find the maximum order (purchase) amount by each customer. The customer ID should be in the range 3002 and 3007.(Begin and end values are included) \n",
        "Return customer id and maximum purchase amount."
      ],
      "metadata": {
        "id": "-seSyb4TFrJO"
      }
    },
    {
      "cell_type": "markdown",
      "source": [
        "Solution\n",
        "\n",
        "\n",
        "```\n",
        "SELECT customer_id,MAX(purch_amt)\n",
        "FROM orders \n",
        "WHERE customer_id BETWEEN 3002 and 3007 \n",
        "GROUP BY customer_id;\n",
        "```\n",
        "\n"
      ],
      "metadata": {
        "id": "VfUyAxHwFwk9"
      }
    },
    {
      "cell_type": "markdown",
      "source": [
        "###Question- From the following table, write a SQL query to find the details of salespeople who get the commission in the range from 0.12 to 0.14 (begin and end values are included). Return salesman_id, name, city, and commission.\n",
        "\n",
        "```\n",
        "Table Salesman\n",
        "\n",
        " salesman_id |    name    |   city   | commission \n",
        "-------------+------------+----------+------------\n",
        "        5001 | James Hoog | New York |       0.15\n",
        "        5002 | Nail Knite | Paris    |       0.13\n",
        "        5005 | Pit Alex   | London   |       0.11\n",
        "        5006 | Mc Lyon    | Paris    |       0.14\n",
        "        5007 | Paul Adam  | Rome     |       0.13\n",
        "        5003 | Lauson Hen | San Jose |       0.12\n",
        "```"
      ],
      "metadata": {
        "id": "aADIEs8iF38i"
      }
    },
    {
      "cell_type": "markdown",
      "source": [
        "Solution\n",
        "\n",
        "```\n",
        "SELECT * \n",
        "FROM salesman \n",
        "WHERE commission BETWEEN 0.12 AND 0.14;\n",
        "```\n",
        "\n"
      ],
      "metadata": {
        "id": "SsE0gjFnaBz8"
      }
    },
    {
      "cell_type": "markdown",
      "source": [
        "###Question- From the following table, write a SQL query to find the details of those salespeople whose name starts with any letter within 'A' and 'L' (not inclusive). Return salesman_id, name, city, commission.\n",
        "\n",
        "```\n",
        "Table Salesman\n",
        "\n",
        " salesman_id |    name    |   city   | commission \n",
        "-------------+------------+----------+------------\n",
        "        5001 | James Hoog | New York |       0.15\n",
        "        5002 | Nail Knite | Paris    |       0.13\n",
        "        5005 | Pit Alex   | London   |       0.11\n",
        "        5006 | Mc Lyon    | Paris    |       0.14\n",
        "        5007 | Paul Adam  | Rome     |       0.13\n",
        "        5003 | Lauson Hen | San Jose |       0.12\n",
        "```"
      ],
      "metadata": {
        "id": "v0FhHCBSaHlg"
      }
    },
    {
      "cell_type": "markdown",
      "source": [
        "Solution\n",
        "\n",
        "\n",
        "```\n",
        "SELECT *\n",
        "FROM salesman\n",
        "WHERE name BETWEEN 'A' and 'L';\n",
        "```\n",
        "\n"
      ],
      "metadata": {
        "id": "u9D3BxMeaOub"
      }
    },
    {
      "cell_type": "markdown",
      "source": [
        "###Question- From the following table, write a SQL query to find the details of all salespeople except whose name starts with any letter within 'A' and 'L' (not inclusive). Return salesman_id, name, city, commission.\n",
        "\n",
        "```\n",
        "Table: Salesman\n",
        "\n",
        " salesman_id |    name    |   city   | commission \n",
        "-------------+------------+----------+------------\n",
        "        5001 | James Hoog | New York |       0.15\n",
        "        5002 | Nail Knite | Paris    |       0.13\n",
        "        5005 | Pit Alex   | London   |       0.11\n",
        "        5006 | Mc Lyon    | Paris    |       0.14\n",
        "        5007 | Paul Adam  | Rome     |       0.13\n",
        "        5003 | Lauson Hen | San Jose |       0.12\n",
        "```"
      ],
      "metadata": {
        "id": "7Ba4ulzjaUyP"
      }
    },
    {
      "cell_type": "markdown",
      "source": [
        "Solution\n",
        "\n",
        "```\n",
        "SELECT *\n",
        "FROM salesman\n",
        "WHERE name NOT BETWEEN 'A' and 'L';\n",
        "```\n",
        "\n"
      ],
      "metadata": {
        "id": "iOH_fVS4aaMh"
      }
    },
    {
      "cell_type": "markdown",
      "source": [
        "##Not\n",
        "\n",
        "In SQLite NOT operator or condition is used to get the records that are not satisfying the defined conditions in sqlite select statement. \n",
        "\n",
        " \n",
        "\n",
        "Generally, the SQLite Not condition (negate condition) is used along with NULL, IN, BETWEEN, LIKE in SELECT, INSERT, UPDATE, or DELETE statement.\n",
        "\n"
      ],
      "metadata": {
        "id": "vDdh53uAYLXZ"
      }
    },
    {
      "cell_type": "markdown",
      "source": [
        "###Syntax:\n",
        "\n",
        "```\n",
        "Expression NOT IN (value1, value2,.... value_n);\n",
        "```\n",
        "\n"
      ],
      "metadata": {
        "id": "amg4wgXRbAt8"
      }
    },
    {
      "cell_type": "markdown",
      "source": [
        "###Question- Write a query to display the names (first_name, last_name) and salary for all employees whose salary is not in the range ```$10,000``` through ```$15,000```.\n",
        "\n",
        "```\n",
        "employee_id  first_name  last_name   email       phone_number  hire_date   job_id      salary      commission_pct  manager_id  department_id\n",
        "-----------  ----------  ----------  ----------  ------------  ----------  ----------  ----------  --------------  ----------  -------------\n",
        "100          Steven      King        SKING       515.123.4567  6/17/1987   AD_PRES     24000                                   90\n",
        "101          Neena       Kochhar     NKOCHHAR    515.123.4568  6/18/1987   AD_VP       17000                       100         90\n",
        "102          Lex         De Haan     LDEHAAN     515.123.4569  6/19/1987   AD_VP       17000                       100         90\n",
        "103          Alexander   Hunold      AHUNOLD     590.423.4567  6/20/1987   IT_PROG     9000                        102         60\n",
        "104          Bruce       Ernst       BERNST      590.423.4568  6/21/1987   IT_PROG     6000                        103         60\n",
        "105          David       Austin      DAUSTIN     590.423.4569  6/22/1987   IT_PROG     4800                        103         60\n",
        "106          Valli       Pataballa   VPATABAL    590.423.4560  6/23/1987   IT_PROG     4800                        103         60\n",
        "107          Diana       Lorentz     DLORENTZ    590.423.5567  6/24/1987   IT_PROG     4200                        103         60\n",
        "108          Nancy       Greenberg   NGREENBE    515.124.4569  6/25/1987   FI_MGR      12000                       101         100\n",
        "109          Daniel      Faviet      DFAVIET     515.124.4169  6/26/1987   FI_ACCOUNT  9000                        108         100\n",
        "110          John        Chen        JCHEN       515.124.4269  6/27/1987   FI_ACCOUNT  8200                        108         100\n",
        "111          Ismael      Sciarra     ISCIARRA    515.124.4369  6/28/1987   FI_ACCOUNT  7700                        108         100\n",
        "112          Jose Manue  Urman       JMURMAN     515.124.4469  6/29/1987   FI_ACCOUNT  7800                        108         100\n",
        "113          Luis        Popp        LPOPP       515.124.4567  6/30/1987   FI_ACCOUNT  6900                        108         100\n",
        "114          Den         Raphaely    DRAPHEAL    515.127.4561  7/1/1987    PU_MAN      11000                       100         30\n",
        "115          Alexander   Khoo        AKHOO       515.127.4562  7/2/1987    PU_CLERK    3100\n",
        "```\n"
      ],
      "metadata": {
        "id": "uDXE8RlMAkM4"
      }
    },
    {
      "cell_type": "markdown",
      "source": [
        "Solution\n",
        "\n",
        "```\n",
        "SELECT first_name, last_name, salary\n",
        "FROM employees\n",
        "WHERE salary NOT BETWEEN 10000 AND 15000;.\n",
        "```\n",
        "\n"
      ],
      "metadata": {
        "id": "y8bAeVi-At2n"
      }
    },
    {
      "cell_type": "markdown",
      "source": [
        "###Question- From the following table, write a SQL query to find the details of those salespeople who live in cities apart from 'Paris' and 'Rome'. Return salesman_id, name, city, commission.\n",
        "\n",
        "```\n",
        "Table: Salesman\n",
        "\n",
        " salesman_id |    name    |   city   | commission \n",
        "-------------+------------+----------+------------\n",
        "        5001 | James Hoog | New York |       0.15\n",
        "        5002 | Nail Knite | Paris    |       0.13\n",
        "        5005 | Pit Alex   | London   |       0.11\n",
        "        5006 | Mc Lyon    | Paris    |       0.14\n",
        "        5007 | Paul Adam  | Rome     |       0.13\n",
        "        5003 | Lauson Hen | San Jose |       0.12\n",
        "```"
      ],
      "metadata": {
        "id": "L4O_6dYoA0VY"
      }
    },
    {
      "cell_type": "markdown",
      "source": [
        "Solution\n",
        "\n",
        "```\n",
        "SELECT * \n",
        "FROM salesman \n",
        "WHERE city NOT IN('Paris','Rome');\n",
        "```"
      ],
      "metadata": {
        "id": "_FtXcvQ9A6R8"
      }
    },
    {
      "cell_type": "markdown",
      "source": [
        "###Question- From the following table, write a SQL query to select orders value within a range 500, 4000 (begin and end values are included). Exclude orders amount 948.50 and 1983.43. Return ord_no, purch_amt, ord_date, customer_id, and salesman_id.\n",
        "\n",
        "```\n",
        "ord_no      purch_amt   ord_date    customer_id  salesman_id\n",
        "----------  ----------  ----------  -----------  -----------\n",
        "70001       150.5       2012-10-05  3005         5002\n",
        "70009       270.65      2012-09-10  3001         5005\n",
        "70002       65.26       2012-10-05  3002         5001\n",
        "70004       110.5       2012-08-17  3009         5003\n",
        "70007       948.5       2012-09-10  3005         5002\n",
        "70005       2400.6      2012-07-27  3007         5001\n",
        "70008       5760        2012-09-10  3002         5001\n",
        "70010       1983.43     2012-10-10  3004         5006\n",
        "70003       2480.4      2012-10-10  3009         5003\n",
        "70012       250.45      2012-06-27  3008         5002\n",
        "70011       75.29       2012-08-17  3003         5007\n",
        "70013       3045.6      2012-04-25  3002         5001\n",
        "```\n"
      ],
      "metadata": {
        "id": "V7ttV6dSA-kB"
      }
    },
    {
      "cell_type": "markdown",
      "source": [
        "Solution\n",
        "\n",
        "```\n",
        "SELECT * \n",
        "FROM orders \n",
        "WHERE (purch_amt BETWEEN 500 AND 4000) \n",
        "AND NOT purch_amt IN(948.50,1983.43);\n",
        "```\n",
        "\n"
      ],
      "metadata": {
        "id": "ZpStmEqBBFBu"
      }
    },
    {
      "cell_type": "markdown",
      "source": [
        "###Question- From the following table, write a SQL query to find those rows where col1 does not contains the escape character underscore ( _ ). Return col1.\n",
        "\n",
        "```\n",
        "Table: testTable\n",
        "col1\n",
        "--------------------------\n",
        "A001/DJ-402\\44_/100/2015\n",
        "A001_\\DJ-402\\44_/100/2015\n",
        "A001_DJ-402-2014-2015\n",
        "A002_DJ-401-2014-2015\n",
        "A001/DJ_401\n",
        "A001/DJ_402\\44\n",
        "A001/DJ_402\\44\\2015\n",
        "A001/DJ-402%45\\2015/200\n",
        "A001/DJ_402\\45\\2015%100\n",
        "A001/DJ_402%45\\2015/300\n",
        "A001/DJ-402\\44\n",
        "```\n"
      ],
      "metadata": {
        "id": "JRhNT7MOBKU8"
      }
    },
    {
      "cell_type": "markdown",
      "source": [
        "Solution\n",
        "\n",
        "```\n",
        "SELECT *\n",
        "FROM testtable\n",
        "WHERE col1 NOT LIKE '%/_%' ESCAPE '/';\n",
        "```\n",
        "\n"
      ],
      "metadata": {
        "id": "CqNMu18yBQJ8"
      }
    },
    {
      "cell_type": "markdown",
      "source": [
        "###Question- From the following table, write a SQL query to find those rows where col1 does not contain the forward slash character ( / ). Return col1.\n",
        "\n",
        "```\n",
        "Table: testtable\n",
        "\n",
        "col1\n",
        "--------------------------\n",
        "A001/DJ-402\\44_/100/2015\n",
        "A001_\\DJ-402\\44_/100/2015\n",
        "A001_DJ-402-2014-2015\n",
        "A002_DJ-401-2014-2015\n",
        "A001/DJ_401\n",
        "A001/DJ_402\\44\n",
        "A001/DJ_402\\44\\2015\n",
        "A001/DJ-402%45\\2015/200\n",
        "A001/DJ_402\\45\\2015%100\n",
        "A001/DJ_402%45\\2015/300\n",
        "A001/DJ-402\\44\n",
        "```"
      ],
      "metadata": {
        "id": "qIhtioybBVf7"
      }
    },
    {
      "cell_type": "markdown",
      "source": [
        "Solution\n",
        "\n",
        "```\n",
        "SELECT *\n",
        "FROM testtable\n",
        "WHERE col1 NOT LIKE '%//%' ESCAPE '/';\n",
        "```\n",
        "\n"
      ],
      "metadata": {
        "id": "NeLL8pR0Bbi_"
      }
    },
    {
      "cell_type": "markdown",
      "source": [
        "###Question- From the following table, write a SQL query to find those rows where col1 does not contains the string ( _/ ). Return col1.\n",
        "\n",
        "```\n",
        "Table: testtable\n",
        "\n",
        "col1\n",
        "--------------------------\n",
        "A001/DJ-402\\44_/100/2015\n",
        "A001_\\DJ-402\\44_/100/2015\n",
        "A001_DJ-402-2014-2015\n",
        "A002_DJ-401-2014-2015\n",
        "A001/DJ_401\n",
        "A001/DJ_402\\44\n",
        "A001/DJ_402\\44\\2015\n",
        "A001/DJ-402%45\\2015/200\n",
        "A001/DJ_402\\45\\2015%100\n",
        "A001/DJ_402%45\\2015/300\n",
        "A001/DJ-402\\44\n",
        "```"
      ],
      "metadata": {
        "id": "q2DTFz7yED-Q"
      }
    },
    {
      "cell_type": "markdown",
      "source": [
        "Solution\n",
        "\n",
        "```\n",
        "SELECT *\n",
        "FROM testtable\n",
        "WHERE col1 NOT LIKE '%/_//%' ESCAPE '/';\n",
        "```\n",
        "\n"
      ],
      "metadata": {
        "id": "xqhrciAYEGuI"
      }
    },
    {
      "cell_type": "markdown",
      "source": [
        "#Control Flow\n",
        "\n",
        "The sqlite3 module provides you with two methods for controlling the execution flow of statements. The serialize() method allows you to execute statements in serialized mode, while the parallelize() method executes the statements in parallel.\n",
        "\n",
        "Let’s look into each method in detail to understand how it works."
      ],
      "metadata": {
        "id": "LLPHlV-qYnqe"
      }
    },
    {
      "cell_type": "markdown",
      "source": [
        "##Serialize()\n",
        "\n"
      ],
      "metadata": {
        "id": "TO3CSQIUYump"
      }
    },
    {
      "cell_type": "markdown",
      "source": [
        "The serialize() method puts the execution mode into serialized mode. It means that only one statement can execute at a time. Other statements will wait in a queue until all the previous statements are executed.\n",
        "\n",
        "After the serialize() method returns, the execution mode is set to the original mode again.\n",
        "\n",
        "It’s safe to nest the serialize() method as follows:\n",
        "\n",
        "\n",
        "```\n",
        "db.serialize(() => {\n",
        "  // queries will execute in serialized mode\n",
        "  db.serialize(() => {\n",
        "    // queries will execute in serialized mode\n",
        "  });\n",
        "  // queries will execute in serialized mode\n",
        "});\n",
        "```\n",
        "\n"
      ],
      "metadata": {
        "id": "ibkh-Sddf_R-"
      }
    },
    {
      "cell_type": "markdown",
      "source": [
        "###Question: Execute the following three statements in Sequence:\n",
        "\n",
        "1. Create a new table.\n",
        "2. Insert data into the table.\n",
        "3. Query data from the table.\n",
        "\n"
      ],
      "metadata": {
        "id": "8shBuBX7ZFDh"
      }
    },
    {
      "cell_type": "markdown",
      "source": [
        "Solution: Place these statemnts in serialize() method as follows:\n",
        "\n"
      ],
      "metadata": {
        "id": "O4s0Z-6VZcnQ"
      }
    },
    {
      "cell_type": "code",
      "source": [
        "const sqlite3 = require('sqlite3').verbose();\n",
        "\n",
        "// open the database connection\n",
        "let db = new sqlite3.Database(':memory:', (err) => {\n",
        "  if (err) {\n",
        "    console.error(err.message);\n",
        "  }\n",
        "});\n",
        "\n",
        "db.serialize(() => {\n",
        "  // Queries scheduled here will be serialized.\n",
        "  db.run('CREATE TABLE greetings(message text)')\n",
        "    .run(`INSERT INTO greetings(message)\n",
        "          VALUES('Hi'),\n",
        "                ('Hello'),\n",
        "                ('Welcome')`)\n",
        "    .each(`SELECT message FROM greetings`, (err, row) => {\n",
        "      if (err){\n",
        "        throw err;\n",
        "      }\n",
        "      console.log(row.message);\n",
        "    });\n",
        "});\n",
        "\n",
        "// close the database connection\n",
        "db.close((err) => {\n",
        "  if (err) {\n",
        "    return console.error(err.message);\n",
        "  }\n",
        "});\n"
      ],
      "metadata": {
        "id": "KETGig_aZ3CM"
      },
      "execution_count": null,
      "outputs": []
    },
    {
      "cell_type": "markdown",
      "source": [
        "##Parallelize()\n",
        "\n",
        "If you want the scheduled queries to execute in parallel, you place them in the parallelize() method.\n",
        "\n",
        "Similar to the serialize() method, it is safe to nest the parallelize() method as follows:\n",
        "\n",
        "```\n",
        "db.parallelize(() => {\n",
        "  // queries will execute in parallel mode\n",
        "  db.parallelize(() => {\n",
        "    // queries will execute in parallel mode\n",
        "  });\n",
        "  // queries will execute in parallel mode\n",
        "});\n",
        "\n",
        "```\n",
        "\n"
      ],
      "metadata": {
        "id": "pk0pCT6xYySL"
      }
    },
    {
      "cell_type": "markdown",
      "source": [
        "###Question: Let's create a new function that calculates the sum of two numbers using SQLite database and place the function calls in the parallelize() method "
      ],
      "metadata": {
        "id": "JBviep1paVmN"
      }
    },
    {
      "cell_type": "code",
      "source": [
        "const sqlite3 = require('sqlite3').verbose();\n",
        "\n",
        "// open a database connection\n",
        "let db = new sqlite3.Database(':memory:', (err) => {\n",
        "  if (err) {\n",
        "    console.error(err.message);\n",
        "  }\n",
        "});\n",
        "\n",
        "db.parallelize(() => {\n",
        "  dbSum(1, 1, db);\n",
        "  dbSum(2, 2, db);\n",
        "  dbSum(3, 3, db);\n",
        "  dbSum(4, 4, db);\n",
        "  dbSum(5, 5, db);\n",
        "});\n",
        "\n",
        "// close the database connection\n",
        "db.close((err) => {\n",
        "  if (err) {\n",
        "    return console.error(err.message);\n",
        "  }\n",
        "});\n",
        "\n",
        "function dbSum(a, b, db) {\n",
        "  db.get('SELECT (? + ?) sum', [a, b], (err, row) => {\n",
        "    if (err) {\n",
        "      console.error(err.message);\n",
        "    }\n",
        "    console.log(`The sum of ${a} and ${b} is ${row.sum}`);\n",
        "  });\n",
        "}\n"
      ],
      "metadata": {
        "id": "3S8B_CBuajJo"
      },
      "execution_count": null,
      "outputs": []
    },
    {
      "cell_type": "markdown",
      "source": [
        "# Useful Links:\n",
        "\n",
        "1. https://www.techonthenet.com/sqlite/in.php\n",
        "2. https://www.sqlitetutorial.net/sqlite-between/\n",
        "3. https://www.tutlane.com/tutorial/sqlite/sqlite-not-operator\n",
        "4. https://www.javatpoint.com/sqlite-union-all\n",
        "5. https://www.sqlitetutorial.net/sqlite-nodejs/statements-control-flow/#:~:text=The%20sqlite3%20module%20provides%20you,executes%20the%20statements%20in%20parallel."
      ],
      "metadata": {
        "id": "xE0D-E_aWjxZ"
      }
    },
    {
      "cell_type": "code",
      "source": [
        "from google.colab import drive\n",
        "drive.mount('/content/drive')"
      ],
      "metadata": {
        "colab": {
          "base_uri": "https://localhost:8080/",
          "height": 340
        },
        "id": "sadmqRXmsMl9",
        "outputId": "c988a255-f27d-45ab-b8af-35ea04a55b33"
      },
      "execution_count": null,
      "outputs": [
        {
          "output_type": "error",
          "ename": "MessageError",
          "evalue": "ignored",
          "traceback": [
            "\u001b[0;31m---------------------------------------------------------------------------\u001b[0m",
            "\u001b[0;31mMessageError\u001b[0m                              Traceback (most recent call last)",
            "\u001b[0;32m<ipython-input-1-d5df0069828e>\u001b[0m in \u001b[0;36m<module>\u001b[0;34m()\u001b[0m\n\u001b[1;32m      1\u001b[0m \u001b[0;32mfrom\u001b[0m \u001b[0mgoogle\u001b[0m\u001b[0;34m.\u001b[0m\u001b[0mcolab\u001b[0m \u001b[0;32mimport\u001b[0m \u001b[0mdrive\u001b[0m\u001b[0;34m\u001b[0m\u001b[0;34m\u001b[0m\u001b[0m\n\u001b[0;32m----> 2\u001b[0;31m \u001b[0mdrive\u001b[0m\u001b[0;34m.\u001b[0m\u001b[0mmount\u001b[0m\u001b[0;34m(\u001b[0m\u001b[0;34m'/content/drive'\u001b[0m\u001b[0;34m)\u001b[0m\u001b[0;34m\u001b[0m\u001b[0;34m\u001b[0m\u001b[0m\n\u001b[0m",
            "\u001b[0;32m/usr/local/lib/python3.7/dist-packages/google/colab/drive.py\u001b[0m in \u001b[0;36mmount\u001b[0;34m(mountpoint, force_remount, timeout_ms)\u001b[0m\n\u001b[1;32m    103\u001b[0m       \u001b[0mforce_remount\u001b[0m\u001b[0;34m=\u001b[0m\u001b[0mforce_remount\u001b[0m\u001b[0;34m,\u001b[0m\u001b[0;34m\u001b[0m\u001b[0;34m\u001b[0m\u001b[0m\n\u001b[1;32m    104\u001b[0m       \u001b[0mtimeout_ms\u001b[0m\u001b[0;34m=\u001b[0m\u001b[0mtimeout_ms\u001b[0m\u001b[0;34m,\u001b[0m\u001b[0;34m\u001b[0m\u001b[0;34m\u001b[0m\u001b[0m\n\u001b[0;32m--> 105\u001b[0;31m       ephemeral=True)\n\u001b[0m\u001b[1;32m    106\u001b[0m \u001b[0;34m\u001b[0m\u001b[0m\n\u001b[1;32m    107\u001b[0m \u001b[0;34m\u001b[0m\u001b[0m\n",
            "\u001b[0;32m/usr/local/lib/python3.7/dist-packages/google/colab/drive.py\u001b[0m in \u001b[0;36m_mount\u001b[0;34m(mountpoint, force_remount, timeout_ms, ephemeral)\u001b[0m\n\u001b[1;32m    118\u001b[0m   \u001b[0;32mif\u001b[0m \u001b[0mephemeral\u001b[0m\u001b[0;34m:\u001b[0m\u001b[0;34m\u001b[0m\u001b[0;34m\u001b[0m\u001b[0m\n\u001b[1;32m    119\u001b[0m     _message.blocking_request(\n\u001b[0;32m--> 120\u001b[0;31m         'request_auth', request={'authType': 'dfs_ephemeral'}, timeout_sec=None)\n\u001b[0m\u001b[1;32m    121\u001b[0m \u001b[0;34m\u001b[0m\u001b[0m\n\u001b[1;32m    122\u001b[0m   \u001b[0mmountpoint\u001b[0m \u001b[0;34m=\u001b[0m \u001b[0m_os\u001b[0m\u001b[0;34m.\u001b[0m\u001b[0mpath\u001b[0m\u001b[0;34m.\u001b[0m\u001b[0mexpanduser\u001b[0m\u001b[0;34m(\u001b[0m\u001b[0mmountpoint\u001b[0m\u001b[0;34m)\u001b[0m\u001b[0;34m\u001b[0m\u001b[0;34m\u001b[0m\u001b[0m\n",
            "\u001b[0;32m/usr/local/lib/python3.7/dist-packages/google/colab/_message.py\u001b[0m in \u001b[0;36mblocking_request\u001b[0;34m(request_type, request, timeout_sec, parent)\u001b[0m\n\u001b[1;32m    169\u001b[0m   request_id = send_request(\n\u001b[1;32m    170\u001b[0m       request_type, request, parent=parent, expect_reply=True)\n\u001b[0;32m--> 171\u001b[0;31m   \u001b[0;32mreturn\u001b[0m \u001b[0mread_reply_from_input\u001b[0m\u001b[0;34m(\u001b[0m\u001b[0mrequest_id\u001b[0m\u001b[0;34m,\u001b[0m \u001b[0mtimeout_sec\u001b[0m\u001b[0;34m)\u001b[0m\u001b[0;34m\u001b[0m\u001b[0;34m\u001b[0m\u001b[0m\n\u001b[0m",
            "\u001b[0;32m/usr/local/lib/python3.7/dist-packages/google/colab/_message.py\u001b[0m in \u001b[0;36mread_reply_from_input\u001b[0;34m(message_id, timeout_sec)\u001b[0m\n\u001b[1;32m    100\u001b[0m         reply.get('colab_msg_id') == message_id):\n\u001b[1;32m    101\u001b[0m       \u001b[0;32mif\u001b[0m \u001b[0;34m'error'\u001b[0m \u001b[0;32min\u001b[0m \u001b[0mreply\u001b[0m\u001b[0;34m:\u001b[0m\u001b[0;34m\u001b[0m\u001b[0;34m\u001b[0m\u001b[0m\n\u001b[0;32m--> 102\u001b[0;31m         \u001b[0;32mraise\u001b[0m \u001b[0mMessageError\u001b[0m\u001b[0;34m(\u001b[0m\u001b[0mreply\u001b[0m\u001b[0;34m[\u001b[0m\u001b[0;34m'error'\u001b[0m\u001b[0;34m]\u001b[0m\u001b[0;34m)\u001b[0m\u001b[0;34m\u001b[0m\u001b[0;34m\u001b[0m\u001b[0m\n\u001b[0m\u001b[1;32m    103\u001b[0m       \u001b[0;32mreturn\u001b[0m \u001b[0mreply\u001b[0m\u001b[0;34m.\u001b[0m\u001b[0mget\u001b[0m\u001b[0;34m(\u001b[0m\u001b[0;34m'data'\u001b[0m\u001b[0;34m,\u001b[0m \u001b[0;32mNone\u001b[0m\u001b[0;34m)\u001b[0m\u001b[0;34m\u001b[0m\u001b[0;34m\u001b[0m\u001b[0m\n\u001b[1;32m    104\u001b[0m \u001b[0;34m\u001b[0m\u001b[0m\n",
            "\u001b[0;31mMessageError\u001b[0m: Error: credential propagation was unsuccessful"
          ]
        }
      ]
    }
  ]
}