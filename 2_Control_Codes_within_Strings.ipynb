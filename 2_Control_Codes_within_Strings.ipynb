{
  "nbformat": 4,
  "nbformat_minor": 0,
  "metadata": {
    "colab": {
      "name": "2.Control Codes within Strings.ipynb",
      "provenance": [],
      "collapsed_sections": [],
      "toc_visible": true
    },
    "kernelspec": {
      "name": "python3",
      "display_name": "Python 3"
    }
  },
  "cells": [
    {
      "cell_type": "markdown",
      "metadata": {
        "id": "zlnHLnmRMY8l"
      },
      "source": [
        "# 2.0 Introduction to Strings"
      ]
    },
    {
      "cell_type": "markdown",
      "metadata": {
        "id": "9Dsy0iRC_NiG"
      },
      "source": [
        "Strings are a sequence of characters which can be stored either as a constant or a different variable. Strings are considered as a datatype. Typically, programmers must enclose strings in quotation marks for the data to recognized as a string and not a number or variable name. Shown below are some of the most used string methods on a daily basis and are one of the most commonly asked interview questions."
      ]
    },
    {
      "cell_type": "markdown",
      "source": [
        "## 2.01 Constructing Strings\n",
        "\n",
        "There are two primary ways we can define a new string: we can either wrap some text in 1) double quotes (\") or 2) single quotes('). You cannot use one single quote and one double quote, however. There is no functional difference between using either method, but it is recommended that you use only one style for the entire file or project."
      ],
      "metadata": {
        "id": "QGamdf6ff1gf"
      }
    },
    {
      "cell_type": "code",
      "source": [
        "string_single = 'This is a string defined using single quotes'\n",
        "string_double = \"This is a string defined using double quotes\"\n",
        "\n",
        "print(string_single)\n",
        "print(string_double)"
      ],
      "metadata": {
        "colab": {
          "base_uri": "https://localhost:8080/"
        },
        "id": "gtfjJs_Sf-p7",
        "outputId": "0bb88e14-e93f-4684-88be-97b44ba3893b"
      },
      "execution_count": null,
      "outputs": [
        {
          "output_type": "stream",
          "name": "stdout",
          "text": [
            "This is a string defined using single quotes\n",
            "This is a string defined using double quotes\n"
          ]
        }
      ]
    },
    {
      "cell_type": "markdown",
      "source": [
        "Certain characters, such as the double quotes or single quotes that define the string, require a special *escape character* (`\\`) when included in the string."
      ],
      "metadata": {
        "id": "RsuN1sxEgFTv"
      }
    },
    {
      "cell_type": "code",
      "source": [
        "# The \" must be escaped because it would normal define the string boundary\n",
        "string_esc_1 = \"This notebook is named \\\"Basic Python Types\\\".\"\n",
        "\n",
        "# The ' does not have to be scaped because the string is defined by \"\n",
        "string_esc_2 = \"This isn't too bad...\"\n",
        "\n",
        "print(string_esc_1)\n",
        "print(string_esc_2)"
      ],
      "metadata": {
        "colab": {
          "base_uri": "https://localhost:8080/"
        },
        "id": "zEqDNfqggGvI",
        "outputId": "721d8df3-b78d-41c9-d3db-0e5265970062"
      },
      "execution_count": null,
      "outputs": [
        {
          "output_type": "stream",
          "name": "stdout",
          "text": [
            "This notebook is named \"Basic Python Types\".\n",
            "This isn't too bad...\n"
          ]
        }
      ]
    },
    {
      "cell_type": "markdown",
      "metadata": {
        "id": "pIY4aKtgbNAV"
      },
      "source": [
        "# 2.1 Declaring a string in python:"
      ]
    },
    {
      "cell_type": "code",
      "metadata": {
        "id": "BIGc-dwobOzs",
        "outputId": "0addf3da-8c9a-408e-ff65-47c26e338a45",
        "colab": {
          "base_uri": "https://localhost:8080/",
          "height": 35
        }
      },
      "source": [
        "# Declaring a string variable\n",
        "string = \"This is a python tutorial\"\n",
        "print(string)"
      ],
      "execution_count": null,
      "outputs": [
        {
          "output_type": "stream",
          "text": [
            "This is a python tutorial\n"
          ],
          "name": "stdout"
        }
      ]
    },
    {
      "cell_type": "code",
      "metadata": {
        "id": "sOgqU15TbRP6",
        "outputId": "3d7c0ea5-ae76-4506-d093-804e3214cb80",
        "colab": {
          "base_uri": "https://localhost:8080/",
          "height": 35
        }
      },
      "source": [
        "print(type(string))"
      ],
      "execution_count": null,
      "outputs": [
        {
          "output_type": "stream",
          "text": [
            "<class 'str'>\n"
          ],
          "name": "stdout"
        }
      ]
    },
    {
      "cell_type": "markdown",
      "metadata": {
        "id": "bKV_oUeUbT9G"
      },
      "source": [
        "# 2.2 Escape sequence using Strings"
      ]
    },
    {
      "cell_type": "markdown",
      "metadata": {
        "id": "JmieNp0cbVpO"
      },
      "source": [
        "In Python strings, the backslash \" \" is a special character, also called the \"escape\" character. It is used in representing certain whitespace characters: \"\\t\" is a tab, \"\\n\" is a new line, and \"\\r\" is a carriage return. Finally, \" \" can be used to escape itself: \"\\\" is the literal backslash character. "
      ]
    },
    {
      "cell_type": "code",
      "metadata": {
        "id": "iqAlH3DHbYfB",
        "outputId": "f37893b8-ef66-4b97-ef1c-f4f99dd7878c",
        "colab": {
          "base_uri": "https://localhost:8080/",
          "height": 35
        }
      },
      "source": [
        "# THis is an escape sequence.\n",
        "string = \"This is a \\\"Google Colab\\\" python notebook\"\n",
        "print(string)"
      ],
      "execution_count": null,
      "outputs": [
        {
          "output_type": "stream",
          "text": [
            "This is a \"Google Colab\" python notebook\n"
          ],
          "name": "stdout"
        }
      ]
    },
    {
      "cell_type": "markdown",
      "metadata": {
        "id": "i6uHC1G_bcpD"
      },
      "source": [
        "# 2.2 Accessing the String by an Index"
      ]
    },
    {
      "cell_type": "markdown",
      "metadata": {
        "id": "f_SWqIkNbdsF"
      },
      "source": [
        "Strings can be accessed by their index in order to get the value. To do this all you have to do is just place the number (index value) inside the pair of square brackets along with the name of the string."
      ]
    },
    {
      "cell_type": "code",
      "metadata": {
        "id": "mIpJw2iRbf4d",
        "outputId": "fc3bce1d-63d3-44f0-a7ff-d8ddeb3cb047",
        "colab": {
          "base_uri": "https://localhost:8080/",
          "height": 35
        }
      },
      "source": [
        "string = \"Python\"\n",
        "print(string[2])"
      ],
      "execution_count": null,
      "outputs": [
        {
          "output_type": "stream",
          "text": [
            "t\n"
          ],
          "name": "stdout"
        }
      ]
    },
    {
      "cell_type": "code",
      "metadata": {
        "id": "DHBwL7TYbhVi",
        "outputId": "39dbd53e-a463-4273-a027-eed1a732d16c",
        "colab": {
          "base_uri": "https://localhost:8080/",
          "height": 35
        }
      },
      "source": [
        "print(string[5])"
      ],
      "execution_count": null,
      "outputs": [
        {
          "output_type": "stream",
          "text": [
            "n\n"
          ],
          "name": "stdout"
        }
      ]
    },
    {
      "cell_type": "markdown",
      "source": [
        "# 2.3 String Methods\n",
        "\n",
        "Here are some of the most common string methods. A method is like a function, but it runs \"on\" an object. If the variable s is a string, then the code s.lower() runs the lower() method on that string object and returns the result (this idea of a method running on an object is one of the basic ideas that make up Object Oriented Programming, OOP). Here are some of the most common string methods\n",
        "\n",
        "\n",
        "\n",
        "*   s.lower(), s.upper() -- returns the lowercase or uppercase version of the string\n",
        "*   s.strip() -- returns a string with whitespace removed from the start and end\n",
        "*   s.isalpha()/s.isdigit()/s.isspace()... -- tests if all the string chars are in the various character classes\n",
        "*   s.startswith('other'), s.endswith('other') -- tests if the string starts or ends with the given other string\n",
        "*   s.find('other') -- searches for the given other string (not a regular expression) within s, and returns the first index where it begins or -1 if not found\n",
        "*   s.replace('old', 'new') -- returns a string where all occurrences of 'old' have been replaced by 'new'\n",
        "*   s.split('delim') -- returns a list of substrings separated by the given delimiter. The delimiter is not a regular expression, it's just text. 'aaa,bbb,ccc'.split(',') -> ['aaa', 'bbb', 'ccc']. As a convenient special case s.split() (with no arguments) splits on all whitespace chars.\n",
        "*   s.join(list) -- opposite of split(), joins the elements in the given list together using the string as the delimiter. e.g. '---'.join(['aaa', 'bbb', 'ccc']) -> aaa---bbb---ccc\n",
        "\n"
      ],
      "metadata": {
        "id": "lZNW0JL-gUzl"
      }
    },
    {
      "cell_type": "markdown",
      "metadata": {
        "id": "035PEbyEbiyF"
      },
      "source": [
        "## 2.31 Slicing a string"
      ]
    },
    {
      "cell_type": "markdown",
      "metadata": {
        "id": "-bb6K9SzblDR"
      },
      "source": [
        "Slicing a string helps to get a set of characters from a string. This is really helpful when we want to access a particular set of characters in a string. Below are some slicing variants that are useful."
      ]
    },
    {
      "cell_type": "code",
      "metadata": {
        "id": "aw6PN6nubmyp",
        "outputId": "2b1b70c5-3b24-4b62-df8f-e2122d25ed0f",
        "colab": {
          "base_uri": "https://localhost:8080/",
          "height": 35
        }
      },
      "source": [
        "string = \"programming\"\n",
        "string"
      ],
      "execution_count": null,
      "outputs": [
        {
          "output_type": "execute_result",
          "data": {
            "text/plain": [
              "'programming'"
            ]
          },
          "metadata": {
            "tags": []
          },
          "execution_count": 6
        }
      ]
    },
    {
      "cell_type": "markdown",
      "metadata": {
        "id": "Cjc64ZDMbt5V"
      },
      "source": [
        "## 2.32 Getting  one character of the string"
      ]
    },
    {
      "cell_type": "code",
      "metadata": {
        "id": "MKV05Uclbomv",
        "outputId": "28c267b8-ffbd-4b8f-d140-d6cd8487b1ab",
        "colab": {
          "base_uri": "https://localhost:8080/",
          "height": 166
        }
      },
      "source": [
        "print(string[0:1])"
      ],
      "execution_count": null,
      "outputs": [
        {
          "output_type": "error",
          "ename": "NameError",
          "evalue": "ignored",
          "traceback": [
            "\u001b[0;31m---------------------------------------------------------------------------\u001b[0m",
            "\u001b[0;31mNameError\u001b[0m                                 Traceback (most recent call last)",
            "\u001b[0;32m<ipython-input-1-481d1feca8bc>\u001b[0m in \u001b[0;36m<module>\u001b[0;34m()\u001b[0m\n\u001b[0;32m----> 1\u001b[0;31m \u001b[0mprint\u001b[0m\u001b[0;34m(\u001b[0m\u001b[0mstring\u001b[0m\u001b[0;34m[\u001b[0m\u001b[0;36m0\u001b[0m\u001b[0;34m:\u001b[0m\u001b[0;36m1\u001b[0m\u001b[0;34m]\u001b[0m\u001b[0;34m)\u001b[0m\u001b[0;34m\u001b[0m\u001b[0;34m\u001b[0m\u001b[0m\n\u001b[0m",
            "\u001b[0;31mNameError\u001b[0m: name 'string' is not defined"
          ]
        }
      ]
    },
    {
      "cell_type": "markdown",
      "metadata": {
        "id": "VqE7vaT7bwwW"
      },
      "source": [
        "## 2.33 Getting the first three characters from the string"
      ]
    },
    {
      "cell_type": "code",
      "metadata": {
        "id": "GfhGuOGXbykG"
      },
      "source": [
        "print(string[0:3])"
      ],
      "execution_count": null,
      "outputs": []
    },
    {
      "cell_type": "code",
      "metadata": {
        "id": "c5Qtr3qAb1or",
        "outputId": "1f762eeb-c3e6-4b57-dfbc-5f1bd29036b9",
        "colab": {
          "base_uri": "https://localhost:8080/",
          "height": 35
        }
      },
      "source": [
        "print(string[:3])"
      ],
      "execution_count": null,
      "outputs": [
        {
          "output_type": "stream",
          "text": [
            "pro\n"
          ],
          "name": "stdout"
        }
      ]
    },
    {
      "cell_type": "markdown",
      "metadata": {
        "id": "INQoq6VKb056"
      },
      "source": [
        "## 2.34 Getting the first three characters from the string (Alternate)"
      ]
    },
    {
      "cell_type": "markdown",
      "metadata": {
        "id": "LqmBatu1b4B3"
      },
      "source": [
        "### 2.341 Getting the last three characters from the string"
      ]
    },
    {
      "cell_type": "code",
      "metadata": {
        "id": "NP01nD-Fb4rI",
        "outputId": "a4c961af-55a8-4777-e7d1-559432d53f5b",
        "colab": {
          "base_uri": "https://localhost:8080/",
          "height": 35
        }
      },
      "source": [
        "print(string[-3:])"
      ],
      "execution_count": null,
      "outputs": [
        {
          "output_type": "stream",
          "text": [
            "ing\n"
          ],
          "name": "stdout"
        }
      ]
    },
    {
      "cell_type": "markdown",
      "metadata": {
        "id": "CFHrPtA1b7P2"
      },
      "source": [
        "### 2.342 Getting all characters but excluding three first characters from the string"
      ]
    },
    {
      "cell_type": "code",
      "metadata": {
        "id": "GWyjj-T-b64y",
        "outputId": "83d30b74-e132-4266-e15d-588278b10821",
        "colab": {
          "base_uri": "https://localhost:8080/",
          "height": 166
        }
      },
      "source": [
        "print(string[3:])"
      ],
      "execution_count": null,
      "outputs": [
        {
          "output_type": "error",
          "ename": "NameError",
          "evalue": "ignored",
          "traceback": [
            "\u001b[0;31m---------------------------------------------------------------------------\u001b[0m",
            "\u001b[0;31mNameError\u001b[0m                                 Traceback (most recent call last)",
            "\u001b[0;32m<ipython-input-3-ec71f484f65b>\u001b[0m in \u001b[0;36m<module>\u001b[0;34m()\u001b[0m\n\u001b[0;32m----> 1\u001b[0;31m \u001b[0mprint\u001b[0m\u001b[0;34m(\u001b[0m\u001b[0mstring\u001b[0m\u001b[0;34m[\u001b[0m\u001b[0;36m3\u001b[0m\u001b[0;34m:\u001b[0m\u001b[0;34m]\u001b[0m\u001b[0;34m)\u001b[0m\u001b[0;34m\u001b[0m\u001b[0;34m\u001b[0m\u001b[0m\n\u001b[0m",
            "\u001b[0;31mNameError\u001b[0m: name 'string' is not defined"
          ]
        }
      ]
    },
    {
      "cell_type": "markdown",
      "metadata": {
        "id": "u7xEgZUbcAe6"
      },
      "source": [
        "### 2.343 Getting all characters but excluding the last three characters from the string"
      ]
    },
    {
      "cell_type": "code",
      "metadata": {
        "id": "eSaTVepRcB_u",
        "outputId": "b71332fd-3b2a-40a0-9321-64c7606cfdc5",
        "colab": {
          "base_uri": "https://localhost:8080/",
          "height": 166
        }
      },
      "source": [
        "print(string[:-3])"
      ],
      "execution_count": null,
      "outputs": [
        {
          "output_type": "error",
          "ename": "NameError",
          "evalue": "ignored",
          "traceback": [
            "\u001b[0;31m---------------------------------------------------------------------------\u001b[0m",
            "\u001b[0;31mNameError\u001b[0m                                 Traceback (most recent call last)",
            "\u001b[0;32m<ipython-input-2-991d15c986ee>\u001b[0m in \u001b[0;36m<module>\u001b[0;34m()\u001b[0m\n\u001b[0;32m----> 1\u001b[0;31m \u001b[0mprint\u001b[0m\u001b[0;34m(\u001b[0m\u001b[0mstring\u001b[0m\u001b[0;34m[\u001b[0m\u001b[0;34m:\u001b[0m\u001b[0;34m-\u001b[0m\u001b[0;36m3\u001b[0m\u001b[0;34m]\u001b[0m\u001b[0;34m)\u001b[0m\u001b[0;34m\u001b[0m\u001b[0;34m\u001b[0m\u001b[0m\n\u001b[0m",
            "\u001b[0;31mNameError\u001b[0m: name 'string' is not defined"
          ]
        }
      ]
    },
    {
      "cell_type": "markdown",
      "metadata": {
        "id": "NZ25LjX_cFTN"
      },
      "source": [
        "##2.35 Reversing all the characters in a given string"
      ]
    },
    {
      "cell_type": "code",
      "metadata": {
        "id": "rTcC5ghscDnM",
        "outputId": "2180d576-ed54-472d-922d-de1842a0181f",
        "colab": {
          "base_uri": "https://localhost:8080/",
          "height": 35
        }
      },
      "source": [
        "print(string[::-1])"
      ],
      "execution_count": null,
      "outputs": [
        {
          "output_type": "stream",
          "text": [
            "gnimmargorp\n"
          ],
          "name": "stdout"
        }
      ]
    },
    {
      "cell_type": "markdown",
      "metadata": {
        "id": "_ZQsR8s3cIzp"
      },
      "source": [
        "##2.36 Alternative to printing all characters in a string"
      ]
    },
    {
      "cell_type": "code",
      "metadata": {
        "id": "UhQyXlXucIMf"
      },
      "source": [
        "print(string[::])"
      ],
      "execution_count": null,
      "outputs": []
    },
    {
      "cell_type": "markdown",
      "metadata": {
        "id": "1IxFIjOTcMaj"
      },
      "source": [
        "## 2.37 Splitting a String"
      ]
    },
    {
      "cell_type": "markdown",
      "metadata": {
        "id": "yy4X7tFHcO9B"
      },
      "source": [
        "Sometimes splitting a string is a handy option because it is one of the easiest ways to convert a string into a list. I know I have not spoken about the list but keep in mind that split converts a string into a list. "
      ]
    },
    {
      "cell_type": "code",
      "metadata": {
        "id": "jL4s2MfxcUu2",
        "outputId": "3ded15c0-4dfe-448d-8fe1-281f44d451f7",
        "colab": {
          "base_uri": "https://localhost:8080/",
          "height": 35
        }
      },
      "source": [
        "String = \"Computer Programming\"\n",
        "String"
      ],
      "execution_count": null,
      "outputs": [
        {
          "output_type": "execute_result",
          "data": {
            "text/plain": [
              "'Computer Programming'"
            ]
          },
          "metadata": {
            "tags": []
          },
          "execution_count": 15
        }
      ]
    },
    {
      "cell_type": "code",
      "metadata": {
        "id": "FxMKh4RScXDY",
        "outputId": "49794b2f-8114-4c1c-9b0e-e436967735e5",
        "colab": {
          "base_uri": "https://localhost:8080/",
          "height": 35
        }
      },
      "source": [
        "type(String)"
      ],
      "execution_count": null,
      "outputs": [
        {
          "output_type": "execute_result",
          "data": {
            "text/plain": [
              "str"
            ]
          },
          "metadata": {
            "tags": []
          },
          "execution_count": 16
        }
      ]
    },
    {
      "cell_type": "code",
      "metadata": {
        "id": "w5EJQWtBcYx8",
        "outputId": "575b9ecd-ecc2-438a-da05-51552567e265",
        "colab": {
          "base_uri": "https://localhost:8080/",
          "height": 35
        }
      },
      "source": [
        "list = String.split()\n",
        "list"
      ],
      "execution_count": null,
      "outputs": [
        {
          "output_type": "execute_result",
          "data": {
            "text/plain": [
              "['Computer', 'Programming']"
            ]
          },
          "metadata": {
            "tags": []
          },
          "execution_count": 17
        }
      ]
    },
    {
      "cell_type": "code",
      "metadata": {
        "id": "P0yiY0cMcaEW",
        "outputId": "c0ea073a-dcd1-4321-aaaa-5f0edb33251e",
        "colab": {
          "base_uri": "https://localhost:8080/",
          "height": 35
        }
      },
      "source": [
        "type(list)"
      ],
      "execution_count": null,
      "outputs": [
        {
          "output_type": "execute_result",
          "data": {
            "text/plain": [
              "list"
            ]
          },
          "metadata": {
            "tags": []
          },
          "execution_count": 18
        }
      ]
    },
    {
      "cell_type": "markdown",
      "metadata": {
        "id": "Xwybsw-dccVE"
      },
      "source": [
        "## 2.37 Replacing a String"
      ]
    },
    {
      "cell_type": "markdown",
      "metadata": {
        "id": "JWA0gP58cfDN"
      },
      "source": [
        "The Replace function in python is one of the best function that can be applied to strings. For example, shown below is a string \"Money\" we need to replace the dollar and the comma sign and this can be done as shown below."
      ]
    },
    {
      "cell_type": "code",
      "metadata": {
        "id": "Yr9uB9hqcgLr",
        "outputId": "2ad561ea-8a70-45a9-e21d-4bd83ff2d28c",
        "colab": {
          "base_uri": "https://localhost:8080/",
          "height": 69
        }
      },
      "source": [
        "Money = '$113,678'\n",
        "print(Money)\n",
        "print(\"===========================\")\n",
        "print(type(Money))"
      ],
      "execution_count": null,
      "outputs": [
        {
          "output_type": "stream",
          "text": [
            "$113,678\n",
            "===========================\n",
            "<class 'str'>\n"
          ],
          "name": "stdout"
        }
      ]
    },
    {
      "cell_type": "code",
      "metadata": {
        "id": "fsK018P2cjJ3",
        "outputId": "f8bc3015-ecec-4f3a-a93e-ca4f63eb0e0c",
        "colab": {
          "base_uri": "https://localhost:8080/",
          "height": 35
        }
      },
      "source": [
        "Money = Money.replace('$', '')\n",
        "Money"
      ],
      "execution_count": null,
      "outputs": [
        {
          "output_type": "execute_result",
          "data": {
            "text/plain": [
              "'113,678'"
            ]
          },
          "metadata": {
            "tags": []
          },
          "execution_count": 20
        }
      ]
    },
    {
      "cell_type": "code",
      "metadata": {
        "id": "ZQO19dD_cknA",
        "outputId": "f3a71c90-1e6a-4b85-e5e5-b380e76019ac",
        "colab": {
          "base_uri": "https://localhost:8080/",
          "height": 35
        }
      },
      "source": [
        "Money = Money.replace(',', '')\n",
        "Money"
      ],
      "execution_count": null,
      "outputs": [
        {
          "output_type": "execute_result",
          "data": {
            "text/plain": [
              "'113678'"
            ]
          },
          "metadata": {
            "tags": []
          },
          "execution_count": 21
        }
      ]
    },
    {
      "cell_type": "code",
      "metadata": {
        "id": "wEBAA-tscmHf",
        "outputId": "fbac2778-3332-433c-b6cc-ecc382a46dfd",
        "colab": {
          "base_uri": "https://localhost:8080/",
          "height": 69
        }
      },
      "source": [
        "Money = int(Money)\n",
        "print(Money)\n",
        "print(\"===========================\")\n",
        "print(type(Money))"
      ],
      "execution_count": null,
      "outputs": [
        {
          "output_type": "stream",
          "text": [
            "113678\n",
            "===========================\n",
            "<class 'int'>\n"
          ],
          "name": "stdout"
        }
      ]
    },
    {
      "cell_type": "markdown",
      "metadata": {
        "id": "ZMUiizBfc1TR"
      },
      "source": [
        "## 2.38 Join"
      ]
    },
    {
      "cell_type": "markdown",
      "metadata": {
        "id": "dU25fiyvc3eN"
      },
      "source": [
        "The join function is python is used to join the string according to the specified pattern."
      ]
    },
    {
      "cell_type": "code",
      "metadata": {
        "id": "k3cho5Jfc4xY",
        "outputId": "dd0d386a-ffdc-43f7-8139-0ca6e045b501",
        "colab": {
          "base_uri": "https://localhost:8080/",
          "height": 35
        }
      },
      "source": [
        "String = \"Python Programming is fun\"\n",
        "String"
      ],
      "execution_count": null,
      "outputs": [
        {
          "output_type": "execute_result",
          "data": {
            "text/plain": [
              "'Python Programming is fun'"
            ]
          },
          "metadata": {
            "tags": []
          },
          "execution_count": 23
        }
      ]
    },
    {
      "cell_type": "code",
      "metadata": {
        "id": "on4SdAFAc6Sa",
        "outputId": "97248c6e-7a27-429a-e7d9-5d53e1ca25eb",
        "colab": {
          "base_uri": "https://localhost:8080/",
          "height": 35
        }
      },
      "source": [
        "String = \" \".join(String)\n",
        "String"
      ],
      "execution_count": null,
      "outputs": [
        {
          "output_type": "execute_result",
          "data": {
            "text/plain": [
              "'P y t h o n   P r o g r a m m i n g   i s   f u n'"
            ]
          },
          "metadata": {
            "tags": []
          },
          "execution_count": 24
        }
      ]
    },
    {
      "cell_type": "markdown",
      "metadata": {
        "id": "Yx7oyLtDc8XI"
      },
      "source": [
        "## 2.39 Capitalize"
      ]
    },
    {
      "cell_type": "markdown",
      "metadata": {
        "id": "KBWt0P9xc99B"
      },
      "source": [
        "The capitalize function capitalizes the first character in the word or a string."
      ]
    },
    {
      "cell_type": "code",
      "metadata": {
        "id": "OfsFhFp0c_Eo",
        "outputId": "2f372a13-efaa-4ae7-c62d-2acad64c68a3",
        "colab": {
          "base_uri": "https://localhost:8080/",
          "height": 35
        }
      },
      "source": [
        "string = \"programming\"\n",
        "string"
      ],
      "execution_count": null,
      "outputs": [
        {
          "output_type": "execute_result",
          "data": {
            "text/plain": [
              "'programming'"
            ]
          },
          "metadata": {
            "tags": []
          },
          "execution_count": 25
        }
      ]
    },
    {
      "cell_type": "code",
      "metadata": {
        "id": "ZUvy5wxZdA7w",
        "outputId": "61476b2c-21d3-487b-a0b9-bdd2c30dd564",
        "colab": {
          "base_uri": "https://localhost:8080/",
          "height": 35
        }
      },
      "source": [
        "string = string.capitalize()\n",
        "string"
      ],
      "execution_count": null,
      "outputs": [
        {
          "output_type": "execute_result",
          "data": {
            "text/plain": [
              "'Programming'"
            ]
          },
          "metadata": {
            "tags": []
          },
          "execution_count": 26
        }
      ]
    },
    {
      "cell_type": "markdown",
      "metadata": {
        "id": "sRgDZVrqdCuA"
      },
      "source": [
        "## 2.38 Center"
      ]
    },
    {
      "cell_type": "markdown",
      "metadata": {
        "id": "AsqHZ9r2dEwx"
      },
      "source": [
        "The center method returns a string which is padded with the specified character."
      ]
    },
    {
      "cell_type": "code",
      "metadata": {
        "id": "rRXoOdEAdGAW",
        "outputId": "c3885d22-cbd4-45ed-e647-c443809e02b5",
        "colab": {
          "base_uri": "https://localhost:8080/",
          "height": 35
        }
      },
      "source": [
        "string = \"python\"\n",
        "string"
      ],
      "execution_count": null,
      "outputs": [
        {
          "output_type": "execute_result",
          "data": {
            "text/plain": [
              "'python'"
            ]
          },
          "metadata": {
            "tags": []
          },
          "execution_count": 27
        }
      ]
    },
    {
      "cell_type": "code",
      "metadata": {
        "id": "9-07a01adIY-",
        "outputId": "afd0f70f-1166-4ccd-acef-9371b2651795",
        "colab": {
          "base_uri": "https://localhost:8080/",
          "height": 35
        }
      },
      "source": [
        "print(string.center(15, '*'))"
      ],
      "execution_count": null,
      "outputs": [
        {
          "output_type": "stream",
          "text": [
            "*****python****\n"
          ],
          "name": "stdout"
        }
      ]
    },
    {
      "cell_type": "markdown",
      "metadata": {
        "id": "mMxEPvbudKPZ"
      },
      "source": [
        "## 2.39 Find"
      ]
    },
    {
      "cell_type": "markdown",
      "metadata": {
        "id": "615CsWgodMU3"
      },
      "source": [
        "The find method returns the index of the given substring position. If the value is not found it returns, -1."
      ]
    },
    {
      "cell_type": "code",
      "metadata": {
        "id": "YoNlax-LdOGs",
        "outputId": "e66ad321-429e-468c-9a38-0297deced908",
        "colab": {
          "base_uri": "https://localhost:8080/",
          "height": 35
        }
      },
      "source": [
        "string = \"programming\"\n",
        "string"
      ],
      "execution_count": null,
      "outputs": [
        {
          "output_type": "execute_result",
          "data": {
            "text/plain": [
              "'programming'"
            ]
          },
          "metadata": {
            "tags": []
          },
          "execution_count": 29
        }
      ]
    },
    {
      "cell_type": "code",
      "metadata": {
        "id": "UF1zGdSfdPl4",
        "outputId": "039e43d5-a38a-42af-8893-21503d58f89e",
        "colab": {
          "base_uri": "https://localhost:8080/",
          "height": 35
        }
      },
      "source": [
        "print(string.find('p'))"
      ],
      "execution_count": null,
      "outputs": [
        {
          "output_type": "stream",
          "text": [
            "0\n"
          ],
          "name": "stdout"
        }
      ]
    },
    {
      "cell_type": "code",
      "metadata": {
        "id": "YndJcTeDdQ4J",
        "outputId": "cdda1868-846e-4f1c-f573-0a3e370702bd",
        "colab": {
          "base_uri": "https://localhost:8080/",
          "height": 35
        }
      },
      "source": [
        "print(string.find('t'))"
      ],
      "execution_count": null,
      "outputs": [
        {
          "output_type": "stream",
          "text": [
            "-1\n"
          ],
          "name": "stdout"
        }
      ]
    },
    {
      "cell_type": "markdown",
      "metadata": {
        "id": "WKAuFqwqdSzi"
      },
      "source": [
        "## 2.40 Strip"
      ]
    },
    {
      "cell_type": "markdown",
      "source": [
        "#2.4 String Splicing and Substrings\n",
        "\n",
        "You may often want to grab a small piece, or *substring*, of a larger string. This process, called **splicing**, utilizes the index position introduced in the section above to define the start and endpoints of the substring you want. In fact, the syntax we used to get a specific character is a single-character splicing operator! The syntax for more complicated substrings builds upon that syntax"
      ],
      "metadata": {
        "id": "tYKjdpwbiVfh"
      }
    },
    {
      "cell_type": "code",
      "source": [
        "# Use start:stop to define the range\n",
        "# The stop index is not included\n",
        "\n",
        "hello[0:5]"
      ],
      "metadata": {
        "colab": {
          "base_uri": "https://localhost:8080/",
          "height": 201
        },
        "id": "qRvXcP-licVB",
        "outputId": "7884fb1e-9e70-425a-deb5-f83b0fdcfa2d"
      },
      "execution_count": null,
      "outputs": [
        {
          "output_type": "error",
          "ename": "NameError",
          "evalue": "ignored",
          "traceback": [
            "\u001b[0;31m---------------------------------------------------------------------------\u001b[0m",
            "\u001b[0;31mNameError\u001b[0m                                 Traceback (most recent call last)",
            "\u001b[0;32m<ipython-input-6-eeb669f943a3>\u001b[0m in \u001b[0;36m<module>\u001b[0;34m()\u001b[0m\n\u001b[1;32m      2\u001b[0m \u001b[0;31m# The stop index is not included\u001b[0m\u001b[0;34m\u001b[0m\u001b[0;34m\u001b[0m\u001b[0;34m\u001b[0m\u001b[0m\n\u001b[1;32m      3\u001b[0m \u001b[0;34m\u001b[0m\u001b[0m\n\u001b[0;32m----> 4\u001b[0;31m \u001b[0mhello\u001b[0m\u001b[0;34m[\u001b[0m\u001b[0;36m0\u001b[0m\u001b[0;34m:\u001b[0m\u001b[0;36m5\u001b[0m\u001b[0;34m]\u001b[0m\u001b[0;34m\u001b[0m\u001b[0;34m\u001b[0m\u001b[0m\n\u001b[0m",
            "\u001b[0;31mNameError\u001b[0m: name 'hello' is not defined"
          ]
        }
      ]
    },
    {
      "cell_type": "code",
      "source": [
        "# You can slice from anywhere within the string\n",
        "hello[7:13]"
      ],
      "metadata": {
        "id": "sM0GzWPyiecm"
      },
      "execution_count": null,
      "outputs": []
    },
    {
      "cell_type": "code",
      "source": [
        "# You can use a : as a shortcut notation for the first or last character\n",
        "print(hello[:5])  # Shortcut for first character until stop\n",
        "print(hello[7::])  # Shortcut to start until last character"
      ],
      "metadata": {
        "id": "cwfA2TrkifEd"
      },
      "execution_count": null,
      "outputs": []
    },
    {
      "cell_type": "code",
      "source": [
        "# You can use a negative start number to slice from the back\n",
        "hello[-6::]"
      ],
      "metadata": {
        "id": "SgSKQe9Cigdp"
      },
      "execution_count": null,
      "outputs": []
    },
    {
      "cell_type": "code",
      "source": [
        "# You can also determine how frequently you pick characters by passing in a third number\n",
        "hello[::2]  # Pick every 2nd character"
      ],
      "metadata": {
        "id": "y7GqOnsviifD"
      },
      "execution_count": null,
      "outputs": []
    },
    {
      "cell_type": "markdown",
      "metadata": {
        "id": "bNMVFWr8dUSl"
      },
      "source": [
        "The strip function strips or removes the white spaces both from the starting and the ending of a string."
      ]
    },
    {
      "cell_type": "code",
      "metadata": {
        "id": "iK6st3AXdV8R",
        "outputId": "bbc0a546-9deb-4d29-ab3b-0b92cb78624b",
        "colab": {
          "base_uri": "https://localhost:8080/",
          "height": 35
        }
      },
      "source": [
        "string = \"     programming is easy    \"\n",
        "string"
      ],
      "execution_count": null,
      "outputs": [
        {
          "output_type": "execute_result",
          "data": {
            "text/plain": [
              "'     programming is easy    '"
            ]
          },
          "metadata": {
            "tags": []
          },
          "execution_count": 32
        }
      ]
    },
    {
      "cell_type": "code",
      "metadata": {
        "id": "w6iyIxh2dYJr",
        "outputId": "6e39c256-e1c7-4d54-84ff-cbaef4e13e23",
        "colab": {
          "base_uri": "https://localhost:8080/",
          "height": 35
        }
      },
      "source": [
        "print(string.strip())"
      ],
      "execution_count": null,
      "outputs": [
        {
          "output_type": "stream",
          "text": [
            "programming is easy\n"
          ],
          "name": "stdout"
        }
      ]
    },
    {
      "cell_type": "markdown",
      "source": [
        "#2.5 Searching for a Substring\n",
        "\n",
        "Sometimes, you want to determine if a string exists in another string. Depending on what you want to do, there are two ways you can do this: using `str.find()` or using the `in` operator."
      ],
      "metadata": {
        "id": "B8vDjknkiomA"
      }
    },
    {
      "cell_type": "code",
      "source": [
        "# `str.find()` will return the location of the first instance search string.\n",
        "hello.find(\"world\")"
      ],
      "metadata": {
        "colab": {
          "base_uri": "https://localhost:8080/",
          "height": 183
        },
        "id": "YvV_o26eiwRu",
        "outputId": "db134448-d60f-4c96-d18d-5101efa7b55a"
      },
      "execution_count": null,
      "outputs": [
        {
          "output_type": "error",
          "ename": "NameError",
          "evalue": "ignored",
          "traceback": [
            "\u001b[0;31m---------------------------------------------------------------------------\u001b[0m",
            "\u001b[0;31mNameError\u001b[0m                                 Traceback (most recent call last)",
            "\u001b[0;32m<ipython-input-7-61bdc593d337>\u001b[0m in \u001b[0;36m<module>\u001b[0;34m()\u001b[0m\n\u001b[1;32m      1\u001b[0m \u001b[0;31m# `str.find()` will return the location of the first instance search string.\u001b[0m\u001b[0;34m\u001b[0m\u001b[0;34m\u001b[0m\u001b[0;34m\u001b[0m\u001b[0m\n\u001b[0;32m----> 2\u001b[0;31m \u001b[0mhello\u001b[0m\u001b[0;34m.\u001b[0m\u001b[0mfind\u001b[0m\u001b[0;34m(\u001b[0m\u001b[0;34m\"world\"\u001b[0m\u001b[0;34m)\u001b[0m\u001b[0;34m\u001b[0m\u001b[0;34m\u001b[0m\u001b[0m\n\u001b[0m",
            "\u001b[0;31mNameError\u001b[0m: name 'hello' is not defined"
          ]
        }
      ]
    },
    {
      "cell_type": "code",
      "source": [
        "# str.find() will return -1 if the search string doesn't exist\n",
        "hello.find(\"Greetings\")"
      ],
      "metadata": {
        "id": "_3xpJwF4iw07"
      },
      "execution_count": null,
      "outputs": []
    },
    {
      "cell_type": "code",
      "source": [
        "# the in operator is a Boolean operator that returns true if the search string exists\n",
        "\"Hello\" in hello"
      ],
      "metadata": {
        "id": "sEp1Wodti1Md"
      },
      "execution_count": null,
      "outputs": []
    },
    {
      "cell_type": "markdown",
      "source": [
        "Therefore, if you should use str.find() only if you need the exact location of the substring. Otherwise, you should use the 'in' operator."
      ],
      "metadata": {
        "id": "EkWT9Lgdi4V1"
      }
    },
    {
      "cell_type": "markdown",
      "source": [
        "#2.6 Concatenating Strings\n",
        "\n",
        "In other cases, you may want to combine, or *concatenate* multiple strings. There are three ways you can do this operation. First, you can use the addition (+) operator to combine multiple strings in a similar way to adding numeric types. Notably, the addition operator doesn't add any separators, so you must explicitly include spaces if needed."
      ],
      "metadata": {
        "id": "8SYN7Y-SjH5p"
      }
    },
    {
      "cell_type": "code",
      "source": [
        "# Use the `+` operator like a numeric type\n",
        "add_greetings = \"Hello\" + \" \" + \"world!\"\n",
        "print(add_greetings)"
      ],
      "metadata": {
        "colab": {
          "base_uri": "https://localhost:8080/"
        },
        "id": "PqXB3pofjQYU",
        "outputId": "c8be50c3-5ba3-41c2-cd64-77feadb07f6f"
      },
      "execution_count": null,
      "outputs": [
        {
          "output_type": "stream",
          "name": "stdout",
          "text": [
            "Hello world!\n"
          ]
        }
      ]
    },
    {
      "cell_type": "markdown",
      "source": [
        "You can also use the multiplication (`*`) operator to \n",
        "create a new string made up of duplicates. Similar to the situation above, the operator does not add white space or separators when creating the final output."
      ],
      "metadata": {
        "id": "eta5s5ZBjf9K"
      }
    },
    {
      "cell_type": "code",
      "source": [
        "# Use the `*` operator like a numeric type\n",
        "mult_greetings = \"Hello world! \" * 5\n",
        "print(mult_greetings)"
      ],
      "metadata": {
        "colab": {
          "base_uri": "https://localhost:8080/"
        },
        "id": "HVRnUBU6ji8C",
        "outputId": "d3b1850a-34f2-47a3-ac68-d054678c7120"
      },
      "execution_count": null,
      "outputs": [
        {
          "output_type": "stream",
          "name": "stdout",
          "text": [
            "Hello world! Hello world! Hello world! Hello world! Hello world! \n"
          ]
        }
      ]
    },
    {
      "cell_type": "markdown",
      "source": [
        "Lastly, Python offers the str.join() method to combine strings. This method allows you to define the *separator* that it will use to generate the concatenated string."
      ],
      "metadata": {
        "id": "eov_a6VVjlCp"
      }
    },
    {
      "cell_type": "code",
      "source": [
        "# Use str.join()\n",
        "sep = \" \"  # Use a \" \" separator\n",
        "join_greeting = sep.join([\"Hello\", \"world!\"])\n",
        "print(join_greeting)"
      ],
      "metadata": {
        "colab": {
          "base_uri": "https://localhost:8080/"
        },
        "id": "AaMTtgcnjnBD",
        "outputId": "b9c7056d-adc4-4b27-d734-61cc3e79ba53"
      },
      "execution_count": null,
      "outputs": [
        {
          "output_type": "stream",
          "name": "stdout",
          "text": [
            "Hello world!\n"
          ]
        }
      ]
    },
    {
      "cell_type": "markdown",
      "source": [
        "# Exercises on Control Codes Within Strings"
      ],
      "metadata": {
        "id": "AtMj10yFlKBD"
      }
    },
    {
      "cell_type": "markdown",
      "source": [
        "##**QUES-1 Palindrome**\n",
        "\n",
        "Check whether the given string is a palindrome or not.\n",
        "\n",
        "`\n",
        "str = aIbohPhoBiA\n",
        "`"
      ],
      "metadata": {
        "id": "y5E8QB25lNvs"
      }
    },
    {
      "cell_type": "code",
      "source": [
        "# Program to check if a string is palindrome or not\n",
        "\n",
        "my_str = 'aIbohPhoBiA'\n",
        "\n",
        "# make it suitable for caseless comparison\n",
        "my_str = my_str.casefold()\n",
        "\n",
        "# reverse the string\n",
        "rev_str = reversed(my_str)\n",
        "\n",
        "# check if the string is equal to its reverse\n",
        "if list(my_str) == list(rev_str):\n",
        "   print(\"The string is a palindrome.\")\n",
        "else:\n",
        "   print(\"The string is not a palindrome.\")"
      ],
      "metadata": {
        "colab": {
          "base_uri": "https://localhost:8080/"
        },
        "id": "x9_G7srFlWYx",
        "outputId": "b24f47f8-831a-47fe-832f-1e7af1e7d5c9"
      },
      "execution_count": null,
      "outputs": [
        {
          "output_type": "stream",
          "name": "stdout",
          "text": [
            "The string is a palindrome.\n"
          ]
        }
      ]
    },
    {
      "cell_type": "markdown",
      "source": [
        "##**QUES-2 Removing Punctuations**\n",
        "\n",
        "Remove Punctuations From the given string.\n",
        "\n",
        "```\n",
        "str = Hello!!!, he said ---and went.\n",
        "```\n",
        "\n",
        "\n",
        "\n"
      ],
      "metadata": {
        "id": "MSgQGerolsXD"
      }
    },
    {
      "cell_type": "markdown",
      "source": [
        "> **Hint:** Punctuations are `!()-[]{};:'\"\\,<>./?@#$%^&*_~`"
      ],
      "metadata": {
        "id": "A3IGS9F-lpN1"
      }
    },
    {
      "cell_type": "code",
      "source": [
        "# define punctuation\n",
        "punctuations = '''!()-[]{};:'\"\\,<>./?@#$%^&*_~'''\n",
        "\n",
        "my_str = \"Hello!!!, he said ---and went.\"\n",
        "\n",
        "# To take input from the user\n",
        "# my_str = input(\"Enter a string: \")\n",
        "\n",
        "# remove punctuation from the string\n",
        "no_punct = \"\"\n",
        "for char in my_str:\n",
        "   if char not in punctuations:\n",
        "       no_punct = no_punct + char\n",
        "\n",
        "# display the unpunctuated string\n",
        "print(no_punct)"
      ],
      "metadata": {
        "colab": {
          "base_uri": "https://localhost:8080/"
        },
        "id": "EODoeMcTl3Yy",
        "outputId": "adb9a49b-535f-40e3-8f46-5994b4035fa4"
      },
      "execution_count": null,
      "outputs": [
        {
          "output_type": "stream",
          "name": "stdout",
          "text": [
            "Hello he said and went\n"
          ]
        }
      ]
    },
    {
      "cell_type": "markdown",
      "source": [
        "##**QUES-3 Number of Occurences**\n",
        "\n",
        "Check the Number of Occurences of a Character in the given string.\n",
        "\n",
        "```\n",
        "str = univai\n",
        "```"
      ],
      "metadata": {
        "id": "WpfhloVEmOvq"
      }
    },
    {
      "cell_type": "code",
      "source": [
        "count = 0\n",
        "\n",
        "my_string = \"univai\"\n",
        "my_char = \"i\"\n",
        "\n",
        "for i in my_string:\n",
        "    if i == my_char:\n",
        "        count += 1\n",
        "\n",
        "print(count)"
      ],
      "metadata": {
        "colab": {
          "base_uri": "https://localhost:8080/"
        },
        "id": "79E_ughjmeo6",
        "outputId": "309f92d6-231f-4ee5-f617-f765f689ab5b"
      },
      "execution_count": null,
      "outputs": [
        {
          "output_type": "stream",
          "name": "stdout",
          "text": [
            "2\n"
          ]
        }
      ]
    },
    {
      "cell_type": "code",
      "source": [
        "#alternate method\n",
        "\n",
        "my_string = \"univai\"\n",
        "my_char = \"i\"\n",
        "\n",
        "print(my_string.count(my_char))"
      ],
      "metadata": {
        "colab": {
          "base_uri": "https://localhost:8080/"
        },
        "id": "Cxf05PYdmryh",
        "outputId": "fe8285f1-afb2-4832-8add-7d97d697026b"
      },
      "execution_count": null,
      "outputs": [
        {
          "output_type": "stream",
          "name": "stdout",
          "text": [
            "2\n"
          ]
        }
      ]
    },
    {
      "cell_type": "markdown",
      "source": [
        "##**QUES-4 Anagram**\n",
        "\n",
        "Check if the given two strings are an anagram.\n",
        "\n",
        "```\n",
        "str1: Race  str2: Care\n",
        "```"
      ],
      "metadata": {
        "id": "fVBCKgTJmxJ5"
      }
    },
    {
      "cell_type": "code",
      "source": [
        "str1 = \"Race\"\n",
        "str2 = \"Care\"\n",
        "\n",
        "# convert both the strings into lowercase\n",
        "str1 = str1.lower()\n",
        "str2 = str2.lower()\n",
        "\n",
        "# check if length is same\n",
        "if(len(str1) == len(str2)):\n",
        "\n",
        "    # sort the strings\n",
        "    sorted_str1 = sorted(str1)\n",
        "    sorted_str2 = sorted(str2)\n",
        "\n",
        "    # if sorted char arrays are same\n",
        "    if(sorted_str1 == sorted_str2):\n",
        "        print(str1 + \" and \" + str2 + \" are anagram.\")\n",
        "    else:\n",
        "        print(str1 + \" and \" + str2 + \" are not anagram.\")\n",
        "\n",
        "else:\n",
        "    print(str1 + \" and \" + str2 + \" are not anagram.\")"
      ],
      "metadata": {
        "colab": {
          "base_uri": "https://localhost:8080/"
        },
        "id": "_EN7L-vfnCGN",
        "outputId": "e18c88ff-c97c-4d9a-bb42-c39f713202c2"
      },
      "execution_count": null,
      "outputs": [
        {
          "output_type": "stream",
          "name": "stdout",
          "text": [
            "race and care are anagram.\n"
          ]
        }
      ]
    },
    {
      "cell_type": "markdown",
      "source": [
        "##**QUES-5 Capitalizing**\n",
        "\n",
        "Capitalize the First Character of the given string.\n",
        "\n",
        "```\n",
        "str = python is fun\n",
        "```"
      ],
      "metadata": {
        "id": "XQW4EyvhnYTb"
      }
    },
    {
      "cell_type": "code",
      "source": [
        "my_string = \"python is fun\"\n",
        "\n",
        "print(my_string[0].upper() + my_string[1:])"
      ],
      "metadata": {
        "colab": {
          "base_uri": "https://localhost:8080/"
        },
        "id": "bwBiJ-BCnnYF",
        "outputId": "17ceb26f-0180-4733-b62e-2d04738ee34d"
      },
      "execution_count": null,
      "outputs": [
        {
          "output_type": "stream",
          "name": "stdout",
          "text": [
            "Python is fun\n"
          ]
        }
      ]
    },
    {
      "cell_type": "markdown",
      "source": [
        "##**QUES-6 Permutations**\n",
        "\n",
        "Compute all the permutations of the given string.\n",
        "\n",
        "```\n",
        "str = yup\n",
        "```"
      ],
      "metadata": {
        "id": "_OVUKEeSnujs"
      }
    },
    {
      "cell_type": "code",
      "source": [
        "def get_permutation(string, i=0):\n",
        "\n",
        "    if i == len(string):   \t \n",
        "        print(\"\".join(string))\n",
        "\n",
        "    for j in range(i, len(string)):\n",
        "\n",
        "        words = [c for c in string]\n",
        "   \n",
        "        # swap\n",
        "        words[i], words[j] = words[j], words[i]\n",
        "   \t \n",
        "        get_permutation(words, i + 1)\n",
        "\n",
        "print(get_permutation('yup'))"
      ],
      "metadata": {
        "colab": {
          "base_uri": "https://localhost:8080/"
        },
        "id": "qf4HOsS-n7wJ",
        "outputId": "98f9c9b8-9d38-4f0d-8ba6-c6f4361965a1"
      },
      "execution_count": null,
      "outputs": [
        {
          "output_type": "stream",
          "name": "stdout",
          "text": [
            "yup\n",
            "ypu\n",
            "uyp\n",
            "upy\n",
            "puy\n",
            "pyu\n",
            "None\n"
          ]
        }
      ]
    },
    {
      "cell_type": "markdown",
      "source": [
        "##**QUES-7 Trim Whitespace**\n",
        "\n",
        "Trim Whitespace From the given String\n",
        "\n",
        "```\n",
        "str = Python \n",
        "```"
      ],
      "metadata": {
        "id": "hudg7IzhoEVq"
      }
    },
    {
      "cell_type": "code",
      "source": [
        "my_string = \" Python \"\n",
        "\n",
        "print(my_string.strip())"
      ],
      "metadata": {
        "colab": {
          "base_uri": "https://localhost:8080/"
        },
        "id": "tFbyi-wZoVJb",
        "outputId": "8f77d48b-cdce-4e46-d3a1-8618debf19d5"
      },
      "execution_count": null,
      "outputs": [
        {
          "output_type": "stream",
          "name": "stdout",
          "text": [
            "Python\n"
          ]
        }
      ]
    },
    {
      "cell_type": "code",
      "source": [
        "#special cae /n case\n",
        "#here we need to trim only the whitespace and not the /n\n",
        "my_string = \" \\nPython \"\n",
        "\n",
        "print(my_string.strip(\" \"))"
      ],
      "metadata": {
        "colab": {
          "base_uri": "https://localhost:8080/"
        },
        "id": "L4L_LkZLoM81",
        "outputId": "a1cc4a67-46e2-41ff-8506-26f42f0ffe80"
      },
      "execution_count": null,
      "outputs": [
        {
          "output_type": "stream",
          "name": "stdout",
          "text": [
            "\n",
            "Python\n"
          ]
        }
      ]
    },
    {
      "cell_type": "markdown",
      "source": [
        "##**QUES-8 Multiline String**\n",
        "\n",
        "Create a Long Multiline String.\n",
        "\n",
        "```\n",
        "str = The only way to learn to program is by writing code.\n",
        "```"
      ],
      "metadata": {
        "id": "VAC0TVkoosoa"
      }
    },
    {
      "cell_type": "code",
      "source": [
        "my_string = '''The only way to\n",
        "learn to program is\n",
        "by writing code.'''\n",
        "\n",
        "print(my_string)"
      ],
      "metadata": {
        "colab": {
          "base_uri": "https://localhost:8080/"
        },
        "id": "3baxBc2ao67h",
        "outputId": "ff3aaea6-d7c3-4699-c85c-993c90cd9398"
      },
      "execution_count": null,
      "outputs": [
        {
          "output_type": "stream",
          "name": "stdout",
          "text": [
            "The only way to\n",
            "learn to program is\n",
            "by writing code.\n"
          ]
        }
      ]
    },
    {
      "cell_type": "code",
      "source": [
        "# alternate method\n",
        "# Using parentheses and a single/double quotes\n",
        "my_string = (\"The only way to \\n\"\n",
        "        \t\"learn to program is \\n\"\n",
        "        \t\"by writing code.\")\n",
        "\n",
        "print(my_string)"
      ],
      "metadata": {
        "colab": {
          "base_uri": "https://localhost:8080/"
        },
        "id": "Cx6sKj4hpCRW",
        "outputId": "19e04618-3aea-4c38-c18d-b45f45eb6b9e"
      },
      "execution_count": null,
      "outputs": [
        {
          "output_type": "stream",
          "name": "stdout",
          "text": [
            "The only way to \n",
            "learn to program is \n",
            "by writing code.\n"
          ]
        }
      ]
    },
    {
      "cell_type": "markdown",
      "source": [
        "##**QUES-9 Substring**\n",
        "\n",
        "Get a Substring from the given String.\n",
        "\n",
        "```\n",
        "str = I love python.\n",
        "```"
      ],
      "metadata": {
        "id": "erVjDf5NpLa5"
      }
    },
    {
      "cell_type": "code",
      "source": [
        "my_string = \"I love python.\"\n",
        "\n",
        "# prints \"love\"\n",
        "print(my_string[2:6])\n",
        "\n",
        "# prints \"love python.\"\n",
        "print(my_string[2:])\n",
        "\n",
        "# prints \"I love python\"\n",
        "print(my_string[:-1])"
      ],
      "metadata": {
        "colab": {
          "base_uri": "https://localhost:8080/"
        },
        "id": "a1_kjg_VpToI",
        "outputId": "95fe209a-0c20-475f-d1ce-db316ec70196"
      },
      "execution_count": null,
      "outputs": [
        {
          "output_type": "stream",
          "name": "stdout",
          "text": [
            "love\n",
            "love python.\n",
            "I love python\n"
          ]
        }
      ]
    },
    {
      "cell_type": "markdown",
      "source": [
        "## **QUES-10 String to Datetime**\n",
        "\n",
        " Convert the given String to Datetime.\n",
        "\n",
        "```\n",
        " str = Mar 11 2011 11:31AM\n",
        " ```"
      ],
      "metadata": {
        "id": "dsj6wlWtpaK8"
      }
    },
    {
      "cell_type": "code",
      "source": [
        "#for this we import a simple module called the datetime\n",
        "from datetime import datetime\n",
        "\n",
        "my_date_string = \"Mar 11 2011 11:31AM\"\n",
        "\n",
        "datetime_object = datetime.strptime(my_date_string, '%b %d %Y %I:%M%p')\n",
        "\n",
        "print(type(datetime_object))\n",
        "print(datetime_object)"
      ],
      "metadata": {
        "colab": {
          "base_uri": "https://localhost:8080/"
        },
        "id": "zrhQpy-epmdi",
        "outputId": "f45cfba9-677e-469b-8d96-25aea55633d6"
      },
      "execution_count": null,
      "outputs": [
        {
          "output_type": "stream",
          "name": "stdout",
          "text": [
            "<class 'datetime.datetime'>\n",
            "2011-03-11 11:31:00\n"
          ]
        }
      ]
    },
    {
      "cell_type": "markdown",
      "source": [
        "##**QUES-11 Properties of a String**\n",
        "\n",
        "Check if the given string is a number (Float).\n",
        "\n",
        "```\n",
        "str1 = s12 str2:1.123\n",
        "```"
      ],
      "metadata": {
        "id": "LMNDa9a9p_dX"
      }
    },
    {
      "cell_type": "code",
      "source": [
        "def isfloat(num):\n",
        "    try:\n",
        "        float(num)\n",
        "        return True\n",
        "    except ValueError:\n",
        "        return False\n",
        "\n",
        "print(isfloat('s12'))\n",
        "print(isfloat('1.123'))"
      ],
      "metadata": {
        "colab": {
          "base_uri": "https://localhost:8080/"
        },
        "id": "xo3XpLsKqH64",
        "outputId": "a606a71d-279c-47fb-823e-f44f3189c665"
      },
      "execution_count": null,
      "outputs": [
        {
          "output_type": "stream",
          "name": "stdout",
          "text": [
            "False\n",
            "True\n"
          ]
        }
      ]
    },
    {
      "cell_type": "markdown",
      "metadata": {
        "id": "URT8cy_EWFzq"
      },
      "source": [
        "# Further Reading and References\n",
        "\n",
        "Following are some resources where you can learn about more arithmetic, conditional and logical operations in Python:\n",
        "\n",
        "* Loops & Control Statements at GeeksforGeeks: [Here](https://www.geeksforgeeks.org/loops-and-loop-control-statements-continue-break-and-pass-in-python/)\n",
        "* Strings & Character Data Tutorial at Realpython: [Here](https://realpython.com/python-strings/)\n",
        "* Python official documentation: [Here](https://docs.python.org/3/tutorial/index.html)"
      ]
    }
  ]
}