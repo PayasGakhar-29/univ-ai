{
  "nbformat": 4,
  "nbformat_minor": 0,
  "metadata": {
    "colab": {
      "name": "7_Loops.ipynb",
      "provenance": [],
      "toc_visible": true,
      "collapsed_sections": []
    },
    "kernelspec": {
      "name": "python3",
      "display_name": "Python 3"
    },
    "language_info": {
      "name": "python"
    }
  },
  "cells": [
    {
      "cell_type": "markdown",
      "source": [
        ""
      ],
      "metadata": {
        "id": "46TFKgurOamh"
      }
    },
    {
      "cell_type": "markdown",
      "metadata": {
        "id": "UxThD3zGBL57"
      },
      "source": [
        "# Branching using Conditional Statements and Loops in Python\n",
        "\n",
        "\n",
        "\n"
      ]
    },
    {
      "cell_type": "markdown",
      "metadata": {
        "id": "36d_inZhBL6I"
      },
      "source": [
        "## Branching with `if`, `else` and `elif`\n",
        "\n",
        "A really powerful feature of programming languages is *branching*: the ability to make decisions and execute a different set of statements based on whether one or more conditions are true.\n",
        "\n",
        "### The `if` statement\n",
        "\n",
        "In Python, branching is done using the `if` statement, which is written as follows:\n",
        "\n",
        "```\n",
        "if condition:\n",
        "    statement1\n",
        "    statement2\n",
        "```\n",
        "\n",
        "The `condition` can either be a variable or an expression. If the condition evaluates to `True`, then the statements within the *`if` block* are executed. Note the 4 spaces before `statement1`, `statement 2` etc. The spaces inform Python that these statements are associated with the `if` statement above. This technique of structuring code by adding spaces is called *indentation*.\n",
        "\n",
        "> **Indentation**: Python relies heavily on *indentation* (white space before a statement) to define structure in code. This makes Python code easy to read and understand, but you can run into problems if you don't use indentation properly. Indent your code by placing the cursor at the start of the line and pressing the `Tab` key once to add 4 spaces. Pressing `Tab` again will indent the code further by 4 more spaces, and press `Shift+Tab` will reduce the indentation by 4 spaces. \n",
        "\n",
        "\n",
        "As an example, let's write some code to check and print a message if a given number is even."
      ]
    },
    {
      "cell_type": "code",
      "execution_count": null,
      "metadata": {
        "id": "YcCMgmqWBL6L"
      },
      "outputs": [],
      "source": [
        "a_number = 34"
      ]
    },
    {
      "cell_type": "code",
      "execution_count": null,
      "metadata": {
        "colab": {
          "base_uri": "https://localhost:8080/"
        },
        "id": "hyi8DJJoBL6M",
        "outputId": "748253c7-1674-4f04-813b-217dd033632b"
      },
      "outputs": [
        {
          "name": "stdout",
          "output_type": "stream",
          "text": [
            "We're inside an if block\n",
            "The given number 34 is even.\n"
          ]
        }
      ],
      "source": [
        "if a_number % 2 == 0:\n",
        "    print(\"We're inside an if block\")\n",
        "    print('The given number {} is even.'.format(a_number))"
      ]
    },
    {
      "cell_type": "markdown",
      "metadata": {
        "id": "mjH1_UobBL6O"
      },
      "source": [
        "Note that we are using the modulus operator `%` to find the remainder from the division of `a_number` by `2`, and then we are using the comparision operator `==` check if the reminder is `0`, indicating that the number is divisible by 2 i.e. it is even. \n",
        "\n",
        "Since the number `34` is indeed divisible by `2` the expression `a_number % 2 == 0` evaluates to `True`, so the `print` statement under the `if` statement is executed. Also note that we are using the string `format` method to include the number within the message.\n",
        "\n",
        "Let's try the above again with an odd number."
      ]
    },
    {
      "cell_type": "code",
      "execution_count": null,
      "metadata": {
        "id": "E_1Q8wN2BL6P"
      },
      "outputs": [],
      "source": [
        "another_number = 33"
      ]
    },
    {
      "cell_type": "code",
      "execution_count": null,
      "metadata": {
        "colab": {
          "base_uri": "https://localhost:8080/"
        },
        "id": "bHiNcZ5aBL6Q",
        "outputId": "97dcfc44-e422-4e7a-bf6a-d62423871ddf"
      },
      "outputs": [
        {
          "name": "stdout",
          "output_type": "stream",
          "text": [
            "Outside the if block\n"
          ]
        }
      ],
      "source": [
        "if another_number % 2 == 0:\n",
        "    print('The given number {} is even.'.format(a_number))\n",
        "    \n",
        "print('Outside the if block')"
      ]
    },
    {
      "cell_type": "markdown",
      "metadata": {
        "id": "waQc6ZWRBL6S"
      },
      "source": [
        "As expected, since the condition `another_number % 2 == 0` evluates to `False`, no message is printed. \n",
        "\n",
        "### The `else` statement\n",
        "\n",
        "It would be nice to print a different method if the number is not even in the above example. This can be done by adding the `else` statement. It is written as follows:\n",
        "\n",
        "```\n",
        "if condition:\n",
        "    statement1\n",
        "    statement2\n",
        "else:\n",
        "    statement4\n",
        "    statement5\n",
        "\n",
        "```\n",
        "\n",
        "If the `condition` evaluates to `True`, the statements in the `if` block are executed, and if it evaluates to `False`, the statements in the `else` block are executed."
      ]
    },
    {
      "cell_type": "code",
      "execution_count": null,
      "metadata": {
        "id": "YzIxfKoBBL6U"
      },
      "outputs": [],
      "source": [
        "a_number = 34"
      ]
    },
    {
      "cell_type": "code",
      "execution_count": null,
      "metadata": {
        "colab": {
          "base_uri": "https://localhost:8080/"
        },
        "id": "lWRNSvaSBL6V",
        "outputId": "ae0e66ab-9d1f-4e50-9392-f7b92648c551"
      },
      "outputs": [
        {
          "name": "stdout",
          "output_type": "stream",
          "text": [
            "The given number 34 is even.\n"
          ]
        }
      ],
      "source": [
        "if a_number % 2 == 0:\n",
        "    print('The given number {} is even.'.format(a_number))\n",
        "else:\n",
        "    print('The given number {} is odd.'.format(a_number))"
      ]
    },
    {
      "cell_type": "code",
      "execution_count": null,
      "metadata": {
        "id": "ei9xj_l_BL6W"
      },
      "outputs": [],
      "source": [
        "another_number = 33"
      ]
    },
    {
      "cell_type": "code",
      "execution_count": null,
      "metadata": {
        "colab": {
          "base_uri": "https://localhost:8080/"
        },
        "id": "kaaDVUqRBL6X",
        "outputId": "e50d2b85-f33e-48c7-8bfc-f97f21e45609"
      },
      "outputs": [
        {
          "name": "stdout",
          "output_type": "stream",
          "text": [
            "The given number 33 is odd.\n"
          ]
        }
      ],
      "source": [
        "if another_number % 2 == 0:\n",
        "    print('The given number {} is even.'.format(another_number))\n",
        "else:\n",
        "    print('The given number {} is odd.'.format(another_number))"
      ]
    },
    {
      "cell_type": "markdown",
      "metadata": {
        "id": "0CDgMlIYBL6Y"
      },
      "source": [
        "Here's another example, which uses the `in` operator to check membership within a tuple."
      ]
    },
    {
      "cell_type": "code",
      "execution_count": null,
      "metadata": {
        "id": "6tAb2aOLBL6Z"
      },
      "outputs": [],
      "source": [
        "the_3_musketeers = ['Athos', 'Porthos', 'Aramis']"
      ]
    },
    {
      "cell_type": "code",
      "execution_count": null,
      "metadata": {
        "id": "AaR7G_jZBL6a"
      },
      "outputs": [],
      "source": [
        "a_candidate = \"D'Artagnan\""
      ]
    },
    {
      "cell_type": "code",
      "execution_count": null,
      "metadata": {
        "colab": {
          "base_uri": "https://localhost:8080/"
        },
        "id": "d614gYE9BL6a",
        "outputId": "f6522f5d-be88-41d3-df50-e52b4ad699da"
      },
      "outputs": [
        {
          "name": "stdout",
          "output_type": "stream",
          "text": [
            "D'Artagnan is not a musketeer\n"
          ]
        }
      ],
      "source": [
        "if a_candidate in the_3_musketeers:\n",
        "    print(\"{} is a musketeer\".format(a_candidate))\n",
        "else:\n",
        "    print(\"{} is not a musketeer\".format(a_candidate))"
      ]
    },
    {
      "cell_type": "markdown",
      "metadata": {
        "id": "uB2nGh_XBL6b"
      },
      "source": [
        "### The `elif` statement\n",
        "\n",
        "Python also provides an `elif` statement (short for \"else if\"), to chain a series of conditional blocks. The conditions are evaluated one by one. For the first condition that evaluates to `True`, the statements in the respective block are executed, and the remaining conditions are not evaluated. So, in a chain of `if`, `elif`, `elif`... statements, exactly one conditional block is evaluted."
      ]
    },
    {
      "cell_type": "code",
      "execution_count": null,
      "metadata": {
        "id": "FjU-zenfBL6c"
      },
      "outputs": [],
      "source": [
        "today = 'Wednesday'"
      ]
    },
    {
      "cell_type": "code",
      "execution_count": null,
      "metadata": {
        "colab": {
          "base_uri": "https://localhost:8080/"
        },
        "id": "_y0o68BRBL6c",
        "outputId": "2adf98ec-5893-4b74-b9bb-80047de14fde"
      },
      "outputs": [
        {
          "name": "stdout",
          "output_type": "stream",
          "text": [
            "Today is the day of Odin, the supreme diety.\n"
          ]
        }
      ],
      "source": [
        "if today == 'Sunday':\n",
        "    print(\"Today is the day of the sun.\")\n",
        "elif today == 'Monday':\n",
        "    print(\"Today is the day of the moon.\")\n",
        "elif today == 'Tuesday':\n",
        "    print(\"Today is the day of Tyr, the god of war.\")\n",
        "elif today == 'Wednesday':\n",
        "    print(\"Today is the day of Odin, the supreme diety.\")\n",
        "elif today == 'Thursday':\n",
        "    print(\"Today is the day of Thor, the god of thunder.\")\n",
        "elif today == 'Friday':\n",
        "    print(\"Today is the day of Frigga, the goddess of beauty.\")\n",
        "elif today == 'Saturday':\n",
        "    print(\"Today is the day of Saturn, the god of fun and feasting.\")"
      ]
    },
    {
      "cell_type": "markdown",
      "metadata": {
        "id": "q1mQ5qxgBL6d"
      },
      "source": [
        "In the above example, the first 3 conditions evalute to `False`, so none of the first 3 message are printed. The fourth condition evalues to `True`, so the corresponding message is printed. The remaining conditions are skipped. Try changing the value of `today` above and re-executing the cells to print all the different messages.\n",
        "\n",
        "\n",
        "To verify that the remaining conditions are skipped, let us try another example."
      ]
    },
    {
      "cell_type": "code",
      "execution_count": null,
      "metadata": {
        "id": "-BC42Da0BL6e"
      },
      "outputs": [],
      "source": [
        "a_number = 15"
      ]
    },
    {
      "cell_type": "code",
      "execution_count": null,
      "metadata": {
        "colab": {
          "base_uri": "https://localhost:8080/"
        },
        "id": "h0l14tNfBL6e",
        "outputId": "487d6e84-af51-4b1e-b9f9-fa43e1a0bd21"
      },
      "outputs": [
        {
          "name": "stdout",
          "output_type": "stream",
          "text": [
            "15 is divisible by 3\n"
          ]
        }
      ],
      "source": [
        "if a_number % 2 == 0:\n",
        "    print('{} is divisible by 2'.format(a_number))\n",
        "elif a_number % 3 == 0:\n",
        "    print('{} is divisible by 3'.format(a_number))\n",
        "elif a_number % 5 == 0:\n",
        "    print('{} is divisible by 5'.format(a_number))\n",
        "elif a_number % 7 == 0:\n",
        "    print('{} is divisible by 7'.format(a_number))"
      ]
    },
    {
      "cell_type": "markdown",
      "metadata": {
        "id": "AdLc64i9BL6f"
      },
      "source": [
        "Note that the message `15 is divisible by 5` is not printed because the condition `a_number % 5 == 0` isn't evaluted, since the previous condition `a_number % 3 == 0` evaluates to `True`. This is the key differnce between using a chain of `if`, `elif`, `elif`... statements vs. simply using a chain of `if` statements, where each condition is evaluted independently."
      ]
    },
    {
      "cell_type": "code",
      "execution_count": null,
      "metadata": {
        "colab": {
          "base_uri": "https://localhost:8080/"
        },
        "id": "GJp1rmJRBL6f",
        "outputId": "c8ee51a4-3035-416e-8fcc-e27e39a22bbc"
      },
      "outputs": [
        {
          "name": "stdout",
          "output_type": "stream",
          "text": [
            "15 is divisible by 3\n",
            "15 is divisible by 5\n"
          ]
        }
      ],
      "source": [
        "if a_number % 2 == 0:\n",
        "    print('{} is divisible by 2'.format(a_number))\n",
        "if a_number % 3 == 0:\n",
        "    print('{} is divisible by 3'.format(a_number))\n",
        "if a_number % 5 == 0:\n",
        "    print('{} is divisible by 5'.format(a_number))\n",
        "if a_number % 7 == 0:\n",
        "    print('{} is divisible by 7'.format(a_number))"
      ]
    },
    {
      "cell_type": "markdown",
      "metadata": {
        "id": "_3zmzgMHBL6g"
      },
      "source": [
        "### Using `if`, `elif` and `else` together\n",
        "\n",
        "You can also include an `else` statement at the end of a chain of `if`, `elif`... statements. This code within the `else` block are evaluted when none of the conditions hold true."
      ]
    },
    {
      "cell_type": "code",
      "execution_count": null,
      "metadata": {
        "id": "BlCs1kYbBL6g"
      },
      "outputs": [],
      "source": [
        "a_number = 49"
      ]
    },
    {
      "cell_type": "code",
      "execution_count": null,
      "metadata": {
        "colab": {
          "base_uri": "https://localhost:8080/"
        },
        "id": "x6yjs5erBL6h",
        "outputId": "95277d20-1600-4452-b10a-d1fc3c2adfd4"
      },
      "outputs": [
        {
          "name": "stdout",
          "output_type": "stream",
          "text": [
            "All checks failed!\n",
            "49 is not divisible by 2, 3 or 5\n"
          ]
        }
      ],
      "source": [
        "if a_number % 2 == 0:\n",
        "    print('{} is divisible by 2'.format(a_number))\n",
        "elif a_number % 3 == 0:\n",
        "    print('{} is divisible by 3'.format(a_number))\n",
        "elif a_number % 5 == 0:\n",
        "    print('{} is divisible by 5'.format(a_number))\n",
        "else:\n",
        "    print('All checks failed!')\n",
        "    print('{} is not divisible by 2, 3 or 5'.format(a_number))"
      ]
    },
    {
      "cell_type": "markdown",
      "metadata": {
        "id": "Ez_H3B0CBL6i"
      },
      "source": [
        "Conditions can also combined using the logical operators `and`, `or` and `not`."
      ]
    },
    {
      "cell_type": "code",
      "execution_count": null,
      "metadata": {
        "id": "DCxiVqh7BL6i"
      },
      "outputs": [],
      "source": [
        "a_number = 12"
      ]
    },
    {
      "cell_type": "code",
      "execution_count": null,
      "metadata": {
        "colab": {
          "base_uri": "https://localhost:8080/"
        },
        "id": "eRXnkEL4BL6j",
        "outputId": "4bb05eb1-76e0-4500-c2c4-106363b61397"
      },
      "outputs": [
        {
          "name": "stdout",
          "output_type": "stream",
          "text": [
            "The number 12 is not divisible by 5\n"
          ]
        }
      ],
      "source": [
        "if a_number % 3 == 0 and a_number % 5 == 0:\n",
        "    print(\"The number {} is divisible by 3 and 5\".format(a_number))\n",
        "elif not a_number % 5 == 0:\n",
        "    print(\"The number {} is not divisible by 5\".format(a_number))"
      ]
    },
    {
      "cell_type": "markdown",
      "metadata": {
        "id": "Jb63lsocBL6j"
      },
      "source": [
        "### Non-Boolean Conditions\n",
        "\n",
        "Note that conditions do not necessarily have to be booleans. In fact, a condition can be any value. The value is convered into a boolean automatically using the `bool` operator. This means that falsy values like `0`, `''`, `{}`, `[]` etc. evalute to `False` and all other values evalute to `True`."
      ]
    },
    {
      "cell_type": "code",
      "execution_count": null,
      "metadata": {
        "colab": {
          "base_uri": "https://localhost:8080/"
        },
        "id": "9PgB1W9-BL6k",
        "outputId": "ccc8d716-552f-425a-a5b4-0cf854ce27a5"
      },
      "outputs": [
        {
          "name": "stdout",
          "output_type": "stream",
          "text": [
            "The condition evaluted to False\n"
          ]
        }
      ],
      "source": [
        "if '':\n",
        "    print('The condition evaluted to True')\n",
        "else:\n",
        "    print('The condition evaluted to False')"
      ]
    },
    {
      "cell_type": "code",
      "execution_count": null,
      "metadata": {
        "colab": {
          "base_uri": "https://localhost:8080/"
        },
        "id": "QFKy8y-ZBL6l",
        "outputId": "14cd3bf5-987f-47b4-c1d5-f5f3991067c8"
      },
      "outputs": [
        {
          "name": "stdout",
          "output_type": "stream",
          "text": [
            "The condition evaluted to True\n"
          ]
        }
      ],
      "source": [
        "if 'Hello':\n",
        "    print('The condition evaluted to True')\n",
        "else:\n",
        "    print('The condition evaluted to False')"
      ]
    },
    {
      "cell_type": "code",
      "execution_count": null,
      "metadata": {
        "colab": {
          "base_uri": "https://localhost:8080/"
        },
        "id": "CLDXrR0VBL6m",
        "outputId": "115325ca-c28b-40a4-97da-ac231bcf5bc7"
      },
      "outputs": [
        {
          "name": "stdout",
          "output_type": "stream",
          "text": [
            "The condition evaluted to True\n"
          ]
        }
      ],
      "source": [
        "if { 'a': 34 }:\n",
        "    print('The condition evaluted to True')\n",
        "else:\n",
        "    print('The condition evaluted to False')"
      ]
    },
    {
      "cell_type": "code",
      "execution_count": null,
      "metadata": {
        "colab": {
          "base_uri": "https://localhost:8080/"
        },
        "id": "w6S4-mhJBL6n",
        "outputId": "6c913fd5-2c47-4d6e-abe1-9250b840cba5"
      },
      "outputs": [
        {
          "name": "stdout",
          "output_type": "stream",
          "text": [
            "The condition evaluted to False\n"
          ]
        }
      ],
      "source": [
        "if None:\n",
        "    print('The condition evaluted to True')\n",
        "else:\n",
        "    print('The condition evaluted to False')"
      ]
    },
    {
      "cell_type": "markdown",
      "metadata": {
        "id": "dFpdB2BpBL6o"
      },
      "source": [
        "### Nested conditional statements\n",
        "\n",
        "The code inside an `if` block can also include an `if` statement inside it. This pattern is called `nesting` and is used when you need to check for another condition after a certain condition is evaluted as true."
      ]
    },
    {
      "cell_type": "code",
      "execution_count": null,
      "metadata": {
        "id": "KfGnfmTSBL6o"
      },
      "outputs": [],
      "source": [
        "a_number = 15"
      ]
    },
    {
      "cell_type": "code",
      "execution_count": null,
      "metadata": {
        "colab": {
          "base_uri": "https://localhost:8080/"
        },
        "id": "2W1dvo7EBL6p",
        "outputId": "a668e879-3e5d-4e77-8fe8-7bf4b16646ea"
      },
      "outputs": [
        {
          "name": "stdout",
          "output_type": "stream",
          "text": [
            "15 is odd\n",
            "15 is also divisible by 5\n"
          ]
        }
      ],
      "source": [
        "if a_number % 2 == 0:\n",
        "    print(\"{} is even\".format(a_number))\n",
        "    if a_number % 3 == 0:\n",
        "        print(\"{} is also divisible by 3\".format(a_number))\n",
        "    else:\n",
        "        print(\"{} is not divisibule by 3\".format(a_number))\n",
        "else:\n",
        "    print(\"{} is odd\".format(a_number))\n",
        "    if a_number % 5 == 0:\n",
        "        print(\"{} is also divisible by 5\".format(a_number))\n",
        "    else:\n",
        "        print(\"{} is not divisibule by 5\".format(a_number))"
      ]
    },
    {
      "cell_type": "markdown",
      "metadata": {
        "id": "-8Ab9qYyBL6q"
      },
      "source": [
        "Notice how the `print` statements are indented by 8 spaces, to indicate that they are part of the inner `if`/`else` blocks.\n",
        "\n",
        "> Nested `if`, `else` statements are often confusing to read and prone to human error. It's a good idea to avoid nesting whenever possible, or limit the nesting to 1 or 2 levels."
      ]
    },
    {
      "cell_type": "markdown",
      "metadata": {
        "id": "_yM8JVtiBL6q"
      },
      "source": [
        "### Shorthand `if` conditional expression\n",
        "\n",
        "A common use case of the `if` statement involves testing a condition and setting the value of a variable based on the condition."
      ]
    },
    {
      "cell_type": "code",
      "execution_count": null,
      "metadata": {
        "colab": {
          "base_uri": "https://localhost:8080/"
        },
        "id": "7BiRKsuSBL6r",
        "outputId": "b60b401c-27bf-4e47-e35c-f46f267c46ce"
      },
      "outputs": [
        {
          "name": "stdout",
          "output_type": "stream",
          "text": [
            "The number 13 is odd.\n"
          ]
        }
      ],
      "source": [
        "a_number = 13\n",
        "\n",
        "if a_number % 2 == 0:\n",
        "    parity = 'even'\n",
        "else:\n",
        "    parity = 'odd'\n",
        "\n",
        "print('The number {} is {}.'.format(a_number, parity))"
      ]
    },
    {
      "cell_type": "markdown",
      "metadata": {
        "id": "9I-iRrRJBL6r"
      },
      "source": [
        "Python provides a shorter syntax, which allows writing such conditions in a in a single line of code. It is known as a *conditional expression*, sometimes also referred to as a *ternary operator*. It has the following syntax:\n",
        "\n",
        "```\n",
        "x = true_value if condition else false_value\n",
        "```\n",
        "\n",
        "It has the same behaviour as the following `if`-`else` block:\n",
        "\n",
        "```\n",
        "if condition:\n",
        "    x = true_value\n",
        "else:\n",
        "    x = false_value\n",
        "```\n",
        "\n",
        "Let's try it out for the example above."
      ]
    },
    {
      "cell_type": "code",
      "execution_count": null,
      "metadata": {
        "id": "-s0EB7a3BL6s"
      },
      "outputs": [],
      "source": [
        "parity = 'even' if a_number % 2 == 0 else 'odd'"
      ]
    },
    {
      "cell_type": "code",
      "execution_count": null,
      "metadata": {
        "colab": {
          "base_uri": "https://localhost:8080/"
        },
        "id": "G1KPkmHyBL6s",
        "outputId": "19c25516-015f-43be-b629-3ed173a4cedf"
      },
      "outputs": [
        {
          "name": "stdout",
          "output_type": "stream",
          "text": [
            "The number 13 is odd.\n"
          ]
        }
      ],
      "source": [
        "print('The number {} is {}.'.format(a_number, parity))"
      ]
    },
    {
      "cell_type": "markdown",
      "metadata": {
        "id": "3x88ElRBBL6t"
      },
      "source": [
        "### Statements and Expressions\n",
        "\n",
        "The conditional expression highlights an important distinction between *statements* and *expressions* in Python. \n",
        "\n",
        "> **Statements**: A statement is an instruction that can be executed. Every line of code we have written so far is a statement e.g. assigning a variable, calling a function, conditional statements using `if`, `else` and `elif`, loops using `for` and `while` etc.\n",
        "\n",
        "> **Expressions**: An expression is some code that evalutes to a value. Examples include values of different data types, arithmetic expressions, conditions, variables, function calls, conditional expressions etc. \n",
        "\n",
        "\n",
        "Most expressions can be executed as statements, but not all statements are expressions e.g. the `if` statement is not an expression since it does not evluate it a value, it simply performs some braching in the code. Similarly, loops and function definitions are not expressions (we'll learn more about these in later sections).\n",
        "\n",
        "As a rule of thumb, an expression is anything that can appear on the right side of the assignment operator `=`. You can use this as a test for checking whether something is an expression or not. You'll get a syntax error if you try to assign something that is not an expression."
      ]
    },
    {
      "cell_type": "code",
      "execution_count": null,
      "metadata": {
        "colab": {
          "base_uri": "https://localhost:8080/",
          "height": 135
        },
        "id": "-5mvtaXiBL6t",
        "outputId": "c08c06e4-ea85-4f28-85f1-924e93a55179"
      },
      "outputs": [
        {
          "ename": "SyntaxError",
          "evalue": "ignored",
          "output_type": "error",
          "traceback": [
            "\u001b[0;36m  File \u001b[0;32m\"<ipython-input-54-f24978c5423e>\"\u001b[0;36m, line \u001b[0;32m2\u001b[0m\n\u001b[0;31m    result = if a_number % 2 == 0:\u001b[0m\n\u001b[0m              ^\u001b[0m\n\u001b[0;31mSyntaxError\u001b[0m\u001b[0;31m:\u001b[0m invalid syntax\n"
          ]
        }
      ],
      "source": [
        "# if statement\n",
        "result = if a_number % 2 == 0: \n",
        "    'even'\n",
        "else:\n",
        "    'odd'"
      ]
    },
    {
      "cell_type": "code",
      "execution_count": null,
      "metadata": {
        "id": "ZMG-7k45BL6u"
      },
      "outputs": [],
      "source": [
        "# if expression\n",
        "result = 'even' if a_number % 2 == 0 else 'odd'"
      ]
    },
    {
      "cell_type": "markdown",
      "metadata": {
        "id": "f1yepz57BL6u"
      },
      "source": [
        "### The `pass` statement\n",
        "\n",
        "`if` statements cannot be empty, there must be at least one statement in every `if` and `elif` block. You can use the `pass` statement to do nothing and avoid getting an error."
      ]
    },
    {
      "cell_type": "code",
      "execution_count": null,
      "metadata": {
        "id": "KDs9weuFBL6v"
      },
      "outputs": [],
      "source": [
        "a_number = 9"
      ]
    },
    {
      "cell_type": "code",
      "execution_count": null,
      "metadata": {
        "colab": {
          "base_uri": "https://localhost:8080/",
          "height": 135
        },
        "id": "maniSFOWBL6w",
        "outputId": "1f0b099d-9990-49a0-dab3-bb95b62ef15b"
      },
      "outputs": [
        {
          "ename": "IndentationError",
          "evalue": "ignored",
          "output_type": "error",
          "traceback": [
            "\u001b[0;36m  File \u001b[0;32m\"<ipython-input-57-77268dd66617>\"\u001b[0;36m, line \u001b[0;32m2\u001b[0m\n\u001b[0;31m    elif a_number % 3 == 0:\u001b[0m\n\u001b[0m       ^\u001b[0m\n\u001b[0;31mIndentationError\u001b[0m\u001b[0;31m:\u001b[0m expected an indented block\n"
          ]
        }
      ],
      "source": [
        "if a_number % 2 == 0:\n",
        "elif a_number % 3 == 0:\n",
        "    print('{} is divisible by 3 but not divisible by 2')"
      ]
    },
    {
      "cell_type": "code",
      "execution_count": null,
      "metadata": {
        "colab": {
          "base_uri": "https://localhost:8080/"
        },
        "id": "8LzXrdVoBL6w",
        "outputId": "bb6dca14-4f8a-4a67-b2ba-36ae27bb5bd1"
      },
      "outputs": [
        {
          "name": "stdout",
          "output_type": "stream",
          "text": [
            "9 is divisible by 3 but not divisible by 2\n"
          ]
        }
      ],
      "source": [
        "if a_number % 2 == 0:\n",
        "    pass\n",
        "elif a_number % 3 == 0:\n",
        "    print('{} is divisible by 3 but not divisible by 2'.format(a_number))"
      ]
    },
    {
      "cell_type": "markdown",
      "metadata": {
        "id": "KUsRxDo-BL6z"
      },
      "source": [
        "## Iteration with `while` loops\n",
        "\n",
        "Another powerful feature of programming languages, closely related to branching, is the ability to run one or more statements multiple times. This feature is often referred to as *iteration* on *looping*, and there are two ways to do this in Python: using `while` loops and `for` loops. \n",
        "\n",
        "`while` loops have the following syntax:\n",
        "\n",
        "```\n",
        "while condition:\n",
        "    statement(s)\n",
        "```\n",
        "\n",
        "The statements in block under `while` are executed repeatedly as long as the `condition` evalutes to `True`. In most cases, the block of statements makes some change to a variable which causes the condition to evalute to `False` after a certain number of iterations.\n",
        "\n",
        "Let's try to calculate the factorial of `100` using a `while` loop, as an example. The factorial of a number `n` is defined as the product or multiplication of all the numbers from `1` to `n` i.e. `1*2*3*...*(n-2)*(n-1)*n`."
      ]
    },
    {
      "cell_type": "code",
      "execution_count": null,
      "metadata": {
        "colab": {
          "base_uri": "https://localhost:8080/"
        },
        "id": "6yGDI3c8BL60",
        "outputId": "ab0bd160-1bb6-44e2-81de-f39ff6258075"
      },
      "outputs": [
        {
          "name": "stdout",
          "output_type": "stream",
          "text": [
            "The factorial of 100 is: 93326215443944152681699238856266700490715968264381621468592963895217599993229915608941463976156518286253697920827223758251185210916864000000000000000000000000\n"
          ]
        }
      ],
      "source": [
        "result = 1\n",
        "i = 1\n",
        "\n",
        "while i <= 100:\n",
        "    result = result * i\n",
        "    i = i+1\n",
        "\n",
        "print('The factorial of 100 is: {}'.format(result))"
      ]
    },
    {
      "cell_type": "markdown",
      "metadata": {
        "id": "mum7bcjcBL60"
      },
      "source": [
        "Here's how the above code works:\n",
        "\n",
        "* We initialize two variables `result` and `i`. `result` will contain the final result of the computation. And `i` is used to keep track of the next number to be multiplied with `result`. Both are initialized to 1 (can you explain why?)\n",
        "\n",
        "* The condition `i<=100` holds true (since `i` is initially `1`), so the statements in the block below `while` are executed.\n",
        "\n",
        "* The `result` is updated to `result * i`, and `i` is increased by `1` and now has the value `2`.\n",
        "\n",
        "* At this point, condition `i<=100` is executed again, and since it continues to hold true, the `result` is once again updated to `result * i` and `i` is increased to `3`.\n",
        "\n",
        "* This process is repeated till the condition becomes false, which happens when `i` holds the value `101`. Once the condition evalues to `False`, the execution of the loop ends and the `print` statement below it is executed. \n",
        "\n",
        "Can you see why `result` holds the value of the factorial of 100 at the end of the loop? If not, try adding `print` statements inside inside the loop to print the values of `result` and `i` and the end of each loop.\n",
        "\n",
        "\n",
        "> Iteration is a really powerful technique because it gives computers a huge advantage over human beings in performing hundreds or millions of repetitive operations really fast. With just 4-5 lines of code, we were able to multiply 100 numbers almost instantly. What's even more interesting is that the same code can be used to multiply a thousand number (just change the condition to `i <= 1000`) in just a few seconds.\n",
        "\n",
        "You can check how long a cell takes to execute by adding the special *magic* command `%%time` at the top of a cell. Try checking how long it takes to compute the factorial of `100`, `1000`, `10000`, `100000` etc. "
      ]
    },
    {
      "cell_type": "code",
      "execution_count": null,
      "metadata": {
        "colab": {
          "base_uri": "https://localhost:8080/"
        },
        "id": "-E5VUDebBL61",
        "outputId": "b0de4b23-cd6c-4bc4-a05f-7f1a5dffbd94"
      },
      "outputs": [
        {
          "name": "stdout",
          "output_type": "stream",
          "text": [
            "402387260077093773543702433923003985719374864210714632543799910429938512398629020592044208486969404800479988610197196058631666872994808558901323829669944590997424504087073759918823627727188732519779505950995276120874975462497043601418278094646496291056393887437886487337119181045825783647849977012476632889835955735432513185323958463075557409114262417474349347553428646576611667797396668820291207379143853719588249808126867838374559731746136085379534524221586593201928090878297308431392844403281231558611036976801357304216168747609675871348312025478589320767169132448426236131412508780208000261683151027341827977704784635868170164365024153691398281264810213092761244896359928705114964975419909342221566832572080821333186116811553615836546984046708975602900950537616475847728421889679646244945160765353408198901385442487984959953319101723355556602139450399736280750137837615307127761926849034352625200015888535147331611702103968175921510907788019393178114194545257223865541461062892187960223838971476088506276862967146674697562911234082439208160153780889893964518263243671616762179168909779911903754031274622289988005195444414282012187361745992642956581746628302955570299024324153181617210465832036786906117260158783520751516284225540265170483304226143974286933061690897968482590125458327168226458066526769958652682272807075781391858178889652208164348344825993266043367660176999612831860788386150279465955131156552036093988180612138558600301435694527224206344631797460594682573103790084024432438465657245014402821885252470935190620929023136493273497565513958720559654228749774011413346962715422845862377387538230483865688976461927383814900140767310446640259899490222221765904339901886018566526485061799702356193897017860040811889729918311021171229845901641921068884387121855646124960798722908519296819372388642614839657382291123125024186649353143970137428531926649875337218940694281434118520158014123344828015051399694290153483077644569099073152433278288269864602789864321139083506217095002597389863554277196742822248757586765752344220207573630569498825087968928162753848863396909959826280956121450994871701244516461260379029309120889086942028510640182154399457156805941872748998094254742173582401063677404595741785160829230135358081840096996372524230560855903700624271243416909004153690105933983835777939410970027753472000000000000000000000000000000000000000000000000000000000000000000000000000000000000000000000000000000000000000000000000000000000000000000000000000000000000000000000000000000000000000000000000000000000000000000000000000000000000000000000000000000000\n",
            "CPU times: user 2.49 ms, sys: 0 ns, total: 2.49 ms\n",
            "Wall time: 5.39 ms\n"
          ]
        }
      ],
      "source": [
        "%%time\n",
        "\n",
        "result = 1\n",
        "i = 1\n",
        "\n",
        "while i <= 1000:\n",
        "    result *= i # same as result = result * i\n",
        "    i += 1 # same as i = i+1\n",
        "\n",
        "print(result)"
      ]
    },
    {
      "cell_type": "markdown",
      "metadata": {
        "id": "CiJaHslCBL62"
      },
      "source": [
        "Here's another example that uses two `while` loops to create an interesting pattern."
      ]
    },
    {
      "cell_type": "code",
      "execution_count": null,
      "metadata": {
        "colab": {
          "base_uri": "https://localhost:8080/"
        },
        "id": "43WZuRp2BL63",
        "outputId": "f6cb2459-bd51-4607-a057-33d41a561444"
      },
      "outputs": [
        {
          "name": "stdout",
          "output_type": "stream",
          "text": [
            "*\n",
            "**\n",
            "***\n",
            "****\n",
            "*****\n",
            "******\n",
            "*******\n",
            "********\n",
            "*********\n",
            "**********\n",
            "***********\n",
            "**********\n",
            "*********\n",
            "********\n",
            "*******\n",
            "******\n",
            "*****\n",
            "****\n",
            "***\n",
            "**\n",
            "*\n"
          ]
        }
      ],
      "source": [
        "line = '*'\n",
        "max_length = 10\n",
        "\n",
        "while len(line) <= max_length:\n",
        "    print(line)\n",
        "    line += \"*\"\n",
        "    \n",
        "while len(line) > 0:\n",
        "    print(line)\n",
        "    line = line[:-1]"
      ]
    },
    {
      "cell_type": "markdown",
      "metadata": {
        "id": "-rL4ROvTBL64"
      },
      "source": [
        "Can you see how the above example works? As an exercise, try printing the following pattern using a while loop (Hint: use string concatenation):\n",
        "\n",
        "```\n",
        "          *\n",
        "         **\n",
        "        ***\n",
        "       ****\n",
        "      *****\n",
        "     ******\n",
        "      *****\n",
        "       ****\n",
        "        ***\n",
        "         **\n",
        "          *\n",
        "```\n",
        "\n",
        "Here's another one, putting the two together:\n",
        "\n",
        "\n",
        "```\n",
        "          *\n",
        "         ***\n",
        "        *****\n",
        "       *******\n",
        "      *********\n",
        "     ***********\n",
        "      *********\n",
        "       *******\n",
        "        *****\n",
        "         ***\n",
        "          *\n",
        "```"
      ]
    },
    {
      "cell_type": "markdown",
      "source": [
        "###While Loop\n",
        "\n",
        "Unlike for loops, the precise number of iterations is unknown until the program has executed the set of instructions. Therefore, the specified piece of code runs itself till the condition statement is satisfied. Hence, considering this property, the other name of the while loop is “pre-tested loop.” However, the do-while loops work till the termination condition is satisfied.\n",
        "\n",
        "While loops work in the following manner, the control goes to the condition of the while loop then it checks whether the condition is true or not, if it is true it executes the block of code and then goes check the next iteration. Any statement with the same indentation spaces under the while is considered to be of the same block of code.\n",
        "\n",
        "![](https://drive.google.com/uc?export=view&id=163VVed0bE48nmKacGZosKyS6NGMJL8eT)"
      ],
      "metadata": {
        "id": "nI8SpiYSlMRq"
      }
    },
    {
      "cell_type": "code",
      "source": [
        "# A simple example for the while loop:\n",
        "\n",
        "i = 0\n",
        "while (i < 3):\n",
        "    i = i+1\n",
        "    print(\"Hello World!\")\n",
        "else:\n",
        "    print(\"Looping has finished\")"
      ],
      "metadata": {
        "colab": {
          "base_uri": "https://localhost:8080/"
        },
        "id": "k9zlDqzZ7UVU",
        "outputId": "32a08d6c-0e30-4c6c-ba4c-ca9b59b50d22"
      },
      "execution_count": null,
      "outputs": [
        {
          "output_type": "stream",
          "name": "stdout",
          "text": [
            "Hello World!\n",
            "Hello World!\n",
            "Hello World!\n",
            "Looping has finished\n"
          ]
        }
      ]
    },
    {
      "cell_type": "markdown",
      "metadata": {
        "id": "pjlDFzaXBL65"
      },
      "source": [
        "### Infinite Loops\n",
        "\n",
        "If the condition in a `while` loop always holds true, then Python repeatedly executes the code within the loop forever, and the execution of the code never completes. This situation is called an infinite loop, and it generally indicates that there's you've made a mistake in your code e.g. using the wrong condition or forgetting to update a variable with an loop which will ultimately make the condition false.\n",
        "\n",
        "If your code is *stuck* in an infinite loop during execution, just press the \"Stop\" button from the toolbar (next to \"Run\") or select \"Kernel > Interrupt\" from the Jupyter menu bar to stop or *interrupt* the execution of the code. The next 2 cells both lead to infinite loops, and need to be interrupted."
      ]
    },
    {
      "cell_type": "code",
      "execution_count": null,
      "metadata": {
        "id": "mQxkPnGkBL65"
      },
      "outputs": [],
      "source": [
        "# INFINITE LOOP - INTERRUPT THIS CELL\n",
        "\n",
        "result = 1\n",
        "i = 1\n",
        "\n",
        "while i <= 100:\n",
        "    result = result * i\n",
        "    # forgot to increment i"
      ]
    },
    {
      "cell_type": "code",
      "execution_count": null,
      "metadata": {
        "id": "J9y4OJowBL66"
      },
      "outputs": [],
      "source": [
        "# INFINITE LOOP - INTERRUPT THIS CELL\n",
        "\n",
        "result = 1\n",
        "i = 1\n",
        "\n",
        "while i > 0 : # wrong condition\n",
        "    result *= i\n",
        "    i += 1"
      ]
    },
    {
      "cell_type": "markdown",
      "metadata": {
        "id": "7m0zL-d3BL67"
      },
      "source": [
        "### `break` and `continue` statements\n",
        "\n",
        "You can use the `break` statment within the body of the loop to immediately stop the execution and *break* out of the loop (even if the condition provided to `while` still holds true)."
      ]
    },
    {
      "cell_type": "code",
      "execution_count": null,
      "metadata": {
        "colab": {
          "base_uri": "https://localhost:8080/"
        },
        "id": "4TCPL4veBL67",
        "outputId": "7fab2975-b184-474c-d59a-6820427ae2f2"
      },
      "outputs": [
        {
          "name": "stdout",
          "output_type": "stream",
          "text": [
            "Magic number 42 reached! Stopping execution..\n",
            "i: 42\n",
            "result: 1405006117752879898543142606244511569936384000000000\n"
          ]
        }
      ],
      "source": [
        "i = 1\n",
        "result = 1\n",
        "\n",
        "while i <= 100:\n",
        "    result *= i\n",
        "    if i == 42:\n",
        "        print('Magic number 42 reached! Stopping execution..')\n",
        "        break\n",
        "    i += 1\n",
        "    \n",
        "print('i:', i)\n",
        "print('result:', result)"
      ]
    },
    {
      "cell_type": "markdown",
      "metadata": {
        "id": "VYma3qC-BL68"
      },
      "source": [
        "As you can see above, the value of `i` at the end of execution is 42. This example also shows how you can use an `if` statement within a `while` loop.\n",
        "\n",
        "Sometimes you may not want to end the loop entirely, but simply skip the remaining statements in the loop and *continue* to the next loop. You can do this using the `continue` statement."
      ]
    },
    {
      "cell_type": "code",
      "execution_count": null,
      "metadata": {
        "colab": {
          "base_uri": "https://localhost:8080/"
        },
        "id": "TOpxgZVMBL68",
        "outputId": "23a2a63e-ffbd-4f5b-965f-0f20bb58a240"
      },
      "outputs": [
        {
          "name": "stdout",
          "output_type": "stream",
          "text": [
            "Skipping 2\n",
            "Multiplying with 3\n",
            "Skipping 4\n",
            "Multiplying with 5\n",
            "Skipping 6\n",
            "Multiplying with 7\n",
            "Skipping 8\n",
            "Multiplying with 9\n",
            "Skipping 10\n",
            "Multiplying with 11\n",
            "Skipping 12\n",
            "Multiplying with 13\n",
            "Skipping 14\n",
            "Multiplying with 15\n",
            "Skipping 16\n",
            "Multiplying with 17\n",
            "Skipping 18\n",
            "Multiplying with 19\n",
            "Skipping 20\n",
            "i: 20\n",
            "result: 654729075\n"
          ]
        }
      ],
      "source": [
        "i = 1\n",
        "result = 1\n",
        "\n",
        "while i < 20:\n",
        "    i += 1\n",
        "    if i % 2 == 0:\n",
        "        print('Skipping {}'.format(i))\n",
        "        continue\n",
        "    print('Multiplying with {}'.format(i))\n",
        "    result = result * i\n",
        "    \n",
        "print('i:', i)\n",
        "print('result:', result)"
      ]
    },
    {
      "cell_type": "markdown",
      "metadata": {
        "id": "ut_zOoQ4BL69"
      },
      "source": [
        "In the example above, the final statement of the loop `result = result * i` is skipped when `i` is even, as indicated by the messages printed during execution.\n",
        "\n",
        "> **Logging**: The process of adding `print` statements at different points in the code (often within loops and conditional statements) for inspecting the values of variables at various stages of execution is called logging. As our programs get more complex, they naturally become prone to human errors. Logging can help in verifying the the program is working as expected. In many cases, `print` statements are added while writing & testing some code, and are removed at the end."
      ]
    },
    {
      "cell_type": "markdown",
      "metadata": {
        "id": "YewqBhyoBL6-"
      },
      "source": [
        "## Iteration with `for` loops\n",
        "\n",
        "A `for` loop is used for iterating or looping over sequences i.e. lists, tuples, dictionaries, strings and *ranges*. For loops have the following syntax:\n",
        "\n",
        "```\n",
        "for value in sequence:\n",
        "    statement(s)\n",
        "```\n",
        "\n",
        "The statements within the loop are executed once for each element in `sequence`. Here's an example that prints all the element of a list."
      ]
    },
    {
      "cell_type": "code",
      "execution_count": null,
      "metadata": {
        "colab": {
          "base_uri": "https://localhost:8080/"
        },
        "id": "G-AtAYapBL6-",
        "outputId": "f2c64d15-e248-4282-d7e0-61e5c4a73dcc"
      },
      "outputs": [
        {
          "name": "stdout",
          "output_type": "stream",
          "text": [
            "Monday\n",
            "Tuesday\n",
            "Wednesday\n",
            "Thursday\n",
            "Friday\n"
          ]
        }
      ],
      "source": [
        "days = ['Monday', 'Tuesday', 'Wednesday', 'Thursday', 'Friday']\n",
        "\n",
        "for day in days:\n",
        "    print(day)"
      ]
    },
    {
      "cell_type": "markdown",
      "metadata": {
        "id": "BKKevAffBL6_"
      },
      "source": [
        "Let's try using `for` loops with some other data types."
      ]
    },
    {
      "cell_type": "code",
      "execution_count": null,
      "metadata": {
        "colab": {
          "base_uri": "https://localhost:8080/"
        },
        "id": "SVo31aGOBL7A",
        "outputId": "8fc6915e-d075-42e3-92a2-caaa56ebcce5"
      },
      "outputs": [
        {
          "name": "stdout",
          "output_type": "stream",
          "text": [
            "M\n",
            "o\n",
            "n\n",
            "d\n",
            "a\n",
            "y\n"
          ]
        }
      ],
      "source": [
        "# Looping over a string\n",
        "for char in 'Monday':\n",
        "    print(char)"
      ]
    },
    {
      "cell_type": "code",
      "execution_count": null,
      "metadata": {
        "colab": {
          "base_uri": "https://localhost:8080/"
        },
        "id": "ElXqtwYoBL7A",
        "outputId": "fad5657d-cb96-4222-f5e7-ce0c664845f7"
      },
      "outputs": [
        {
          "name": "stdout",
          "output_type": "stream",
          "text": [
            "Here's a fruit: Apple\n",
            "Here's a fruit: Banana\n",
            "Here's a fruit: Guava\n"
          ]
        }
      ],
      "source": [
        "# Looping over a tuple\n",
        "for fruit in ('Apple', 'Banana', 'Guava'):\n",
        "    print(\"Here's a fruit:\", fruit)"
      ]
    },
    {
      "cell_type": "code",
      "execution_count": null,
      "metadata": {
        "colab": {
          "base_uri": "https://localhost:8080/"
        },
        "id": "WjFvAwnUBL7B",
        "outputId": "a9d48023-e994-4c88-f215-9e844ddb3e7e"
      },
      "outputs": [
        {
          "name": "stdout",
          "output_type": "stream",
          "text": [
            "Key: name , Value: John Doe\n",
            "Key: sex , Value: Male\n",
            "Key: age , Value: 32\n",
            "Key: married , Value: True\n"
          ]
        }
      ],
      "source": [
        "# Looping over a dictionary\n",
        "person = {\n",
        "    'name': 'John Doe',\n",
        "    'sex': 'Male',\n",
        "    'age': 32,\n",
        "    'married': True\n",
        "}\n",
        "\n",
        "for key in person:\n",
        "    print(\"Key:\", key, \",\", \"Value:\", person[key])"
      ]
    },
    {
      "cell_type": "markdown",
      "metadata": {
        "id": "bGKgFEbYBL7C"
      },
      "source": [
        "Note that while using a dictionary with a `for` loop, the iteration happens over keys within the dictionary. The key can be used within the loop to access the value. You can also iterate directly over the values using the `.values` method of the dictionary, or over key-value pairs using the `.items` method."
      ]
    },
    {
      "cell_type": "code",
      "execution_count": null,
      "metadata": {
        "colab": {
          "base_uri": "https://localhost:8080/"
        },
        "id": "Ca3OP8qJBL7C",
        "outputId": "7b2e5f0d-1cbd-4a82-98cd-cdc114fdc601"
      },
      "outputs": [
        {
          "name": "stdout",
          "output_type": "stream",
          "text": [
            "John Doe\n",
            "Male\n",
            "32\n",
            "True\n"
          ]
        }
      ],
      "source": [
        "for value in person.values():\n",
        "    print(value)"
      ]
    },
    {
      "cell_type": "code",
      "execution_count": null,
      "metadata": {
        "colab": {
          "base_uri": "https://localhost:8080/"
        },
        "id": "C-mgIATIBL7C",
        "outputId": "6f0b6d6d-5860-47e3-8843-30bd6fac5e9d"
      },
      "outputs": [
        {
          "name": "stdout",
          "output_type": "stream",
          "text": [
            "('name', 'John Doe')\n",
            "('sex', 'Male')\n",
            "('age', 32)\n",
            "('married', True)\n"
          ]
        }
      ],
      "source": [
        "for key_value_pair in person.items():\n",
        "    print(key_value_pair)"
      ]
    },
    {
      "cell_type": "markdown",
      "metadata": {
        "id": "W3qA9AHFBL7D"
      },
      "source": [
        "Since a key-value pair is a tuple, we can also extract out the key & value into separate variables."
      ]
    },
    {
      "cell_type": "code",
      "execution_count": null,
      "metadata": {
        "colab": {
          "base_uri": "https://localhost:8080/"
        },
        "id": "D1Wyg4h-BL7D",
        "outputId": "57a81af1-a73e-45e8-f73e-51db6dca38c6"
      },
      "outputs": [
        {
          "name": "stdout",
          "output_type": "stream",
          "text": [
            "Key: name , Value: John Doe\n",
            "Key: sex , Value: Male\n",
            "Key: age , Value: 32\n",
            "Key: married , Value: True\n"
          ]
        }
      ],
      "source": [
        "for key, value in person.items():\n",
        "    print(\"Key:\", key, \",\", \"Value:\", value)"
      ]
    },
    {
      "cell_type": "markdown",
      "metadata": {
        "id": "rtzLqZhFBL7E"
      },
      "source": [
        "### Iterating using `range` and `enumerate`\n",
        "\n",
        "The `range` function is used to create a sequence of numbers that can be iterated over using a `for` loop. It can be used in 3 ways:\n",
        " \n",
        "* `range(n)` - Creates a sequence of numbers from `0` to `n-1`\n",
        "* `range(a, b)` - Creates a sequence of numbers from `a` to `b-1`\n",
        "* `range(a, b, step)` - Creates a sequence of numbers from `a` to `b-1` with increments of `step`\n",
        "\n",
        "Let's try it out."
      ]
    },
    {
      "cell_type": "code",
      "execution_count": null,
      "metadata": {
        "colab": {
          "base_uri": "https://localhost:8080/"
        },
        "id": "QSn9dzvMBL7E",
        "outputId": "be85fffa-a46d-4479-8585-ed9126998b11"
      },
      "outputs": [
        {
          "name": "stdout",
          "output_type": "stream",
          "text": [
            "0\n",
            "1\n",
            "2\n",
            "3\n",
            "4\n",
            "5\n",
            "6\n"
          ]
        }
      ],
      "source": [
        "for i in range(7):\n",
        "    print(i)"
      ]
    },
    {
      "cell_type": "code",
      "execution_count": null,
      "metadata": {
        "colab": {
          "base_uri": "https://localhost:8080/"
        },
        "id": "rFpfaX8PBL7F",
        "outputId": "2058bb20-0ddf-4b8f-e43c-87806a8074a4"
      },
      "outputs": [
        {
          "name": "stdout",
          "output_type": "stream",
          "text": [
            "3\n",
            "4\n",
            "5\n",
            "6\n",
            "7\n",
            "8\n",
            "9\n"
          ]
        }
      ],
      "source": [
        "for i in range(3, 10):\n",
        "    print(i)"
      ]
    },
    {
      "cell_type": "code",
      "execution_count": null,
      "metadata": {
        "colab": {
          "base_uri": "https://localhost:8080/"
        },
        "id": "dgU7CY-aBL7G",
        "outputId": "2ef51c0a-de21-4a58-d4a9-db843e3a100a"
      },
      "outputs": [
        {
          "name": "stdout",
          "output_type": "stream",
          "text": [
            "3\n",
            "7\n",
            "11\n"
          ]
        }
      ],
      "source": [
        "for i in range(3, 14, 4):\n",
        "    print(i)"
      ]
    },
    {
      "cell_type": "markdown",
      "metadata": {
        "id": "dBx3A-krBL7G"
      },
      "source": [
        "Ranges are used for iterating over lists, when you need to track the index of elements while iterating."
      ]
    },
    {
      "cell_type": "code",
      "execution_count": null,
      "metadata": {
        "colab": {
          "base_uri": "https://localhost:8080/"
        },
        "id": "MhnsIAFaBL7H",
        "outputId": "67279e1b-945d-4219-ea91-94bf124dec80",
        "scrolled": true
      },
      "outputs": [
        {
          "name": "stdout",
          "output_type": "stream",
          "text": [
            "The value at position 0 is Monday.\n",
            "The value at position 1 is Tuesday.\n",
            "The value at position 2 is Wednesday.\n",
            "The value at position 3 is Thursday.\n",
            "The value at position 4 is Friday.\n"
          ]
        }
      ],
      "source": [
        "a_list = ['Monday', 'Tuesday', 'Wednesday', 'Thursday', 'Friday']\n",
        "\n",
        "for i in range(len(a_list)):\n",
        "    print('The value at position {} is {}.'.format(i, a_list[i]))"
      ]
    },
    {
      "cell_type": "markdown",
      "metadata": {
        "id": "vhR4PvN5BL7I"
      },
      "source": [
        "Another way to achieve the same result as above is using the `enumerate` function with `a_list` as an input, which returns a tuple containing the index and the corresponding element."
      ]
    },
    {
      "cell_type": "code",
      "execution_count": null,
      "metadata": {
        "colab": {
          "base_uri": "https://localhost:8080/"
        },
        "id": "RP3ocjqUBL7J",
        "outputId": "9bb728cc-0e1e-4bd4-cf1d-1686398d984b"
      },
      "outputs": [
        {
          "name": "stdout",
          "output_type": "stream",
          "text": [
            "The value at position 0 is Monday.\n",
            "The value at position 1 is Tuesday.\n",
            "The value at position 2 is Wednesday.\n",
            "The value at position 3 is Thursday.\n",
            "The value at position 4 is Friday.\n"
          ]
        }
      ],
      "source": [
        "for i, val in enumerate(a_list):\n",
        "    print('The value at position {} is {}.'.format(i, val))"
      ]
    },
    {
      "cell_type": "markdown",
      "metadata": {
        "id": "9gv-mm7qBL7J"
      },
      "source": [
        "### `break`, `continue` and `pass` statements\n",
        "\n",
        "Similar to `while` loops, `for` loops also support the `break` statement for breaking out of the loop and `continue` for skipping ahead to the next iteration."
      ]
    },
    {
      "cell_type": "code",
      "execution_count": null,
      "metadata": {
        "id": "st5o3QmvBL7K"
      },
      "outputs": [],
      "source": [
        "weekdays = ['Monday', 'Tuesday', 'Wednesday', 'Thursday', 'Friday']"
      ]
    },
    {
      "cell_type": "code",
      "execution_count": null,
      "metadata": {
        "colab": {
          "base_uri": "https://localhost:8080/"
        },
        "id": "nSeZY12cBL7K",
        "outputId": "6a3ffd06-a3d4-4e5e-e557-2fcdffd293ad"
      },
      "outputs": [
        {
          "name": "stdout",
          "output_type": "stream",
          "text": [
            "Today is Monday\n",
            "Today is Tuesday\n",
            "Today is Wednesday\n",
            "I don't work beyond Wednesday!\n"
          ]
        }
      ],
      "source": [
        "for day in weekdays:\n",
        "    print('Today is {}'.format(day))\n",
        "    if (day == 'Wednesday'):\n",
        "        print(\"I don't work beyond Wednesday!\")\n",
        "        break"
      ]
    },
    {
      "cell_type": "code",
      "execution_count": null,
      "metadata": {
        "colab": {
          "base_uri": "https://localhost:8080/"
        },
        "id": "6SuXiPiDBL7L",
        "outputId": "019cc482-0a51-4470-d9b9-02eb9a2c0bda"
      },
      "outputs": [
        {
          "name": "stdout",
          "output_type": "stream",
          "text": [
            "Today is Monday\n",
            "Today is Tuesday\n",
            "I don't work on Wednesday!\n",
            "Today is Thursday\n",
            "Today is Friday\n"
          ]
        }
      ],
      "source": [
        "for day in weekdays:\n",
        "    if (day == 'Wednesday'):\n",
        "        print(\"I don't work on Wednesday!\")\n",
        "        continue\n",
        "    print('Today is {}'.format(day))"
      ]
    },
    {
      "cell_type": "markdown",
      "metadata": {
        "id": "mU0xFtT4BL7L"
      },
      "source": [
        "Simlar to `if` statements, `for` loops cannot be empty, so you can use a `pass` statement in case you don't want do execute any statements inside the loop."
      ]
    },
    {
      "cell_type": "code",
      "execution_count": null,
      "metadata": {
        "id": "D9qHHInyBL7N"
      },
      "outputs": [],
      "source": [
        "for day in weekdays:\n",
        "    pass"
      ]
    },
    {
      "cell_type": "markdown",
      "metadata": {
        "id": "hBxlPOs3BL7N"
      },
      "source": [
        "### Nested `for` and `while` loops\n",
        "\n",
        "Similar to conditional statements, loops can be nested inside other loops. This is useful for looping over each element in a list of lists, a list of dictionaries etc."
      ]
    },
    {
      "cell_type": "markdown",
      "source": [
        "![](https://drive.google.com/uc?export=view&id=1pg02UTbHTDjXxyJdcA48xncmRYzHjdz8)"
      ],
      "metadata": {
        "id": "6wEhtYF6O8qX"
      }
    },
    {
      "cell_type": "code",
      "execution_count": null,
      "metadata": {
        "colab": {
          "base_uri": "https://localhost:8080/"
        },
        "id": "wvZZdaVxBL7O",
        "outputId": "87079974-ec5f-416f-f00d-c54b9878e3db"
      },
      "outputs": [
        {
          "name": "stdout",
          "output_type": "stream",
          "text": [
            "name : John\n",
            "sex : Male\n",
            " \n",
            "name : Jane\n",
            "sex : Female\n",
            " \n"
          ]
        }
      ],
      "source": [
        "persons = [{'name': 'John', 'sex': 'Male'}, {'name': 'Jane', 'sex': 'Female'}]\n",
        "\n",
        "for person in persons:\n",
        "    for key in person:\n",
        "        print(key, \":\", person[key])\n",
        "    print(\" \")"
      ]
    },
    {
      "cell_type": "code",
      "execution_count": null,
      "metadata": {
        "colab": {
          "base_uri": "https://localhost:8080/"
        },
        "id": "dUPuk8WTBL7P",
        "outputId": "999a45b6-460b-4efd-d64b-19d99a0482dd"
      },
      "outputs": [
        {
          "name": "stdout",
          "output_type": "stream",
          "text": [
            "Monday apple\n",
            "Monday banana\n",
            "Monday guava\n",
            "Tuesday apple\n",
            "Tuesday banana\n",
            "Tuesday guava\n",
            "Wednesday apple\n",
            "Wednesday banana\n",
            "Wednesday guava\n"
          ]
        }
      ],
      "source": [
        "days = ['Monday', 'Tuesday', 'Wednesday']\n",
        "fruits = ['apple', 'banana', 'guava']\n",
        "\n",
        "for day in days:\n",
        "    for fruit in fruits:\n",
        "        print(day, fruit)"
      ]
    },
    {
      "cell_type": "markdown",
      "source": [
        "#Control Statements\n",
        "\n",
        "The purpose of using control statements is to clarify the control flow of the program. These statements help determine the possible execution or non-execution of certain statements. These statements allow the program to perform an action, skip the code statements, or even jump from one code section to the other. It all depends on the satisfied conditions applied to them."
      ],
      "metadata": {
        "id": "QVqD2j_cligj"
      }
    },
    {
      "cell_type": "markdown",
      "source": [
        "##The *break* Statement: \n",
        "\n",
        "The loop keeps executing until a certain condition is satisfied and the break statement is inserted then the loop is terminated and control flows to the next block of code.\n"
      ],
      "metadata": {
        "id": "XgLxSMOZlld7"
      }
    },
    {
      "cell_type": "code",
      "source": [
        "# A simple example for the break statement:\n",
        "\n",
        "i = 1\n",
        "while i > 0:\n",
        " \n",
        "    if i == 3:\n",
        " \n",
        "        break\n",
        "    print(i)\n",
        "    i = i +1\n",
        "print(\"break\")\n"
      ],
      "metadata": {
        "colab": {
          "base_uri": "https://localhost:8080/"
        },
        "id": "ia3tMw_U9bIr",
        "outputId": "d95e9ec1-426b-4fcc-a374-f3cd40cb27fd"
      },
      "execution_count": null,
      "outputs": [
        {
          "output_type": "stream",
          "name": "stdout",
          "text": [
            "1\n",
            "2\n",
            "break\n"
          ]
        }
      ]
    },
    {
      "cell_type": "markdown",
      "source": [
        "##The *continue* Statement: \n",
        "\n",
        "The loop keeps running until the desired condition is satisfied therefore the loop skip the current iteration and then continue the loop."
      ],
      "metadata": {
        "id": "LosvrN2Jlq0N"
      }
    },
    {
      "cell_type": "code",
      "source": [
        "# A simple example for the continue statement:\n",
        "\n",
        "i = 5\n",
        "while i > 0:\n",
        " \n",
        "    i = i - 1\n",
        "    if i == 2:\n",
        "         continue\n",
        "    print(i)\n",
        " \n",
        "print(\"continue\")"
      ],
      "metadata": {
        "colab": {
          "base_uri": "https://localhost:8080/"
        },
        "id": "dIar3Ckh-Mnp",
        "outputId": "72062882-f144-489e-9ab5-69117b9f5085"
      },
      "execution_count": null,
      "outputs": [
        {
          "output_type": "stream",
          "name": "stdout",
          "text": [
            "4\n",
            "3\n",
            "1\n",
            "0\n",
            "continue\n"
          ]
        }
      ]
    },
    {
      "cell_type": "markdown",
      "source": [
        "##*for* Loop\n",
        "\n",
        "For loops are mainly used to iterate over sequential input (list, array, string). As long as the iterator is in the range of the sequence, the for loop will keep executing the statements within it. The scenario where there is a clarification regarding the number of iterations required in the loop, for loop proves helpful. It is beneficial to combine a set of instructions and execute them till all the conditions completely satisfy. \n",
        "\n",
        "![](https://drive.google.com/uc?export=view&id=1JOQCehKkWhXPFskjieoD0u5uhZ5dhtE-)"
      ],
      "metadata": {
        "id": "tZi2Neb9lubj"
      }
    },
    {
      "cell_type": "code",
      "source": [
        "# A Simple example on for loop:\n",
        " \n",
        "x = [\"Germany\", \"USA\", \"France\"]\n",
        " \n",
        "for i in x:\n",
        "     \n",
        "    print(i)"
      ],
      "metadata": {
        "colab": {
          "base_uri": "https://localhost:8080/"
        },
        "id": "3lqwyJ80CZU3",
        "outputId": "a873a015-e70b-4f94-aefa-387f4e383eea"
      },
      "execution_count": null,
      "outputs": [
        {
          "output_type": "stream",
          "name": "stdout",
          "text": [
            "Germany\n",
            "USA\n",
            "France\n"
          ]
        }
      ]
    },
    {
      "cell_type": "markdown",
      "source": [
        "#Nested Loops as Control Statement\n",
        "\n",
        "The nested for loops act in the following manner, the inner loop makes its full iteration for each iteration of the outer problem. And that can be applied for n-numbers of nested loops. \n",
        "\n"
      ],
      "metadata": {
        "id": "7gtGbHfzjHr4"
      }
    },
    {
      "cell_type": "code",
      "source": [
        "# A Simple example for Nested Loops as Control Statement\n",
        "\n",
        "colors  = [\"Green\", \"Blue\", \"Red\"]\n",
        "objects = [\"Mint \", \"Water\", \"Rose\"]\n",
        "for x in colors:\n",
        "  for y in objects:\n",
        "    print(x, y)"
      ],
      "metadata": {
        "colab": {
          "base_uri": "https://localhost:8080/"
        },
        "id": "Z6qgVSrWDTMx",
        "outputId": "f68a5218-cb4e-4f51-8f1d-24f045e7f4dd"
      },
      "execution_count": null,
      "outputs": [
        {
          "output_type": "stream",
          "name": "stdout",
          "text": [
            "Green Mint \n",
            "Green Water\n",
            "Green Rose\n",
            "Blue Mint \n",
            "Blue Water\n",
            "Blue Rose\n",
            "Red Mint \n",
            "Red Water\n",
            "Red Rose\n"
          ]
        }
      ]
    },
    {
      "cell_type": "markdown",
      "source": [
        "#Exercises on Loops"
      ],
      "metadata": {
        "id": "d23EXFSlmowC"
      }
    },
    {
      "cell_type": "markdown",
      "source": [
        "######**QUES-1 Factorial**\n",
        "\n",
        "Program to find Factorial of a number"
      ],
      "metadata": {
        "id": "ZJiMJpANnj9K"
      }
    },
    {
      "cell_type": "code",
      "execution_count": null,
      "metadata": {
        "colab": {
          "base_uri": "https://localhost:8080/"
        },
        "id": "ZC4BPN4WXy_A",
        "outputId": "d026e00e-a52c-40e8-9670-05c1273fb8a6"
      },
      "outputs": [
        {
          "output_type": "stream",
          "name": "stdout",
          "text": [
            "Please enter a number 5\n",
            "Factorial is 120\n"
          ]
        }
      ],
      "source": [
        "\n",
        "\n",
        "num=int(input(\"Please enter a number \"))\n",
        "\n",
        "if num <= 0:\n",
        "  print(\"Please enter a number greater than or equal to 1\")\n",
        "\n",
        "else:\n",
        "  factorial= 1\n",
        "  while(num):\n",
        "    factorial= factorial*num\n",
        "    num=num-1\n",
        "  print(\"Factorial is {0}\".format(factorial))\n"
      ]
    },
    {
      "cell_type": "markdown",
      "source": [
        "######**QUES-2 Requirement By Condition**\n",
        "\n",
        "Program to find those numbers which are divisible by 7 and multiple of 5, between 2000 and 3700 (both included)"
      ],
      "metadata": {
        "id": "yHb4aZyLnxEM"
      }
    },
    {
      "cell_type": "code",
      "source": [
        "\n",
        "\n",
        "n=[]\n",
        "for x in range(2000, 3701):\n",
        "    if (x%7==0) and (x%5==0):\n",
        "        n.append(str(x))\n",
        "print (','.join(n))\n",
        "\n",
        "\n"
      ],
      "metadata": {
        "colab": {
          "base_uri": "https://localhost:8080/"
        },
        "id": "oqEQTZAcbHlw",
        "outputId": "e9a32fb2-2a14-4e6c-a4f2-242768b4b68d"
      },
      "execution_count": null,
      "outputs": [
        {
          "output_type": "stream",
          "name": "stdout",
          "text": [
            "2030,2065,2100,2135,2170,2205,2240,2275,2310,2345,2380,2415,2450,2485,2520,2555,2590,2625,2660,2695,2730,2765,2800,2835,2870,2905,2940,2975,3010,3045,3080,3115,3150,3185,3220,3255,3290,3325,3360,3395,3430,3465,3500,3535,3570,3605,3640,3675\n"
          ]
        }
      ]
    },
    {
      "cell_type": "markdown",
      "source": [
        "######**QUES-3 Operations on Series**\n",
        "\n",
        "Program to count the number of even and odd numbers from a series of numbers."
      ],
      "metadata": {
        "id": "OBEZ7UFjnxk9"
      }
    },
    {
      "cell_type": "code",
      "source": [
        "\n",
        "\n",
        "numbers = (1, 2, 3, 4, 5, 6, 7, 8, 9)\n",
        "odd = 0\n",
        "even = 0\n",
        "for x in numbers:\n",
        "        if not x % 2:\n",
        "    \t     even+=1\n",
        "        else:\n",
        "    \t    odd+=1\n",
        "print(\"Number of even numbers :\",even)\n",
        "print(\"Number of odd numbers :\",odd)\n",
        "\n"
      ],
      "metadata": {
        "colab": {
          "base_uri": "https://localhost:8080/"
        },
        "id": "GM4IdIT_b2Et",
        "outputId": "4ab10b1e-90ea-40c1-869b-6ee664b7c84b"
      },
      "execution_count": null,
      "outputs": [
        {
          "output_type": "stream",
          "name": "stdout",
          "text": [
            "Number of even numbers : 4\n",
            "Number of odd numbers : 5\n"
          ]
        }
      ]
    },
    {
      "cell_type": "markdown",
      "source": [
        "######**QUES-4 Fibonacci Series**\n",
        "\n",
        "Program to get the Fibonacci series between 0 to 50."
      ],
      "metadata": {
        "id": "QJpOGV37nyHT"
      }
    },
    {
      "cell_type": "code",
      "source": [
        "\n",
        "\n",
        "x,y=0,1\n",
        "\n",
        "while y<50:\n",
        "    print(y)\n",
        "    x,y = y,x+y\n",
        "\t"
      ],
      "metadata": {
        "colab": {
          "base_uri": "https://localhost:8080/"
        },
        "id": "4Cw-hwPzcpz6",
        "outputId": "29de1b06-48a9-4b72-dd46-5eab9c9f1b91"
      },
      "execution_count": null,
      "outputs": [
        {
          "output_type": "stream",
          "name": "stdout",
          "text": [
            "1\n",
            "1\n",
            "2\n",
            "3\n",
            "5\n",
            "8\n",
            "13\n",
            "21\n",
            "34\n"
          ]
        }
      ]
    },
    {
      "cell_type": "markdown",
      "source": [
        "######**QUES-5 Checking Validity**\n",
        "\n",
        "Write a Python program to check the validity of a password. (Use the validity sheet below for the conditions)\n",
        "> **Note:** Input should be taken from the user."
      ],
      "metadata": {
        "id": "WXxKhkWsny0A"
      }
    },
    {
      "cell_type": "markdown",
      "source": [
        "```\n",
        "Validation :\n",
        "\n",
        "At least 1 letter between [a-z] and 1 letter between [A-Z].\n",
        "At least 1 number between [0-9].\n",
        "At least 1 character from [$#@].\n",
        "Minimum length 6 characters.\n",
        "Maximum length 16 characters.\n",
        "```"
      ],
      "metadata": {
        "id": "J7mq0Kc4pbm0"
      }
    },
    {
      "cell_type": "code",
      "source": [
        "\n",
        "\n",
        "import re\n",
        "p= input(\"Input your password\")\n",
        "x = True\n",
        "while x:  \n",
        "    if (len(p)<6 or len(p)>12):\n",
        "        break\n",
        "    elif not re.search(\"[a-z]\",p):\n",
        "        break\n",
        "    elif not re.search(\"[0-9]\",p):\n",
        "        break\n",
        "    elif not re.search(\"[A-Z]\",p):\n",
        "        break\n",
        "    elif not re.search(\"[$#@]\",p):\n",
        "        break\n",
        "    elif re.search(\"\\s\",p):\n",
        "        break\n",
        "    else:\n",
        "        print(\"Valid Password\")\n",
        "        x=False\n",
        "        break\n",
        "\n",
        "if x:\n",
        "    print(\"Not a Valid Password\")\n"
      ],
      "metadata": {
        "colab": {
          "base_uri": "https://localhost:8080/"
        },
        "id": "TpeCDMPpc0Jf",
        "outputId": "cebed041-8194-4a28-dd63-59ca57d0408b"
      },
      "execution_count": null,
      "outputs": [
        {
          "output_type": "stream",
          "name": "stdout",
          "text": [
            "Input your password1234@Python\n",
            "Valid Password\n"
          ]
        }
      ]
    },
    {
      "cell_type": "markdown",
      "source": [
        "######**QUES-6 Age Calculation**\n",
        "\n",
        "Program to calculate a dog's age in dog's years. If for the first two years, a dog year is equal to 10.5 human years. After that, each dog year equals 4 human years."
      ],
      "metadata": {
        "id": "24sUf-6enzSv"
      }
    },
    {
      "cell_type": "code",
      "source": [
        "\n",
        "\n",
        "human_age = int(input(\"Input a dog's age in human years: \"))\n",
        "\n",
        "if human_age < 0:\n",
        "\tprint(\"Age must be positive number.\")\n",
        "\texit()\n",
        "elif human_age <= 2:\n",
        "\tdog_age = human_age * 10.5\n",
        "else:\n",
        "\tdog_age = 21 + (human_age - 2)*4\n",
        "\n",
        "print(\"The dog's age in dog's years is\", dog_age)\n"
      ],
      "metadata": {
        "colab": {
          "base_uri": "https://localhost:8080/"
        },
        "id": "u6SYXT18d1QS",
        "outputId": "995233e0-8815-4e81-e2cd-f76086db1276"
      },
      "execution_count": null,
      "outputs": [
        {
          "output_type": "stream",
          "name": "stdout",
          "text": [
            "Input a dog's age in human years: 12\n",
            "The dog's age in dog's years is 61\n"
          ]
        }
      ]
    },
    {
      "cell_type": "markdown",
      "source": [
        "######**QUES-7 Printing Multiples**\n",
        "\n",
        "Program to print the table of the given number."
      ],
      "metadata": {
        "id": "Q4_JaXIgnz-u"
      }
    },
    {
      "cell_type": "code",
      "source": [
        "\n",
        "list = [1,2,3,4,5,6,7,8,9,10]  \n",
        "n = 7  \n",
        "for i in list:  \n",
        "    c = n*i  \n",
        "    print(c)  "
      ],
      "metadata": {
        "colab": {
          "base_uri": "https://localhost:8080/"
        },
        "id": "ApTeabE7eYU4",
        "outputId": "73fe2c08-4afd-4b8f-e22c-c751f57f3a7b"
      },
      "execution_count": null,
      "outputs": [
        {
          "output_type": "stream",
          "name": "stdout",
          "text": [
            "7\n",
            "14\n",
            "21\n",
            "28\n",
            "35\n",
            "42\n",
            "49\n",
            "56\n",
            "63\n",
            "70\n"
          ]
        }
      ]
    },
    {
      "cell_type": "markdown",
      "source": [
        "######**QUES-8 Range Function**\n",
        "\n",
        "Try performing the task mentioned in 1st Question with the use of Range Function."
      ],
      "metadata": {
        "id": "IxFsltR6n0hy"
      }
    },
    {
      "cell_type": "code",
      "source": [
        "\n",
        "\n",
        "n = int(input(\"Enter the number \"))  \n",
        "for i in range(1,11):  \n",
        "    c = n*i  \n",
        "    print(c)  "
      ],
      "metadata": {
        "colab": {
          "base_uri": "https://localhost:8080/"
        },
        "id": "-8d9qxqDe1KD",
        "outputId": "9fd2cd09-50f8-4a4e-8a43-94378d8891cc"
      },
      "execution_count": null,
      "outputs": [
        {
          "output_type": "stream",
          "name": "stdout",
          "text": [
            "Enter the number 7\n",
            "7\n",
            "14\n",
            "21\n",
            "28\n",
            "35\n",
            "42\n",
            "49\n",
            "56\n",
            "63\n",
            "70\n"
          ]
        }
      ]
    },
    {
      "cell_type": "markdown",
      "source": [
        "######**QUES-9 Number Pyramid**\n",
        "\n",
        "Take input from the user asking number of rows forming a number pyramid on the given number input."
      ],
      "metadata": {
        "id": "mjCy-JmTn1DU"
      }
    },
    {
      "cell_type": "code",
      "source": [
        "\n",
        "rows = int(input(\"Enter the rows\"))  \n",
        "for i in range(0,rows+1):  \n",
        "    for j in range(i):  \n",
        "        print(i,end = '')  \n",
        "    print()  "
      ],
      "metadata": {
        "colab": {
          "base_uri": "https://localhost:8080/"
        },
        "id": "z8OHUiWxfHrg",
        "outputId": "bc4ba474-6197-48e8-bbfe-7d0d85f9dd47"
      },
      "execution_count": null,
      "outputs": [
        {
          "output_type": "stream",
          "name": "stdout",
          "text": [
            "Enter the rows7\n",
            "\n",
            "1\n",
            "22\n",
            "333\n",
            "4444\n",
            "55555\n",
            "666666\n",
            "7777777\n"
          ]
        }
      ]
    },
    {
      "cell_type": "markdown",
      "source": [
        "######**QUES-10 Digits in a Number**\n",
        "Write a program to count the total number of digits in a number using a while loop."
      ],
      "metadata": {
        "id": "entI8W6Hn1d0"
      }
    },
    {
      "cell_type": "code",
      "source": [
        "\n",
        "\n",
        "num = 1863475869\n",
        "count = 0\n",
        "while num != 0:\n",
        "    num = num // 10\n",
        "\n",
        "    count = count + 1\n",
        "print(\"Total digits are:\", count)"
      ],
      "metadata": {
        "colab": {
          "base_uri": "https://localhost:8080/"
        },
        "id": "Xxl7CDozfQnE",
        "outputId": "bc79358c-1dbe-43ed-e50f-3aa83df6b055"
      },
      "execution_count": null,
      "outputs": [
        {
          "output_type": "stream",
          "name": "stdout",
          "text": [
            "Total digits are: 10\n"
          ]
        }
      ]
    },
    {
      "cell_type": "markdown",
      "source": [
        "######**QUES-11 Number to Alphabets**\n",
        "Write a program to display the number names of the digits of a number entered by user, for example if the number is 231 then output should be Two Three One"
      ],
      "metadata": {
        "id": "0VR5TNbVn17Y"
      }
    },
    {
      "cell_type": "code",
      "source": [
        "\n",
        "\n",
        "num1 = input(\"Enter any number : \")\n",
        "L1 = list(num1)\n",
        "L = len(L1)\n",
        "i=0\n",
        "n = {0 : \"Zero\", 1 : \"One\", 2 : \"Two\", 3 : \"Three\", 4 : \"Four\", 5 : \"Five\", 6 : \"Six\", 7 : \"Seven\", 8 : \"Eight\", 9 : \"Nine\"}\n",
        "while (i < L):\n",
        "    print(n[int(L1[i])], end = \" \")\n",
        "    i = i + 1\n"
      ],
      "metadata": {
        "colab": {
          "base_uri": "https://localhost:8080/"
        },
        "id": "jN-ZmXrvFGul",
        "outputId": "7b042567-d6a8-4493-c1dc-3c43e839aa29"
      },
      "execution_count": null,
      "outputs": [
        {
          "output_type": "stream",
          "name": "stdout",
          "text": [
            "Enter any number : 1234\n",
            "One Two Three Four "
          ]
        }
      ]
    },
    {
      "cell_type": "markdown",
      "source": [
        "######**QUES-12 Armstrong**\n",
        "Write a program to check whether a number is Armstrong or not. \n",
        "> Armstrong number is a number that is equal to the sum of cubes of its digits for example,\n",
        "153 = $1^3$ + $5^3$ + $3^3$ "
      ],
      "metadata": {
        "id": "66xCDWctn2VC"
      }
    },
    {
      "cell_type": "code",
      "source": [
        "\n",
        "\n",
        "num1 = input(\"Enter any number : \")\n",
        "p=0\n",
        "L = len(num1)\n",
        "L1 = list(num1)\n",
        "i = 0\n",
        "while(i < L):\n",
        "   p = p + int(L1[i])**3\n",
        "   i = i + 1\n",
        "if int(num1) == p:\n",
        "    print(\"Number is Armstrong\")\n",
        "else:\n",
        "   print(\"Number is not Armstrong\")"
      ],
      "metadata": {
        "colab": {
          "base_uri": "https://localhost:8080/"
        },
        "id": "QJyXji3AFVVV",
        "outputId": "df3691f4-8e8d-47e6-86a2-18b3cd6bea13"
      },
      "execution_count": null,
      "outputs": [
        {
          "output_type": "stream",
          "name": "stdout",
          "text": [
            "Enter any number : 9876\n",
            "Number is not Armstrong\n"
          ]
        }
      ]
    },
    {
      "cell_type": "markdown",
      "source": [
        "######**QUES-13 Adding *n* Terms**\n",
        "Write a program to add first n terms of the following series using a *for* loop:<br>\n",
        "`1/1! + 1/2! + 1/3! + …….. + 1/n!`"
      ],
      "metadata": {
        "id": "dyorAdlCn2s0"
      }
    },
    {
      "cell_type": "code",
      "source": [
        "\n",
        "\n",
        "num = int(input(\"Enter any number  : \"))\n",
        "sum = 0\n",
        "fact = 1\n",
        "i = 1\n",
        "while(i < num):\n",
        "      fact= fact*i\n",
        "      sum= sum + i/fact\n",
        "      i = i + 1\n",
        "print(\"Sum is       :    \",round(sum, 2))"
      ],
      "metadata": {
        "colab": {
          "base_uri": "https://localhost:8080/"
        },
        "id": "0GoU7DK1Fdch",
        "outputId": "c7421322-647b-4ae1-9f02-30fb67a33ef0"
      },
      "execution_count": null,
      "outputs": [
        {
          "output_type": "stream",
          "name": "stdout",
          "text": [
            "Enter any number  : 45\n",
            "Sum is       :     2.72\n"
          ]
        }
      ]
    },
    {
      "cell_type": "markdown",
      "source": [
        "######**QUES-14 Conditonal End**\n",
        "Write a program to enter the numbers till the user enter ZERO and at the end it should display the count of positive and negative numbers entered."
      ],
      "metadata": {
        "id": "g8-0tLxGn3Fv"
      }
    },
    {
      "cell_type": "code",
      "source": [
        "\n",
        "\n",
        "ch = 'Y'\n",
        "sump = 0\n",
        "sumn = 0\n",
        "num=1\n",
        "while (num!=0):\n",
        "     num = int(input(\"Enter any number  : \"))\n",
        "     if num > 0 :\n",
        "       sump = sump + num\n",
        "     else:\n",
        "       sumn = sumn + num\n",
        "print(\"Sum of all the positive numbers is  : \", sump)\n",
        "print(\"Sum of all the negative numbers is  : \", sumn)"
      ],
      "metadata": {
        "colab": {
          "base_uri": "https://localhost:8080/"
        },
        "id": "yqfebURgFpC9",
        "outputId": "b0985b3c-40e0-49bb-c948-1d4263fb8ffe"
      },
      "execution_count": null,
      "outputs": [
        {
          "output_type": "stream",
          "name": "stdout",
          "text": [
            "Enter any number  : -10\n",
            "Enter any number  : 30\n",
            "Enter any number  : -111\n",
            "Enter any number  : 2847\n",
            "Enter any number  : 0\n",
            "Sum of all the positive numbers is  :  2877\n",
            "Sum of all the negative numbers is  :  -121\n"
          ]
        }
      ]
    },
    {
      "cell_type": "markdown",
      "source": [
        "######**QUES-15 Decimal to Binary**\n",
        "\n",
        "Write a program to convert a positive decimal number to a binary number."
      ],
      "metadata": {
        "id": "U3Lv3lpIn3eM"
      }
    },
    {
      "cell_type": "code",
      "source": [
        "\n",
        "\n",
        "num = int(input(\"Enter a positive number: \")) \n",
        "bin = 0 \n",
        "p = 1 \n",
        "n = num\n",
        "while n>0:     \n",
        "     rem = int(n % 2)     \n",
        "     bin = bin + rem * p\n",
        "     p = p*10     \n",
        "     n = n/2 \n",
        "print(\"Binary number of\",num,\"is\",bin)"
      ],
      "metadata": {
        "colab": {
          "base_uri": "https://localhost:8080/"
        },
        "id": "0y1mrGjyGCjb",
        "outputId": "b17650e3-ff37-40fa-ba77-3fd133d55134"
      },
      "execution_count": null,
      "outputs": [
        {
          "output_type": "stream",
          "name": "stdout",
          "text": [
            "Enter a positive number: 111\n",
            "Binary number of 111 is 1101111\n"
          ]
        }
      ]
    },
    {
      "cell_type": "markdown",
      "source": [
        "######**QUES-16 Binary to Decimal**\n",
        "\n",
        "Write a program to convert a binary number to a decimal number."
      ],
      "metadata": {
        "id": "llfRwUMsn33w"
      }
    },
    {
      "cell_type": "code",
      "source": [
        "\n",
        "\n",
        "bin = input(\"Enter a binary number: \")\n",
        "dec=0\n",
        "p=0\n",
        "for i in reversed(bin):\n",
        "     dec = dec + int(i)*pow(2,p)\n",
        "     p=p+1\n",
        "print(\"Decimal number of binary\",bin,\" number is : \",dec)"
      ],
      "metadata": {
        "colab": {
          "base_uri": "https://localhost:8080/"
        },
        "id": "UDodSM8vGHdS",
        "outputId": "c0a5daf6-a894-4103-f607-03dad6e38d09"
      },
      "execution_count": null,
      "outputs": [
        {
          "output_type": "stream",
          "name": "stdout",
          "text": [
            "Enter a binary number: 1101111\n",
            "Decimal number of binary 1101111  number is :  111\n"
          ]
        }
      ]
    },
    {
      "cell_type": "markdown",
      "metadata": {
        "id": "URT8cy_EWFzq"
      },
      "source": [
        "# Further Reading and References\n",
        "\n",
        "Following are some resources where you can learn about more arithmetic, conditional and logical operations in Python:\n",
        "\n",
        "* Python Loops at GeeksforGeeks: [Here](https://www.geeksforgeeks.org/loops-in-python/)\n",
        "* Loops in Python Interactive Tutorial at Learnpython: [Here](https://www.learnpython.org/en/Loops)\n",
        "* Python official documentation: [Here](https://docs.python.org/3/tutorial/index.html)"
      ]
    }
  ]
}