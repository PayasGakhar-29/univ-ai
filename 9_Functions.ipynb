{
  "cells": [
    {
      "cell_type": "markdown",
      "metadata": {
        "id": "7UzNBWaLkRis"
      },
      "source": [
        "#9.0 Introduction to Functions\n",
        "\n",
        "This lecture will consist of explaining what a function is in Python and how to create one. Functions will be one of our main building blocks when we construct larger and larger amounts of code to solve problems.\n",
        "\n"
      ]
    },
    {
      "cell_type": "markdown",
      "metadata": {
        "id": "J3_gP_yOgD7B"
      },
      "source": [
        "##9.01 General Syntax"
      ]
    },
    {
      "cell_type": "markdown",
      "metadata": {
        "id": "lUV6r48KgIa6"
      },
      "source": [
        "A general function looks something like this:"
      ]
    },
    {
      "cell_type": "code",
      "execution_count": null,
      "metadata": {
        "id": "lHeTWQmPgJPZ"
      },
      "outputs": [],
      "source": [
        "# Let's define a function.\n",
        "def function_name(argument_1, argument_2):\n",
        "    # Do whatever we want this function to do,\n",
        "    #  using argument_1 and argument_2\n",
        "\n",
        "# Use function_name to call the function.\n",
        "function_name(value_1, value_2)"
      ]
    },
    {
      "cell_type": "markdown",
      "metadata": {
        "id": "8syVhuTEgRRE"
      },
      "source": [
        "##9.02 Defining a function\n",
        "* Give the keyword **def**, which tells Python that you are about to define a function.\n",
        "* Give your function a name. A variable name tells you what kind of value the variable contains; a function name should tell you what the function does.\n",
        "* Give names for each value the function needs in order to do its work.\n",
        " * These are basically variable names, but they are only used in the function.\n",
        " * They can be different names than what you use in the rest of your program.\n",
        " * These are called the function's arguments.\n",
        "* Make sure the function definition line ends with a colon.\n",
        "* Inside the function, write whatever code you need to make the function do its work.\n",
        "\n",
        "\n"
      ]
    },
    {
      "cell_type": "markdown",
      "metadata": {
        "id": "mm1wh_5ag3jy"
      },
      "source": [
        "##9.03 Using your function\n",
        "* To call your function, write its name followed by parentheses.\n",
        "* Inside the parentheses, give the values you want the function to work with.\n",
        "* These can be variables such as current_name and current_age, or they can be actual values such as 'eric' and 5."
      ]
    },
    {
      "cell_type": "markdown",
      "metadata": {
        "id": "NS9OINK9hIfO"
      },
      "source": [
        "###9.031 A Common Error\n",
        "\n",
        "A function must be defined before you use it in your program. For example, putting the function at the end of the program would not work."
      ]
    },
    {
      "cell_type": "code",
      "execution_count": null,
      "metadata": {
        "id": "am3uwldehQ23"
      },
      "outputs": [],
      "source": [
        "thank_you('Adriana')\n",
        "thank_you('Billy')\n",
        "thank_you('Caroline')\n",
        "\n",
        "def thank_you(name):\n",
        "    # This function prints a two-line personalized thank you message.\n",
        "    print(\"\\nYou are doing good work, %s!\" % name)\n",
        "    print(\"Thank you very much for your efforts on this project.\")"
      ]
    },
    {
      "cell_type": "markdown",
      "metadata": {
        "id": "jt2CPAFYhRaP"
      },
      "source": [
        "On the first line we ask Python to run the function thank_you(), but Python does not yet know how to do this function. We define our functions at the beginning of our programs, and then we can use them when we need to."
      ]
    },
    {
      "cell_type": "markdown",
      "metadata": {
        "id": "CtiGrf2VewdA"
      },
      "source": [
        "#9.1 What is a function?\n",
        "\n",
        "Formally, a function is a useful device that groups together a set of statements so they can be run more than once. They can also let us specify parameters that can serve as inputs to the functions.\n",
        "\n",
        "On a more fundamental level, functions allow us to not have to repeatedly write the same code again and again. If you remember back to the lessons on strings and lists, remember that we used a function len() to get the length of a string. Since checking the length of a sequence is a common task you would want to write a function that can do this repeatedly at command.\n",
        "\n",
        "Functions will be one of most basic levels of reusing code in Python, and it will also allow us to start thinking of program design (we will dive much deeper into the ideas of design when we learn about Object Oriented Programming)."
      ]
    },
    {
      "cell_type": "markdown",
      "metadata": {
        "id": "27MCvu4gkRiu"
      },
      "source": [
        "##9.11 Why even use functions?\n",
        "\n",
        "Put simply, you should use functions when you plan on using a block of code multiple times. The function will allow you to call the same block of code without having to write it multiple times. This in turn will allow you to create more complex Python scripts. To really understand this though, we should actually write our own functions! "
      ]
    },
    {
      "cell_type": "markdown",
      "metadata": {
        "id": "fgBb01WDkRiv"
      },
      "source": [
        "##9.12 def keyword\n",
        "\n",
        "Let's see how to build out a function's syntax in Python. It has the following form:"
      ]
    },
    {
      "cell_type": "code",
      "execution_count": null,
      "metadata": {
        "collapsed": true,
        "id": "doPx0y7OkRiw"
      },
      "outputs": [],
      "source": [
        "def name_of_function(arg1,arg2):\n",
        "    '''\n",
        "    This is where the function's Document String (docstring) goes.\n",
        "    When you call help() on your function it will be printed out.\n",
        "    '''\n",
        "    # Do stuff here\n",
        "    # Return desired result"
      ]
    },
    {
      "cell_type": "markdown",
      "metadata": {
        "id": "xGk5qLpRkRiy"
      },
      "source": [
        "We begin with 'def' then a space followed by the name of the function. Try to keep names relevant, for example len() is a good name for a length() function. Also be careful with names, you wouldn't want to call a function the same name as a built-in function in Python (such as len).\n",
        "\n",
        "Next come a pair of parentheses with a number of arguments separated by a comma. These arguments are the inputs for your function. You'll be able to use these inputs in your function and reference them. After this you put a colon.\n",
        "\n",
        "Now here is the important step, you must indent to begin the code inside your function correctly. Python makes use of *whitespace* to organize code. Lots of other programing languages do not do this, so keep that in mind.\n",
        "\n",
        "Next you'll see the docstring, this is where you write a basic description of the function. Using Jupyter and Jupyter Notebooks, you'll be able to read these docstrings by pressing Shift+Tab after a function name. Docstrings are not necessary for simple functions, but it's good practice to put them in so you or other people can easily understand the code you write.\n",
        "\n",
        "After all this you begin writing the code you wish to execute.\n",
        "\n",
        "The best way to learn functions is by going through examples. So let's try to go through examples that relate back to the various objects and data structures we learned about before."
      ]
    },
    {
      "cell_type": "markdown",
      "metadata": {
        "id": "xIgwrQ2ckRi0"
      },
      "source": [
        "#9.2 Simple example of a function"
      ]
    },
    {
      "cell_type": "code",
      "execution_count": null,
      "metadata": {
        "collapsed": true,
        "id": "inVjDfVKkRi1"
      },
      "outputs": [],
      "source": [
        "def say_hello():\n",
        "    print('hello')"
      ]
    },
    {
      "cell_type": "markdown",
      "metadata": {
        "id": "rHj42HFSkRi2"
      },
      "source": [
        "#9.3 Calling a function with ()"
      ]
    },
    {
      "cell_type": "markdown",
      "metadata": {
        "id": "bgtP1TpIkRi3"
      },
      "source": [
        "Call the function:"
      ]
    },
    {
      "cell_type": "code",
      "execution_count": null,
      "metadata": {
        "id": "r6kcNiKTkRi3",
        "outputId": "d1e7e386-46ef-4b25-ccd0-02581c3b5266"
      },
      "outputs": [
        {
          "name": "stdout",
          "output_type": "stream",
          "text": [
            "hello\n"
          ]
        }
      ],
      "source": [
        "say_hello()"
      ]
    },
    {
      "cell_type": "markdown",
      "metadata": {
        "id": "KFYhUD1CkRi5"
      },
      "source": [
        "If you forget the parenthesis (), it will simply display the fact that say_hello is a function. Later on we will learn we can actually pass in functions into other functions! But for now, simply remember to call functions with ()."
      ]
    },
    {
      "cell_type": "code",
      "execution_count": null,
      "metadata": {
        "id": "oUlzF0H2kRi5",
        "outputId": "83e89173-d889-4d7c-e47b-9baf71ab5c15"
      },
      "outputs": [
        {
          "data": {
            "text/plain": [
              "<function __main__.say_hello>"
            ]
          },
          "execution_count": 7,
          "metadata": {},
          "output_type": "execute_result"
        }
      ],
      "source": [
        "say_hello"
      ]
    },
    {
      "cell_type": "markdown",
      "metadata": {
        "id": "q-iZTl-wkRi6"
      },
      "source": [
        "#9.4 Accepting parameters (arguments)\n",
        "Let's write a function that greets people with their name."
      ]
    },
    {
      "cell_type": "code",
      "execution_count": null,
      "metadata": {
        "collapsed": true,
        "id": "Vm8lBBrJkRi6"
      },
      "outputs": [],
      "source": [
        "def greeting(name):\n",
        "    print(f'Hello {name}')"
      ]
    },
    {
      "cell_type": "code",
      "execution_count": null,
      "metadata": {
        "id": "FLn86pSVkRi7",
        "outputId": "c47f8f74-6393-44ea-c6df-a23dfdd593ba"
      },
      "outputs": [
        {
          "name": "stdout",
          "output_type": "stream",
          "text": [
            "Hello Jose\n"
          ]
        }
      ],
      "source": [
        "greeting('Jose')"
      ]
    },
    {
      "cell_type": "markdown",
      "metadata": {
        "id": "_fLYdEQjkRi7"
      },
      "source": [
        "#9.5 Using return\n",
        "So far we've only seen print() used, but if we actually want to save the resulting variable we need to use the **return** keyword.\n",
        "\n",
        "Let's see some example that use a return statement. return allows a function to *return* a result that can then be stored as a variable, or used in whatever manner a user wants.\n",
        "\n",
        "### Example: Addition function"
      ]
    },
    {
      "cell_type": "code",
      "execution_count": null,
      "metadata": {
        "collapsed": true,
        "id": "l9ssvH0WkRi8"
      },
      "outputs": [],
      "source": [
        "def add_num(num1,num2):\n",
        "    return num1+num2"
      ]
    },
    {
      "cell_type": "code",
      "execution_count": null,
      "metadata": {
        "id": "yxVltgmZkRi8",
        "outputId": "bdd22290-0f7f-415f-9fb5-0326b2f7b370"
      },
      "outputs": [
        {
          "data": {
            "text/plain": [
              "9"
            ]
          },
          "execution_count": 7,
          "metadata": {},
          "output_type": "execute_result"
        }
      ],
      "source": [
        "add_num(4,5)"
      ]
    },
    {
      "cell_type": "code",
      "execution_count": null,
      "metadata": {
        "collapsed": true,
        "id": "3Vw5AtaKkRi9"
      },
      "outputs": [],
      "source": [
        "# Can also save as variable due to return\n",
        "result = add_num(4,5)"
      ]
    },
    {
      "cell_type": "code",
      "execution_count": null,
      "metadata": {
        "id": "tFu8gEbfkRi9",
        "outputId": "75b93298-f824-47e2-e73a-b6b12fce177a"
      },
      "outputs": [
        {
          "name": "stdout",
          "output_type": "stream",
          "text": [
            "9\n"
          ]
        }
      ],
      "source": [
        "print(result)"
      ]
    },
    {
      "cell_type": "markdown",
      "metadata": {
        "id": "y3U30TLokRi-"
      },
      "source": [
        "What happens if we input two strings?"
      ]
    },
    {
      "cell_type": "code",
      "execution_count": null,
      "metadata": {
        "id": "tioDhSf0kRi-",
        "outputId": "99298a71-a565-4e9a-d3be-1ac864611290"
      },
      "outputs": [
        {
          "data": {
            "text/plain": [
              "'onetwo'"
            ]
          },
          "execution_count": 10,
          "metadata": {},
          "output_type": "execute_result"
        }
      ],
      "source": [
        "add_num('one','two')"
      ]
    },
    {
      "cell_type": "markdown",
      "metadata": {
        "id": "gN_lKqOZkRi_"
      },
      "source": [
        "#9.6 What is the difference between 'return' and 'print'?\n",
        "\n",
        "The return keyword allows you to actually save the result of the output of a function as a variable. The print() function simply displays the output to you, but doesn't save it for future use. Let's explore this in more detail"
      ]
    },
    {
      "cell_type": "code",
      "execution_count": null,
      "metadata": {
        "collapsed": true,
        "id": "jWNPDvwWkRi_"
      },
      "outputs": [],
      "source": [
        "def print_result(a,b):\n",
        "    print(a+b)"
      ]
    },
    {
      "cell_type": "code",
      "execution_count": null,
      "metadata": {
        "collapsed": true,
        "id": "UcoRFYrUkRi_"
      },
      "outputs": [],
      "source": [
        "def return_result(a,b):\n",
        "    return a+b"
      ]
    },
    {
      "cell_type": "code",
      "execution_count": null,
      "metadata": {
        "id": "pmmuvpIBkRjA",
        "outputId": "d47b1678-0708-43b1-8119-39d7615d4b51"
      },
      "outputs": [
        {
          "name": "stdout",
          "output_type": "stream",
          "text": [
            "15\n"
          ]
        }
      ],
      "source": [
        "print_result(10,5)"
      ]
    },
    {
      "cell_type": "code",
      "execution_count": null,
      "metadata": {
        "id": "sjeiMhqykRjA",
        "outputId": "693671dc-58bc-4936-c103-2245caa3b428"
      },
      "outputs": [
        {
          "data": {
            "text/plain": [
              "15"
            ]
          },
          "execution_count": 4,
          "metadata": {},
          "output_type": "execute_result"
        }
      ],
      "source": [
        "# You won't see any output if you run this in a .py script\n",
        "return_result(10,5)"
      ]
    },
    {
      "cell_type": "markdown",
      "metadata": {
        "id": "SwMLzwmGkRjA"
      },
      "source": [
        "**But what happens if we actually want to save this result for later use?**"
      ]
    },
    {
      "cell_type": "code",
      "execution_count": null,
      "metadata": {
        "id": "qEiO9rAmkRjA",
        "outputId": "776ec00f-efef-4900-b452-5efd6d890ca4"
      },
      "outputs": [
        {
          "name": "stdout",
          "output_type": "stream",
          "text": [
            "40\n"
          ]
        }
      ],
      "source": [
        "my_result = print_result(20,20)"
      ]
    },
    {
      "cell_type": "code",
      "execution_count": null,
      "metadata": {
        "collapsed": true,
        "id": "ppxyyY_fkRjB"
      },
      "outputs": [],
      "source": [
        "my_result"
      ]
    },
    {
      "cell_type": "code",
      "execution_count": null,
      "metadata": {
        "id": "TSMcfn-OkRjB",
        "outputId": "8a39b607-933c-41bf-a23c-147f99d40979"
      },
      "outputs": [
        {
          "data": {
            "text/plain": [
              "NoneType"
            ]
          },
          "execution_count": 7,
          "metadata": {},
          "output_type": "execute_result"
        }
      ],
      "source": [
        "type(my_result)"
      ]
    },
    {
      "cell_type": "markdown",
      "metadata": {
        "id": "sNpXLQLikRjC"
      },
      "source": [
        "**Be careful! Notice how print_result() doesn't let you actually save the result to a variable! It only prints it out, with print() returning None for the assignment!**"
      ]
    },
    {
      "cell_type": "code",
      "execution_count": null,
      "metadata": {
        "collapsed": true,
        "id": "G_P0axowkRjC"
      },
      "outputs": [],
      "source": [
        "my_result = return_result(20,20)"
      ]
    },
    {
      "cell_type": "code",
      "execution_count": null,
      "metadata": {
        "id": "-yHjBqmRkRjC",
        "outputId": "88d8947e-510a-428c-ead1-d23533d7d1a8"
      },
      "outputs": [
        {
          "data": {
            "text/plain": [
              "40"
            ]
          },
          "execution_count": 9,
          "metadata": {},
          "output_type": "execute_result"
        }
      ],
      "source": [
        "my_result"
      ]
    },
    {
      "cell_type": "code",
      "execution_count": null,
      "metadata": {
        "id": "SYqqRI5dkRjD",
        "outputId": "bf49e049-01ff-426b-f074-b3a5ba6d2d21"
      },
      "outputs": [
        {
          "data": {
            "text/plain": [
              "80"
            ]
          },
          "execution_count": 10,
          "metadata": {},
          "output_type": "execute_result"
        }
      ],
      "source": [
        "my_result + my_result"
      ]
    },
    {
      "cell_type": "markdown",
      "metadata": {
        "id": "xunaaazlkRjD"
      },
      "source": [
        "#9.7 Adding Logic to Internal Function Operations\n",
        "\n",
        "So far we know quite a bit about constructing logical statements with Python, such as if/else/elif statements, for and while loops, checking if an item is **in** a list or **not in** a list (Useful Operators Lecture). Let's now see how we can perform these operations within a function."
      ]
    },
    {
      "cell_type": "markdown",
      "metadata": {
        "id": "PSaSWrVAkRjD"
      },
      "source": [
        "##9.71 Check if a number is even "
      ]
    },
    {
      "cell_type": "markdown",
      "metadata": {
        "id": "hkdMGL9rkRjD"
      },
      "source": [
        "**Recall the mod operator % which returns the remainder after division, if a number is even then mod 2 (% 2) should be == to zero.**"
      ]
    },
    {
      "cell_type": "code",
      "execution_count": null,
      "metadata": {
        "id": "UfghNMPekRjE",
        "outputId": "d9d0ea79-698a-408d-e417-6cbbfb7e29cb"
      },
      "outputs": [
        {
          "data": {
            "text/plain": [
              "0"
            ]
          },
          "execution_count": 11,
          "metadata": {},
          "output_type": "execute_result"
        }
      ],
      "source": [
        "2 % 2"
      ]
    },
    {
      "cell_type": "code",
      "execution_count": null,
      "metadata": {
        "id": "4pHrihAWkRjE",
        "outputId": "37ac8d6d-dbeb-46c4-e793-b42387eace5c"
      },
      "outputs": [
        {
          "data": {
            "text/plain": [
              "0"
            ]
          },
          "execution_count": 12,
          "metadata": {},
          "output_type": "execute_result"
        }
      ],
      "source": [
        "20 % 2"
      ]
    },
    {
      "cell_type": "code",
      "execution_count": null,
      "metadata": {
        "id": "IQ8j7RXPkRjE",
        "outputId": "d1988b7d-e3f3-472b-9060-17776deb9c4e"
      },
      "outputs": [
        {
          "data": {
            "text/plain": [
              "1"
            ]
          },
          "execution_count": 14,
          "metadata": {},
          "output_type": "execute_result"
        }
      ],
      "source": [
        "21 % 2"
      ]
    },
    {
      "cell_type": "code",
      "execution_count": null,
      "metadata": {
        "id": "C95KMP6okRjE",
        "outputId": "6030106a-8d39-47af-d86a-136a4e2f3f78"
      },
      "outputs": [
        {
          "data": {
            "text/plain": [
              "True"
            ]
          },
          "execution_count": 15,
          "metadata": {},
          "output_type": "execute_result"
        }
      ],
      "source": [
        "20 % 2 == 0"
      ]
    },
    {
      "cell_type": "code",
      "execution_count": null,
      "metadata": {
        "id": "YAD3wKo6kRjF",
        "outputId": "26c79e86-642c-4958-c865-f2b92bdf7570"
      },
      "outputs": [
        {
          "data": {
            "text/plain": [
              "False"
            ]
          },
          "execution_count": 16,
          "metadata": {},
          "output_type": "execute_result"
        }
      ],
      "source": [
        "21 % 2 == 0"
      ]
    },
    {
      "cell_type": "markdown",
      "metadata": {
        "id": "3I3ddBxvkRjF"
      },
      "source": [
        "** Let's use this to construct a function. Notice how we simply return the boolean check.**"
      ]
    },
    {
      "cell_type": "code",
      "execution_count": null,
      "metadata": {
        "collapsed": true,
        "id": "ek0XvkGvkRjF"
      },
      "outputs": [],
      "source": [
        "def even_check(number):\n",
        "    return number % 2 == 0"
      ]
    },
    {
      "cell_type": "code",
      "execution_count": null,
      "metadata": {
        "id": "WESN5hGhkRjG",
        "outputId": "a0f5bb14-97ec-41fe-b1bd-d43b7c22903b"
      },
      "outputs": [
        {
          "data": {
            "text/plain": [
              "True"
            ]
          },
          "execution_count": 19,
          "metadata": {},
          "output_type": "execute_result"
        }
      ],
      "source": [
        "even_check(20)"
      ]
    },
    {
      "cell_type": "code",
      "execution_count": null,
      "metadata": {
        "id": "EEswWUOmkRjG",
        "outputId": "33650b10-e233-40b1-cc38-9c5156216a3d"
      },
      "outputs": [
        {
          "data": {
            "text/plain": [
              "False"
            ]
          },
          "execution_count": 21,
          "metadata": {},
          "output_type": "execute_result"
        }
      ],
      "source": [
        "even_check(21)"
      ]
    },
    {
      "cell_type": "markdown",
      "metadata": {
        "id": "9VkyoSa1kRjG"
      },
      "source": [
        "##9.72 Check if any number in  a list is even\n",
        "\n",
        "Let's return a boolean indicating if **any** number in a list is even. Notice here how **return** breaks out of the loop and exits the function"
      ]
    },
    {
      "cell_type": "code",
      "execution_count": null,
      "metadata": {
        "collapsed": true,
        "id": "0D6QOqkQkRjG"
      },
      "outputs": [],
      "source": [
        "def check_even_list(num_list):\n",
        "    # Go through each number\n",
        "    for number in num_list:\n",
        "        # Once we get a \"hit\" on an even number, we return True\n",
        "        if number % 2 == 0:\n",
        "            return True\n",
        "        # Otherwise we don't do anything\n",
        "        else:\n",
        "            pass"
      ]
    },
    {
      "cell_type": "markdown",
      "metadata": {
        "id": "_BgBuiQJkRjH"
      },
      "source": [
        "** Is this enough? NO! We're not returning anything if they are all odds!**"
      ]
    },
    {
      "cell_type": "code",
      "execution_count": null,
      "metadata": {
        "id": "eYe26-fakRjH",
        "outputId": "bc1a1879-9295-4347-ca69-02234f5b70b1"
      },
      "outputs": [
        {
          "data": {
            "text/plain": [
              "True"
            ]
          },
          "execution_count": 26,
          "metadata": {},
          "output_type": "execute_result"
        }
      ],
      "source": [
        "check_even_list([1,2,3])"
      ]
    },
    {
      "cell_type": "code",
      "execution_count": null,
      "metadata": {
        "collapsed": true,
        "id": "bfjmzI2FkRjH"
      },
      "outputs": [],
      "source": [
        "check_even_list([1,1,1])"
      ]
    },
    {
      "cell_type": "markdown",
      "metadata": {
        "id": "aNCIwz9KkRjO"
      },
      "source": [
        "** VERY COMMON MISTAKE!! LET'S SEE A COMMON LOGIC ERROR, NOTE THIS IS WRONG!!!**"
      ]
    },
    {
      "cell_type": "code",
      "execution_count": null,
      "metadata": {
        "collapsed": true,
        "id": "w8lniPxIkRjO"
      },
      "outputs": [],
      "source": [
        "def check_even_list(num_list):\n",
        "    # Go through each number\n",
        "    for number in num_list:\n",
        "        # Once we get a \"hit\" on an even number, we return True\n",
        "        if number % 2 == 0:\n",
        "            return True\n",
        "        # This is WRONG! This returns False at the very first odd number!\n",
        "        # It doesn't end up checking the other numbers in the list!\n",
        "        else:\n",
        "            return False"
      ]
    },
    {
      "cell_type": "code",
      "execution_count": null,
      "metadata": {
        "id": "kUluksSSkRjP",
        "outputId": "ab0bf4a1-bc99-4215-913f-02124ac9b731"
      },
      "outputs": [
        {
          "data": {
            "text/plain": [
              "False"
            ]
          },
          "execution_count": 30,
          "metadata": {},
          "output_type": "execute_result"
        }
      ],
      "source": [
        "# UH OH! It is returning False after hitting the first 1\n",
        "check_even_list([1,2,3])"
      ]
    },
    {
      "cell_type": "markdown",
      "metadata": {
        "id": "434F43T6kRjP"
      },
      "source": [
        "** Correct Approach: We need to initiate a return False AFTER running through the entire loop**"
      ]
    },
    {
      "cell_type": "code",
      "execution_count": null,
      "metadata": {
        "collapsed": true,
        "id": "LopFrup7kRjP"
      },
      "outputs": [],
      "source": [
        "def check_even_list(num_list):\n",
        "    # Go through each number\n",
        "    for number in num_list:\n",
        "        # Once we get a \"hit\" on an even number, we return True\n",
        "        if number % 2 == 0:\n",
        "            return True\n",
        "        # Don't do anything if its not even\n",
        "        else:\n",
        "            pass\n",
        "    # Notice the indentation! This ensures we run through the entire for loop    \n",
        "    return False"
      ]
    },
    {
      "cell_type": "code",
      "execution_count": null,
      "metadata": {
        "id": "ncBu7GWCkRjQ",
        "outputId": "f9b79ed9-8fb0-495f-8e22-9c60e3ab5acf"
      },
      "outputs": [
        {
          "data": {
            "text/plain": [
              "True"
            ]
          },
          "execution_count": 32,
          "metadata": {},
          "output_type": "execute_result"
        }
      ],
      "source": [
        "check_even_list([1,2,3])"
      ]
    },
    {
      "cell_type": "code",
      "execution_count": null,
      "metadata": {
        "id": "l4ods5stkRjQ",
        "outputId": "c4375f06-9e5d-43f4-f258-a2808549d411"
      },
      "outputs": [
        {
          "data": {
            "text/plain": [
              "False"
            ]
          },
          "execution_count": 34,
          "metadata": {},
          "output_type": "execute_result"
        }
      ],
      "source": [
        "check_even_list([1,3,5])"
      ]
    },
    {
      "cell_type": "markdown",
      "metadata": {
        "id": "t7z2IJilkRjQ"
      },
      "source": [
        "##9.73 Return all even numbers in a list\n",
        "\n",
        "Let's add more complexity, we now will return all the even numbers in a list, otherwise return an empty list."
      ]
    },
    {
      "cell_type": "code",
      "execution_count": null,
      "metadata": {
        "collapsed": true,
        "id": "VtzAQdf-kRjQ"
      },
      "outputs": [],
      "source": [
        "def check_even_list(num_list):\n",
        "    \n",
        "    even_numbers = []\n",
        "    \n",
        "    # Go through each number\n",
        "    for number in num_list:\n",
        "        # Once we get a \"hit\" on an even number, we append the even number\n",
        "        if number % 2 == 0:\n",
        "            even_numbers.append(number)\n",
        "        # Don't do anything if its not even\n",
        "        else:\n",
        "            pass\n",
        "    # Notice the indentation! This ensures we run through the entire for loop    \n",
        "    return even_numbers"
      ]
    },
    {
      "cell_type": "code",
      "execution_count": null,
      "metadata": {
        "id": "JnWwz539kRjR",
        "outputId": "7281453f-756a-4376-bf84-4dad1966c419"
      },
      "outputs": [
        {
          "data": {
            "text/plain": [
              "[2, 4, 6]"
            ]
          },
          "execution_count": 36,
          "metadata": {},
          "output_type": "execute_result"
        }
      ],
      "source": [
        "check_even_list([1,2,3,4,5,6])"
      ]
    },
    {
      "cell_type": "code",
      "execution_count": null,
      "metadata": {
        "id": "jBbP3-AWkRjR",
        "outputId": "2df8b39e-edbf-483b-8a61-3a4519111f28"
      },
      "outputs": [
        {
          "data": {
            "text/plain": [
              "[]"
            ]
          },
          "execution_count": 37,
          "metadata": {},
          "output_type": "execute_result"
        }
      ],
      "source": [
        "check_even_list([1,3,5])"
      ]
    },
    {
      "cell_type": "markdown",
      "metadata": {
        "id": "VTQZT9SVkRjR"
      },
      "source": [
        "#9.8 Returning Tuples for Unpacking"
      ]
    },
    {
      "cell_type": "markdown",
      "metadata": {
        "id": "tCj6j53LkRjR"
      },
      "source": [
        "** Recall we can loop through a list of tuples and \"unpack\" the values within them**"
      ]
    },
    {
      "cell_type": "code",
      "execution_count": null,
      "metadata": {
        "collapsed": true,
        "id": "gWxmcJrzkRjS"
      },
      "outputs": [],
      "source": [
        "stock_prices = [('AAPL',200),('GOOG',300),('MSFT',400)]"
      ]
    },
    {
      "cell_type": "code",
      "execution_count": null,
      "metadata": {
        "id": "uuZLDsZUkRjS",
        "outputId": "5a798381-be77-42c2-960a-a2875a054038"
      },
      "outputs": [
        {
          "name": "stdout",
          "output_type": "stream",
          "text": [
            "('AAPL', 200)\n",
            "('GOOG', 300)\n",
            "('MSFT', 400)\n"
          ]
        }
      ],
      "source": [
        "for item in stock_prices:\n",
        "    print(item)"
      ]
    },
    {
      "cell_type": "code",
      "execution_count": null,
      "metadata": {
        "id": "umPITou7kRjT",
        "outputId": "381c2fe3-482b-43fb-b555-775337230d37"
      },
      "outputs": [
        {
          "name": "stdout",
          "output_type": "stream",
          "text": [
            "AAPL\n",
            "GOOG\n",
            "MSFT\n"
          ]
        }
      ],
      "source": [
        "for stock,price in stock_prices:\n",
        "    print(stock)"
      ]
    },
    {
      "cell_type": "code",
      "execution_count": null,
      "metadata": {
        "id": "ZS6mn4tRkRjT",
        "outputId": "b4527afd-e2d2-486d-94b1-75966a9bb72d"
      },
      "outputs": [
        {
          "name": "stdout",
          "output_type": "stream",
          "text": [
            "200\n",
            "300\n",
            "400\n"
          ]
        }
      ],
      "source": [
        "for stock,price in stock_prices:\n",
        "    print(price)"
      ]
    },
    {
      "cell_type": "markdown",
      "metadata": {
        "id": "Mpui-aWCkRjT"
      },
      "source": [
        "**Similarly, functions often return tuples, to easily return multiple results for later use.**"
      ]
    },
    {
      "cell_type": "markdown",
      "metadata": {
        "id": "DsTMNOlnkRjU"
      },
      "source": [
        "Let's imagine the following list:"
      ]
    },
    {
      "cell_type": "code",
      "execution_count": null,
      "metadata": {
        "collapsed": true,
        "id": "aKm-Fn3DkRjU"
      },
      "outputs": [],
      "source": [
        "work_hours = [('Abby',100),('Billy',400),('Cassie',800)]"
      ]
    },
    {
      "cell_type": "markdown",
      "metadata": {
        "id": "ZYHViTB1kRjU"
      },
      "source": [
        "The employee of the month function will return both the name and number of hours worked for the top performer (judged by number of hours worked)."
      ]
    },
    {
      "cell_type": "code",
      "execution_count": null,
      "metadata": {
        "collapsed": true,
        "id": "heEQnK30kRjU"
      },
      "outputs": [],
      "source": [
        "def employee_check(work_hours):\n",
        "    \n",
        "    # Set some max value to intially beat, like zero hours\n",
        "    current_max = 0\n",
        "    # Set some empty value before the loop\n",
        "    employee_of_month = ''\n",
        "    \n",
        "    for employee,hours in work_hours:\n",
        "        if hours > current_max:\n",
        "            current_max = hours\n",
        "            employee_of_month = employee\n",
        "        else:\n",
        "            pass\n",
        "    \n",
        "    # Notice the indentation here\n",
        "    return (employee_of_month,current_max)"
      ]
    },
    {
      "cell_type": "code",
      "execution_count": null,
      "metadata": {
        "id": "ALw6_raNkRjU",
        "outputId": "f0889c09-c4bd-4abc-9dea-82a45692aaed"
      },
      "outputs": [
        {
          "data": {
            "text/plain": [
              "('Cassie', 800)"
            ]
          },
          "execution_count": 48,
          "metadata": {},
          "output_type": "execute_result"
        }
      ],
      "source": [
        "employee_check(work_hours)"
      ]
    },
    {
      "cell_type": "markdown",
      "metadata": {
        "id": "SulrvI0ekRjV"
      },
      "source": [
        "#9.9 Interactions between functions\n",
        "\n",
        "Functions often use results from other functions, let's see a simple example through a guessing game. There will be 3 positions in the list, one of which is an 'O', a function will shuffle the list, another will take a player's guess, and finally another will check to see if it is correct. This is based on the classic carnival game of guessing which cup a red ball is under."
      ]
    },
    {
      "cell_type": "markdown",
      "metadata": {
        "id": "SMyd-r-YkRjV"
      },
      "source": [
        "**How to shuffle a list in Python**"
      ]
    },
    {
      "cell_type": "code",
      "execution_count": null,
      "metadata": {
        "collapsed": true,
        "id": "E3dacUrPkRjV"
      },
      "outputs": [],
      "source": [
        "example = [1,2,3,4,5]"
      ]
    },
    {
      "cell_type": "code",
      "execution_count": null,
      "metadata": {
        "collapsed": true,
        "id": "pmLPGKykkRjV"
      },
      "outputs": [],
      "source": [
        "from random import shuffle"
      ]
    },
    {
      "cell_type": "code",
      "execution_count": null,
      "metadata": {
        "collapsed": true,
        "id": "UHhuMDyTkRjW"
      },
      "outputs": [],
      "source": [
        "# Note shuffle is in-place\n",
        "shuffle(example)"
      ]
    },
    {
      "cell_type": "code",
      "execution_count": null,
      "metadata": {
        "id": "ForCSiY-kRjW",
        "outputId": "7a055f36-9740-4d7c-a173-5995a982fe86"
      },
      "outputs": [
        {
          "data": {
            "text/plain": [
              "[3, 1, 4, 5, 2]"
            ]
          },
          "execution_count": 11,
          "metadata": {},
          "output_type": "execute_result"
        }
      ],
      "source": [
        "example"
      ]
    },
    {
      "cell_type": "markdown",
      "metadata": {
        "id": "_rmXKLeFkRjW"
      },
      "source": [
        "**OK, let's create our simple game**"
      ]
    },
    {
      "cell_type": "code",
      "execution_count": null,
      "metadata": {
        "collapsed": true,
        "id": "tuZCdUhHkRjW"
      },
      "outputs": [],
      "source": [
        "mylist = [' ','O',' ']"
      ]
    },
    {
      "cell_type": "code",
      "execution_count": null,
      "metadata": {
        "collapsed": true,
        "id": "fIQgke_dkRjX"
      },
      "outputs": [],
      "source": [
        "def shuffle_list(mylist):\n",
        "    # Take in list, and returned shuffle versioned\n",
        "    shuffle(mylist)\n",
        "    \n",
        "    return mylist"
      ]
    },
    {
      "cell_type": "code",
      "execution_count": null,
      "metadata": {
        "id": "EoW6hEYWkRjX",
        "outputId": "860b0a0d-e4da-4818-af79-643d334a3a97"
      },
      "outputs": [
        {
          "data": {
            "text/plain": [
              "[' ', 'O', ' ']"
            ]
          },
          "execution_count": 14,
          "metadata": {},
          "output_type": "execute_result"
        }
      ],
      "source": [
        "mylist "
      ]
    },
    {
      "cell_type": "code",
      "execution_count": null,
      "metadata": {
        "id": "EhyuW9T8kRjX",
        "outputId": "3724eed6-9dd1-4e3b-fd95-1d8c131ae3be"
      },
      "outputs": [
        {
          "data": {
            "text/plain": [
              "[' ', ' ', 'O']"
            ]
          },
          "execution_count": 15,
          "metadata": {},
          "output_type": "execute_result"
        }
      ],
      "source": [
        "shuffle_list(mylist)"
      ]
    },
    {
      "cell_type": "code",
      "execution_count": null,
      "metadata": {
        "collapsed": true,
        "id": "ENCLLGWzkRjX"
      },
      "outputs": [],
      "source": [
        "def player_guess():\n",
        "    \n",
        "    guess = ''\n",
        "    \n",
        "    while guess not in ['0','1','2']:\n",
        "        \n",
        "        # Recall input() returns a string\n",
        "        guess = input(\"Pick a number: 0, 1, or 2:  \")\n",
        "    \n",
        "    return int(guess)    "
      ]
    },
    {
      "cell_type": "code",
      "execution_count": null,
      "metadata": {
        "id": "BsbhqICrkRjY",
        "outputId": "187d3df6-36a2-4534-9967-db2d52903374"
      },
      "outputs": [
        {
          "name": "stdout",
          "output_type": "stream",
          "text": [
            "Pick a number: 0, 1, or 2:  1\n"
          ]
        },
        {
          "data": {
            "text/plain": [
              "1"
            ]
          },
          "execution_count": 24,
          "metadata": {},
          "output_type": "execute_result"
        }
      ],
      "source": [
        "player_guess()"
      ]
    },
    {
      "cell_type": "markdown",
      "metadata": {
        "id": "t7Gh9I0MkRjY"
      },
      "source": [
        "Now we will check the user's guess. Notice we only print here, since we have no need to save a user's guess or the shuffled list."
      ]
    },
    {
      "cell_type": "code",
      "execution_count": null,
      "metadata": {
        "collapsed": true,
        "id": "B1t6uNw-kRjY"
      },
      "outputs": [],
      "source": [
        "def check_guess(mylist,guess):\n",
        "    if mylist[guess] == 'O':\n",
        "        print('Correct Guess!')\n",
        "    else:\n",
        "        print('Wrong! Better luck next time')\n",
        "        print(mylist)"
      ]
    },
    {
      "cell_type": "markdown",
      "metadata": {
        "id": "ZHHnZNChkRjY"
      },
      "source": [
        "Now we create a little setup logic to run all the functions. Notice how they interact with each other!"
      ]
    },
    {
      "cell_type": "code",
      "execution_count": null,
      "metadata": {
        "id": "PWd-_n8YkRjY",
        "outputId": "9fde9739-b743-4ff7-ec6b-621b6331a048"
      },
      "outputs": [
        {
          "name": "stdout",
          "output_type": "stream",
          "text": [
            "Pick a number: 0, 1, or 2:  1\n",
            "Wrong! Better luck next time\n",
            "[' ', ' ', 'O']\n"
          ]
        }
      ],
      "source": [
        "# Initial List\n",
        "mylist = [' ','O',' ']\n",
        "\n",
        "# Shuffle It\n",
        "mixedup_list = shuffle_list(mylist)\n",
        "\n",
        "# Get User's Guess\n",
        "guess = player_guess()\n",
        "\n",
        "# Check User's Guess\n",
        "#------------------------\n",
        "# Notice how this function takes in the input \n",
        "# based on the output of other functions!\n",
        "check_guess(mixedup_list,guess)"
      ]
    },
    {
      "cell_type": "markdown",
      "metadata": {
        "id": "Q77LaxLlkRjZ"
      },
      "source": [
        "Great! You should now have a basic understanding of creating your own functions to save yourself from repeatedly writing code!"
      ]
    },
    {
      "cell_type": "markdown",
      "metadata": {
        "id": "p3XvpmhThg9w"
      },
      "source": [
        "#9.10 Advantages of using functions"
      ]
    },
    {
      "cell_type": "markdown",
      "metadata": {
        "id": "yWjm-EaEhkiS"
      },
      "source": [
        "You might be able to see some advantages of using functions, through this example:\n",
        "\n",
        "* We write a set of instructions once. We save some work in this simple example, and we save even more work in larger programs.\n",
        "* When our function works, we don't have to worry about that code anymore. Every time you repeat code in your program, you introduce an opportunity to make a mistake. Writing a function means there is one place to fix mistakes, and when those bugs are fixed, we can be confident that this function will continue to work correctly.\n",
        "* We can modify our function's behavior, and that change takes effect every time the function is called. This is much better than deciding we need some new behavior, and then having to change code in many different places in our program.</li>\n",
        "</br>\n",
        "For a quick example, let's say we decide our printed output would look better with some form of a bulleted list. Without functions, we'd have to change each print statement. With a function, we change just the print statement in the function:"
      ]
    },
    {
      "cell_type": "code",
      "execution_count": null,
      "metadata": {
        "id": "xpEU7H56iKd6"
      },
      "outputs": [],
      "source": [
        "def show_students(students, message):\n",
        "    # Print out a message, and then the list of students\n",
        "    print(message)\n",
        "    for student in students:\n",
        "        print(\"- \" + student.title())\n",
        "\n",
        "students = ['bernice', 'aaron', 'cody']\n",
        "\n",
        "# Put students in alphabetical order.\n",
        "students.sort()\n",
        "show_students(students, \"Our students are currently in alphabetical order.\")\n",
        "\n",
        "#Put students in reverse alphabetical order.\n",
        "students.sort(reverse=True)\n",
        "show_students(students, \"\\nOur students are now in reverse alphabetical order.\")"
      ]
    },
    {
      "cell_type": "markdown",
      "metadata": {
        "id": "mI5eJCkOiM14"
      },
      "source": [
        "Our students are currently in alphabetical order.\n",
        "- Aaron\n",
        "- Bernice\n",
        "- Cody\n",
        "\n",
        "Our students are now in reverse alphabetical order.\n",
        "- Cody\n",
        "- Bernice\n",
        "- Aaron\n",
        "You can think of functions as a way to \"teach\" Python some new behavior. In this case, we taught Python how to create a list of students using hyphens; now we can tell Python to do this with our students whenever we want to."
      ]
    },
    {
      "cell_type": "markdown",
      "metadata": {
        "id": "4QyeG8Evkd2A"
      },
      "source": [
        "\n",
        "---"
      ]
    },
    {
      "cell_type": "markdown",
      "metadata": {
        "id": "MqbnV-fBjyj2"
      },
      "source": [
        "#9.11 More Functions\n",
        "\n",
        "Till here, we learned the most bare-boned versions of functions. In this section we will learn more general concepts about functions, such as how to use functions to return values, and how to pass different kinds of data structures between functions."
      ]
    },
    {
      "cell_type": "markdown",
      "metadata": {
        "id": "W_CoNCfOjyj8"
      },
      "source": [
        "#9.12 Default argument values\n",
        "\n",
        "When we first introduced functions, we started with this example:"
      ]
    },
    {
      "cell_type": "code",
      "execution_count": null,
      "metadata": {
        "id": "GLUts6q1jyj8",
        "outputId": "7a69ca0c-acf6-4323-b327-2fce0b8f8526"
      },
      "outputs": [
        {
          "name": "stdout",
          "output_type": "stream",
          "text": [
            "\n",
            "You are doing good work, Adriana!\n",
            "Thank you very much for your efforts on this project.\n",
            "\n",
            "You are doing good work, Billy!\n",
            "Thank you very much for your efforts on this project.\n",
            "\n",
            "You are doing good work, Caroline!\n",
            "Thank you very much for your efforts on this project.\n"
          ]
        }
      ],
      "source": [
        "def thank_you(name):\n",
        "    # This function prints a two-line personalized thank you message.\n",
        "    print(\"\\nYou are doing good work, %s!\" % name)\n",
        "    print(\"Thank you very much for your efforts on this project.\")\n",
        "    \n",
        "thank_you('Adriana')\n",
        "thank_you('Billy')\n",
        "thank_you('Caroline')"
      ]
    },
    {
      "cell_type": "markdown",
      "metadata": {
        "id": "lPi7J4Gwjyj_"
      },
      "source": [
        "This function works fine, but it fails if you don't pass in a value:"
      ]
    },
    {
      "cell_type": "code",
      "execution_count": null,
      "metadata": {
        "id": "IJGjWdDfjyj_",
        "outputId": "1de3f6e2-3a90-4d10-e768-ab30b3b5e67f"
      },
      "outputs": [
        {
          "ename": "TypeError",
          "evalue": "thank_you() takes exactly 1 argument (0 given)",
          "output_type": "error",
          "traceback": [
            "\u001b[0;31m---------------------------------------------------------------------------\u001b[0m\n\u001b[0;31mTypeError\u001b[0m                                 Traceback (most recent call last)",
            "\u001b[0;32m<ipython-input-2-a964f1e96d9b>\u001b[0m in \u001b[0;36m<module>\u001b[0;34m()\u001b[0m\n\u001b[1;32m      7\u001b[0m \u001b[0mthank_you\u001b[0m\u001b[0;34m(\u001b[0m\u001b[0;34m'Billy'\u001b[0m\u001b[0;34m)\u001b[0m\u001b[0;34m\u001b[0m\u001b[0m\n\u001b[1;32m      8\u001b[0m \u001b[0mthank_you\u001b[0m\u001b[0;34m(\u001b[0m\u001b[0;34m'Caroline'\u001b[0m\u001b[0;34m)\u001b[0m\u001b[0;34m\u001b[0m\u001b[0m\n\u001b[0;32m----> 9\u001b[0;31m \u001b[0mthank_you\u001b[0m\u001b[0;34m(\u001b[0m\u001b[0;34m)\u001b[0m\u001b[0;34m\u001b[0m\u001b[0m\n\u001b[0m",
            "\u001b[0;31mTypeError\u001b[0m: thank_you() takes exactly 1 argument (0 given)"
          ]
        },
        {
          "name": "stdout",
          "output_type": "stream",
          "text": [
            "\n",
            "You are doing good work, Adriana!\n",
            "Thank you very much for your efforts on this project.\n",
            "\n",
            "You are doing good work, Billy!\n",
            "Thank you very much for your efforts on this project.\n",
            "\n",
            "You are doing good work, Caroline!\n",
            "Thank you very much for your efforts on this project.\n"
          ]
        }
      ],
      "source": [
        "###highlight=[10]\n",
        "def thank_you(name):\n",
        "    # This function prints a two-line personalized thank you message.\n",
        "    print(\"\\nYou are doing good work, %s!\" % name)\n",
        "    print(\"Thank you very much for your efforts on this project.\")\n",
        "    \n",
        "thank_you('Adriana')\n",
        "thank_you('Billy')\n",
        "thank_you('Caroline')\n",
        "thank_you()"
      ]
    },
    {
      "cell_type": "markdown",
      "metadata": {
        "id": "MHUfP9ryjyj_"
      },
      "source": [
        "That makes sense; the function needs to have a name in order to do its work, so without a name it is stuck.\n",
        "\n",
        "If you want your function to do something by default, even if no information is passed to it, you can do so by giving your arguments default values. You do this by specifying the default values when you define the function:"
      ]
    },
    {
      "cell_type": "code",
      "execution_count": null,
      "metadata": {
        "id": "P4j8fv1ijykA",
        "outputId": "17fe5120-de34-4f52-db8b-e4596bbc66d1"
      },
      "outputs": [
        {
          "name": "stdout",
          "output_type": "stream",
          "text": [
            "\n",
            "You are doing good work, Adriana!\n",
            "Thank you very much for your efforts on this project.\n",
            "\n",
            "You are doing good work, Billy!\n",
            "Thank you very much for your efforts on this project.\n",
            "\n",
            "You are doing good work, Caroline!\n",
            "Thank you very much for your efforts on this project.\n",
            "\n",
            "You are doing good work, everyone!\n",
            "Thank you very much for your efforts on this project.\n"
          ]
        }
      ],
      "source": [
        "###highlight=[2,3,4,5]\n",
        "def thank_you(name='everyone'):\n",
        "    # This function prints a two-line personalized thank you message.\n",
        "    #  If no name is passed in, it prints a general thank you message\n",
        "    #  to everyone.\n",
        "    print(\"\\nYou are doing good work, %s!\" % name)\n",
        "    print(\"Thank you very much for your efforts on this project.\")\n",
        "    \n",
        "thank_you('Adriana')\n",
        "thank_you('Billy')\n",
        "thank_you('Caroline')\n",
        "thank_you()"
      ]
    },
    {
      "cell_type": "markdown",
      "metadata": {
        "id": "X3jALCbEjykB"
      },
      "source": [
        "This is particularly useful when you have a number of arguments in your function, and some of those arguments almost always have the same value. This allows people who use the function to only specify the values that are unique to their use of the function."
      ]
    },
    {
      "cell_type": "markdown",
      "metadata": {
        "id": "g9lQgwgqjykD"
      },
      "source": [
        "#9.13 Positional Arguments\n",
        "\n",
        "Much of what you will have to learn about using functions involves how to pass values from your calling statement to the function itself. The example we just looked at is pretty simple, in that the function only needed one argument in order to do its work. Let's take a look at a function that requires two arguments to do its work.\n",
        "\n",
        "Let's make a simple function that takes in three arguments. Let's make a function that takes in a person's first and last name, and then prints out everything it knows about the person.\n",
        "\n",
        "Here is a simple implementation of this function:"
      ]
    },
    {
      "cell_type": "code",
      "execution_count": null,
      "metadata": {
        "id": "04vYUr0rjykD",
        "outputId": "a7ba2bc3-bdfc-4f81-9a82-074000c17afd"
      },
      "outputs": [
        {
          "name": "stdout",
          "output_type": "stream",
          "text": [
            "First name: Brian\n",
            "Last name: Kernighan\n",
            "Age: 71\n",
            "\n",
            "First name: Ken\n",
            "Last name: Thompson\n",
            "Age: 70\n",
            "\n",
            "First name: Adele\n",
            "Last name: Goldberg\n",
            "Age: 68\n",
            "\n"
          ]
        }
      ],
      "source": [
        "def describe_person(first_name, last_name, age):\n",
        "    # This function takes in a person's first and last name,\n",
        "    #  and their age.\n",
        "    # It then prints this information out in a simple format.\n",
        "    print(\"First name: %s\" % first_name.title())\n",
        "    print(\"Last name: %s\" % last_name.title())\n",
        "    print(\"Age: %d\\n\" % age)\n",
        "\n",
        "describe_person('brian', 'kernighan', 71)\n",
        "describe_person('ken', 'thompson', 70)\n",
        "describe_person('adele', 'goldberg', 68)"
      ]
    },
    {
      "cell_type": "markdown",
      "metadata": {
        "id": "EB5xPe6RjykD"
      },
      "source": [
        "The arguments in this function are `first_name`, `last_name`, and `age`. These are called *positional arguments* because Python knows which value to assign to each by the order in which you give the function values. In the calling line\n",
        "\n",
        "    describe_person('brian', 'kernighan', 71)\n",
        "\n",
        "we send the values *brian*, *kernighan*, and *71* to the function. Python matches the first value *brian* with the first argument `first_name`. It matches the second value *kernighan* with the second argument `last_name`. Finally it matches the third value *71* with the third argument `age`.\n",
        "\n",
        "This is pretty straightforward, but it means we have to make sure to get the arguments in the right order. If we mess up the order, we get nonsense results or an error:"
      ]
    },
    {
      "cell_type": "code",
      "execution_count": null,
      "metadata": {
        "id": "s1tre_UUjykE",
        "outputId": "7ec34d2c-5688-4125-8554-6f9c2b67e26d"
      },
      "outputs": [
        {
          "ename": "AttributeError",
          "evalue": "'int' object has no attribute 'title'",
          "output_type": "error",
          "traceback": [
            "\u001b[0;31m---------------------------------------------------------------------------\u001b[0m\n\u001b[0;31mAttributeError\u001b[0m                            Traceback (most recent call last)",
            "\u001b[0;32m<ipython-input-23-59fb6d0341c1>\u001b[0m in \u001b[0;36m<module>\u001b[0;34m()\u001b[0m\n\u001b[1;32m      7\u001b[0m     \u001b[0;32mprint\u001b[0m\u001b[0;34m(\u001b[0m\u001b[0;34m\"Age: %d\\n\"\u001b[0m \u001b[0;34m%\u001b[0m \u001b[0mage\u001b[0m\u001b[0;34m)\u001b[0m\u001b[0;34m\u001b[0m\u001b[0m\n\u001b[1;32m      8\u001b[0m \u001b[0;34m\u001b[0m\u001b[0m\n\u001b[0;32m----> 9\u001b[0;31m \u001b[0mdescribe_person\u001b[0m\u001b[0;34m(\u001b[0m\u001b[0;36m71\u001b[0m\u001b[0;34m,\u001b[0m \u001b[0;34m'brian'\u001b[0m\u001b[0;34m,\u001b[0m \u001b[0;34m'kernighan'\u001b[0m\u001b[0;34m)\u001b[0m\u001b[0;34m\u001b[0m\u001b[0m\n\u001b[0m\u001b[1;32m     10\u001b[0m \u001b[0mdescribe_person\u001b[0m\u001b[0;34m(\u001b[0m\u001b[0;36m70\u001b[0m\u001b[0;34m,\u001b[0m \u001b[0;34m'ken'\u001b[0m\u001b[0;34m,\u001b[0m \u001b[0;34m'thompson'\u001b[0m\u001b[0;34m)\u001b[0m\u001b[0;34m\u001b[0m\u001b[0m\n\u001b[1;32m     11\u001b[0m \u001b[0mdescribe_person\u001b[0m\u001b[0;34m(\u001b[0m\u001b[0;36m68\u001b[0m\u001b[0;34m,\u001b[0m \u001b[0;34m'adele'\u001b[0m\u001b[0;34m,\u001b[0m \u001b[0;34m'goldberg'\u001b[0m\u001b[0;34m)\u001b[0m\u001b[0;34m\u001b[0m\u001b[0m\n",
            "\u001b[0;32m<ipython-input-23-59fb6d0341c1>\u001b[0m in \u001b[0;36mdescribe_person\u001b[0;34m(first_name, last_name, age)\u001b[0m\n\u001b[1;32m      3\u001b[0m     \u001b[0;31m#  and their age.\u001b[0m\u001b[0;34m\u001b[0m\u001b[0;34m\u001b[0m\u001b[0m\n\u001b[1;32m      4\u001b[0m     \u001b[0;31m# It then prints this information out in a simple format.\u001b[0m\u001b[0;34m\u001b[0m\u001b[0;34m\u001b[0m\u001b[0m\n\u001b[0;32m----> 5\u001b[0;31m     \u001b[0;32mprint\u001b[0m\u001b[0;34m(\u001b[0m\u001b[0;34m\"First name: %s\"\u001b[0m \u001b[0;34m%\u001b[0m \u001b[0mfirst_name\u001b[0m\u001b[0;34m.\u001b[0m\u001b[0mtitle\u001b[0m\u001b[0;34m(\u001b[0m\u001b[0;34m)\u001b[0m\u001b[0;34m)\u001b[0m\u001b[0;34m\u001b[0m\u001b[0m\n\u001b[0m\u001b[1;32m      6\u001b[0m     \u001b[0;32mprint\u001b[0m\u001b[0;34m(\u001b[0m\u001b[0;34m\"Last name: %s\"\u001b[0m \u001b[0;34m%\u001b[0m \u001b[0mlast_name\u001b[0m\u001b[0;34m.\u001b[0m\u001b[0mtitle\u001b[0m\u001b[0;34m(\u001b[0m\u001b[0;34m)\u001b[0m\u001b[0;34m)\u001b[0m\u001b[0;34m\u001b[0m\u001b[0m\n\u001b[1;32m      7\u001b[0m     \u001b[0;32mprint\u001b[0m\u001b[0;34m(\u001b[0m\u001b[0;34m\"Age: %d\\n\"\u001b[0m \u001b[0;34m%\u001b[0m \u001b[0mage\u001b[0m\u001b[0;34m)\u001b[0m\u001b[0;34m\u001b[0m\u001b[0m\n",
            "\u001b[0;31mAttributeError\u001b[0m: 'int' object has no attribute 'title'"
          ]
        }
      ],
      "source": [
        "###highlight=[10,11,12]\n",
        "def describe_person(first_name, last_name, age):\n",
        "    # This function takes in a person's first and last name,\n",
        "    #  and their age.\n",
        "    # It then prints this information out in a simple format.\n",
        "    print(\"First name: %s\" % first_name.title())\n",
        "    print(\"Last name: %s\" % last_name.title())\n",
        "    print(\"Age: %d\\n\" % age)\n",
        "\n",
        "describe_person(71, 'brian', 'kernighan')\n",
        "describe_person(70, 'ken', 'thompson')\n",
        "describe_person(68, 'adele', 'goldberg')"
      ]
    },
    {
      "cell_type": "markdown",
      "metadata": {
        "id": "7-SLvSvFjykE"
      },
      "source": [
        "This fails because Python tries to match the value 71 with the argument `first_name`, the value *brian* with the argument `last_name`, and the value *kernighan* with the argument `age`. Then when it tries to print the value `first_name.title()`, it realizes it can't use the title() method on an integer."
      ]
    },
    {
      "cell_type": "markdown",
      "metadata": {
        "id": "u_GMXxbTjykF"
      },
      "source": [
        "#9.14 Keyword arguments\n",
        "\n",
        "Python allows us to use a syntax called *keyword arguments*. In this case, we can give the arguments in any order when we call the function, as long as we use the name of the arguments in our calling statement. Here is how the previous code can be made to work using keyword arguments:"
      ]
    },
    {
      "cell_type": "code",
      "execution_count": null,
      "metadata": {
        "id": "xqlAqaFcjykF",
        "outputId": "c9502bb6-7211-43b2-e796-7346dd97522a"
      },
      "outputs": [
        {
          "name": "stdout",
          "output_type": "stream",
          "text": [
            "First name: Brian\n",
            "Last name: Kernighan\n",
            "Age: 71\n",
            "\n",
            "First name: Ken\n",
            "Last name: Thompson\n",
            "Age: 70\n",
            "\n",
            "First name: Adele\n",
            "Last name: Goldberg\n",
            "Age: 68\n",
            "\n"
          ]
        }
      ],
      "source": [
        "def describe_person(first_name, last_name, age):\n",
        "    # This function takes in a person's first and last name,\n",
        "    #  and their age.\n",
        "    # It then prints this information out in a simple format.\n",
        "    print(\"First name: %s\" % first_name.title())\n",
        "    print(\"Last name: %s\" % last_name.title())\n",
        "    print(\"Age: %d\\n\" % age)\n",
        "\n",
        "describe_person(age=71, first_name='brian', last_name='kernighan')\n",
        "describe_person(age=70, first_name='ken', last_name='thompson')\n",
        "describe_person(age=68, first_name='adele', last_name='goldberg')"
      ]
    },
    {
      "cell_type": "markdown",
      "metadata": {
        "id": "uPCrFYI1jykG"
      },
      "source": [
        "This works, because Python does not have to match values to arguments by position. It matches the value 71 with the argument `age`, because the value 71 is clearly marked to go with that argument. This syntax is a little more typing, but it makes for very readable code."
      ]
    },
    {
      "cell_type": "markdown",
      "metadata": {
        "id": "67sj47XwjykG"
      },
      "source": [
        "##9.141 Mixing positional and keyword arguments\n",
        "\n",
        "It can make good sense sometimes to mix positional and keyword arguments. In our previous example, we can expect this function to always take in a first name and a last name. Before we start mixing positional and keyword arguments, let's add another piece of information to our description of a person. Let's also go back to using just positional arguments for a moment:"
      ]
    },
    {
      "cell_type": "code",
      "execution_count": null,
      "metadata": {
        "id": "VKEipuD3jykG",
        "outputId": "e8459c88-7fda-412a-e1c7-165427b9bb37"
      },
      "outputs": [
        {
          "name": "stdout",
          "output_type": "stream",
          "text": [
            "First name: Brian\n",
            "Last name: Kernighan\n",
            "Age: 71\n",
            "Favorite language: C\n",
            "\n",
            "First name: Ken\n",
            "Last name: Thompson\n",
            "Age: 70\n",
            "Favorite language: Go\n",
            "\n",
            "First name: Adele\n",
            "Last name: Goldberg\n",
            "Age: 68\n",
            "Favorite language: Smalltalk\n",
            "\n"
          ]
        }
      ],
      "source": [
        "def describe_person(first_name, last_name, age, favorite_language):\n",
        "    # This function takes in a person's first and last name,\n",
        "    #  their age, and their favorite language.\n",
        "    # It then prints this information out in a simple format.\n",
        "    print(\"First name: %s\" % first_name.title())\n",
        "    print(\"Last name: %s\" % last_name.title())\n",
        "    print(\"Age: %d\" % age)\n",
        "    print(\"Favorite language: %s\\n\" % favorite_language)\n",
        "\n",
        "describe_person('brian', 'kernighan', 71, 'C')\n",
        "describe_person('ken', 'thompson', 70, 'Go')\n",
        "describe_person('adele', 'goldberg', 68, 'Smalltalk')"
      ]
    },
    {
      "cell_type": "markdown",
      "metadata": {
        "id": "PL7qRtZRjykH"
      },
      "source": [
        "We can expect anyone who uses this function to supply a first name and a last name, in that order. But now we are starting to include some information that might not apply to everyone. We can address this by keeping positional arguments for the first name and last name, but expect keyword arguments for everything else. We can show this works by adding a few more people, and having different information about each person:"
      ]
    },
    {
      "cell_type": "code",
      "execution_count": null,
      "metadata": {
        "id": "LYgy2j8DjykH",
        "outputId": "ab841cab-dbcc-4c1f-bfcd-9850fb671211"
      },
      "outputs": [
        {
          "name": "stdout",
          "output_type": "stream",
          "text": [
            "First name: Brian\n",
            "Last name: Kernighan\n",
            "Favorite language: C\n",
            "\n",
            "\n",
            "First name: Ken\n",
            "Last name: Thompson\n",
            "Age: 70\n",
            "\n",
            "\n",
            "First name: Adele\n",
            "Last name: Goldberg\n",
            "Age: 68\n",
            "Favorite language: Smalltalk\n",
            "\n",
            "\n",
            "First name: Dennis\n",
            "Last name: Ritchie\n",
            "Favorite language: C\n",
            "Died: 2011\n",
            "\n",
            "\n",
            "First name: Guido\n",
            "Last name: Van Rossum\n",
            "Favorite language: Python\n",
            "\n",
            "\n"
          ]
        }
      ],
      "source": [
        "###highlight=[2,7,8,9,10,11,12,13,14,15,16,17,18,19,20,22,23,24,25,26]\n",
        "def describe_person(first_name, last_name, age=None, favorite_language=None, died=None):\n",
        "    # This function takes in a person's first and last name,\n",
        "    #  their age, and their favorite language.\n",
        "    # It then prints this information out in a simple format.\n",
        "    \n",
        "    # Required information:\n",
        "    print(\"First name: %s\" % first_name.title())\n",
        "    print(\"Last name: %s\" % last_name.title())\n",
        "    \n",
        "    # Optional information:\n",
        "    if age:\n",
        "        print(\"Age: %d\" % age)\n",
        "    if favorite_language:\n",
        "        print(\"Favorite language: %s\" % favorite_language)\n",
        "    if died:\n",
        "        print(\"Died: %d\" % died)\n",
        "    \n",
        "    # Blank line at end.\n",
        "    print(\"\\n\")\n",
        "\n",
        "describe_person('brian', 'kernighan', favorite_language='C')\n",
        "describe_person('ken', 'thompson', age=70)\n",
        "describe_person('adele', 'goldberg', age=68, favorite_language='Smalltalk')\n",
        "describe_person('dennis', 'ritchie', favorite_language='C', died=2011)\n",
        "describe_person('guido', 'van rossum', favorite_language='Python')"
      ]
    },
    {
      "cell_type": "markdown",
      "metadata": {
        "id": "iu_n6GbcjykH"
      },
      "source": [
        "Everyone needs a first and last name, but everthing else is optional. This code takes advantage of the Python keyword `None`, which acts as an empty value for a variable. This way, the user is free to supply any of the 'extra' values they care to. Any arguments that don't receive a value are not displayed. Python matches these extra values by name, rather than by position. This is a very common and useful way to define functions."
      ]
    },
    {
      "cell_type": "markdown",
      "metadata": {
        "id": "Q4kdIcpLjykI"
      },
      "source": [
        "#9.15 Accepting an arbitrary number of arguments\n",
        "\n",
        "We have now seen that using keyword arguments can allow for much more flexible calling statements.\n",
        "\n",
        "- This benefits you in your own programs, because you can write one function that can handle many different situations you might encounter.\n",
        "- This benefits you if other programmers use your programs, because your functions can apply to a wide range of situations.\n",
        "- This benefits you when you use other programmers' functions, because their functions can apply to many situations you will care about.\n",
        "\n",
        "There is another issue that we can address, though. Let's consider a function that takes two number in, and prints out the sum of the two numbers:"
      ]
    },
    {
      "cell_type": "code",
      "execution_count": null,
      "metadata": {
        "id": "iCKC6B51jykJ",
        "outputId": "620ddad1-ad29-4fcf-f8cc-32e8891d7f60"
      },
      "outputs": [
        {
          "name": "stdout",
          "output_type": "stream",
          "text": [
            "The sum of your numbers is 3.\n",
            "The sum of your numbers is 1.\n",
            "The sum of your numbers is -1.\n"
          ]
        }
      ],
      "source": [
        "def adder(num_1, num_2):\n",
        "    # This function adds two numbers together, and prints the sum.\n",
        "    sum = num_1 + num_2\n",
        "    print(\"The sum of your numbers is %d.\" % sum)\n",
        "    \n",
        "# Let's add some numbers.\n",
        "adder(1, 2)\n",
        "adder(-1, 2)\n",
        "adder(1, -2)"
      ]
    },
    {
      "cell_type": "markdown",
      "metadata": {
        "id": "R2dPD8BVjykJ"
      },
      "source": [
        "This function appears to work well. But what if we pass it three numbers, which is a perfectly reasonable thing to do mathematically?"
      ]
    },
    {
      "cell_type": "code",
      "execution_count": null,
      "metadata": {
        "id": "MMg8mOXljykJ",
        "outputId": "2bb031cd-a463-49c8-d777-f63c145b0442"
      },
      "outputs": [
        {
          "ename": "TypeError",
          "evalue": "adder() takes exactly 2 arguments (3 given)",
          "output_type": "error",
          "traceback": [
            "\u001b[0;31m---------------------------------------------------------------------------\u001b[0m\n\u001b[0;31mTypeError\u001b[0m                                 Traceback (most recent call last)",
            "\u001b[0;32m<ipython-input-40-9939998d2a01>\u001b[0m in \u001b[0;36m<module>\u001b[0;34m()\u001b[0m\n\u001b[1;32m      5\u001b[0m \u001b[0;34m\u001b[0m\u001b[0m\n\u001b[1;32m      6\u001b[0m \u001b[0;31m# Let's add some numbers.\u001b[0m\u001b[0;34m\u001b[0m\u001b[0;34m\u001b[0m\u001b[0m\n\u001b[0;32m----> 7\u001b[0;31m \u001b[0madder\u001b[0m\u001b[0;34m(\u001b[0m\u001b[0;36m1\u001b[0m\u001b[0;34m,\u001b[0m \u001b[0;36m2\u001b[0m\u001b[0;34m,\u001b[0m \u001b[0;36m3\u001b[0m\u001b[0;34m)\u001b[0m\u001b[0;34m\u001b[0m\u001b[0m\n\u001b[0m",
            "\u001b[0;31mTypeError\u001b[0m: adder() takes exactly 2 arguments (3 given)"
          ]
        }
      ],
      "source": [
        "###highlight=[8]\n",
        "def adder(num_1, num_2):\n",
        "    # This function adds two numbers together, and prints the sum.\n",
        "    sum = num_1 + num_2\n",
        "    print(\"The sum of your numbers is %d.\" % sum)\n",
        "    \n",
        "# Let's add some numbers.\n",
        "adder(1, 2, 3)"
      ]
    },
    {
      "cell_type": "markdown",
      "metadata": {
        "id": "EbxOhuIzjykK"
      },
      "source": [
        "This function fails, because no matter what mix of positional and keyword arguments we use, the function is only written two accept two arguments. In fact, a function written in this way will only work with *exactly* two arguments."
      ]
    },
    {
      "cell_type": "markdown",
      "metadata": {
        "id": "zE7AcMUijykK"
      },
      "source": [
        "#9.16 Accepting a sequence of arbitrary length\n",
        "\n",
        "Python gives us a syntax for letting a function accept an arbitrary number of arguments. If we place an argument at the end of the list of arguments, with an asterisk in front of it, that argument will collect any remaining values from the calling statement into a tuple. Here is an example demonstrating how this works:"
      ]
    },
    {
      "cell_type": "code",
      "execution_count": null,
      "metadata": {
        "id": "H-JUnkN2jykL",
        "outputId": "3706e3a6-0917-4a6d-dfb7-dd72a27a97c4"
      },
      "outputs": [
        {
          "name": "stdout",
          "output_type": "stream",
          "text": [
            "\n",
            "arg_1: 1\n",
            "arg_2: 2\n",
            "arg_3: ()\n",
            "\n",
            "arg_1: 1\n",
            "arg_2: 2\n",
            "arg_3: (3,)\n",
            "\n",
            "arg_1: 1\n",
            "arg_2: 2\n",
            "arg_3: (3, 4)\n",
            "\n",
            "arg_1: 1\n",
            "arg_2: 2\n",
            "arg_3: (3, 4, 5)\n"
          ]
        }
      ],
      "source": [
        "def example_function(arg_1, arg_2, *arg_3):\n",
        "    # Let's look at the argument values.\n",
        "    print('\\narg_1:', arg_1)\n",
        "    print('arg_2:', arg_2)\n",
        "    print('arg_3:', arg_3)\n",
        "    \n",
        "example_function(1, 2)\n",
        "example_function(1, 2, 3)\n",
        "example_function(1, 2, 3, 4)\n",
        "example_function(1, 2, 3, 4, 5)"
      ]
    },
    {
      "cell_type": "markdown",
      "metadata": {
        "id": "xtphZFvLjykL"
      },
      "source": [
        "You can use a for loop to process these other arguments:"
      ]
    },
    {
      "cell_type": "code",
      "execution_count": null,
      "metadata": {
        "id": "aQObOR2GjykL",
        "outputId": "becbe302-1b6d-4cd9-8afd-fb5f5b275903"
      },
      "outputs": [
        {
          "name": "stdout",
          "output_type": "stream",
          "text": [
            "\n",
            "arg_1: 1\n",
            "arg_2: 2\n",
            "\n",
            "arg_1: 1\n",
            "arg_2: 2\n",
            "arg_3 value: 3\n",
            "\n",
            "arg_1: 1\n",
            "arg_2: 2\n",
            "arg_3 value: 3\n",
            "arg_3 value: 4\n",
            "\n",
            "arg_1: 1\n",
            "arg_2: 2\n",
            "arg_3 value: 3\n",
            "arg_3 value: 4\n",
            "arg_3 value: 5\n"
          ]
        }
      ],
      "source": [
        "###highlight=[6,7]\n",
        "def example_function(arg_1, arg_2, *arg_3):\n",
        "    # Let's look at the argument values.\n",
        "    print('\\narg_1:', arg_1)\n",
        "    print('arg_2:', arg_2)\n",
        "    for value in arg_3:\n",
        "        print('arg_3 value:', value)\n",
        "\n",
        "example_function(1, 2)\n",
        "example_function(1, 2, 3)\n",
        "example_function(1, 2, 3, 4)\n",
        "example_function(1, 2, 3, 4, 5)"
      ]
    },
    {
      "cell_type": "markdown",
      "metadata": {
        "id": "KeDmprl0jykM"
      },
      "source": [
        "We can now rewrite the adder() function to accept two or more arguments, and print the sum of those numbers:"
      ]
    },
    {
      "cell_type": "code",
      "execution_count": null,
      "metadata": {
        "id": "Wxe7EFPPjykM",
        "outputId": "1ee44722-81df-43d4-cb9d-e614f9620665"
      },
      "outputs": [
        {
          "name": "stdout",
          "output_type": "stream",
          "text": [
            "The sum of your numbers is 6.\n"
          ]
        }
      ],
      "source": [
        "def adder(num_1, num_2, *nums):\n",
        "    # This function adds the given numbers together,\n",
        "    #  and prints the sum.\n",
        "    \n",
        "    # Start by adding the first two numbers, which\n",
        "    #  will always be present.\n",
        "    sum = num_1 + num_2\n",
        "    \n",
        "    # Then add any other numbers that were sent.\n",
        "    for num in nums:\n",
        "        sum = sum + num\n",
        "        \n",
        "    # Print the results.\n",
        "    print(\"The sum of your numbers is %d.\" % sum)\n",
        "    \n",
        "# Let's add some numbers.\n",
        "adder(1, 2, 3)"
      ]
    },
    {
      "cell_type": "markdown",
      "metadata": {
        "id": "XzblwyJLjykM"
      },
      "source": [
        "In this new version, Python does the following:\n",
        "\n",
        "- stores the first value in the calling statement in the argument `num_1`;\n",
        "- stores the second value in the calling statement in the argument `num_2`;\n",
        "- stores all other values in the calling statement as a tuple in the argument `nums`.\n",
        "\n",
        "We can then \"unpack\" these values, using a for loop. We can demonstrate how flexible this function is by calling it a number of times, with a different number of arguments each time."
      ]
    },
    {
      "cell_type": "code",
      "execution_count": null,
      "metadata": {
        "id": "6rC0TJAojykM",
        "outputId": "12726d94-d320-4a2e-e821-b2daa4c1398c"
      },
      "outputs": [
        {
          "name": "stdout",
          "output_type": "stream",
          "text": [
            "The sum of your numbers is 3.\n",
            "The sum of your numbers is 6.\n",
            "The sum of your numbers is 10.\n",
            "The sum of your numbers is 15.\n"
          ]
        }
      ],
      "source": [
        "###highlight=[19,20,21,22]\n",
        "def adder(num_1, num_2, *nums):\n",
        "    # This function adds the given numbers together,\n",
        "    #  and prints the sum.\n",
        "    \n",
        "    # Start by adding the first two numbers, which\n",
        "    #  will always be present.\n",
        "    sum = num_1 + num_2\n",
        "    \n",
        "    # Then add any other numbers that were sent.\n",
        "    for num in nums:\n",
        "        sum = sum + num\n",
        "        \n",
        "    # Print the results.\n",
        "    print(\"The sum of your numbers is %d.\" % sum)\n",
        "\n",
        "    \n",
        "# Let's add some numbers.\n",
        "adder(1, 2)\n",
        "adder(1, 2, 3)\n",
        "adder(1, 2, 3, 4)\n",
        "adder(1, 2, 3, 4, 5)"
      ]
    },
    {
      "cell_type": "markdown",
      "metadata": {
        "id": "G4nxTJbQjykN"
      },
      "source": [
        "#9.17 Accepting an arbitrary number of keyword arguments\n",
        "\n",
        "Python also provides a syntax for accepting an arbitrary number of keyword arguments. The syntax looks like this:"
      ]
    },
    {
      "cell_type": "code",
      "execution_count": null,
      "metadata": {
        "id": "mSS2VxeqjykN",
        "outputId": "84200c6e-c86c-48b2-8627-22ba721e6538"
      },
      "outputs": [
        {
          "name": "stdout",
          "output_type": "stream",
          "text": [
            "\n",
            "arg_1: a\n",
            "arg_2: b\n",
            "arg_3: {}\n",
            "\n",
            "arg_1: a\n",
            "arg_2: b\n",
            "arg_3: {'value_3': 'c'}\n",
            "\n",
            "arg_1: a\n",
            "arg_2: b\n",
            "arg_3: {'value_4': 'd', 'value_3': 'c'}\n",
            "\n",
            "arg_1: a\n",
            "arg_2: b\n",
            "arg_3: {'value_5': 'e', 'value_4': 'd', 'value_3': 'c'}\n"
          ]
        }
      ],
      "source": [
        "def example_function(arg_1, arg_2, **kwargs):\n",
        "    # Let's look at the argument values.\n",
        "    print('\\narg_1:', arg_1)\n",
        "    print('arg_2:', arg_2)\n",
        "    print('arg_3:', kwargs)\n",
        "    \n",
        "example_function('a', 'b')\n",
        "example_function('a', 'b', value_3='c')\n",
        "example_function('a', 'b', value_3='c', value_4='d')\n",
        "example_function('a', 'b', value_3='c', value_4='d', value_5='e')"
      ]
    },
    {
      "cell_type": "markdown",
      "metadata": {
        "id": "no7OnXEvjykO"
      },
      "source": [
        "The third argument has two asterisks in front of it, which tells Python to collect all remaining key-value arguments in the calling statement. This argument is commonly named *kwargs*. We see in the output that these key-values are stored in a dictionary. We can loop through this dictionary to work with all of the values that are passed into the function:"
      ]
    },
    {
      "cell_type": "code",
      "execution_count": null,
      "metadata": {
        "id": "Wt-TmjC7jykO",
        "outputId": "b66fbe9e-83b9-4d86-c2b4-c52b5ffbe40d"
      },
      "outputs": [
        {
          "name": "stdout",
          "output_type": "stream",
          "text": [
            "\n",
            "arg_1: a\n",
            "arg_2: b\n",
            "\n",
            "arg_1: a\n",
            "arg_2: b\n",
            "arg_3 value: c\n",
            "\n",
            "arg_1: a\n",
            "arg_2: b\n",
            "arg_3 value: d\n",
            "arg_3 value: c\n",
            "\n",
            "arg_1: a\n",
            "arg_2: b\n",
            "arg_3 value: e\n",
            "arg_3 value: d\n",
            "arg_3 value: c\n"
          ]
        }
      ],
      "source": [
        "###highlight=[6,7]\n",
        "def example_function(arg_1, arg_2, **kwargs):\n",
        "    # Let's look at the argument values.\n",
        "    print('\\narg_1:', arg_1)\n",
        "    print('arg_2:', arg_2)\n",
        "    for key, value in kwargs.items():\n",
        "        print('arg_3 value:', value)\n",
        "    \n",
        "example_function('a', 'b')\n",
        "example_function('a', 'b', value_3='c')\n",
        "example_function('a', 'b', value_3='c', value_4='d')\n",
        "example_function('a', 'b', value_3='c', value_4='d', value_5='e')"
      ]
    },
    {
      "cell_type": "markdown",
      "metadata": {
        "id": "A4K7EocjjykO"
      },
      "source": [
        "Earlier we created a function that let us describe a person, and we had three things we could describe about a person. We could include their age, their favorite language, and the date they passed away. But that was the only information we could include, because it was the only information that the function was prepared to handle:"
      ]
    },
    {
      "cell_type": "code",
      "execution_count": null,
      "metadata": {
        "id": "bqjVRuLWjykP",
        "outputId": "e01adfb6-f95e-402b-8cec-45c3d2afe836"
      },
      "outputs": [
        {
          "name": "stdout",
          "output_type": "stream",
          "text": [
            "First name: Brian\n",
            "Last name: Kernighan\n",
            "Favorite language: C\n",
            "\n",
            "\n",
            "First name: Ken\n",
            "Last name: Thompson\n",
            "Age: 70\n",
            "\n",
            "\n",
            "First name: Adele\n",
            "Last name: Goldberg\n",
            "Age: 68\n",
            "Favorite language: Smalltalk\n",
            "\n",
            "\n",
            "First name: Dennis\n",
            "Last name: Ritchie\n",
            "Favorite language: C\n",
            "Died: 2011\n",
            "\n",
            "\n",
            "First name: Guido\n",
            "Last name: Van Rossum\n",
            "Favorite language: Python\n",
            "\n",
            "\n"
          ]
        }
      ],
      "source": [
        "def describe_person(first_name, last_name, age=None, favorite_language=None, died=None):\n",
        "    # This function takes in a person's first and last name,\n",
        "    #  their age, and their favorite language.\n",
        "    # It then prints this information out in a simple format.\n",
        "    \n",
        "    # Required information:\n",
        "    print(\"First name: %s\" % first_name.title())\n",
        "    print(\"Last name: %s\" % last_name.title())\n",
        "    \n",
        "    # Optional information:\n",
        "    if age:\n",
        "        print(\"Age: %d\" % age)\n",
        "    if favorite_language:\n",
        "        print(\"Favorite language: %s\" % favorite_language)\n",
        "    if died:\n",
        "        print(\"Died: %d\" % died)\n",
        "    \n",
        "    # Blank line at end.\n",
        "    print(\"\\n\")\n",
        "\n",
        "describe_person('brian', 'kernighan', favorite_language='C')\n",
        "describe_person('ken', 'thompson', age=70)\n",
        "describe_person('adele', 'goldberg', age=68, favorite_language='Smalltalk')\n",
        "describe_person('dennis', 'ritchie', favorite_language='C', died=2011)\n",
        "describe_person('guido', 'van rossum', favorite_language='Python')"
      ]
    },
    {
      "cell_type": "markdown",
      "metadata": {
        "id": "6Uzf9PRajykP"
      },
      "source": [
        "We can make this function much more flexible by accepting any number of keyword arguments. Here is what the function looks like, using the syntax for accepting as many keyword arguments as the caller wants to provide:"
      ]
    },
    {
      "cell_type": "code",
      "execution_count": null,
      "metadata": {
        "id": "eXS-JG84jykP",
        "outputId": "7c8ae019-d0d3-4938-99c3-c81add804026"
      },
      "outputs": [
        {
          "name": "stdout",
          "output_type": "stream",
          "text": [
            "First name: Brian\n",
            "Last name: Kernighan\n",
            "Favorite_Language: C\n",
            "\n",
            "\n",
            "First name: Ken\n",
            "Last name: Thompson\n",
            "Age: 70\n",
            "\n",
            "\n",
            "First name: Adele\n",
            "Last name: Goldberg\n",
            "Age: 68\n",
            "Favorite_Language: Smalltalk\n",
            "\n",
            "\n",
            "First name: Dennis\n",
            "Last name: Ritchie\n",
            "Favorite_Language: C\n",
            "Died: 2011\n",
            "\n",
            "\n",
            "First name: Guido\n",
            "Last name: Van Rossum\n",
            "Favorite_Language: Python\n",
            "\n",
            "\n"
          ]
        }
      ],
      "source": [
        "###highlight=[2,3,4,10,11,12]\n",
        "def describe_person(first_name, last_name, **kwargs):\n",
        "    # This function takes in a person's first and last name,\n",
        "    #  and then an arbitrary number of keyword arguments.\n",
        "    \n",
        "    # Required information:\n",
        "    print(\"First name: %s\" % first_name.title())\n",
        "    print(\"Last name: %s\" % last_name.title())\n",
        "    \n",
        "    # Optional information:\n",
        "    for key in kwargs:\n",
        "        print(\"%s: %s\" % (key.title(), kwargs[key]))\n",
        "    \n",
        "    # Blank line at end.\n",
        "    print(\"\\n\")\n",
        "\n",
        "describe_person('brian', 'kernighan', favorite_language='C')\n",
        "describe_person('ken', 'thompson', age=70)\n",
        "describe_person('adele', 'goldberg', age=68, favorite_language='Smalltalk')\n",
        "describe_person('dennis', 'ritchie', favorite_language='C', died=2011)\n",
        "describe_person('guido', 'van rossum', favorite_language='Python')"
      ]
    },
    {
      "cell_type": "markdown",
      "metadata": {
        "id": "kFE_ebcGjykQ"
      },
      "source": [
        "This is pretty neat. We get the same output, and we don't have to include a bunch of if tests to see what kind of information was passed into the function. We always require a first name and a last name, but beyond that the caller is free to provide any keyword-value pair to describe a person. Let's show that any kind of information can be provided to this function. We also clean up the output by replacing any underscores in the keys with a space."
      ]
    },
    {
      "cell_type": "code",
      "execution_count": null,
      "metadata": {
        "id": "T-pPrew0jykQ",
        "outputId": "11c17e00-48a2-4bee-dac9-4338e75d37a3"
      },
      "outputs": [
        {
          "name": "stdout",
          "output_type": "stream",
          "text": [
            "First name: Brian\n",
            "Last name: Kernighan\n",
            "Famous Book: The C Programming Language\n",
            "Favorite Language: C\n",
            "\n",
            "\n",
            "First name: Ken\n",
            "Last name: Thompson\n",
            "Alma Mater: UC Berkeley\n",
            "Age: 70\n",
            "\n",
            "\n",
            "First name: Adele\n",
            "Last name: Goldberg\n",
            "Age: 68\n",
            "Favorite Language: Smalltalk\n",
            "\n",
            "\n",
            "First name: Dennis\n",
            "Last name: Ritchie\n",
            "Famous Book: The C Programming Language\n",
            "Favorite Language: C\n",
            "Died: 2011\n",
            "\n",
            "\n",
            "First name: Guido\n",
            "Last name: Van Rossum\n",
            "Company: Dropbox\n",
            "Favorite Language: Python\n",
            "\n",
            "\n"
          ]
        }
      ],
      "source": [
        "###highlight=[12,17,18,19,20,21]\n",
        "def describe_person(first_name, last_name, **kwargs):\n",
        "    # This function takes in a person's first and last name,\n",
        "    #  and then an arbitrary number of keyword arguments.\n",
        "    \n",
        "    # Required information:\n",
        "    print(\"First name: %s\" % first_name.title())\n",
        "    print(\"Last name: %s\" % last_name.title())\n",
        "    \n",
        "    # Optional information:\n",
        "    for key in kwargs:\n",
        "        print(\"%s: %s\" % (key.title().replace('_', ' '), kwargs[key]))\n",
        "    \n",
        "    # Blank line at end.\n",
        "    print(\"\\n\")\n",
        "\n",
        "describe_person('brian', 'kernighan', favorite_language='C', famous_book='The C Programming Language')\n",
        "describe_person('ken', 'thompson', age=70, alma_mater='UC Berkeley')\n",
        "describe_person('adele', 'goldberg', age=68, favorite_language='Smalltalk')\n",
        "describe_person('dennis', 'ritchie', favorite_language='C', died=2011, famous_book='The C Programming Language')\n",
        "describe_person('guido', 'van rossum', favorite_language='Python', company='Dropbox')"
      ]
    },
    {
      "cell_type": "markdown",
      "metadata": {
        "id": "aqMOAd92jykQ"
      },
      "source": [
        "There is plenty more to learn about using functions, but with all of this flexibility in terms of how to accept arguments for your functions you should be able to write simple, clean functions that do exactly what you need them to do."
      ]
    },
    {
      "cell_type": "markdown",
      "metadata": {
        "id": "mXWtReVHo979"
      },
      "source": [
        "#9.18 Recursive Function\n",
        "\n",
        "Consider, calculating the factorial of a number is a repetitive activity, in that case, we can call a function again and again, which calculates factorial.\n",
        "\n",
        "factorial(5)\n",
        "    \n",
        "<li>5*factorial(4)</li>\n",
        "<li>5*4*factorial(3)</li>\n",
        "<li>5*4*3*factorial(2)</li>\n",
        "<li>5*4*3*2*factorial(1)</li>\n",
        "<li>5*4*3*2*1 = 120</li>"
      ]
    },
    {
      "cell_type": "markdown",
      "metadata": {
        "id": "fLQGreBSpfmp"
      },
      "source": [
        "Example"
      ]
    },
    {
      "cell_type": "code",
      "execution_count": null,
      "metadata": {
        "colab": {
          "base_uri": "https://localhost:8080/"
        },
        "id": "JSH8m0tqpefP",
        "outputId": "9f6488bf-8185-493e-a033-1e5c0471ac6b"
      },
      "outputs": [
        {
          "name": "stdout",
          "output_type": "stream",
          "text": [
            "factorial of a number is: 40320\n"
          ]
        }
      ],
      "source": [
        "def factorial(no):\n",
        "    if no == 0:\n",
        "        return 1\n",
        "    else:\n",
        "        return no * factorial(no - 1)\n",
        "\n",
        "print(\"factorial of a number is:\", factorial(8))"
      ]
    },
    {
      "cell_type": "markdown",
      "metadata": {
        "id": "sIEM3d-6pj-e"
      },
      "source": [
        "**The advantages of the recursive function are:**\n",
        "\n",
        "* By using recursive, we can reduce the length of the code.\n",
        "* The readability of code improves due to code reduction.\n",
        "Useful for solving a complex problem"
      ]
    },
    {
      "cell_type": "markdown",
      "metadata": {
        "id": "TW_g-F8jpphx"
      },
      "source": [
        "**The disadvantage of the recursive function:**\n",
        "\n",
        "* The recursive function takes more memory and time for execution.\n",
        "* Debugging is not easy for the recursive function."
      ]
    },
    {
      "cell_type": "markdown",
      "metadata": {
        "id": "SDwM_CCbqLGH"
      },
      "source": [
        "#9.19  Python Anonymous/Lambda Function\n",
        "\n",
        "Sometimes we need to declare a function without any name. The nameless property function is called an anonymous function or lambda function.\n",
        "\n",
        "The reason behind the using anonymous function is for instant use, that is, one-time usage. Normal function is declared using the def function. Whereas the anonymous function is declared using the lambda keyword.\n",
        "\n",
        "In opposite to a normal function, a Python lambda function is a single expression. But, in a lambda body, we can expand with expressions over multiple lines using parentheses or a multiline string. <br>\n",
        "ex : lambda n:n+n\n",
        "\n",
        "\n",
        "**Syntax of lambda function:**\n",
        "\n",
        "lambda: **argument_list:expression**"
      ]
    },
    {
      "cell_type": "markdown",
      "metadata": {
        "id": "rX9DetV4qqT4"
      },
      "source": [
        "When we define a function using the lambda keyword, the code is very concise so that there is more readability in the code. A lambda function can have any number of arguments but return only one value after expression evaluation.\n",
        "\n",
        "Let’s see an example to print even numbers without a lambda function and with a lambda function. See the difference in line of code as well as readability of code"
      ]
    },
    {
      "cell_type": "markdown",
      "metadata": {
        "id": "sxUHNaTxqtNR"
      },
      "source": [
        " Program for even numbers without lambda function"
      ]
    },
    {
      "cell_type": "code",
      "execution_count": null,
      "metadata": {
        "colab": {
          "base_uri": "https://localhost:8080/"
        },
        "id": "VcyAFPpFqvf1",
        "outputId": "49986c12-83cf-4731-ed30-970e4aa99ada"
      },
      "outputs": [
        {
          "name": "stdout",
          "output_type": "stream",
          "text": [
            "Even numbers are: [10, 12, 78, 6]\n"
          ]
        }
      ],
      "source": [
        "def even_numbers(nums):\n",
        "    even_list = []\n",
        "    for n in nums:\n",
        "        if n % 2 == 0:\n",
        "            even_list.append(n)\n",
        "    return even_list\n",
        "\n",
        "num_list = [10, 5, 12, 78, 6, 1, 7, 9]\n",
        "ans = even_numbers(num_list)\n",
        "print(\"Even numbers are:\", ans)"
      ]
    },
    {
      "cell_type": "markdown",
      "metadata": {
        "id": "LDNLIyU_q6aB"
      },
      "source": [
        " Program for even number with a lambda function"
      ]
    },
    {
      "cell_type": "code",
      "execution_count": null,
      "metadata": {
        "colab": {
          "base_uri": "https://localhost:8080/"
        },
        "id": "39J3i9M4q7gm",
        "outputId": "32c7a7bf-9507-460d-fd86-aea4df8cd509"
      },
      "outputs": [
        {
          "name": "stdout",
          "output_type": "stream",
          "text": [
            "Even numbers are:  [10, 12, 78, 6]\n"
          ]
        }
      ],
      "source": [
        "l = [10, 5, 12, 78, 6, 1, 7, 9]\n",
        "even_nos = list(filter(lambda x: x % 2 == 0, l))\n",
        "print(\"Even numbers are: \", even_nos)"
      ]
    },
    {
      "cell_type": "markdown",
      "metadata": {
        "id": "j2eM0gR8rBwN"
      },
      "source": [
        "We are not required to write explicitly return statements in the lambda function because the lambda internally returns expression value.\n",
        "\n",
        "Lambda functions are more useful when we pass a function as an argument to another function. We can also use the lambda function with built-in functions such as filter, map, reduce because this function requires another function as an argument."
      ]
    },
    {
      "cell_type": "markdown",
      "metadata": {
        "id": "S0ka9aPErFo9"
      },
      "source": [
        "## **filter()** function\n",
        "\n",
        "In Python, the filter() function is used to return the filtered value. We use this function to filter values based on some conditions.\n",
        "\n",
        "Syntax of filter() function:\n",
        "\n",
        "**filter(funtion, sequence)**"
      ]
    },
    {
      "cell_type": "markdown",
      "metadata": {
        "id": "1VVmcWmSrTbH"
      },
      "source": [
        "where,\n",
        "\n",
        "* function – Function argument is responsible for performing condition checking.\n",
        "* sequence – Sequence argument can be anything like list, tuple, string"
      ]
    },
    {
      "cell_type": "markdown",
      "metadata": {
        "id": "uORKsjC9rZIo"
      },
      "source": [
        " lambda function with  filter()"
      ]
    },
    {
      "cell_type": "code",
      "execution_count": null,
      "metadata": {
        "colab": {
          "base_uri": "https://localhost:8080/"
        },
        "id": "BXT6s_qzraXq",
        "outputId": "475d07ac-bdbf-4c38-823a-e846bdc33aaf"
      },
      "outputs": [
        {
          "name": "stdout",
          "output_type": "stream",
          "text": [
            "Positive numbers are:  [5, 12, 6, 9]\n"
          ]
        }
      ],
      "source": [
        "l = [-10, 5, 12, -78, 6, -1, -7, 9]\n",
        "positive_nos = list(filter(lambda x: x > 0, l))\n",
        "print(\"Positive numbers are: \", positive_nos)"
      ]
    },
    {
      "cell_type": "markdown",
      "metadata": {
        "id": "YdyVs66vrrwY"
      },
      "source": [
        "## **map()** function in Python\n",
        "In Python, the map() function is used to apply some functionality for every element present in the given sequence and generate a new series with a required modification.\n",
        "\n",
        "Ex: for every element present in the sequence, perform cube operation and generate a new cube list."
      ]
    },
    {
      "cell_type": "markdown",
      "metadata": {
        "id": "8_oLwytFrvoc"
      },
      "source": [
        "Syntax of map() function:<br>\n",
        "**map(function,sequence)**"
      ]
    },
    {
      "cell_type": "markdown",
      "metadata": {
        "id": "JAEPikuAr5cV"
      },
      "source": [
        "where,\n",
        "\n",
        "* function – function argument responsible for applied on each element of the sequence\n",
        "* sequence – Sequence argument can be anything like list, tuple, string"
      ]
    },
    {
      "cell_type": "markdown",
      "metadata": {
        "id": "ABA42SJsr9Vn"
      },
      "source": [
        " lambda function with map() function"
      ]
    },
    {
      "cell_type": "code",
      "execution_count": null,
      "metadata": {
        "colab": {
          "base_uri": "https://localhost:8080/"
        },
        "id": "nVnfaTdTr-U1",
        "outputId": "6056d816-4b80-494e-b5a0-aab132961d45"
      },
      "outputs": [
        {
          "name": "stdout",
          "output_type": "stream",
          "text": [
            "Cube values are: [8, 27, 64, 512, 729]\n"
          ]
        }
      ],
      "source": [
        "list1 = [2, 3, 4, 8, 9]\n",
        "list2 = list(map(lambda x: x*x*x, list1))\n",
        "print(\"Cube values are:\", list2)"
      ]
    },
    {
      "cell_type": "markdown",
      "metadata": {
        "id": "Lzq6zB37sDff"
      },
      "source": [
        "## **reduce()** function in Python\n",
        "\n",
        "In Python, the reduce() function is used to minimize sequence elements into a single value by applying the specified condition.\n",
        "\n",
        "The reduce() function is present in the functools module; hence, we need to import it using the import statement before using it."
      ]
    },
    {
      "cell_type": "markdown",
      "metadata": {
        "id": "9JjORxu2sJpX"
      },
      "source": [
        "Syntax of reduce() function:\n",
        "\n",
        "**reduce(function, sequence)**"
      ]
    },
    {
      "cell_type": "markdown",
      "metadata": {
        "id": "JWb_yaZFsPXF"
      },
      "source": [
        " lambda function with reduce()"
      ]
    },
    {
      "cell_type": "code",
      "execution_count": null,
      "metadata": {
        "colab": {
          "base_uri": "https://localhost:8080/"
        },
        "id": "mjsJciGysRyf",
        "outputId": "4bc3ec14-25a5-4aca-b039-340fff0eef70"
      },
      "outputs": [
        {
          "name": "stdout",
          "output_type": "stream",
          "text": [
            "Addition of all list elements is :  54\n"
          ]
        }
      ],
      "source": [
        "from functools import reduce\n",
        "list1 = [20, 13, 4, 8, 9]\n",
        "add = reduce(lambda x, y: x+y, list1)\n",
        "print(\"Addition of all list elements is : \",add)"
      ]
    },
    {
      "cell_type": "markdown",
      "metadata": {
        "id": "CtpstZNUzqhs"
      },
      "source": [
        "#EXERCISES"
      ]
    },
    {
      "cell_type": "markdown",
      "metadata": {
        "id": "nbweWZojzu7f"
      },
      "source": [
        "##**QUES-1 Arguments & Functions**\n",
        "\n",
        "Write a program to create a function that takes two arguments, name and age, and print their value."
      ]
    },
    {
      "cell_type": "code",
      "execution_count": null,
      "metadata": {
        "colab": {
          "base_uri": "https://localhost:8080/"
        },
        "id": "ghEqICMHzzAH",
        "outputId": "4e7fbcad-d3ec-4dad-e48e-096e4ee1e446"
      },
      "outputs": [
        {
          "name": "stdout",
          "output_type": "stream",
          "text": [
            "Ben 25\n"
          ]
        }
      ],
      "source": [
        "# demo is the function name\n",
        "def demo(name, age):\n",
        "    # print value\n",
        "    print(name, age)\n",
        "\n",
        "# call function\n",
        "demo(\"Ben\", 25)"
      ]
    },
    {
      "cell_type": "markdown",
      "metadata": {
        "id": "HbxAmLFU0D_X"
      },
      "source": [
        "## **QUES-2 Display Arguments Using Functions**\n",
        "\n",
        "Create a function in such a way that we can pass any number of arguments to this function and the function should process them and display each argument’s value.\n",
        "\n",
        "\n",
        "call function with 3 arguments\n",
        "`func1(20, 40, 60)`\n",
        "\n",
        "call function with 2 arguments\n",
        "`func1(80, 100)`"
      ]
    },
    {
      "cell_type": "code",
      "execution_count": null,
      "metadata": {
        "colab": {
          "base_uri": "https://localhost:8080/"
        },
        "id": "izThYp1o0F4P",
        "outputId": "9814ae42-0f4c-49e3-e031-812ce58d31f8"
      },
      "outputs": [
        {
          "name": "stdout",
          "output_type": "stream",
          "text": [
            "20\n",
            "40\n",
            "60\n",
            "80\n",
            "100\n"
          ]
        }
      ],
      "source": [
        "def func1(*args):\n",
        "    for i in args:\n",
        "        print(i)\n",
        "\n",
        "func1(20, 40, 60)\n",
        "func1(80, 100)"
      ]
    },
    {
      "cell_type": "markdown",
      "metadata": {
        "id": "PWkKKQw80aBv"
      },
      "source": [
        "## **QUES-3 Calculation**\n",
        "\n",
        "Write a program to create function calculation() such that it can accept two variables and calculate addition and subtraction. Also, it must return both addition and subtraction in a single return call."
      ]
    },
    {
      "cell_type": "code",
      "execution_count": null,
      "metadata": {
        "colab": {
          "base_uri": "https://localhost:8080/"
        },
        "id": "VLH1s_pY0ZSf",
        "outputId": "4ee81903-86f7-43d3-ac86-f376e4e2ab28"
      },
      "outputs": [
        {
          "name": "stdout",
          "output_type": "stream",
          "text": [
            "(50, 30)\n"
          ]
        }
      ],
      "source": [
        "def calculation(a, b):\n",
        "    addition = a + b\n",
        "    subtraction = a - b\n",
        "    # return multiple values separated by comma\n",
        "    return addition, subtraction\n",
        "\n",
        "# get result in tuple format\n",
        "res = calculation(40, 10)\n",
        "print(res)"
      ]
    },
    {
      "cell_type": "markdown",
      "metadata": {
        "id": "q0wxf1_90h48"
      },
      "source": [
        "##**QUES-4 Enrollment Data**\n",
        "\n",
        "Write a program to create a function show_employee() using the following conditions.\n",
        "\n",
        "* It should accept the employee’s name and salary and display both.\n",
        "* If the salary is missing in the function call then assign default value 9000 to salary"
      ]
    },
    {
      "cell_type": "code",
      "execution_count": null,
      "metadata": {
        "colab": {
          "base_uri": "https://localhost:8080/"
        },
        "id": "NFDLmYJm0pHA",
        "outputId": "8139c9fe-f853-4de4-a3c2-467f89e182dd"
      },
      "outputs": [
        {
          "name": "stdout",
          "output_type": "stream",
          "text": [
            "Name: Ben salary: 12000\n",
            "Name: Jessa salary: 9000\n"
          ]
        }
      ],
      "source": [
        "# function with default argument\n",
        "def show_employee(name, salary=9000):\n",
        "    print(\"Name:\", name, \"salary:\", salary)\n",
        "\n",
        "show_employee(\"Ben\", 12000)\n",
        "show_employee(\"Jessa\")"
      ]
    },
    {
      "cell_type": "markdown",
      "metadata": {
        "id": "ng186tt_0xY2"
      },
      "source": [
        "##**QUES-5 Inner & Outer**\n",
        "\n",
        "Create an inner function to calculate the addition in the following way\n",
        "* Create an outer function that will accept two parameters, a and b\n",
        "* Create an inner function inside an outer function that will calculate the addition of a and b\n",
        "* At last, an outer function will add 5 into addition and return it"
      ]
    },
    {
      "cell_type": "code",
      "execution_count": null,
      "metadata": {
        "colab": {
          "base_uri": "https://localhost:8080/"
        },
        "id": "37rquHH405PJ",
        "outputId": "74a07b1c-1314-4fc8-c907-080f46655511"
      },
      "outputs": [
        {
          "name": "stdout",
          "output_type": "stream",
          "text": [
            "20\n"
          ]
        }
      ],
      "source": [
        "# outer function\n",
        "def outer_fun(a, b):\n",
        "    square = a ** 2\n",
        "\n",
        "    # inner function\n",
        "    def addition(a, b):\n",
        "        return a + b\n",
        "\n",
        "    # call inner function from outer function\n",
        "    add = addition(a, b)\n",
        "    # add 5 to the result\n",
        "    return add + 5\n",
        "\n",
        "result = outer_fun(5, 10)\n",
        "print(result)"
      ]
    },
    {
      "cell_type": "markdown",
      "metadata": {
        "id": "syqAfAUr09ps"
      },
      "source": [
        "## **QUES-6 Recursive Function**\n",
        "\n",
        "Write a program to create a recursive function to calculate the sum of numbers from 0 to 10."
      ]
    },
    {
      "cell_type": "code",
      "execution_count": null,
      "metadata": {
        "colab": {
          "base_uri": "https://localhost:8080/"
        },
        "id": "mnWoWE0g1BtA",
        "outputId": "895cd41c-7b4f-4b20-a86c-275ba034cff9"
      },
      "outputs": [
        {
          "name": "stdout",
          "output_type": "stream",
          "text": [
            "55\n"
          ]
        }
      ],
      "source": [
        "def addition(num):\n",
        "    if num:\n",
        "        # call same function by reducing number by 1\n",
        "        return num + addition(num - 1)\n",
        "    else:\n",
        "        return 0\n",
        "\n",
        "res = addition(10)\n",
        "print(res)"
      ]
    },
    {
      "cell_type": "markdown",
      "metadata": {
        "id": "6N1IfgbQ1GQA"
      },
      "source": [
        "## **QUES-7 Student Data**\n",
        "\n",
        "Below is the function display_student(name, age). Assign a new name show_tudent(name, age) to it and call it using the new name.\n",
        "\n",
        "```\n",
        "def display_student(name, age):\n",
        "    print(name, age)\n",
        "\n",
        "display_student(\"Emma\", 26)\n",
        "```"
      ]
    },
    {
      "cell_type": "code",
      "execution_count": null,
      "metadata": {
        "colab": {
          "base_uri": "https://localhost:8080/"
        },
        "id": "A-yFLfcp1Rvz",
        "outputId": "b5343bd6-b1ff-4918-c37c-c5ca3324e3ff"
      },
      "outputs": [
        {
          "name": "stdout",
          "output_type": "stream",
          "text": [
            "Emma 26\n",
            "Emma 26\n"
          ]
        }
      ],
      "source": [
        "def display_student(name, age):\n",
        "    print(name, age)\n",
        "\n",
        "# call using original name\n",
        "display_student(\"Emma\", 26)\n",
        "\n",
        "# assign new name\n",
        "showStudent = display_student\n",
        "# call using new name\n",
        "showStudent(\"Emma\", 26)"
      ]
    },
    {
      "cell_type": "markdown",
      "metadata": {
        "id": "KBYYD78B1U0p"
      },
      "source": [
        "## **QUES-8 Even Numbers**\n",
        "\n",
        "Generate a Python list of all the even numbers between 4 to 30."
      ]
    },
    {
      "cell_type": "code",
      "execution_count": null,
      "metadata": {
        "colab": {
          "base_uri": "https://localhost:8080/"
        },
        "id": "N-gyB3x71Zta",
        "outputId": "f939f8c7-ec9f-4043-e946-8ae802edb6e1"
      },
      "outputs": [
        {
          "name": "stdout",
          "output_type": "stream",
          "text": [
            "[4, 6, 8, 10, 12, 14, 16, 18, 20, 22, 24, 26, 28]\n"
          ]
        }
      ],
      "source": [
        "print(list(range(4, 30, 2)))"
      ]
    },
    {
      "cell_type": "markdown",
      "metadata": {
        "id": "YBocI-nV1lCm"
      },
      "source": [
        "## **QUES-9 Max of *n***\n",
        "\n",
        "Write a Python function to find the Max of three numbers."
      ]
    },
    {
      "cell_type": "code",
      "execution_count": null,
      "metadata": {
        "colab": {
          "base_uri": "https://localhost:8080/"
        },
        "id": "MglY4v3u1nen",
        "outputId": "7a7eb183-1cdd-4e90-f9a9-cccb43f23bc4"
      },
      "outputs": [
        {
          "name": "stdout",
          "output_type": "stream",
          "text": [
            "6\n"
          ]
        }
      ],
      "source": [
        "def max_of_two( x, y ):\n",
        "    if x > y:\n",
        "        return x\n",
        "    return y\n",
        "def max_of_three( x, y, z ):\n",
        "    return max_of_two( x, max_of_two( y, z ) )\n",
        "print(max_of_three(3, 6, -5))"
      ]
    },
    {
      "cell_type": "markdown",
      "metadata": {
        "id": "2z73n8Fr1ssC"
      },
      "source": [
        "## **QUES-10 String Reversal**\n",
        "\n",
        "Write a Python program to reverse a string.\n",
        "\n",
        "`Sample String : \"1234abcd\"`\n"
      ]
    },
    {
      "cell_type": "code",
      "execution_count": null,
      "metadata": {
        "colab": {
          "base_uri": "https://localhost:8080/"
        },
        "id": "qIRZJ7Qw13l4",
        "outputId": "b35a86fc-5985-448c-ee3e-f030de618c20"
      },
      "outputs": [
        {
          "name": "stdout",
          "output_type": "stream",
          "text": [
            "dcba4321\n"
          ]
        }
      ],
      "source": [
        "def string_reverse(str1):\n",
        "\n",
        "    rstr1 = ''\n",
        "    index = len(str1)\n",
        "    while index > 0:\n",
        "        rstr1 += str1[ index - 1 ]\n",
        "        index = index - 1\n",
        "    return rstr1\n",
        "print(string_reverse('1234abcd'))\n"
      ]
    },
    {
      "cell_type": "markdown",
      "metadata": {
        "id": "o_aORgFC2ANo"
      },
      "source": [
        "## **QUES-11 Factorial**\n",
        "\n",
        "Write a Python function to calculate the factorial of a number (a non-negative integer). The function accepts the number as an argument. "
      ]
    },
    {
      "cell_type": "code",
      "execution_count": null,
      "metadata": {
        "colab": {
          "background_save": true
        },
        "id": "G2GtvLlD2DDZ",
        "outputId": "21e79904-3747-497a-b707-80ef1890d300"
      },
      "outputs": [
        {
          "ename": "KeyboardInterrupt",
          "evalue": "ignored",
          "output_type": "error",
          "traceback": [
            "\u001b[0;31m---------------------------------------------------------------------------\u001b[0m",
            "\u001b[0;31mKeyboardInterrupt\u001b[0m                         Traceback (most recent call last)",
            "\u001b[0;32m/usr/local/lib/python3.7/dist-packages/ipykernel/kernelbase.py\u001b[0m in \u001b[0;36m_input_request\u001b[0;34m(self, prompt, ident, parent, password)\u001b[0m\n\u001b[1;32m    728\u001b[0m             \u001b[0;32mtry\u001b[0m\u001b[0;34m:\u001b[0m\u001b[0;34m\u001b[0m\u001b[0;34m\u001b[0m\u001b[0m\n\u001b[0;32m--> 729\u001b[0;31m                 \u001b[0mident\u001b[0m\u001b[0;34m,\u001b[0m \u001b[0mreply\u001b[0m \u001b[0;34m=\u001b[0m \u001b[0mself\u001b[0m\u001b[0;34m.\u001b[0m\u001b[0msession\u001b[0m\u001b[0;34m.\u001b[0m\u001b[0mrecv\u001b[0m\u001b[0;34m(\u001b[0m\u001b[0mself\u001b[0m\u001b[0;34m.\u001b[0m\u001b[0mstdin_socket\u001b[0m\u001b[0;34m,\u001b[0m \u001b[0;36m0\u001b[0m\u001b[0;34m)\u001b[0m\u001b[0;34m\u001b[0m\u001b[0;34m\u001b[0m\u001b[0m\n\u001b[0m\u001b[1;32m    730\u001b[0m             \u001b[0;32mexcept\u001b[0m \u001b[0mException\u001b[0m\u001b[0;34m:\u001b[0m\u001b[0;34m\u001b[0m\u001b[0;34m\u001b[0m\u001b[0m\n",
            "\u001b[0;32m/usr/local/lib/python3.7/dist-packages/jupyter_client/session.py\u001b[0m in \u001b[0;36mrecv\u001b[0;34m(self, socket, mode, content, copy)\u001b[0m\n\u001b[1;32m    802\u001b[0m         \u001b[0;32mtry\u001b[0m\u001b[0;34m:\u001b[0m\u001b[0;34m\u001b[0m\u001b[0;34m\u001b[0m\u001b[0m\n\u001b[0;32m--> 803\u001b[0;31m             \u001b[0mmsg_list\u001b[0m \u001b[0;34m=\u001b[0m \u001b[0msocket\u001b[0m\u001b[0;34m.\u001b[0m\u001b[0mrecv_multipart\u001b[0m\u001b[0;34m(\u001b[0m\u001b[0mmode\u001b[0m\u001b[0;34m,\u001b[0m \u001b[0mcopy\u001b[0m\u001b[0;34m=\u001b[0m\u001b[0mcopy\u001b[0m\u001b[0;34m)\u001b[0m\u001b[0;34m\u001b[0m\u001b[0;34m\u001b[0m\u001b[0m\n\u001b[0m\u001b[1;32m    804\u001b[0m         \u001b[0;32mexcept\u001b[0m \u001b[0mzmq\u001b[0m\u001b[0;34m.\u001b[0m\u001b[0mZMQError\u001b[0m \u001b[0;32mas\u001b[0m \u001b[0me\u001b[0m\u001b[0;34m:\u001b[0m\u001b[0;34m\u001b[0m\u001b[0;34m\u001b[0m\u001b[0m\n",
            "\u001b[0;32m/usr/local/lib/python3.7/dist-packages/zmq/sugar/socket.py\u001b[0m in \u001b[0;36mrecv_multipart\u001b[0;34m(self, flags, copy, track)\u001b[0m\n\u001b[1;32m    723\u001b[0m         \"\"\"\n\u001b[0;32m--> 724\u001b[0;31m         \u001b[0mparts\u001b[0m \u001b[0;34m=\u001b[0m \u001b[0;34m[\u001b[0m\u001b[0mself\u001b[0m\u001b[0;34m.\u001b[0m\u001b[0mrecv\u001b[0m\u001b[0;34m(\u001b[0m\u001b[0mflags\u001b[0m\u001b[0;34m,\u001b[0m \u001b[0mcopy\u001b[0m\u001b[0;34m=\u001b[0m\u001b[0mcopy\u001b[0m\u001b[0;34m,\u001b[0m \u001b[0mtrack\u001b[0m\u001b[0;34m=\u001b[0m\u001b[0mtrack\u001b[0m\u001b[0;34m)\u001b[0m\u001b[0;34m]\u001b[0m\u001b[0;34m\u001b[0m\u001b[0;34m\u001b[0m\u001b[0m\n\u001b[0m\u001b[1;32m    725\u001b[0m         \u001b[0;31m# have first part already, only loop while more to receive\u001b[0m\u001b[0;34m\u001b[0m\u001b[0;34m\u001b[0m\u001b[0;34m\u001b[0m\u001b[0m\n",
            "\u001b[0;32mzmq/backend/cython/socket.pyx\u001b[0m in \u001b[0;36mzmq.backend.cython.socket.Socket.recv\u001b[0;34m()\u001b[0m\n",
            "\u001b[0;32mzmq/backend/cython/socket.pyx\u001b[0m in \u001b[0;36mzmq.backend.cython.socket.Socket.recv\u001b[0;34m()\u001b[0m\n",
            "\u001b[0;32mzmq/backend/cython/socket.pyx\u001b[0m in \u001b[0;36mzmq.backend.cython.socket._recv_copy\u001b[0;34m()\u001b[0m\n",
            "\u001b[0;32m/usr/local/lib/python3.7/dist-packages/zmq/backend/cython/checkrc.pxd\u001b[0m in \u001b[0;36mzmq.backend.cython.checkrc._check_rc\u001b[0;34m()\u001b[0m\n",
            "\u001b[0;31mKeyboardInterrupt\u001b[0m: ",
            "\nDuring handling of the above exception, another exception occurred:\n",
            "\u001b[0;31mKeyboardInterrupt\u001b[0m                         Traceback (most recent call last)",
            "\u001b[0;32m<ipython-input-20-a887fc9c61d4>\u001b[0m in \u001b[0;36m<module>\u001b[0;34m()\u001b[0m\n\u001b[1;32m      4\u001b[0m     \u001b[0;32melse\u001b[0m\u001b[0;34m:\u001b[0m\u001b[0;34m\u001b[0m\u001b[0;34m\u001b[0m\u001b[0m\n\u001b[1;32m      5\u001b[0m         \u001b[0;32mreturn\u001b[0m \u001b[0mn\u001b[0m \u001b[0;34m*\u001b[0m \u001b[0mfactorial\u001b[0m\u001b[0;34m(\u001b[0m\u001b[0mn\u001b[0m\u001b[0;34m-\u001b[0m\u001b[0;36m1\u001b[0m\u001b[0;34m)\u001b[0m\u001b[0;34m\u001b[0m\u001b[0;34m\u001b[0m\u001b[0m\n\u001b[0;32m----> 6\u001b[0;31m \u001b[0mn\u001b[0m\u001b[0;34m=\u001b[0m\u001b[0mint\u001b[0m\u001b[0;34m(\u001b[0m\u001b[0minput\u001b[0m\u001b[0;34m(\u001b[0m\u001b[0;34m\"Input a number to compute the factiorial : \"\u001b[0m\u001b[0;34m)\u001b[0m\u001b[0;34m)\u001b[0m\u001b[0;34m\u001b[0m\u001b[0;34m\u001b[0m\u001b[0m\n\u001b[0m\u001b[1;32m      7\u001b[0m \u001b[0mprint\u001b[0m\u001b[0;34m(\u001b[0m\u001b[0mfactorial\u001b[0m\u001b[0;34m(\u001b[0m\u001b[0mn\u001b[0m\u001b[0;34m)\u001b[0m\u001b[0;34m)\u001b[0m\u001b[0;34m\u001b[0m\u001b[0;34m\u001b[0m\u001b[0m\n",
            "\u001b[0;32m/usr/local/lib/python3.7/dist-packages/ipykernel/kernelbase.py\u001b[0m in \u001b[0;36mraw_input\u001b[0;34m(self, prompt)\u001b[0m\n\u001b[1;32m    702\u001b[0m             \u001b[0mself\u001b[0m\u001b[0;34m.\u001b[0m\u001b[0m_parent_ident\u001b[0m\u001b[0;34m,\u001b[0m\u001b[0;34m\u001b[0m\u001b[0;34m\u001b[0m\u001b[0m\n\u001b[1;32m    703\u001b[0m             \u001b[0mself\u001b[0m\u001b[0;34m.\u001b[0m\u001b[0m_parent_header\u001b[0m\u001b[0;34m,\u001b[0m\u001b[0;34m\u001b[0m\u001b[0;34m\u001b[0m\u001b[0m\n\u001b[0;32m--> 704\u001b[0;31m             \u001b[0mpassword\u001b[0m\u001b[0;34m=\u001b[0m\u001b[0;32mFalse\u001b[0m\u001b[0;34m,\u001b[0m\u001b[0;34m\u001b[0m\u001b[0;34m\u001b[0m\u001b[0m\n\u001b[0m\u001b[1;32m    705\u001b[0m         )\n\u001b[1;32m    706\u001b[0m \u001b[0;34m\u001b[0m\u001b[0m\n",
            "\u001b[0;32m/usr/local/lib/python3.7/dist-packages/ipykernel/kernelbase.py\u001b[0m in \u001b[0;36m_input_request\u001b[0;34m(self, prompt, ident, parent, password)\u001b[0m\n\u001b[1;32m    732\u001b[0m             \u001b[0;32mexcept\u001b[0m \u001b[0mKeyboardInterrupt\u001b[0m\u001b[0;34m:\u001b[0m\u001b[0;34m\u001b[0m\u001b[0;34m\u001b[0m\u001b[0m\n\u001b[1;32m    733\u001b[0m                 \u001b[0;31m# re-raise KeyboardInterrupt, to truncate traceback\u001b[0m\u001b[0;34m\u001b[0m\u001b[0;34m\u001b[0m\u001b[0;34m\u001b[0m\u001b[0m\n\u001b[0;32m--> 734\u001b[0;31m                 \u001b[0;32mraise\u001b[0m \u001b[0mKeyboardInterrupt\u001b[0m\u001b[0;34m\u001b[0m\u001b[0;34m\u001b[0m\u001b[0m\n\u001b[0m\u001b[1;32m    735\u001b[0m             \u001b[0;32melse\u001b[0m\u001b[0;34m:\u001b[0m\u001b[0;34m\u001b[0m\u001b[0;34m\u001b[0m\u001b[0m\n\u001b[1;32m    736\u001b[0m                 \u001b[0;32mbreak\u001b[0m\u001b[0;34m\u001b[0m\u001b[0;34m\u001b[0m\u001b[0m\n",
            "\u001b[0;31mKeyboardInterrupt\u001b[0m: "
          ]
        }
      ],
      "source": [
        "def factorial(n):\n",
        "    if n == 0:\n",
        "        return 1\n",
        "    else:\n",
        "        return n * factorial(n-1)\n",
        "n=int(input(\"Input a number to compute the factiorial : \"))\n",
        "print(factorial(n))"
      ]
    },
    {
      "cell_type": "markdown",
      "metadata": {
        "id": "wztVnPTj2Mvg"
      },
      "source": [
        "## **QUES-12 Upper & Lower Case**\n",
        "\n",
        "Write a Python function that accepts a string and calculate the number of upper case letters and lower case letters.\n",
        "\n",
        "`Sample String : 'The quick Brow Fox'`"
      ]
    },
    {
      "cell_type": "code",
      "execution_count": null,
      "metadata": {
        "colab": {
          "background_save": true
        },
        "id": "3KVoi4ZX2X6w"
      },
      "outputs": [],
      "source": [
        "def string_test(s):\n",
        "    d={\"UPPER_CASE\":0, \"LOWER_CASE\":0}\n",
        "    for c in s:\n",
        "        if c.isupper():\n",
        "           d[\"UPPER_CASE\"]+=1\n",
        "        elif c.islower():\n",
        "           d[\"LOWER_CASE\"]+=1\n",
        "        else:\n",
        "           pass\n",
        "    print (\"Original String : \", s)\n",
        "    print (\"No. of Upper case characters : \", d[\"UPPER_CASE\"])\n",
        "    print (\"No. of Lower case Characters : \", d[\"LOWER_CASE\"])\n",
        "\n",
        "string_test('The quick Brown Fox')"
      ]
    },
    {
      "cell_type": "markdown",
      "source": [
        "## **QUES-13 Pascal's Triangle**\n",
        "\n",
        " Write a Python function that prints out the first n rows of Pascal's triangle.<br><br>Sample Pascal's Triangle<br>"
      ],
      "metadata": {
        "id": "6AQWVz3OaJDu"
      }
    },
    {
      "cell_type": "markdown",
      "source": [
        "![](https://drive.google.com/uc?export=view&id=1RsTBSqpdOwYfC5DADkIe6WYTlS21UzI9)\n",
        "\n"
      ],
      "metadata": {
        "id": "pbHvR78DaAjJ"
      }
    },
    {
      "cell_type": "markdown",
      "source": [
        "> **Hint:** Explanation Algorithm Flowchart \n",
        "\n",
        "![](https://drive.google.com/uc?export=view&id=13xFKPfTgc6zCHIyVfiCW_fJpJ7dXqdcs)"
      ],
      "metadata": {
        "id": "rT2uxSwiaXfm"
      }
    },
    {
      "cell_type": "code",
      "execution_count": null,
      "metadata": {
        "colab": {
          "background_save": true
        },
        "id": "r6fOWWw43DNH"
      },
      "outputs": [],
      "source": [
        "def pascal_triangle(n):\n",
        "   trow = [1]\n",
        "   y = [0]\n",
        "   for x in range(max(n,0)):\n",
        "      print(trow)\n",
        "      trow=[l+r for l,r in zip(trow+y, y+trow)]\n",
        "   return n>=1\n",
        "pascal_triangle(6) "
      ]
    },
    {
      "cell_type": "markdown",
      "metadata": {
        "id": "-ZOXp42N3Yq4"
      },
      "source": [
        "## **QUES-14 Hyphen-Separated Sequence**\n",
        "\n",
        "Write a Python program that accepts a hyphen-separated sequence of words as input and prints the words in a hyphen-separated sequence after sorting them alphabetically.\n",
        "\n",
        "`Sample Items : green-red-yellow-black-white`"
      ]
    },
    {
      "cell_type": "code",
      "execution_count": null,
      "metadata": {
        "colab": {
          "background_save": true
        },
        "id": "HzOdZK3M3ntR"
      },
      "outputs": [],
      "source": [
        "items=[n for n in input().split('-')]\n",
        "items.sort()\n",
        "print('-'.join(items))"
      ]
    },
    {
      "cell_type": "markdown",
      "metadata": {
        "id": "b-N1dKQD3q6F"
      },
      "source": [
        "## **QUES-15 Local Variables in Function**\n",
        "\n",
        "Write a Python program to detect the number of local variables declared in a function."
      ]
    },
    {
      "cell_type": "code",
      "execution_count": null,
      "metadata": {
        "colab": {
          "background_save": true
        },
        "id": "oq1WQWP43yF1"
      },
      "outputs": [],
      "source": [
        "def abc():\n",
        "    x = 1\n",
        "    y = 2\n",
        "    str1= \"w3resource\"\n",
        "    print(\"Python Exercises\")\n",
        "\n",
        "print(abc.__code__.co_nlocals)"
      ]
    },
    {
      "cell_type": "markdown",
      "metadata": {
        "id": "URT8cy_EWFzq"
      },
      "source": [
        "# Further Reading and References\n",
        "\n",
        "Following are some resources where you can learn about more arithmetic, conditional and logical operations in Python:\n",
        "\n",
        "* Python Conditions at W3schools: [Here](https://www.w3schools.com/python/python_conditions.asp)\n",
        "* Control Flow in Python Tutorial at Realpython: [Here](https://www.geeksforgeeks.org/python-if-else/)\n",
        "* Python official documentation: [Here](https://docs.python.org/3/tutorial/index.html)"
      ]
    }
  ],
  "metadata": {
    "colab": {
      "collapsed_sections": [],
      "name": "9_Functions.ipynb",
      "toc_visible": true,
      "provenance": []
    },
    "kernelspec": {
      "display_name": "Python 3",
      "language": "python",
      "name": "python3"
    },
    "language_info": {
      "codemirror_mode": {
        "name": "ipython",
        "version": 3
      },
      "file_extension": ".py",
      "mimetype": "text/x-python",
      "name": "python",
      "nbconvert_exporter": "python",
      "pygments_lexer": "ipython3",
      "version": "3.6.6"
    }
  },
  "nbformat": 4,
  "nbformat_minor": 0
}