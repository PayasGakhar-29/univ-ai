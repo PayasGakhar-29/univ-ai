{
  "nbformat": 4,
  "nbformat_minor": 0,
  "metadata": {
    "colab": {
      "name": "9.Asynchronous coding: Handling events.ipynb",
      "provenance": [],
      "toc_visible": true
    },
    "kernelspec": {
      "name": "python3",
      "display_name": "Python 3"
    },
    "language_info": {
      "name": "python"
    }
  },
  "cells": [
    {
      "cell_type": "markdown",
      "source": [
        "# Asynchronous coding: Handling events\n",
        "\n",
        "Here we will see what asynchronous JavaScript is, how it differs from synchronous JavaScript, and why we need it."
      ],
      "metadata": {
        "id": "WBToN2tuoLNL"
      }
    },
    {
      "cell_type": "markdown",
      "source": [
        "# What is Asynchronous programming\n",
        "Asynchronous programming is a technique that enables your program to start a potentially long-running task and still be able to be responsive to other events while that task runs, rather than having to wait until that task has finished. Once that task has finished, your program is presented with the result.\n",
        "\n",
        "Many functions provided by browsers, especially the most interesting ones, can potentially take a long time, and therefore, are asynchronous. For example:\n",
        "\n",
        "*   Making HTTP requests using fetch()\n",
        "*   Accessing a user's camera or microphone using getUserMedia()\n",
        "*   Asking a user to select files using showOpenFilePicker()\n",
        "\n",
        "So even though you may not have to implement your own asynchronous functions very often, you are very likely to need to use them correctly.\n"
      ],
      "metadata": {
        "id": "Y05Bfsodrqfe"
      }
    },
    {
      "cell_type": "markdown",
      "source": [
        "# Synchronous Programming\n",
        "\n",
        "(Explanation through an example)\n",
        "\n"
      ],
      "metadata": {
        "id": "X81M0Sfz6jBO"
      }
    },
    {
      "cell_type": "markdown",
      "source": [
        "## Way 1 of writing the program\n",
        "\n",
        "Consider the following code:\n",
        "\n",
        "```\n",
        "const name = 'Payas';\n",
        "const greeting = `Hello, my name is ${name}!`;\n",
        "console.log(greeting);\n",
        "// \"Hello, my name is Payas!\"\n",
        "\n",
        "```\n",
        "This code:\n",
        "\n",
        "*   Declares a string called name.\n",
        "*   Declares another string called greeting, which uses name.\n",
        "*   Outputs the greeting to the JavaScript console.\n",
        "\n",
        "\n",
        "We should note here that the browser effectively steps through the program one line at a time, in the order we wrote it. At each point, the browser waits for the line to finish its work before going on to the next line. It has to do this because each line depends on the work done in the preceding lines. That makes this a synchronous program. "
      ],
      "metadata": {
        "id": "q-HPBBsQ7RT7"
      }
    },
    {
      "cell_type": "markdown",
      "source": [
        "## Way 2 of writing the program\n",
        "\n",
        "It would still be synchronous even if we called a separate function, like this:\n",
        "\n",
        "```\n",
        "function makeGreeting(name) {\n",
        "  return `Hello, my name is ${name}!`;\n",
        "}\n",
        "\n",
        "const name = 'Payas';\n",
        "const greeting = makeGreeting(name);\n",
        "console.log(greeting);\n",
        "// \"Hello, my name is Payas!\"\n",
        "\n",
        "```\n",
        "\n",
        "Here, makeGreeting() is a synchronous function because the caller has to wait for the function to finish its work and return a value before the caller can continue."
      ],
      "metadata": {
        "id": "EUWS8oqQ7QVr"
      }
    },
    {
      "cell_type": "markdown",
      "source": [
        "#A long-running synchronous function\n",
        "\n",
        "What if the synchronous function takes a long time?\n"
      ],
      "metadata": {
        "id": "eA2geCQU7zP2"
      }
    },
    {
      "cell_type": "markdown",
      "source": [
        "Let's understand this with an example, The program below uses a very inefficient algorithm to generate multiple large prime numbers when a user clicks the \"Generate primes\" button. The higher the number of primes a user specifies, the longer the operation will take.\n",
        "\n",
        "```\n",
        "<label for=\"quota\">Number of primes:</label>\n",
        "<input type=\"text\" id=\"quota\" name=\"quota\" value=\"1000000\">\n",
        "\n",
        "<button id=\"generate\">Generate primes</button>\n",
        "<button id=\"reload\">Reload</button>\n",
        "\n",
        "<div id=\"output\"></div>\n",
        "\n",
        "\n",
        "function generatePrimes(quota) {\n",
        "\n",
        "  function isPrime(n) {\n",
        "    for (let c = 2; c <= Math.sqrt(n); ++c) {\n",
        "      if (n % c === 0) {\n",
        "          return false;\n",
        "       }\n",
        "    }\n",
        "    return true;\n",
        "  }\n",
        "\n",
        "  const primes = [];\n",
        "  const maximum = 1000000;\n",
        "\n",
        "  while (primes.length < quota) {\n",
        "    const candidate = Math.floor(Math.random() * (maximum + 1));\n",
        "    if (isPrime(candidate)) {\n",
        "      primes.push(candidate);\n",
        "    }\n",
        "  }\n",
        "\n",
        "  return primes;\n",
        "}\n",
        "\n",
        "document.querySelector('#generate').addEventListener('click', () => {\n",
        "  const quota = document.querySelector('#quota').value;\n",
        "  const primes = generatePrimes(quota);\n",
        "  document.querySelector('#output').textContent = `Finished generating ${quota} primes!`;\n",
        "});\n",
        "\n",
        "document.querySelector('#reload').addEventListener('click', () => {\n",
        "  document.location.reload()\n",
        "});\n",
        "\n",
        "```\n",
        "Try clicking \"Generate primes\". Depending on how fast your computer is, it will probably take a few seconds before the program displays the \"Finished!\" message.\n"
      ],
      "metadata": {
        "id": "Fs0gf5hH6k44"
      }
    },
    {
      "cell_type": "markdown",
      "source": [
        "##The trouble with long-running synchronous functions\n",
        "\n",
        "The next example is just like the last one, except we added a text box for you to type in. This time, click \"Generate primes\", and try typing in the text box immediately after.\n",
        "\n",
        "You'll find that while our generatePrimes() function is running, our program is completely unresponsive: you can't type anything, click anything, or do anything else.\n",
        "This is the basic problem with long-running synchronous functions. "
      ],
      "metadata": {
        "id": "_TqLXtxf7Ik2"
      }
    },
    {
      "cell_type": "markdown",
      "source": [
        "##What we require in our program?\n",
        "\n",
        "1. Start a long-running operation by calling a function.\n",
        "2. Have that function start the operation and return immediately, so that our program can still be responsive to other events.\n",
        "3. Notify us with the result of the operation when it eventually completes.\n",
        "\n",
        "That's precisely what asynchronous functions can do. Let's undertand their implementation now. "
      ],
      "metadata": {
        "id": "uPFWC5mx7P8H"
      }
    },
    {
      "cell_type": "markdown",
      "source": [
        "#Event handlers\n",
        "\n",
        "The description we just saw of asynchronous functions might remind you of event handlers, and if it does, you'd be right. Event handlers are really a form of asynchronous programming: you provide a function (the event handler) that will be called, not right away, but whenever the event happens. If \"the event\" is \"the asynchronous operation has completed\", then that event could be used to notify the caller about the result of an asynchronous function call.\n",
        "\n",
        "Some early asynchronous APIs used events in just this way. The XMLHttpRequest API enables you to make HTTP requests to a remote server using JavaScript. Since this can take a long time, it's an asynchronous API, and you get notified about the progress and eventual completion of a request by attaching event listeners to the XMLHttpRequest object."
      ],
      "metadata": {
        "id": "0BePAtUUChAC"
      }
    },
    {
      "cell_type": "markdown",
      "source": [
        "## Event Handlers example\n",
        "\n",
        "The following example shows this in action. Press \"Click to start request\" to send a request. We create a new XMLHttpRequest and listen for its loadend event. The handler logs a \"Finished!\" message along with the status code.\n",
        "\n",
        "After adding the event listener we send the request. Note that after this, we can log \"Started XHR request\": that is, our program can continue to run while the request is going on, and our event handler will be called when the request is complete.\n",
        "\n",
        "```\n",
        "<button id=\"xhr\">Click to start request</button>\n",
        "<button id=\"reload\">Reload</button>\n",
        "\n",
        "<pre readonly class=\"event-log\"></pre>\n",
        "\n",
        "```\n",
        "\n",
        "\n",
        "\n",
        "```\n",
        "const log = document.querySelector('.event-log');\n",
        "\n",
        "document.querySelector('#xhr').addEventListener('click', () => {\n",
        "  log.textContent = '';\n",
        "\n",
        "  const xhr = new XMLHttpRequest();\n",
        "\n",
        "  xhr.addEventListener('loadend', () => {\n",
        "    log.textContent = `${log.textContent}Finished with status: ${xhr.status}`;\n",
        "  });\n",
        "\n",
        "  xhr.open('GET', 'https://raw.githubusercontent.com/mdn/content/main/files/en-us/_wikihistory.json');\n",
        "  xhr.send();\n",
        "  log.textContent = `${log.textContent}Started XHR request\\n`;});\n",
        "\n",
        "document.querySelector('#reload').addEventListener('click', () => {\n",
        "  log.textContent = '';\n",
        "  document.location.reload();\n",
        "});\n",
        "\n",
        "```\n",
        "\n",
        "This is just like the event handlers we've encountered in a previous module, except that instead of the event being a user action, such as the user clicking a button, the event is a change in the state of some object.\n",
        "\n"
      ],
      "metadata": {
        "id": "3OutlcmRC8zg"
      }
    },
    {
      "cell_type": "markdown",
      "source": [
        "# Callbacks\n",
        "\n",
        "An event handler is a particular type of callback. A callback is just a function that's passed into another function, with the expectation that the callback will be called at the appropriate time. As we just saw, callbacks used to be the main way asynchronous functions were implemented in JavaScript.\n",
        "\n",
        "However, callback-based code can get hard to understand when the callback itself has to call functions that accept a callback. This is a common situation if you need to perform some operation that breaks down into a series of asynchronous functions. For example, consider the following:\n",
        "\n",
        "\n",
        "\n",
        "```\n",
        "function doStep1(init) {\n",
        "  return init + 1;\n",
        "}\n",
        "\n",
        "function doStep2(init) {\n",
        "  return init + 2;\n",
        "}\n",
        "\n",
        "function doStep3(init) {\n",
        "  return init + 3;\n",
        "}\n",
        "\n",
        "function doOperation() {\n",
        "  let result = 0;\n",
        "  result = doStep1(result);\n",
        "  result = doStep2(result);\n",
        "  result = doStep3(result);\n",
        "  console.log(`result: ${result}`);\n",
        "}\n",
        "\n",
        "doOperation();\n",
        "\n",
        "```\n",
        "Here we have a single operation that's split into three steps, where each step depends on the last step. In our example, the first step adds 1 to the input, the second adds 2, and the third adds 3. Starting with an input of 0, the end result is 6 (0 + 1 + 2 + 3). As a synchronous program, this is very straightforward. But what if we implemented the steps using callbacks?\n"
      ],
      "metadata": {
        "id": "iN_c6T2OD8oL"
      }
    },
    {
      "cell_type": "markdown",
      "source": [
        "## Code using callback\n",
        "\n",
        "```\n",
        "function doStep1(init, callback) {\n",
        "  const result = init + 1;\n",
        "  callback(result);\n",
        "}\n",
        "\n",
        "function doStep2(init, callback) {\n",
        "  const result = init + 2;\n",
        "  callback(result);\n",
        "}\n",
        "\n",
        "function doStep3(init, callback) {\n",
        "  const result = init + 3;\n",
        "  callback(result);\n",
        "}\n",
        "\n",
        "function doOperation() {\n",
        "  doStep1(0, result1 => {\n",
        "    doStep2(result1, result2 => {\n",
        "      doStep3(result2, result3 => {\n",
        "        console.log(`result: ${result3}`);\n",
        "      });\n",
        "    });\n",
        "  });\n",
        "\n",
        "}\n",
        "\n",
        "doOperation();\n",
        "\n",
        "```"
      ],
      "metadata": {
        "id": "U_krpnnNETrB"
      }
    },
    {
      "cell_type": "markdown",
      "source": [
        "Because we have to call callbacks inside callbacks, we get a deeply nested doOperation() function, which is much harder to read and debug. This is sometimes called \"callback hell\" or the \"pyramid of doom\" (because the indentation looks like a pyramid on its side).\n",
        "\n",
        "When we nest callbacks like this, it can also get very hard to handle errors: often you have to handle errors at each level of the \"pyramid\", instead of having error handling only once at the top level."
      ],
      "metadata": {
        "id": "OplQ8vRJEhnQ"
      }
    },
    {
      "cell_type": "markdown",
      "source": [
        "# Some concepts in Asynchronous\n",
        "\n"
      ],
      "metadata": {
        "id": "OoFOoTE8FFWA"
      }
    },
    {
      "cell_type": "markdown",
      "source": [
        "## Waiting for a Timeout"
      ],
      "metadata": {
        "id": "6dB2uFLtGeGR"
      }
    },
    {
      "cell_type": "markdown",
      "source": [
        "### Way 1\n",
        "\n",
        "When using the JavaScript function setTimeout(), you can specify a callback function to be executed on time-out:\n",
        "\n",
        "```\n",
        "setTimeout(myFunction, 3000);\n",
        "\n",
        "function myFunction() {\n",
        "  document.getElementById(\"demo\").innerHTML = \"Asynchronous !!\";\n",
        "}\n",
        "```\n",
        "\n",
        "In the example above, myFunction is used as a callback. myFunction is passed to setTimeout() as an argument.\n",
        "\n",
        "3000 is the number of milliseconds before time-out, so myFunction() will be called after 3 seconds.\n",
        "\n",
        "\n",
        "\n"
      ],
      "metadata": {
        "id": "9EBCqMeDFSeg"
      }
    },
    {
      "cell_type": "markdown",
      "source": [
        "### Way 2\n",
        "\n",
        "Instead of passing the name of a function as an argument to another function, you can always pass a whole function instead:\n",
        "```\n",
        "setTimeout(function() { myFunction(\"Asynchronous  !!!\"); }, 3000);\n",
        "\n",
        "function myFunction(value) {\n",
        "  document.getElementById(\"demo\").innerHTML = value;\n",
        "}\n",
        "```\n",
        "\n"
      ],
      "metadata": {
        "id": "W0OkywwYGZ0S"
      }
    },
    {
      "cell_type": "markdown",
      "source": [
        "## Waiting for Intervals\n",
        "\n",
        "When using the JavaScript function setInterval(), you can specify a callback function to be executed for each interval:\n",
        "\n",
        "Example: \n",
        "\n",
        "```\n",
        "setInterval(myFunction, 1000);\n",
        "\n",
        "function myFunction() {\n",
        "  let d = new Date();\n",
        "  document.getElementById(\"demo\").innerHTML=\n",
        "  d.getHours() + \":\" +\n",
        "  d.getMinutes() + \":\" +\n",
        "  d.getSeconds();\n",
        "}\n",
        "\n",
        "```\n",
        "\n",
        "\n",
        "In the example above, myFunction is used as a callback.\n",
        "\n",
        "myFunction is passed to setInterval() as an argument.\n",
        "\n",
        "1000 is the number of milliseconds between intervals, so myFunction() will be called every second."
      ],
      "metadata": {
        "id": "gZNfLW4LGuf6"
      }
    },
    {
      "cell_type": "markdown",
      "source": [
        "## Waiting for Files\n",
        "If you create a function to load an external resource (like a script or a file), you cannot use the content before it is fully loaded. This is the perfect time to use a callback.\n",
        "\n",
        "This example loads an HTML file (mycar.html), and displays the HTML file in a web page, after the file is fully loaded:\n",
        "\n",
        "Waiting for a File:\n",
        "\n",
        "\n",
        "```\n",
        "function myDisplayer(some) {\n",
        "  document.getElementById(\"demo\").innerHTML = some;\n",
        "}\n",
        "\n",
        "function getFile(myCallback) {\n",
        "  let req = new XMLHttpRequest();\n",
        "  req.open('GET', \"mycar.html\");\n",
        "  req.onload = function() {\n",
        "    if (req.status == 200) {\n",
        "      myCallback(this.responseText);\n",
        "    } else {\n",
        "      myCallback(\"Error: \" + req.status);\n",
        "    }\n",
        "  }\n",
        "  req.send();\n",
        "}\n",
        "\n",
        "getFile(myDisplayer);\n",
        "```\n",
        "\n",
        "In the example above, myDisplayer is used as a callback.\n",
        "\n",
        "myDisplayer is passed to getFile() as an argument. Below is a copy of mycar.html:\n",
        "\n",
        "```\n",
        "<img src=\"img_car.jpg\" alt=\"Nice car\" style=\"width:100%\">\n",
        "\n",
        "<p>A car is a wheeled, self-powered motor vehicle used for transportation.\n",
        "Most definitions of the term specify that cars are designed to run primarily on roads, to have seating for one to eight people, to typically have four wheels.</p>\n",
        "\n",
        "<p>(Wikipedia)</p>\n",
        "```\n",
        "\n"
      ],
      "metadata": {
        "id": "uBWMk2NFHMyZ"
      }
    }
  ]
}