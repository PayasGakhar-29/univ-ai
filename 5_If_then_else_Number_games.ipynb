{
  "nbformat": 4,
  "nbformat_minor": 0,
  "metadata": {
    "colab": {
      "name": "5.If-then-else. Number games.ipynb",
      "provenance": [],
      "toc_visible": true,
      "collapsed_sections": []
    },
    "kernelspec": {
      "name": "python3",
      "display_name": "Python 3"
    },
    "language_info": {
      "name": "python"
    }
  },
  "cells": [
    {
      "cell_type": "markdown",
      "source": [
        "#**If-Then-Else**\n",
        "\n",
        "The if-else statement is used to execute both the true part and the false part of a given condition. If the condition is true, the if block code is executed and if the condition is false, the else block code is executed."
      ],
      "metadata": {
        "id": "N_ogVskcOFO-"
      }
    },
    {
      "cell_type": "markdown",
      "source": [
        "![](https://drive.google.com/uc?export=view&id=1Zi_Rtjrcltt1K7OQ6ySBADr9rSdI8ECQ)"
      ],
      "metadata": {
        "id": "-W4qR5f7NYRU"
      }
    },
    {
      "cell_type": "markdown",
      "source": [
        "**Syntax:**\n",
        "```\n",
        "if(condition):\n",
        "#Executes this block if the condition is true\n",
        "\n",
        "else:\n",
        "#Executes this block if the condition is false\n",
        "```\n",
        "You should note here that Python uses indentation in both the blocks to define the scope of the code. Other programming languages often use curly brackets for this purpose.\n",
        "\n",
        "\n",
        "First, the test expression is checked. If the expression is true, the body of the if the statement is executed. If it is false, the statement present after the if statement is executed. In either case, any line of code present outside if the statement is evaluated by default."
      ],
      "metadata": {
        "id": "P3WOzVC4OMyd"
      }
    },
    {
      "cell_type": "markdown",
      "source": [
        "# 2. **Nested If-Else**\n",
        "\n",
        "When an if a statement is present inside another if statement, it is called a nested IF statement. This situation occurs when you have to filter a variable multiple times.\n",
        "\n",
        "**Syntax:**\n",
        "\n",
        "    if (condition1):\n",
        "    #Executes if condition1 is true\n",
        "\n",
        "    if (condition2):\n",
        "    #Executes if condition2 is true\n",
        "\n",
        "    #Condition2 ends here\n",
        "\n",
        "\n",
        "In nested IF statements, you should always take care of the indentation to define the scope of each statement. You can have as many levels of nesting as required, but it makes the program less optimized, and as a result, can be more complex to read and understand. Therefore, you should always try to minimize the use of nested IF statements.\n",
        "\n",
        "\n",
        "\n",
        "\n"
      ],
      "metadata": {
        "id": "i4laQ88TSmTQ"
      }
    },
    {
      "cell_type": "markdown",
      "source": [
        "# 3. **If-Elif-Else Statement:**\n",
        "It checks the if statement condition. If that is false, the elif statement is evaluated. In case the elif condition is false, the else statement is evaluated.\n",
        "\n",
        "**Syntax:**\n",
        "\n",
        "    if (condition):\n",
        "    #statement\n",
        "\n",
        "    elif (condition):\n",
        "    #statement\n",
        "\n",
        "    else:\n",
        "    #Statement\n",
        "\n",
        "The Test Expression1 is checked. If that proves true, the body of if is evaluated. If it is false, then the control moves to the proceeding Test Expression2. If it’s true, the body of elif1 is executed. If it’s false, the test expression3 is checked. If true, the body of elif2 is executed. If it is false, the body of else is evaluated. Any statement below in if-elif is then checked."
      ],
      "metadata": {
        "id": "W0yRPDlHStEs"
      }
    },
    {
      "cell_type": "markdown",
      "source": [
        "#Exercises on If-then-else\n"
      ],
      "metadata": {
        "id": "dS3zRyqBnNum"
      }
    },
    {
      "cell_type": "markdown",
      "source": [
        "######  **QUES-1 Validating** \n",
        "\n",
        "Write a program to check whether a person is eligible for voting or not. (accept age from user)"
      ],
      "metadata": {
        "id": "Z3SC5YIOS0ZI"
      }
    },
    {
      "cell_type": "code",
      "source": [
        "name=input(\"Please enter your name: \")\n",
        "age=int(input(\"Please enter your age: \"))\n",
        "\n",
        "if age >=18:\n",
        "    print(\"Congratulations! You are eligible for voting\")\n",
        "\n",
        "else:\n",
        "    print(\"Sorry! You are not eligible for voting. Please try again later after {0} years\".format(18-age))"
      ],
      "metadata": {
        "id": "8SVXyIUpB3OA"
      },
      "execution_count": null,
      "outputs": []
    },
    {
      "cell_type": "markdown",
      "source": [
        "###### **QUES-2 Even Or Odd**\n",
        " Write a program to check whether a number entered by user is even or odd."
      ],
      "metadata": {
        "id": "CsqC4GIvS_TQ"
      }
    },
    {
      "cell_type": "code",
      "source": [
        "num=int(input(\"Please enter a number: \"))\n",
        "\n",
        "if num%2==0:\n",
        "  print(\"It is an even number!\")\n",
        "\n",
        "else:\n",
        "  print(\"It is an odd number\")"
      ],
      "metadata": {
        "id": "gUUk0AVCB4IJ"
      },
      "execution_count": null,
      "outputs": []
    },
    {
      "cell_type": "markdown",
      "source": [
        "######**QUES-3 Multiples of *n***\n",
        " Write a program to display \"Yes\" if a number entered by user is a multiple of five , otherwise print \"No\"."
      ],
      "metadata": {
        "id": "XoNGPUS3TE5R"
      }
    },
    {
      "cell_type": "code",
      "source": [
        "num=int(input(\"Please enter a number: \"))\n",
        "\n",
        "if num%5==0:\n",
        "  print(\"Yes\")\n",
        "\n",
        "else:\n",
        "  print(\"No\")"
      ],
      "metadata": {
        "id": "c_BfQsW1B7TR"
      },
      "execution_count": null,
      "outputs": []
    },
    {
      "cell_type": "markdown",
      "source": [
        "###### **QUES-4 Creating Bill**\n",
        "Write a program to calculate the electricity bill (accept number of unit from user) according to the following criteria :\n",
        "Unit                                                       Price  \n",
        "First 100 units                                          no charge\n",
        "Next 100 units                                           Rs 5 per unit\n",
        "After 200 units                                          Rs 10 per unit"
      ],
      "metadata": {
        "id": "9Oy2jiWoTJ79"
      }
    },
    {
      "cell_type": "code",
      "source": [
        "units=int(input(\"Please enter the Number of Units: \"))\n",
        "\n",
        "if units<=100:\n",
        "  print(\"No charge\")\n",
        "elif 100<=units<=200:\n",
        "  print(\" You have to Pay Rs.{0}\".format(units*5))\n",
        "else: \n",
        "  print(\" You have to Pay Rs.{0}\".format(500+ (units-200)*10))"
      ],
      "metadata": {
        "colab": {
          "base_uri": "https://localhost:8080/"
        },
        "id": "HmVURa33B_RC",
        "outputId": "b0bc3a45-01e2-4c4e-8f50-60499dd5b33a"
      },
      "execution_count": null,
      "outputs": [
        {
          "output_type": "stream",
          "name": "stdout",
          "text": [
            "Please enter the Number of Units: 678\n",
            " You have to Pay Rs.5280\n"
          ]
        }
      ]
    },
    {
      "cell_type": "markdown",
      "source": [
        "###### **QUES-5 Check Divisability**\n",
        "Write a program to check whether the last digit of a number is divisible by 3 or not."
      ],
      "metadata": {
        "id": "fBoSgT57TUTl"
      }
    },
    {
      "cell_type": "code",
      "source": [
        "num=int(input(\"Enter a number\"))\n",
        "req_number=num%10\n",
        "if req_number%3==0:\n",
        "     print(\"Yes! Last digit of number is divisible by 3 \")\n",
        "else:\n",
        "     print(\"Last digit of number is not divisible by 3 \")"
      ],
      "metadata": {
        "colab": {
          "base_uri": "https://localhost:8080/"
        },
        "id": "G8zsDsvUCCh2",
        "outputId": "8fb21058-7012-474b-d815-e358bdcb2e79"
      },
      "execution_count": null,
      "outputs": [
        {
          "output_type": "stream",
          "name": "stdout",
          "text": [
            "Enter a number6789\n",
            "Yes! Last digit of number is divisible by 3 \n"
          ]
        }
      ]
    },
    {
      "cell_type": "markdown",
      "source": [
        "###### **QUES-6 Digit to Day**\n",
        "Write a program to accept a number from 1 to 7 and display the name of the day like 1 for Sunday , 2 for Monday and so on."
      ],
      "metadata": {
        "id": "_LzDaoqyTYkC"
      }
    },
    {
      "cell_type": "code",
      "source": [
        "num=int(input(\"Enter any number between 1 to 7 : \"))\n",
        "if num==1:\n",
        "    print(\"Sunday\")\n",
        "elif num==2:\n",
        "    print(\"Monday\")\n",
        "elif num==3:\n",
        "    print(\"Tuesday\")\n",
        "elif num==4:\n",
        "   print(\"Wednesday\")\n",
        "elif num==5:\n",
        "   print(\"Thursday\")\n",
        "elif num==6:\n",
        "   print(\"Friday\")\n",
        "elif num==2:\n",
        "   print(\"Saturday\")\n",
        "else:\n",
        "   print(\"Please enter a valid number\")"
      ],
      "metadata": {
        "colab": {
          "base_uri": "https://localhost:8080/"
        },
        "id": "bahWBrArCFfc",
        "outputId": "dce5cb5e-2d23-4325-a5d5-c3f6592edab5"
      },
      "execution_count": null,
      "outputs": [
        {
          "output_type": "stream",
          "name": "stdout",
          "text": [
            "Enter any number between 1 to 7 : 5\n",
            "Thursday\n"
          ]
        }
      ]
    },
    {
      "cell_type": "markdown",
      "source": [
        "###### **QUES-7 Print Pattern**\n",
        "Write a program to print the following number pattern using a loop.\n",
        "\n",
        "<br>\n",
        "Sample Pattern:\n",
        "\n",
        "```\n",
        "1 \n",
        "1 2 \n",
        "1 2 3 \n",
        "1 2 3 4 \n",
        "1 2 3 4 5\n",
        "```"
      ],
      "metadata": {
        "id": "DDVgWTfJTi-N"
      }
    },
    {
      "cell_type": "code",
      "source": [
        "print(\"Number Pattern \")\n",
        "\n",
        "# Decide the row count. (above pattern contains 5 rows)\n",
        "row = 5\n",
        "# start: 1\n",
        "# stop: row+1 (range never include stop number in result)\n",
        "# step: 1\n",
        "# run loop 5 times\n",
        "for i in range(1, row + 1, 1):\n",
        "    # Run inner loop i+1 times\n",
        "    for j in range(1, i + 1):\n",
        "        print(j, end=' ')\n",
        "    # empty line after each row\n",
        "    print(\"\")\n"
      ],
      "metadata": {
        "colab": {
          "base_uri": "https://localhost:8080/"
        },
        "id": "OFBBXSmPxJxN",
        "outputId": "825e0202-ea5e-4346-ddc9-5c631d6a84e5"
      },
      "execution_count": null,
      "outputs": [
        {
          "output_type": "stream",
          "name": "stdout",
          "text": [
            "Number Pattern \n",
            "1 \n",
            "1 2 \n",
            "1 2 3 \n",
            "1 2 3 4 \n",
            "1 2 3 4 5 \n"
          ]
        }
      ]
    },
    {
      "cell_type": "markdown",
      "source": [
        "###### **QUES-8 List Reversal**\n",
        "Print list in reverse order using a loop\n",
        "<br>\n",
        "<br>\n",
        "Given:\n",
        "```\n",
        "list1 = [10, 20, 30, 40, 50]\n",
        "```\n",
        "\n",
        "\n"
      ],
      "metadata": {
        "id": "hjak9_DQTqgV"
      }
    },
    {
      "cell_type": "markdown",
      "source": [
        "Expected output:\n",
        "```\n",
        "50\n",
        "40\n",
        "30\n",
        "20\n",
        "10\n",
        "```"
      ],
      "metadata": {
        "id": "TawPCswRQ-o4"
      }
    },
    {
      "cell_type": "code",
      "source": [
        "\n",
        "list1 = [10, 20, 30, 40, 50]\n",
        "# reverse list\n",
        "new_list = reversed(list1)\n",
        "# iterate reversed list\n",
        "for item in new_list:\n",
        "    print(item)\n",
        "\n"
      ],
      "metadata": {
        "colab": {
          "base_uri": "https://localhost:8080/"
        },
        "id": "iaf1n2MCxpCW",
        "outputId": "cb251d7d-7daa-4318-db15-12f9e2782b58"
      },
      "execution_count": null,
      "outputs": [
        {
          "output_type": "stream",
          "name": "stdout",
          "text": [
            "50\n",
            "40\n",
            "30\n",
            "20\n",
            "10\n"
          ]
        }
      ]
    },
    {
      "cell_type": "markdown",
      "source": [
        "###### **QUES-9 Prime Numbers in a Range**\n",
        "Write a program to display all prime numbers within a range\n",
        "<br>\n",
        "<br>\n",
        "\n",
        "Example:\n",
        "```\n",
        "Range\n",
        "start = 25\n",
        "end = 50\n",
        "```\n",
        "\n"
      ],
      "metadata": {
        "id": "QTZgsqAATuJp"
      }
    },
    {
      "cell_type": "markdown",
      "source": [
        "Expected output:\n",
        "```\n",
        "Prime numbers between 25 and 50 are:\n",
        "29\n",
        "31\n",
        "37\n",
        "41\n",
        "43\n",
        "47\n",
        "```"
      ],
      "metadata": {
        "id": "-vRe_7UrRH8j"
      }
    },
    {
      "cell_type": "code",
      "source": [
        "\n",
        "start = 25\n",
        "end = 50\n",
        "print(\"Prime numbers between\", start, \"and\", end, \"are:\")\n",
        "\n",
        "for num in range(start, end + 1):\n",
        "    # all prime numbers are greater than 1\n",
        "    # if number is less than or equal to 1, it is not prime\n",
        "    if num > 1:\n",
        "        for i in range(2, num):\n",
        "            # check for factors\n",
        "            if (num % i) == 0:\n",
        "                # not a prime number so break inner loop and\n",
        "                # look for next number\n",
        "                break\n",
        "        else:\n",
        "            print(num)"
      ],
      "metadata": {
        "colab": {
          "base_uri": "https://localhost:8080/"
        },
        "id": "eqUipJBFyKFr",
        "outputId": "2c106b86-de15-45bc-f38e-d3861a4b7609"
      },
      "execution_count": null,
      "outputs": [
        {
          "output_type": "stream",
          "name": "stdout",
          "text": [
            "Prime numbers between 25 and 50 are:\n",
            "29\n",
            "31\n",
            "37\n",
            "41\n",
            "43\n",
            "47\n"
          ]
        }
      ]
    },
    {
      "cell_type": "markdown",
      "source": [
        "######**QUES-10 Sum of *n* Series**\n",
        "Find the sum of the series upto n terms. Write a program to calculate the sum of series up to n term. For example, if n =5 the series will become 2 + 22 + 222 + 2222 + 22222 = 24690\n",
        "<br>\n",
        "<br>\n",
        "Given:\n",
        "```\n",
        "number of terms\n",
        "n = 5\n",
        "```\n"
      ],
      "metadata": {
        "id": "wGbseXw0T1mw"
      }
    },
    {
      "cell_type": "markdown",
      "source": [
        "Expected output:\n",
        "```\n",
        "24690\n",
        "```"
      ],
      "metadata": {
        "id": "dJw9fTf-RlTa"
      }
    },
    {
      "cell_type": "code",
      "source": [
        "n = 5\n",
        "# first number of sequence\n",
        "start = 2\n",
        "sum_seq = 0\n",
        "\n",
        "# run loop n times\n",
        "for i in range(0, n):\n",
        "    print(start, end=\"+\")\n",
        "    sum_seq += start\n",
        "    # calculate the next term\n",
        "    start = start * 10 + 2\n",
        "print(\"\\nSum of above series is:\", sum_seq)\n"
      ],
      "metadata": {
        "colab": {
          "base_uri": "https://localhost:8080/"
        },
        "id": "tkNZ2yEEy0jk",
        "outputId": "bb163611-963e-4593-84f1-02c8c267d104"
      },
      "execution_count": null,
      "outputs": [
        {
          "output_type": "stream",
          "name": "stdout",
          "text": [
            "2+22+222+2222+22222+\n",
            "Sum of above series is: 24690\n"
          ]
        }
      ]
    },
    {
      "cell_type": "markdown",
      "source": [
        "###### **QUES-11 Finding Associated Data**\n",
        "\n",
        "Accept any city from the user and display monument of that city.\n",
        "```\n",
        "                City                                Monument\n",
        "                Delhi                               Red Fort\n",
        "                Agra                                Taj Mahal\n",
        "                Jaipur                              Jal Mahal\n",
        "```"
      ],
      "metadata": {
        "id": "8puxe7YCUBWg"
      }
    },
    {
      "cell_type": "code",
      "source": [
        "city = input(\"Enter name of the city\")\n",
        "if city.lower()==\"delhi\":\n",
        "    print(\"Monument name is : Red Fort\")\n",
        "elif city.lower()==\"agra\":\n",
        "    print(\"Monument name is : Taj Mahal\")\n",
        "elif city.lower()==\"jaipur\":\n",
        "    print(\"Monument name is : Jal Mahal\")\n",
        "else:\n",
        " print(\"Enter correct name of city\")"
      ],
      "metadata": {
        "colab": {
          "base_uri": "https://localhost:8080/"
        },
        "id": "L_dkjwl3zQHO",
        "outputId": "875e2b08-1341-4622-ddc2-60c2c8024aac"
      },
      "execution_count": null,
      "outputs": [
        {
          "output_type": "stream",
          "name": "stdout",
          "text": [
            "Enter name of the cityjaiput\n",
            "Enter correct name of city\n"
          ]
        }
      ]
    },
    {
      "cell_type": "markdown",
      "source": [
        "###### **QUES-12 Largest Number**\n",
        "Write a program to find the largest number out of three numbers excepted from user."
      ],
      "metadata": {
        "id": "Bb3FmIXhUITO"
      }
    },
    {
      "cell_type": "code",
      "source": [
        "\n",
        "num1 = int(input(\"Enter first number\"))\n",
        "num2 = int(input(\"Enter second number\"))\n",
        "num3 = int(input(\"Enter third number\"))\n",
        "if num1 > num2 and num1 > num3:\n",
        "      print(\"Greatest number is \", num1)\n",
        "if num2 > num1 and num2 > num3:\n",
        "      print(\"Greatest number is \", num2)\n",
        "if num3 > num2 and num3 > num1:\n",
        "     print(\"Greatest number is \", num3)"
      ],
      "metadata": {
        "colab": {
          "base_uri": "https://localhost:8080/"
        },
        "id": "XEGu3KAl0L2x",
        "outputId": "eb532197-9700-40f2-db9c-f0e2cd2ccb7b"
      },
      "execution_count": null,
      "outputs": [
        {
          "output_type": "stream",
          "name": "stdout",
          "text": [
            "Enter first number12\n",
            "Enter second number22\n",
            "Enter third number111\n",
            "Greatest number is  111\n"
          ]
        }
      ]
    },
    {
      "cell_type": "markdown",
      "source": [
        "###### **QUES-13  Percentage of *x***\n",
        "Accept the following from the user and calculate the percentage of class attended:\n",
        "\n",
        "a.     Total number of working days\n",
        "\n",
        "b.     Total number of days for absent\n",
        "```\n",
        "After calculating percentage show that, If the percentage is less than 75, than student will not be able to sit in exam.\n",
        "```\n"
      ],
      "metadata": {
        "id": "YS9B2GB9UNWM"
      }
    },
    {
      "cell_type": "code",
      "source": [
        "\n",
        "nd = int(input(\"Enter total number of working days\"))\n",
        "na = int(input(\"Enter number of days  absent\"))\n",
        "per=(nd-na)/nd*100\n",
        "print(\"Your attendance is \",per)\n",
        "if per <75 :\n",
        "     print(\"You are not eligible for exams\")\n",
        "else:\n",
        "     print(\"You are eligible for writing exam\")"
      ],
      "metadata": {
        "colab": {
          "base_uri": "https://localhost:8080/"
        },
        "id": "FZR6nkin0gg7",
        "outputId": "47bf9b54-de68-4c8a-8c24-fd149bcb95e2"
      },
      "execution_count": null,
      "outputs": [
        {
          "output_type": "stream",
          "name": "stdout",
          "text": [
            "Enter total number of working days123\n",
            "Enter number of days  absent333\n",
            "Your attendance is  -170.73170731707316\n",
            "You are not eligible for exams\n"
          ]
        }
      ]
    },
    {
      "cell_type": "markdown",
      "source": [
        "###### **QUES-14 Checking For Vowels**\n",
        "Write a program to check a character is vowel or not."
      ],
      "metadata": {
        "id": "dCyQzWxzUS-U"
      }
    },
    {
      "cell_type": "code",
      "source": [
        "\n",
        "\n",
        "character=input(\"Enter any character: \")\n",
        "vowel=\"AEIOU\"\n",
        "if character in vowel.casefold():\n",
        "     print(\"Entered character is a vowel\")\n",
        "else:\n",
        "     print(\"Entered character is not a vowel\")"
      ],
      "metadata": {
        "colab": {
          "base_uri": "https://localhost:8080/"
        },
        "id": "8xBSWL3jCIWf",
        "outputId": "4eb44198-e02e-41d7-916d-b524134c0372"
      },
      "execution_count": null,
      "outputs": [
        {
          "output_type": "stream",
          "name": "stdout",
          "text": [
            "Enter any character: i\n",
            "Entered character is a vowel\n"
          ]
        }
      ]
    },
    {
      "cell_type": "markdown",
      "source": [
        "###### **QUES-15 Mathematical Calculator**\n",
        "Write a program to accept two numbers and mathematical operators and perform operation accordingly."
      ],
      "metadata": {
        "id": "rstWn8Z5UXeu"
      }
    },
    {
      "cell_type": "code",
      "source": [
        "\n",
        "num1=int(input(\"Enter first number\"))\n",
        "\n",
        "num2=int(input(\"Enter second number\"))\n",
        "\n",
        "operation=input(\"Enter mathematical operator\")\n",
        "\n",
        "if operation=='+':\n",
        "     print(\"Result is \", num1+num2)\n",
        "\n",
        "if operation=='-':\n",
        "    print(\"Result is \", num1-num2)\n",
        "\n",
        "if operation=='*':\n",
        "    print(\"Result is \", num1*num2)\n",
        "\n",
        "if operation=='/':\n",
        "    print(\"Result is \", num1/num2)\n",
        "\n",
        "if operation=='%':\n",
        "    print(\"Result is \", num1%num2)\n",
        "\n",
        "if operation=='**':\n",
        "    print(\"Result is \", num1**num2)\n",
        "\n",
        "if operation=='//':\n",
        "    print(\"Result is \", num1//num2)"
      ],
      "metadata": {
        "colab": {
          "base_uri": "https://localhost:8080/"
        },
        "id": "9ONCPy3LCLWw",
        "outputId": "344180cf-2849-46a9-d99f-ccdcdef24886"
      },
      "execution_count": null,
      "outputs": [
        {
          "output_type": "stream",
          "name": "stdout",
          "text": [
            "Enter first number5\n",
            "Enter second number23\n",
            "Enter mathematical operator+\n",
            "Result is  28\n"
          ]
        }
      ]
    },
    {
      "cell_type": "markdown",
      "source": [
        "###### **QUES-16 Trinagle Possibility**\n",
        "Take input about three sides of triangle and check whether the triangle is possible or not."
      ],
      "metadata": {
        "id": "yFwzjaqsUa7R"
      }
    },
    {
      "cell_type": "code",
      "source": [
        "\n",
        "\n",
        "s1=int(input(\"Enter First side of triangle\"))\n",
        "\n",
        "s2=int(input(\"Enter Second side of triangle\"))\n",
        "\n",
        "s3=int(input(\"Enter Third side of triangle\"))\n",
        "\n",
        "if s1+s2 > s3 and s2 + s3 > s1 and s1 + s3 > s2:\n",
        "     print(\"Triangle is possible\")\n",
        "\n",
        "else:\n",
        "     print(\"Triangle is not possible\")"
      ],
      "metadata": {
        "colab": {
          "base_uri": "https://localhost:8080/"
        },
        "id": "HtEjBcmYCPXY",
        "outputId": "95b4c1ee-edc9-48ca-f697-3222bac3b41f"
      },
      "execution_count": null,
      "outputs": [
        {
          "output_type": "stream",
          "name": "stdout",
          "text": [
            "Enter First side of triangle23\n",
            "Enter Second side of triangle12\n",
            "Enter Third side of triangle89\n",
            "Triangle is not possible\n"
          ]
        }
      ]
    },
    {
      "cell_type": "markdown",
      "source": [
        "###### **QUES-17 Rock-Paper-Scissors Game**\n",
        "Try Creating the Game of Rock-Paper-Scissors using python where the game is between you and computer. The game must be a single player one."
      ],
      "metadata": {
        "id": "dYPphUcXUd2l"
      }
    },
    {
      "cell_type": "code",
      "source": [
        "\n",
        "\n",
        "import random\n",
        "\n",
        "print(\"Winning Rules of the Rock paper scissor game as follows: \\n\"\n",
        "\t\t\t\t\t\t\t\t+\"Rock vs paper- paper wins \\n\"\n",
        "\t\t\t\t\t\t\t\t+ \"Rock vs scissor- Rock wins \\n\"\n",
        "\t\t\t\t\t\t\t\t+\"paper vs scissor- scissor wins \\n\")\n",
        "\n",
        "while True:\n",
        "\tprint(\"Enter choice \\n 1 for Rock, \\n 2 for paper, and \\n 3 for scissor \\n\")\n",
        "\n",
        "\tchoice = int(input(\"User turn: \"))\n",
        "\n",
        "\twhile choice > 3 or choice < 1:\n",
        "\t\tchoice = int(input(\"enter valid input: \"))\n",
        "\n",
        "\tif choice == 1:\n",
        "\t\tchoice_name = 'Rock'\n",
        "\telif choice == 2:\n",
        "\t\tchoice_name = 'paper'\n",
        "\telse:\n",
        "\t\tchoice_name = 'scissor'\n",
        "\t\t\n",
        "\tprint(\"user choice is: \" + choice_name)\n",
        "\n",
        "\tcomp_choice = random.randint(1, 3)\n",
        "\n",
        "\twhile comp_choice == choice:\n",
        "\t\tcomp_choice = random.randint(1, 3)\n",
        "\n",
        "\tif comp_choice == 1:\n",
        "\t\tcomp_choice_name = 'Rock'\n",
        "\telif comp_choice == 2:\n",
        "\t\tcomp_choice_name = 'paper'\n",
        "\telse:\n",
        "\t\tcomp_choice_name = 'scissor'\n",
        "\n",
        "\tif((choice == 1 and comp_choice == 2) or\n",
        "\t(choice == 2 and comp_choice ==1 )):\n",
        "\t\tprint(\"paper wins\", end = \"\")\n",
        "\t\tresult = \"paper\"\n",
        "\t\t\n",
        "\telif((choice == 1 and comp_choice == 3) or\n",
        "\t\t(choice == 3 and comp_choice == 1)):\n",
        "\t\tprint(\"Rock wins\", end = \"\")\n",
        "\t\tresult = \"Rock\"\n",
        "\telse:\n",
        "\t\tprint(\"scissor wins\", end = \"\")\n",
        "\t\tresult = \"scissor\"\n",
        "\n",
        "\tif result == choice_name:\n",
        "\t\tprint(\"User wins\")\n",
        "\telse:\n",
        "\t\tprint(\" Computer wins\")\n"
      ],
      "metadata": {
        "id": "IbG6PSd-CSl0"
      },
      "execution_count": null,
      "outputs": []
    },
    {
      "cell_type": "markdown",
      "source": [
        "###### **QUES-18 Magic 8-ball Pool**\n",
        "Create a Magic 8-Ball Pool game using python. "
      ],
      "metadata": {
        "id": "_BhCIqVoUg4B"
      }
    },
    {
      "cell_type": "code",
      "source": [
        "\n",
        "\n",
        "# Import the modules\n",
        "import sys\n",
        "import random\n",
        "\n",
        "ans = True\n",
        "\n",
        "while ans:\n",
        "    question = input(\"Ask the magic 8 ball a question: (press enter to quit) \")\n",
        "    \n",
        "    answers = random.randint(1,8)\n",
        "    \n",
        "    if question == \"\":\n",
        "        sys.exit()\n",
        "    \n",
        "    elif answers == 1:\n",
        "        print (\"It is certain\")\n",
        "    \n",
        "    elif answers == 2:\n",
        "        print (\"Outlook good\")\n",
        "    \n",
        "    elif answers == 3:\n",
        "        print (\"You may rely on it\")\n",
        "    \n",
        "    elif answers == 4:\n",
        "        print (\"Ask again later\")\n",
        "    \n",
        "    elif answers == 5:\n",
        "        print (\"Concentrate and ask again\")\n",
        "    \n",
        "    elif answers == 6:\n",
        "        print (\"Reply, try again\")\n",
        "    \n",
        "    elif answers == 7:\n",
        "        print (\"My reply is no\")\n",
        "    \n",
        "    elif answers == 8:\n",
        "        print (\"My sources say no\")"
      ],
      "metadata": {
        "id": "KDLVmWQu1tEb"
      },
      "execution_count": null,
      "outputs": []
    },
    {
      "cell_type": "markdown",
      "source": [
        "###### **QUES-19 Dice Rolling Simulator**\n",
        "Create a Dice Rolling Simulator Game using python. Every Output generated must be random and the output range must last between 1 to 6 only."
      ],
      "metadata": {
        "id": "MCFfRwo-Uj0q"
      }
    },
    {
      "cell_type": "code",
      "source": [
        "\n",
        "\n",
        "import random\n",
        "\n",
        "\n",
        "x = \"y\"\n",
        "\n",
        "while x == \"y\":\n",
        "\t\n",
        "\t# Generates a random number\n",
        "\t# between 1 and 6 (including\n",
        "\t# both 1 and 6)\n",
        "\tno = random.randint(1,6)\n",
        "\t\n",
        "\tif no == 1:\n",
        "\t\tprint(\"[-----]\")\n",
        "\t\tprint(\"[\t ]\")\n",
        "\t\tprint(\"[ 0 ]\")\n",
        "\t\tprint(\"[\t ]\")\n",
        "\t\tprint(\"[-----]\")\n",
        "\tif no == 2:\n",
        "\t\tprint(\"[-----]\")\n",
        "\t\tprint(\"[ 0 ]\")\n",
        "\t\tprint(\"[\t ]\")\n",
        "\t\tprint(\"[ 0 ]\")\n",
        "\t\tprint(\"[-----]\")\n",
        "\tif no == 3:\n",
        "\t\tprint(\"[-----]\")\n",
        "\t\tprint(\"[\t ]\")\n",
        "\t\tprint(\"[0 0 0]\")\n",
        "\t\tprint(\"[\t ]\")\n",
        "\t\tprint(\"[-----]\")\n",
        "\tif no == 4:\n",
        "\t\tprint(\"[-----]\")\n",
        "\t\tprint(\"[0 0]\")\n",
        "\t\tprint(\"[\t ]\")\n",
        "\t\tprint(\"[0 0]\")\n",
        "\t\tprint(\"[-----]\")\n",
        "\tif no == 5:\n",
        "\t\tprint(\"[-----]\")\n",
        "\t\tprint(\"[0 0]\")\n",
        "\t\tprint(\"[ 0 ]\")\n",
        "\t\tprint(\"[0 0]\")\n",
        "\t\tprint(\"[-----]\")\n",
        "\tif no == 6:\n",
        "\t\tprint(\"[-----]\")\n",
        "\t\tprint(\"[0 0 0]\")\n",
        "\t\tprint(\"[\t ]\")\n",
        "\t\tprint(\"[0 0 0]\")\n",
        "\t\tprint(\"[-----]\")\n",
        "\t\t\n",
        "\tx=input(\"press y to roll again and n to exit:\")\n",
        "\tprint(\"\\n\")\n"
      ],
      "metadata": {
        "colab": {
          "base_uri": "https://localhost:8080/"
        },
        "id": "y9jjGQlZ2UeT",
        "outputId": "783a40a3-a6f0-4da2-add2-c65aa1aaa0db"
      },
      "execution_count": null,
      "outputs": [
        {
          "output_type": "stream",
          "name": "stdout",
          "text": [
            "[-----]\n",
            "[\t ]\n",
            "[ 0 ]\n",
            "[\t ]\n",
            "[-----]\n",
            "press y to roll again and n to exit:1\n",
            "\n",
            "\n"
          ]
        }
      ]
    },
    {
      "cell_type": "markdown",
      "source": [
        "###### **QUES-20 Hangman Problem**\n",
        "A Hangman Game On Python is about guessing letters (A-Z) to form the words. If the player guesses the right letter that is within the word, the letter appears at its correct position. The user has to guess the correct word until a man is hung, then the game is over. Try recreating this game using python."
      ],
      "metadata": {
        "id": "fwXLdCnJUmmR"
      }
    },
    {
      "cell_type": "code",
      "source": [
        "\n",
        "import random\n",
        "\n",
        "Guesswords = ['Yashika' , 'python ', 'Subjects' , 'Projects' ]\n",
        "\n",
        "No_of_turns = 12\n",
        "failed= 0\n",
        "guesses = ''\n",
        "name = input(\"What's your name? \")\n",
        "Guessword = random.choice(Guesswords)\n",
        "print(\"Let's start playing , Hope you enjoy!!\" + \"Good luck  \" + name) \n",
        "\n",
        "\n",
        "while No_of_turns>0 :\n",
        "   No_of_turns-=1\n",
        "   guess =  input(\"Guess a character:- \")\n",
        "   guesses+=guess\n",
        "   if guesses in Guessword :\n",
        "      print(\"You have guessed correct. Guessed character is \" + guess)\n",
        "      if(No_of_turns>0) :\n",
        "         print(\"Number of turns left are \" , No_of_turns)\n",
        "   else :\n",
        "     failed+=1\n",
        "     print(\"Your guess is wrong\" ) \n",
        "     \n",
        "\n",
        "   if((No_of_turns==0 and failed==0 )or (failed==0 and guesses==Guessword)):\n",
        "       print(\"Congratulations!! You won the game . \\n You guessed the correct word \" , Guessword )\n",
        "       break\n",
        "   if(No_of_turns==0 and failed>0):\n",
        "       print(\"You lost the game. The word was:- \" , Guessword )\n",
        "\n"
      ],
      "metadata": {
        "colab": {
          "base_uri": "https://localhost:8080/"
        },
        "id": "Pj-bGIYI273m",
        "outputId": "af0da73e-fe80-444e-d9ea-69435aae5e04"
      },
      "execution_count": null,
      "outputs": [
        {
          "output_type": "stream",
          "name": "stdout",
          "text": [
            "What's your name? Payas\n",
            "Let's start playing , Hope you enjoy!!Good luck  Payas\n",
            "Guess a character:- Yashika\n",
            "You have guessed correct. Guessed character is Yashika\n",
            "Number of turns left are  11\n",
            "Congratulations!! You won the game . \n",
            " You guessed the correct word  Yashika\n"
          ]
        }
      ]
    },
    {
      "cell_type": "markdown",
      "source": [
        "###### **QUES-21 Tic Tac Toe**\n",
        "Try recreating the famous *Tic Tac Toe* game using python. But as an addition add time limit to the game\n"
      ],
      "metadata": {
        "id": "EEClCSN8UpfS"
      }
    },
    {
      "cell_type": "markdown",
      "source": [
        "> **Hint:** Use modules os and time"
      ],
      "metadata": {
        "id": "93NGuMRTTwYR"
      }
    },
    {
      "cell_type": "code",
      "source": [
        "\n",
        "\n",
        "import os    \n",
        "import time    \n",
        "    \n",
        "board = [' ',' ',' ',' ',' ',' ',' ',' ',' ',' ']    \n",
        "player = 1    \n",
        "   \n",
        "########win Flags##########    \n",
        "Win = 1    \n",
        "Draw = -1    \n",
        "Running = 0    \n",
        "Stop = 1    \n",
        "###########################    \n",
        "Game = Running    \n",
        "Mark = 'X'    \n",
        "   \n",
        "#This Function Draws Game Board    \n",
        "def DrawBoard():    \n",
        "    print(\" %c | %c | %c \" % (board[1],board[2],board[3]))    \n",
        "    print(\"___|___|___\")    \n",
        "    print(\" %c | %c | %c \" % (board[4],board[5],board[6]))    \n",
        "    print(\"___|___|___\")    \n",
        "    print(\" %c | %c | %c \" % (board[7],board[8],board[9]))    \n",
        "    print(\"   |   |   \")    \n",
        "   \n",
        "#This Function Checks position is empty or not    \n",
        "def CheckPosition(x):    \n",
        "    if(board[x] == ' '):    \n",
        "        return True    \n",
        "    else:    \n",
        "        return False    \n",
        "   \n",
        "#This Function Checks player has won or not    \n",
        "def CheckWin():    \n",
        "    global Game    \n",
        "    #Horizontal winning condition    \n",
        "    if(board[1] == board[2] and board[2] == board[3] and board[1] != ' '):    \n",
        "        Game = Win    \n",
        "    elif(board[4] == board[5] and board[5] == board[6] and board[4] != ' '):    \n",
        "        Game = Win    \n",
        "    elif(board[7] == board[8] and board[8] == board[9] and board[7] != ' '):    \n",
        "        Game = Win    \n",
        "    #Vertical Winning Condition    \n",
        "    elif(board[1] == board[4] and board[4] == board[7] and board[1] != ' '):    \n",
        "        Game = Win    \n",
        "    elif(board[2] == board[5] and board[5] == board[8] and board[2] != ' '):    \n",
        "        Game = Win    \n",
        "    elif(board[3] == board[6] and board[6] == board[9] and board[3] != ' '):    \n",
        "        Game=Win    \n",
        "    #Diagonal Winning Condition    \n",
        "    elif(board[1] == board[5] and board[5] == board[9] and board[5] != ' '):    \n",
        "        Game = Win    \n",
        "    elif(board[3] == board[5] and board[5] == board[7] and board[5] != ' '):    \n",
        "        Game=Win    \n",
        "    #Match Tie or Draw Condition    \n",
        "    elif(board[1]!=' ' and board[2]!=' ' and board[3]!=' ' and board[4]!=' ' and board[5]!=' ' and board[6]!=' ' and board[7]!=' ' and board[8]!=' ' and board[9]!=' '):    \n",
        "        Game=Draw    \n",
        "    else:            \n",
        "        Game=Running    \n",
        "    \n",
        "print(\"Tic-Tac-Toe Game Designed By Sourabh Somani\")    \n",
        "print(\"Player 1 [X] --- Player 2 [O]\\n\")    \n",
        "print()    \n",
        "print()    \n",
        "print(\"Please Wait...\")    \n",
        "time.sleep(3)    \n",
        "while(Game == Running):    \n",
        "    os.system('cls')    \n",
        "    DrawBoard()    \n",
        "    if(player % 2 != 0):    \n",
        "        print(\"Player 1's chance\")    \n",
        "        Mark = 'X'    \n",
        "    else:    \n",
        "        print(\"Player 2's chance\")    \n",
        "        Mark = 'O'    \n",
        "    choice = int(input(\"Enter the position between [1-9] where you want to mark : \"))    \n",
        "    if(CheckPosition(choice)):    \n",
        "        board[choice] = Mark    \n",
        "        player+=1    \n",
        "        CheckWin()    \n",
        "    \n",
        "os.system('cls')    \n",
        "DrawBoard()    \n",
        "if(Game==Draw):    \n",
        "    print(\"Game Draw\")    \n",
        "elif(Game==Win):    \n",
        "    player-=1    \n",
        "    if(player%2!=0):    \n",
        "        print(\"Player 1 Won\")    \n",
        "    else:    \n",
        "        print(\"Player 2 Won\")  "
      ],
      "metadata": {
        "colab": {
          "base_uri": "https://localhost:8080/"
        },
        "id": "PyrrBvgjJt4F",
        "outputId": "23b967e2-1b75-48b5-ffae-6ea0dc9aa9a2"
      },
      "execution_count": null,
      "outputs": [
        {
          "output_type": "stream",
          "name": "stdout",
          "text": [
            "Tic-Tac-Toe Game Designed By Sourabh Somani\n",
            "Player 1 [X] --- Player 2 [O]\n",
            "\n",
            "\n",
            "\n",
            "Please Wait...\n",
            "   |   |   \n",
            "___|___|___\n",
            "   |   |   \n",
            "___|___|___\n",
            "   |   |   \n",
            "   |   |   \n",
            "Player 1's chance\n",
            "Enter the position between [1-9] where you want to mark : 5\n",
            "   |   |   \n",
            "___|___|___\n",
            "   | X |   \n",
            "___|___|___\n",
            "   |   |   \n",
            "   |   |   \n",
            "Player 2's chance\n",
            "Enter the position between [1-9] where you want to mark : 3\n",
            "   |   | O \n",
            "___|___|___\n",
            "   | X |   \n",
            "___|___|___\n",
            "   |   |   \n",
            "   |   |   \n",
            "Player 1's chance\n",
            "Enter the position between [1-9] where you want to mark : 4\n",
            "   |   | O \n",
            "___|___|___\n",
            " X | X |   \n",
            "___|___|___\n",
            "   |   |   \n",
            "   |   |   \n",
            "Player 2's chance\n",
            "Enter the position between [1-9] where you want to mark : 6\n",
            "   |   | O \n",
            "___|___|___\n",
            " X | X | O \n",
            "___|___|___\n",
            "   |   |   \n",
            "   |   |   \n",
            "Player 1's chance\n",
            "Enter the position between [1-9] where you want to mark : 9\n",
            "   |   | O \n",
            "___|___|___\n",
            " X | X | O \n",
            "___|___|___\n",
            "   |   | X \n",
            "   |   |   \n",
            "Player 2's chance\n",
            "Enter the position between [1-9] where you want to mark : 1\n",
            " O |   | O \n",
            "___|___|___\n",
            " X | X | O \n",
            "___|___|___\n",
            "   |   | X \n",
            "   |   |   \n",
            "Player 1's chance\n",
            "Enter the position between [1-9] where you want to mark : 2\n",
            " O | X | O \n",
            "___|___|___\n",
            " X | X | O \n",
            "___|___|___\n",
            "   |   | X \n",
            "   |   |   \n",
            "Player 2's chance\n",
            "Enter the position between [1-9] where you want to mark : 8\n",
            " O | X | O \n",
            "___|___|___\n",
            " X | X | O \n",
            "___|___|___\n",
            "   | O | X \n",
            "   |   |   \n",
            "Player 1's chance\n",
            "Enter the position between [1-9] where you want to mark : 7\n",
            " O | X | O \n",
            "___|___|___\n",
            " X | X | O \n",
            "___|___|___\n",
            " X | O | X \n",
            "   |   |   \n",
            "Game Draw\n"
          ]
        }
      ]
    },
    {
      "cell_type": "markdown",
      "metadata": {
        "id": "URT8cy_EWFzq"
      },
      "source": [
        "# Further Reading and References\n",
        "\n",
        "Following are some resources where you can learn about more arithmetic, conditional and logical operations in Python:\n",
        "\n",
        "* Python Functions at W3schools: [Here](https://www.w3schools.com/python/python_functions.asp)\n",
        "* Functions in Python Tutorial at Geeksforgeeks: [Here](https://www.geeksforgeeks.org/python-functions/)\n",
        "* Python official documentation: [Here](https://docs.python.org/3/tutorial/index.html)"
      ]
    }
  ]
}